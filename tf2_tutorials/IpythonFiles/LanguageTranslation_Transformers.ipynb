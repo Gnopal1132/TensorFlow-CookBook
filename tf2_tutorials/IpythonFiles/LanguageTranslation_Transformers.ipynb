{
  "nbformat": 4,
  "nbformat_minor": 0,
  "metadata": {
    "colab": {
      "provenance": [],
      "gpuType": "T4"
    },
    "kernelspec": {
      "name": "python3",
      "display_name": "Python 3"
    },
    "language_info": {
      "name": "python"
    },
    "accelerator": "GPU"
  },
  "cells": [
    {
      "cell_type": "code",
      "execution_count": 1,
      "metadata": {
        "id": "NJFYJMY-yXq_"
      },
      "outputs": [],
      "source": [
        "import tensorflow as tf\n",
        "import numpy as np\n",
        "import matplotlib.pyplot as plt\n",
        "import pandas as pd\n",
        "import seaborn as sns\n",
        "import string"
      ]
    },
    {
      "cell_type": "code",
      "source": [
        "dataset = pd.read_csv('eng_french.csv')\n",
        "dataset.columns = ['en', 'fe']\n",
        "devices = tf.config.experimental.list_physical_devices('GPU')\n",
        "for device in devices:\n",
        "  tf.config.experimental.set_memory_growth(device, enable=True)\n",
        "\n",
        "print(dataset.head())"
      ],
      "metadata": {
        "id": "mKLJ9FiRytRZ",
        "colab": {
          "base_uri": "https://localhost:8080/"
        },
        "outputId": "49b16296-662b-4f3a-986f-667473b6a01b"
      },
      "execution_count": 2,
      "outputs": [
        {
          "output_type": "stream",
          "name": "stdout",
          "text": [
            "     en          fe\n",
            "0   Hi.      Salut!\n",
            "1  Run!     Cours !\n",
            "2  Run!    Courez !\n",
            "3  Who?       Qui ?\n",
            "4  Wow!  Ça alors !\n"
          ]
        }
      ]
    },
    {
      "cell_type": "code",
      "source": [
        "dataset['en'] = dataset['en'].str.lower()\n",
        "dataset['fe'] = dataset['fe'].str.lower()\n",
        "\n",
        "en_data = dataset['en'].values\n",
        "fr_data = dataset['fe'].values"
      ],
      "metadata": {
        "id": "ZnxmY_LAzIBH"
      },
      "execution_count": 3,
      "outputs": []
    },
    {
      "cell_type": "code",
      "source": [
        "en_data[10]"
      ],
      "metadata": {
        "colab": {
          "base_uri": "https://localhost:8080/",
          "height": 35
        },
        "id": "HYEdQyzezxuO",
        "outputId": "9f73e0f6-56bf-4356-cd11-2f86f4dd226a"
      },
      "execution_count": 4,
      "outputs": [
        {
          "output_type": "execute_result",
          "data": {
            "text/plain": [
              "'stop!'"
            ],
            "application/vnd.google.colaboratory.intrinsic+json": {
              "type": "string"
            }
          },
          "metadata": {},
          "execution_count": 4
        }
      ]
    },
    {
      "cell_type": "code",
      "source": [
        "for i in range(len(fr_data)):\n",
        "  en_data[i] = 'sos ' + str(en_data[i]) + ' eos'\n",
        "  fr_data[i] = 'sos ' + str(fr_data[i]) + ' eos'\n"
      ],
      "metadata": {
        "id": "LifzoiqwzadR"
      },
      "execution_count": 5,
      "outputs": []
    },
    {
      "cell_type": "code",
      "source": [
        "num_words = 10000\n",
        "tokenizer_en = tf.keras.preprocessing.text.Tokenizer(num_words=num_words, filters=string.punctuation)   # filters parameter: it removes the characters from the given text, as specified by filter param.\n",
        "tokenizer_en.fit_on_texts(en_data)\n",
        "english_sentences = tokenizer_en.texts_to_sequences(en_data)"
      ],
      "metadata": {
        "id": "egZvQow5zrsa"
      },
      "execution_count": 6,
      "outputs": []
    },
    {
      "cell_type": "code",
      "source": [
        "english_sentences[:5]"
      ],
      "metadata": {
        "colab": {
          "base_uri": "https://localhost:8080/"
        },
        "id": "J4o9wjBt0Wyu",
        "outputId": "030ae106-ac13-4e93-9f4a-42e8cc39aa4e"
      },
      "execution_count": 7,
      "outputs": [
        {
          "output_type": "execute_result",
          "data": {
            "text/plain": [
              "[[1, 2768, 2], [1, 417, 2], [1, 417, 2], [1, 77, 2], [1, 3506, 2]]"
            ]
          },
          "metadata": {},
          "execution_count": 7
        }
      ]
    },
    {
      "cell_type": "code",
      "source": [
        "word_index = tokenizer_en.word_index\n",
        "print(f\"Num words in English(vocab size): {len(word_index)}\")"
      ],
      "metadata": {
        "colab": {
          "base_uri": "https://localhost:8080/"
        },
        "id": "NwQcb_B-0ZOP",
        "outputId": "cd538110-0f2e-45c5-88aa-21da1648c56b"
      },
      "execution_count": 8,
      "outputs": [
        {
          "output_type": "stream",
          "name": "stdout",
          "text": [
            "Num words in English(vocab size): 14149\n"
          ]
        }
      ]
    },
    {
      "cell_type": "code",
      "source": [
        "num_words = 10000\n",
        "tokenizer_fr = tf.keras.preprocessing.text.Tokenizer(num_words=num_words, filters=string.punctuation)   # filters parameter: it removes the characters from the given text, as specified by filter param.\n",
        "tokenizer_fr.fit_on_texts(fr_data)\n",
        "french_sentences = tokenizer_fr.texts_to_sequences(fr_data)"
      ],
      "metadata": {
        "id": "vmy6Ptin00UQ"
      },
      "execution_count": 9,
      "outputs": []
    },
    {
      "cell_type": "code",
      "source": [
        "word_index = tokenizer_fr.word_index\n",
        "print(f\"Num words in French(vocab size): {len(word_index)}\")"
      ],
      "metadata": {
        "colab": {
          "base_uri": "https://localhost:8080/"
        },
        "id": "vFt5BZ0s09pQ",
        "outputId": "fecec0dc-e81e-4092-80d0-1b1076ce8f3c"
      },
      "execution_count": 10,
      "outputs": [
        {
          "output_type": "stream",
          "name": "stdout",
          "text": [
            "Num words in French(vocab size): 27762\n"
          ]
        }
      ]
    },
    {
      "cell_type": "code",
      "source": [
        "# Padding and truncation\n",
        "max_len = 10\n",
        "english_sentences = tf.keras.preprocessing.sequence.pad_sequences(english_sentences, maxlen=max_len, padding='post', truncating='post')\n",
        "french_sentences = tf.keras.preprocessing.sequence.pad_sequences(french_sentences, maxlen=max_len, padding='post', truncating='post')\n"
      ],
      "metadata": {
        "id": "xUsAviRg1H6X"
      },
      "execution_count": 11,
      "outputs": []
    },
    {
      "cell_type": "code",
      "source": [
        "english_sentences[0]"
      ],
      "metadata": {
        "colab": {
          "base_uri": "https://localhost:8080/"
        },
        "id": "L_WG3m1Y1jqc",
        "outputId": "c8abd657-79ab-4ac3-b93c-7010d66c5712"
      },
      "execution_count": 12,
      "outputs": [
        {
          "output_type": "execute_result",
          "data": {
            "text/plain": [
              "array([   1, 2768,    2,    0,    0,    0,    0,    0,    0,    0],\n",
              "      dtype=int32)"
            ]
          },
          "metadata": {},
          "execution_count": 12
        }
      ]
    },
    {
      "cell_type": "code",
      "source": [
        "def positional_encoder(position, embedding_dimension):\n",
        "    angle_rates = 1 / np.power(10000, (2 * (np.arange(embedding_dimension)[np.newaxis, :] // 2)) / np.float32(embedding_dimension))\n",
        "    angle_rads = np.arange(position)[:, np.newaxis] * angle_rates\n",
        "\n",
        "    angle_rads[:, 0::2] = np.sin(angle_rads[:, 0::2])\n",
        "\n",
        "    angle_rads[:, 1::2] = np.sin(angle_rads[:, 1::2])\n",
        "\n",
        "    pos_encoding = angle_rads[np.newaxis, ...]\n",
        "    return tf.cast(pos_encoding, dtype=tf.float32)\n"
      ],
      "metadata": {
        "id": "oX7s2pEy1lfT"
      },
      "execution_count": 13,
      "outputs": []
    },
    {
      "cell_type": "code",
      "source": [
        "# Test positional encoding\n",
        "pos_encoding = positional_encoder(100, 128)\n",
        "\n",
        "# Plot them\n",
        "plt.figure(figsize=(10, 8))\n",
        "sns.heatmap(pos_encoding[0], cmap='viridis')\n",
        "plt.xlabel('Embedding Dimension')\n",
        "plt.ylabel('Position in Sequence')\n",
        "plt.title('Positional Encoding')\n",
        "plt.show()"
      ],
      "metadata": {
        "colab": {
          "base_uri": "https://localhost:8080/",
          "height": 731
        },
        "id": "ipgMmZFs2MD4",
        "outputId": "95e16d62-f8e8-42af-91ac-79f80c3cc6f5"
      },
      "execution_count": 14,
      "outputs": [
        {
          "output_type": "display_data",
          "data": {
            "text/plain": [
              "<Figure size 1000x800 with 2 Axes>"
            ],
            "image/png": "[encoded data removed]"
          },
          "metadata": {}
        }
      ]
    },
    {
      "cell_type": "code",
      "source": [
        "def create_padding_mask(sequence):    # Applied to set the attention mask for padding to be 0\n",
        "# So that they dont contribute to the attention computation\n",
        "  sequence = tf.cast(tf.math.equal(sequence, 0), tf.float32)\n",
        "  return sequence[:, tf.newaxis, tf.newaxis, :]"
      ],
      "metadata": {
        "id": "OUaAIr3t20A7"
      },
      "execution_count": 15,
      "outputs": []
    },
    {
      "cell_type": "code",
      "source": [
        "def create_look_ahead_mask(size):\n",
        "  mask = 1 - tf.linalg.band_part(tf.ones((size, size)), -1, 0)  # Creating look ahead mask so that we dont see the future tokens\n",
        "  return mask"
      ],
      "metadata": {
        "id": "8b7eJAGM889P"
      },
      "execution_count": 16,
      "outputs": []
    },
    {
      "cell_type": "code",
      "source": [
        "def create_mask(inputs, targets):\n",
        "  enc_padding_mask = create_padding_mask(inputs)\n",
        "  dec_padding_mask = create_padding_mask(inputs)\n",
        "  look_ahead_mask = create_look_ahead_mask(tf.shape(targets)[1])\n",
        "  dec_target_padding_mask = create_padding_mask(targets)\n",
        "  combine_mask = tf.maximum(dec_target_padding_mask, look_ahead_mask)\n",
        "  return enc_padding_mask, combine_mask, dec_padding_mask"
      ],
      "metadata": {
        "id": "0pCJW8aCAX9j"
      },
      "execution_count": 17,
      "outputs": []
    },
    {
      "cell_type": "code",
      "source": [
        "def scaled_dot_product(query, key, value, mask):\n",
        "  matmul_qk = tf.matmul(query, key, transpose_b=True)\n",
        "  dk = tf.cast(tf.shape(key)[-1], dtype=tf.float32)\n",
        "  scaled_dk = tf.math.sqrt(dk)\n",
        "  scaled_attnetion_logits = matmul_qk / scaled_dk\n",
        "\n",
        "  if mask is not None:\n",
        "    scaled_attnetion_logits += (mask * -1e9)\n",
        "\n",
        "  attention_weights = tf.nn.softmax(scaled_attnetion_logits, axis=-1)\n",
        "  output = tf.matmul(attention_weights, value)\n",
        "  return output, attention_weights"
      ],
      "metadata": {
        "id": "Whv9x-X9A_Es"
      },
      "execution_count": 18,
      "outputs": []
    },
    {
      "cell_type": "code",
      "source": [
        "class MultiHeadAttention(tf.keras.layers.Layer):\n",
        "  def __init__(self, key_dim, num_heads, dropout_rate=0.01):\n",
        "    super(MultiHeadAttention, self).__init__()\n",
        "    self.num_heads = num_heads\n",
        "    self.key_dim = key_dim\n",
        "\n",
        "    # Ensure dimension of the embedding can be evenly splot across attention heads\n",
        "    assert key_dim % num_heads == 0\n",
        "    self.depth = self.key_dim // self.num_heads\n",
        "\n",
        "    self.wq = tf.keras.layers.Dense(key_dim)\n",
        "    self.wk = tf.keras.layers.Dense(key_dim)\n",
        "    self.wv = tf.keras.layers.Dense(key_dim)\n",
        "\n",
        "    # dropout rate\n",
        "    self.dropout = tf.keras.layers.Dropout(dropout_rate)\n",
        "\n",
        "    # dense layer to project the output of the attention heads\n",
        "    self.dense = tf.keras.layers.Dense(key_dim)\n",
        "\n",
        "  def split_heads(self, x, batch_size):\n",
        "    x = tf.reshape(x, shape=(batch_size, -1, self.num_heads, self.depth))\n",
        "    return tf.transpose(x, perm=[0, 2, 1, 3])\n",
        "\n",
        "  def call(self, value, key, query, mask=None):\n",
        "    batch_size = tf.shape(query)[0]\n",
        "\n",
        "    # Dense on the q, k, v vectors\n",
        "    q = self.wq(query)\n",
        "    k = self.wk(key)\n",
        "    v = self.wv(value)\n",
        "\n",
        "    # Split the heads\n",
        "    q = self.split_heads(q, batch_size)\n",
        "    k = self.split_heads(k, batch_size)\n",
        "    v = self.split_heads(v, batch_size)\n",
        "\n",
        "    scaled_attention, attention_weights = scaled_dot_product(q, k, v, mask)\n",
        "    scaled_attention = tf.transpose(scaled_attention, perm=[0,2,1,3])\n",
        "\n",
        "    # reshape and add dense layer\n",
        "    concat_attention = tf.reshape(scaled_attention, (batch_size, -1, self.key_dim))\n",
        "    output = self.dense(concat_attention)\n",
        "    return output, attention_weights\n"
      ],
      "metadata": {
        "id": "SoEDChpiwn1s"
      },
      "execution_count": 19,
      "outputs": []
    },
    {
      "cell_type": "code",
      "source": [
        "def FeedForward(embedding_dimension, fully_connected_dimension):\n",
        "  model = tf.keras.Sequential([\n",
        "      tf.keras.layers.Dense(fully_connected_dimension, activation='relu'),\n",
        "      tf.keras.layers.Dense(embedding_dimension)\n",
        "  ])\n",
        "  return model"
      ],
      "metadata": {
        "id": "H_0KTLV9zIpA"
      },
      "execution_count": 20,
      "outputs": []
    },
    {
      "cell_type": "code",
      "source": [
        "class EncoderLayer(tf.keras.layers.Layer):\n",
        "  def __init__(self, embedding_dim, num_heads, fully_connected_dim, dropout_rate=0.1):\n",
        "    super(EncoderLayer, self).__init__()\n",
        "    self.mha = MultiHeadAttention(embedding_dim, num_heads, dropout_rate)\n",
        "    self.layernorm1 = tf.keras.layers.LayerNormalization(epsilon=1e-6)\n",
        "    self.layernorm2 = tf.keras.layers.LayerNormalization(epsilon=1e-6)\n",
        "\n",
        "    self.dropout = tf.keras.layers.Dropout(dropout_rate)\n",
        "\n",
        "    # Feed forward network\n",
        "    self.ffn = FeedForward(embedding_dim, fully_connected_dim)\n",
        "\n",
        "\n",
        "  def call(self, x, training, mask):\n",
        "    attention_output, _ = self.mha(x, x, x, mask)\n",
        "    out1 = self.layernorm1(attention_output + x)\n",
        "    ffn_output = self.ffn(out1)\n",
        "    ffn_output = self.dropout(ffn_output, training=training)\n",
        "\n",
        "    out2 = self.layernorm2(ffn_output + out1)\n",
        "    return out2"
      ],
      "metadata": {
        "id": "NHhaDdOlzbMo"
      },
      "execution_count": 21,
      "outputs": []
    },
    {
      "cell_type": "code",
      "source": [
        "class Encoder(tf.keras.layers.Layer):\n",
        "  def __init__(self, num_layers, embedding_dim, num_heads, fully_connected_dim, input_vocab_size, maximum_position_encoding, dropout_rate=0.1):\n",
        "    super(Encoder, self).__init__()\n",
        "    self.num_layers = num_layers\n",
        "    self.embedding_dim = embedding_dim\n",
        "\n",
        "    self.embedding = tf.keras.layers.Embedding(input_vocab_size, embedding_dim)\n",
        "\n",
        "    # Positional encoding\n",
        "    self.pos_encoding = positional_encoder(maximum_position_encoding, embedding_dim)\n",
        "\n",
        "    # Encoder layer\n",
        "    self.enc_layers = [EncoderLayer(embedding_dim, num_heads, fully_connected_dim, dropout_rate) for _ in range(num_layers)]\n",
        "\n",
        "    # Dropout\n",
        "    self.dropout = tf.keras.layers.Dropout(dropout_rate)\n",
        "\n",
        "  def call(self, inputs, training, mask):\n",
        "    # Get the sequence length.\n",
        "    seq_len = tf.shape(inputs)[1]\n",
        "\n",
        "    # Embed the input sequence.\n",
        "    inputs = self.embedding(inputs)\n",
        "\n",
        "    # Scale the embedding by sqrt(embedding_dim).\n",
        "    inputs *= tf.math.sqrt(tf.cast(self.embedding_dim, tf.float32))\n",
        "\n",
        "    # Add positional encodings to the input sequence.\n",
        "    inputs += self.pos_encoding[:, :seq_len, :]\n",
        "\n",
        "    inputs = self.dropout(inputs, training=training)\n",
        "\n",
        "    # Pass the input sequence through the encoder layers.\n",
        "    for i in range(self.num_layers):\n",
        "      inputs = self.enc_layers[i](inputs, training=training, mask=mask)\n",
        "\n",
        "    # Return the encoded sequence.\n",
        "    return inputs\n"
      ],
      "metadata": {
        "id": "lI-7h7hs1ChG"
      },
      "execution_count": 22,
      "outputs": []
    },
    {
      "cell_type": "code",
      "source": [
        "class DecoderLayer(tf.keras.layers.Layer):\n",
        "  def __init__(self, embedding_dim, num_heads, fully_connected_dim, dropout_rate=0.1):\n",
        "    super(DecoderLayer, self).__init__()\n",
        "\n",
        "    # Instantiate two instances of MultiHeadAttention\n",
        "    self.mha1 = MultiHeadAttention(embedding_dim, num_heads, dropout_rate)\n",
        "    self.mha2 = MultiHeadAttention(embedding_dim, num_heads, dropout_rate)\n",
        "\n",
        "    # Instantiate Fully connected feedforward networks\n",
        "    self.ffn = FeedForward(embedding_dim, fully_connected_dim)\n",
        "\n",
        "    # Instantiate three layer normalization layers with epsilon 1e-6.\n",
        "    self.layernorm1 = tf.keras.layers.LayerNormalization(epsilon=1e-6)\n",
        "    self.layernorm2 = tf.keras.layers.LayerNormalization(epsilon=1e-6)\n",
        "    self.layernorm3 = tf.keras.layers.LayerNormalization(epsilon=1e-6)\n",
        "\n",
        "    # Instantiate a dropout layer for regularization.\n",
        "    self.dropout3 = tf.keras.layers.Dropout(dropout_rate)\n",
        "\n",
        "  def call(self, x, enc_output, training, look_ahead_mask, padding_mask):\n",
        "    # Apply the first multi head attention layer to the query vector x.\n",
        "    # We pass x as the key, query and the value vector. This is self attention\n",
        "    # layer.\n",
        "    attn1, attn_weights_block1 = self.mha1(x, x, x, look_ahead_mask)\n",
        "    # Add the original input to the output of the attention layer.\n",
        "    out1 = self.layernorm1(attn1 + x)\n",
        "\n",
        "    # Apply, the second multi-head attention öayer to the output from the first\n",
        "    # layer and the encoder output\n",
        "    attn2, attn_weights_block2 = self.mha2(enc_output, enc_output, out1, padding_mask)\n",
        "\n",
        "    # Add the output from the first layer to the output of the second layer and apply layer normalization\n",
        "    out2 = self.layernorm2(attn2 + out1)\n",
        "\n",
        "    # Apply the feedforward network to the ouput of second layer and apply dropout regularization.\n",
        "    ffn_output = self.ffn(out2)\n",
        "    ffn_output = self.dropout3(ffn_output, training=training)\n",
        "\n",
        "    # Add the output from the second layer to the output of the feedforward network and apply layer normalization\n",
        "    out3 = self.layernorm3(ffn_output + out2)\n",
        "    return out3, attn_weights_block1, attn_weights_block2"
      ],
      "metadata": {
        "id": "i5U1d62U3gPE"
      },
      "execution_count": 23,
      "outputs": []
    },
    {
      "cell_type": "code",
      "source": [
        "class Decoder(tf.keras.layers.Layer):\n",
        "  def __init__(self, num_layers, embedding_dim, num_heads, fully_connected_dim, target_vocab_soze, maximum_position_encoding, dropout_rate):\n",
        "    super(Decoder, self).__init__()\n",
        "    self.num_layers = num_layers\n",
        "    self.embedding_dim = embedding_dim\n",
        "\n",
        "    # create layers\n",
        "    self.embedding = tf.keras.layers.Embedding(target_vocab_soze, embedding_dim)\n",
        "    self.pos_encoding = positional_encoder(maximum_position_encoding, embedding_dim)\n",
        "    self.dec_layers = [DecoderLayer(embedding_dim, num_heads, fully_connected_dim, dropout_rate=0.1) for _ in range(num_layers)]\n",
        "    self.dropout = tf.keras.layers.Dropout(dropout_rate)\n",
        "\n",
        "  def call(self, x, enc_output, training, look_ahead_mask, padding_mask):\n",
        "    seq_len = tf.shape(x)[1]\n",
        "    attention_weights = {}\n",
        "\n",
        "    # add embedding and positional encoding\n",
        "    x = self.embedding(x)\n",
        "    x *= tf.math.sqrt(tf.cast(self.embedding_dim, tf.float32))\n",
        "    x += self.pos_encoding[:, :seq_len, :]\n",
        "    x = self.dropout(x, training=training)\n",
        "\n",
        "    # apply each layer of decoder\n",
        "    for i in range(self.num_layers):\n",
        "      x, block1, block2 = self.dec_layers[i](x, enc_output=enc_output,\n",
        "                                             training=training,\n",
        "                                             look_ahead_mask=look_ahead_mask,\n",
        "                                             padding_mask=padding_mask)\n",
        "\n",
        "      # record attention weights\n",
        "      attention_weights[f\"decoder_layer{i+1}_block1\"] = block1\n",
        "      attention_weights[f\"decoder_layer{i+1}_block2\"] = block2\n",
        "\n",
        "    return x, attention_weights\n",
        "\n"
      ],
      "metadata": {
        "id": "J_RtNjD5IOfv"
      },
      "execution_count": 24,
      "outputs": []
    },
    {
      "cell_type": "code",
      "source": [
        "class Transformer(tf.keras.Model):\n",
        "  def __init__(self, num_layers, embedding_dim, num_heads, fully_connected_dim, input_vocab_size, target_vocab_soze, maximum_position_encoding_input, maximum_position_encoding_target, dropout_rate):\n",
        "    super(Transformer, self).__init__()\n",
        "    self.encoder = Encoder(num_layers, embedding_dim, num_heads, fully_connected_dim, input_vocab_size, maximum_position_encoding_input, dropout_rate)\n",
        "    self.decoder = Decoder(num_layers, embedding_dim, num_heads, fully_connected_dim, input_vocab_size, maximum_position_encoding_target, dropout_rate)\n",
        "\n",
        "    # Add final softmax layer\n",
        "    self.final_layer = tf.keras.layers.Dense(target_vocab_soze, activation='softmax')\n",
        "\n",
        "  def call(self, inp, tar, training, enc_padding_mask, look_ahead_mask, dec_padding_mask):\n",
        "    enc_output = self.encoder(inp, training=training, mask=enc_padding_mask)\n",
        "    dec_output, attention_weights = self.decoder(tar, enc_output=enc_output,\n",
        "                                                 training=training,\n",
        "                                                 look_ahead_mask=look_ahead_mask,\n",
        "                                                 padding_mask=dec_padding_mask)\n",
        "\n",
        "    # Pass the output of the Decoder through the final dense layer\n",
        "    final_output = self.final_layer(dec_output)\n",
        "\n",
        "    return final_output, attention_weights"
      ],
      "metadata": {
        "id": "SFMM58CbUykO"
      },
      "execution_count": 25,
      "outputs": []
    },
    {
      "cell_type": "code",
      "source": [
        "embedding_dim = 256\n",
        "fully_connected_dim = 512 # dimensionality of hidden layer of feed forward NN\n",
        "num_layers = 4 # Num of transformer blocks in the encoder and decoder stack\n",
        "num_heads = 8  # Num of heads in multi head attention mechanism\n",
        "dropout_rate = 0.1\n",
        "\n",
        "input_vocab_size = len(tokenizer_fr.word_index) + 2   # one for start and end token\n",
        "target_vocab_soze = len(tokenizer_en.word_index) + 2\n",
        "\n",
        "# maximum positional encoding for input and the target\n",
        "max_positional_encoding_input = input_vocab_size\n",
        "max_positional_encoding_target = target_vocab_soze\n",
        "\n",
        "# Setting hyperparams.\n",
        "EPOCHS = 10\n",
        "batch_size = 256\n"
      ],
      "metadata": {
        "id": "Uxdrjo-TWZna"
      },
      "execution_count": 26,
      "outputs": []
    },
    {
      "cell_type": "code",
      "source": [
        "class CustomSchedule(tf.keras.optimizers.schedules.LearningRateSchedule):\n",
        "  def __init__(self, embedding_dim, warmup_steps=4000):\n",
        "    super(CustomSchedule, self).__init__()\n",
        "    self.embedding_dim = tf.cast(embedding_dim, dtype=tf.float32)\n",
        "    self.warmup_steps = tf.cast(warmup_steps, dtype=tf.float32)\n",
        "\n",
        "  def __call__(self, step):\n",
        "    step = tf.cast(step, dtype=tf.float32)\n",
        "    arg1 = tf.math.rsqrt(step)\n",
        "    arg2 = step * (self.warmup_steps ** -1.5)\n",
        "    return tf.math.rsqrt(self.embedding_dim) * tf.math.minimum(arg1, arg2)\n",
        "\n",
        "# Create an instance of custom learning rate schedule\n",
        "learning_rate = CustomSchedule(embedding_dim)"
      ],
      "metadata": {
        "id": "EF-b9bsMa7Iv"
      },
      "execution_count": 27,
      "outputs": []
    },
    {
      "cell_type": "code",
      "source": [
        "transformer = Transformer(num_layers, embedding_dim, num_heads,\n",
        "                          fully_connected_dim, input_vocab_size, target_vocab_soze, max_positional_encoding_input,\n",
        "                          max_positional_encoding_target, dropout_rate)\n",
        "\n",
        "# Define the optimizers\n",
        "optimizer = tf.keras.optimizers.Adam(learning_rate, beta_1=0.9, beta_2=0.98, epsilon=1e-9)\n",
        "\n",
        "# Define the loss object\n",
        "loss_object = tf.keras.losses.SparseCategoricalCrossentropy()"
      ],
      "metadata": {
        "id": "Ri4hrs0Kb6np"
      },
      "execution_count": 28,
      "outputs": []
    },
    {
      "cell_type": "code",
      "source": [
        "def loss_function(true_value, prediction):\n",
        "  mask = tf.math.logical_not(tf.math.equal(true_value, 0))\n",
        "  loss_ = loss_object(true_value, prediction)\n",
        "  mask = tf.cast(mask, dtype=loss_.dtype)\n",
        "  loss_ *= mask\n",
        "\n",
        "  return tf.reduce_sum(loss_) / tf.reduce_sum(mask)"
      ],
      "metadata": {
        "id": "FFkUPHc5cd7R"
      },
      "execution_count": 29,
      "outputs": []
    },
    {
      "cell_type": "code",
      "source": [
        "def accuracy_function(true_value, prediction):\n",
        "  accuracies = tf.equal(true_value, tf.argmax(prediction, axis=2))\n",
        "  mask = tf.math.logical_not(tf.math.equal(true_value, 0))\n",
        "\n",
        "  # Apply the mask to exclude the padding token from the accuracies\n",
        "  accuracies = tf.math.logical_and(mask, accuracies)\n",
        "  accuracies = tf.cast(accuracies, dtype=tf.float32)\n",
        "  mask = tf.cast(mask, dtype=tf.float32)\n",
        "\n",
        "  return tf.reduce_sum(accuracies) / tf.reduce_sum(mask)"
      ],
      "metadata": {
        "id": "Vo74A8bkc_OV"
      },
      "execution_count": 30,
      "outputs": []
    },
    {
      "cell_type": "code",
      "source": [
        "# Define training metrics\n",
        "train_loss = tf.keras.metrics.Mean(name='train_loss')\n",
        "train_accuracy = tf.keras.metrics.SparseCategoricalCrossentropy(name='train_accuracy')"
      ],
      "metadata": {
        "id": "M9Zqm2PfdoDU"
      },
      "execution_count": 31,
      "outputs": []
    },
    {
      "cell_type": "code",
      "source": [
        "@tf.function()\n",
        "def train_step(encoder_input, target):\n",
        "\n",
        "  # Slice the target tensor to get the input for the decoder\n",
        "  decoder_input = target[:, :-1]\n",
        "\n",
        "  # Slice the target tensor to get the expected output of the decoder\n",
        "  expected_output = target[:, 1:]\n",
        "\n",
        "  # Create mask for encoder input, decoder input and the padding\n",
        "  enc_padding_mask, combined_mask, dec_padding_mask = create_mask(encoder_input,\n",
        "                                                                  decoder_input)\n",
        "  with tf.GradientTape() as tape:\n",
        "    prediction, _ = transformer(encoder_input, decoder_input, training=True,\n",
        "                                enc_padding_mask=enc_padding_mask,\n",
        "                                look_ahead_mask=combined_mask,\n",
        "                                dec_padding_mask=dec_padding_mask)\n",
        "    loss = loss_function(expected_output, prediction)\n",
        "\n",
        "  gradients = tape.gradient(loss, transformer.trainable_variables)\n",
        "  optimizer.apply_gradients(zip(gradients, transformer.trainable_variables))\n",
        "\n",
        "  # Update the training loss and accuracy metrices\n",
        "  train_loss.update_state(loss)\n",
        "  train_accuracy.update_state(expected_output, prediction)"
      ],
      "metadata": {
        "id": "U8p0oNlX9A64"
      },
      "execution_count": 32,
      "outputs": []
    },
    {
      "cell_type": "code",
      "source": [
        "for epoch in range(0, EPOCHS+1):\n",
        "  train_loss.reset_state()\n",
        "  train_accuracy.reset_state()\n",
        "  current_batch_index = 0\n",
        "\n",
        "  for i in range(int(len(english_sentences) / batch_size)):\n",
        "    input_batch = tf.convert_to_tensor(np.array(english_sentences[current_batch_index: current_batch_index + batch_size]), dtype=tf.int64)\n",
        "    target_batch = tf.convert_to_tensor(np.array(french_sentences[current_batch_index: current_batch_index + batch_size]), dtype=tf.int64)\n",
        "\n",
        "    current_batch_index = current_batch_index + batch_size\n",
        "    train_step(input_batch, target_batch)\n",
        "\n",
        "  # Print the epochs loss\n",
        "  print(f'Epoch {epoch} Loss: {train_loss.result():.4f} Accuracy: {train_accuracy.result():.4f}')"
      ],
      "metadata": {
        "colab": {
          "base_uri": "https://localhost:8080/"
        },
        "id": "Z75_Wh_q_OdJ",
        "outputId": "76da40e3-255e-43e9-cd4c-0798c62d7d10"
      },
      "execution_count": 33,
      "outputs": [
        {
          "output_type": "stream",
          "name": "stdout",
          "text": [
            "Epoch 0 Loss: 6.3972 Accuracy: 6.3972\n",
            "Epoch 1 Loss: 3.2383 Accuracy: 3.2383\n",
            "Epoch 2 Loss: 2.0948 Accuracy: 2.0948\n",
            "Epoch 3 Loss: 1.4693 Accuracy: 1.4693\n",
            "Epoch 4 Loss: 1.2105 Accuracy: 1.2105\n",
            "Epoch 5 Loss: 1.0883 Accuracy: 1.0883\n",
            "Epoch 6 Loss: 0.9772 Accuracy: 0.9772\n",
            "Epoch 7 Loss: 0.8546 Accuracy: 0.8546\n",
            "Epoch 8 Loss: 0.7641 Accuracy: 0.7641\n",
            "Epoch 9 Loss: 0.6941 Accuracy: 0.6941\n",
            "Epoch 10 Loss: 0.6426 Accuracy: 0.6426\n"
          ]
        }
      ]
    },
    {
      "cell_type": "code",
      "source": [
        "transformer.save_weights('transformer_en_fr.weights.h5')"
      ],
      "metadata": {
        "id": "rRCXg7beN3Sb"
      },
      "execution_count": 34,
      "outputs": []
    },
    {
      "cell_type": "code",
      "source": [
        "text = 'love you'\n",
        "text = \"sos \" + text.lower() + \" eos\"\n",
        "\n",
        "inp_seq = tf.keras.utils.pad_sequences(tokenizer_en.texts_to_sequences([text]),\n",
        "                                       maxlen=10, padding='post')\n",
        "out_seq = tf.convert_to_tensor([[tokenizer_fr.word_index['sos']]])"
      ],
      "metadata": {
        "id": "ye20ZhIGOAbe"
      },
      "execution_count": 50,
      "outputs": []
    },
    {
      "cell_type": "code",
      "source": [
        "# create mask for input seq\n",
        "enc_padding_mask, combined_mask, dec_padding_mask = create_mask(inp_seq, out_seq)"
      ],
      "metadata": {
        "id": "VM2kLK5SOpWS"
      },
      "execution_count": 51,
      "outputs": []
    },
    {
      "cell_type": "code",
      "source": [
        "output_tokens = []\n",
        "for i in range(100):\n",
        "  output, attn_weights = transformer(inp_seq, out_seq, training=False,\n",
        "                                enc_padding_mask=enc_padding_mask,\n",
        "                                look_ahead_mask=combined_mask,\n",
        "                                dec_padding_mask=dec_padding_mask)\n",
        "  last_token = output[:, -1:, :]\n",
        "  # Getting the token with highest probability\n",
        "  predicted_token = tf.cast(tf.argmax(last_token, axis=-1), tf.int32)\n",
        "\n",
        "  # check if the end token is the final one\n",
        "  if predicted_token == tokenizer_fr.word_index['eos']:\n",
        "    break\n",
        "  # Append the predicted token to the ouptut token list\n",
        "  output_tokens.append(predicted_token[0][0].numpy())\n",
        "\n",
        "  # Concatenate the predicted token to the output seq\n",
        "  out_seq = tf.concat([out_seq, predicted_token], axis=-1)\n",
        "\n",
        "  # Update the mask for the output sequence\n",
        "  decoder_padding_mask, look_ahead_mask = create_padding_mask(out_seq), create_look_ahead_mask(tf.shape(out_seq)[1])\n",
        "  combined_mask = tf.maximum(decoder_padding_mask, look_ahead_mask)"
      ],
      "metadata": {
        "id": "_Ra1LofvO5MO"
      },
      "execution_count": 52,
      "outputs": []
    },
    {
      "cell_type": "code",
      "source": [
        "output_tokens = tf.convert_to_tensor([output_tokens])"
      ],
      "metadata": {
        "id": "hKNsyuwTQnM-"
      },
      "execution_count": 53,
      "outputs": []
    },
    {
      "cell_type": "code",
      "source": [
        "tokenizer_fr.sequences_to_texts(output_tokens.numpy())"
      ],
      "metadata": {
        "id": "2cqgPjdgQspn",
        "colab": {
          "base_uri": "https://localhost:8080/"
        },
        "outputId": "b10773a5-7848-42fa-cbd2-d83e223b03d7"
      },
      "execution_count": 54,
      "outputs": [
        {
          "output_type": "execute_result",
          "data": {
            "text/plain": [
              "['vous aimez vous l amour']"
            ]
          },
          "metadata": {},
          "execution_count": 54
        }
      ]
    },
    {
      "cell_type": "code",
      "source": [],
      "metadata": {
        "id": "W_7u31bRQ08C"
      },
      "execution_count": 39,
      "outputs": []
    }
  ]
}