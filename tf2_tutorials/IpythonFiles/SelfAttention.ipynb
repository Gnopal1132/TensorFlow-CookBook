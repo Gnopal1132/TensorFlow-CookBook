{
  "nbformat": 4,
  "nbformat_minor": 0,
  "metadata": {
    "colab": {
      "provenance": [],
      "gpuType": "T4"
    },
    "kernelspec": {
      "name": "python3",
      "display_name": "Python 3"
    },
    "language_info": {
      "name": "python"
    },
    "accelerator": "GPU"
  },
  "cells": [
    {
      "cell_type": "code",
      "execution_count": 35,
      "metadata": {
        "id": "osSe3Qays5JG"
      },
      "outputs": [],
      "source": [
        "import tensorflow as tf\n",
        "import pandas as pd\n",
        "import zipfile\n",
        "import matplotlib.pyplot as plt\n",
        "import seaborn as sns\n",
        "import numpy as np\n",
        "from sklearn.preprocessing import LabelEncoder"
      ]
    },
    {
      "cell_type": "code",
      "source": [
        "devices = tf.config.list_physical_devices('GPU')\n",
        "for device in devices:\n",
        "  tf.config.experimental.set_memory_growth(device=device, enable=True)"
      ],
      "metadata": {
        "id": "fI3uP-WdxwHQ"
      },
      "execution_count": 20,
      "outputs": []
    },
    {
      "cell_type": "code",
      "source": [
        "dataset = pd.read_csv('IMDB Dataset.csv')\n",
        "print(dataset.head())"
      ],
      "metadata": {
        "colab": {
          "base_uri": "https://localhost:8080/"
        },
        "id": "D5erT7O3yC5U",
        "outputId": "951830f7-41ff-4288-aa1a-666d5d4cf469"
      },
      "execution_count": 21,
      "outputs": [
        {
          "output_type": "stream",
          "name": "stdout",
          "text": [
            "                                              review sentiment\n",
            "0  One of the other reviewers has mentioned that ...  positive\n",
            "1  A wonderful little production. <br /><br />The...  positive\n",
            "2  I thought this was a wonderful way to spend ti...  positive\n",
            "3  Basically there's a family where a little boy ...  negative\n",
            "4  Petter Mattei's \"Love in the Time of Money\" is...  positive\n"
          ]
        }
      ]
    },
    {
      "cell_type": "code",
      "source": [
        "train_dataset, test_dataset = dataset[:40000], dataset[40000:]\n",
        "x_train, y_train = train_dataset['review'].to_numpy(), train_dataset['sentiment'].to_numpy()\n",
        "x_test, y_test = test_dataset['review'].to_numpy(), test_dataset['sentiment'].to_numpy()\n"
      ],
      "metadata": {
        "id": "zQfYZRVN3Fue"
      },
      "execution_count": 22,
      "outputs": []
    },
    {
      "cell_type": "code",
      "source": [
        "max_len = 256 # Maximum sequence length\n",
        "embedding_dim = 64  # Dimension of word embedding\n",
        "attention_units = 16 # Attention units for self attention mechanism\n",
        "num_classes = 2  # Number of output classes"
      ],
      "metadata": {
        "id": "uCV-YY5s_ZBd"
      },
      "execution_count": 23,
      "outputs": []
    },
    {
      "cell_type": "code",
      "source": [
        "class SelfAttention(tf.keras.layers.Layer):\n",
        "  def __init__(self, attention_units):\n",
        "    super(SelfAttention, self).__init__()\n",
        "    self.attention_units = attention_units\n",
        "\n",
        "  def build(self, input_shape):\n",
        "    self.WQ = self.add_weight(shape=(input_shape[-1], self.attention_units),\n",
        "                              initializer='glorot_uniform',\n",
        "                              trainable=True)\n",
        "\n",
        "    self.WK = self.add_weight(shape=(input_shape[-1], self.attention_units),\n",
        "                              initializer='glorot_uniform',\n",
        "                              trainable=True)\n",
        "\n",
        "    self.WV = self.add_weight(shape=(input_shape[-1], self.attention_units),\n",
        "                              initializer='glorot_uniform',\n",
        "                              trainable=True)\n",
        "\n",
        "  def call(self, inputs):\n",
        "    Q = tf.matmul(inputs, self.WQ)\n",
        "    K = tf.matmul(inputs, self.WK)\n",
        "    V = tf.matmul(inputs, self.WV)\n",
        "\n",
        "    d_k = tf.cast(tf.shape(K)[-1], tf.float32)\n",
        "    attention_weights = tf.nn.softmax(tf.matmul(Q, K,\n",
        "                                                transpose_b=True) /\n",
        "                                      tf.math.sqrt(d_k), axis=-1)\n",
        "    output = tf.matmul(attention_weights, V)\n",
        "    return output, attention_weights"
      ],
      "metadata": {
        "id": "bdlXGluD_tiI"
      },
      "execution_count": 24,
      "outputs": []
    },
    {
      "cell_type": "code",
      "source": [
        "class SentimentClassifier(tf.keras.Model):\n",
        "  def __init__(self, vocab_size, max_len, embedding_dim, attention_units, num_classes):\n",
        "    super(SentimentClassifier, self).__init__()\n",
        "    self.embedding = tf.keras.layers.Embedding(vocab_size, embedding_dim, input_length=max_len)\n",
        "    self.positional_encoding = self.positional_encoder(max_len, embedding_dim)\n",
        "    self.attention = SelfAttention(attention_units)\n",
        "    self.global_avg_pool = tf.keras.layers.GlobalAveragePooling1D()\n",
        "    self.dense1 = tf.keras.layers.Dense(256, activation='relu')\n",
        "    self.dropout = tf.keras.layers.Dropout(0.25)\n",
        "    self.dense2 = tf.keras.layers.Dense(num_classes, activation='softmax')\n",
        "\n",
        "  def call(self, input):\n",
        "    x = self.embedding(input)\n",
        "    x *= tf.math.sqrt(tf.cast(tf.shape(x)[-1], tf.float32))\n",
        "    x += self.positional_encoding[:, :tf.shape(x)[1], :]\n",
        "    output, attention_weights = self.attention(x)\n",
        "\n",
        "    output = self.global_avg_pool(output)\n",
        "    output = self.dense1(output)\n",
        "    output = self.dropout(output)\n",
        "    output = self.dense2(output)\n",
        "\n",
        "    return output, attention_weights\n",
        "\n",
        "  def positional_encoder(self, position, d_model):\n",
        "    angle_rates = 1 / np.power(10000, (2 * (np.arange(d_model)[np.newaxis, :] // 2)) / np.float32(d_model))\n",
        "    angle_rads = np.arange(position)[:, np.newaxis] * angle_rates\n",
        "\n",
        "    angle_rads[:, 0::2] = np.sin(angle_rads[:, 0::2])\n",
        "\n",
        "    angle_rads[:, 1::2] = np.sin(angle_rads[:, 1::2])\n",
        "\n",
        "    pos_encoding = angle_rads[np.newaxis, ...]\n",
        "    return tf.cast(pos_encoding, dtype=tf.float32)\n"
      ],
      "metadata": {
        "id": "zmq1-3oGBP0U"
      },
      "execution_count": 25,
      "outputs": []
    },
    {
      "cell_type": "code",
      "source": [
        "tokenizer = tf.keras.preprocessing.text.Tokenizer()\n",
        "tokenizer.fit_on_texts(train_dataset['review'])\n",
        "vocab_size = len(tokenizer.word_index) + 1"
      ],
      "metadata": {
        "id": "q-jetRxBF2Sn"
      },
      "execution_count": 26,
      "outputs": []
    },
    {
      "cell_type": "code",
      "source": [
        "X_train_tokenized = tokenizer.texts_to_sequences(x_train)\n",
        "X_train_tokenized = tf.keras.preprocessing.sequence.pad_sequences(X_train_tokenized, padding='post', maxlen=max_len)\n",
        "\n",
        "X_test_tokenized = tokenizer.texts_to_sequences(x_test)\n",
        "X_test_tokenized = tf.keras.preprocessing.sequence.pad_sequences(X_test_tokenized, padding='post', maxlen=max_len)"
      ],
      "metadata": {
        "id": "kXGnJWPJGIfI"
      },
      "execution_count": 27,
      "outputs": []
    },
    {
      "cell_type": "code",
      "source": [
        "encoder = LabelEncoder()\n",
        "y_train_encoded = encoder.fit_transform(y_train)\n",
        "y_test_encoded = encoder.transform(y_test)\n",
        "\n",
        "y_train_encoded = y_train_encoded.astype(np.int64)\n",
        "y_test_encoded = y_test_encoded.astype(np.int64)"
      ],
      "metadata": {
        "id": "uZJ-WQSfobNa"
      },
      "execution_count": 28,
      "outputs": []
    },
    {
      "cell_type": "code",
      "source": [
        "train_dataset = tf.data.Dataset.from_tensor_slices((X_train_tokenized, y_train_encoded)).batch(64)\n",
        "test_dataset = tf.data.Dataset.from_tensor_slices((X_test_tokenized, y_test_encoded)).batch(32)"
      ],
      "metadata": {
        "id": "_8KnGGzIo8wy"
      },
      "execution_count": 29,
      "outputs": []
    },
    {
      "cell_type": "code",
      "source": [
        "classifier = SentimentClassifier(vocab_size, max_len, embedding_dim, attention_units, num_classes)"
      ],
      "metadata": {
        "colab": {
          "base_uri": "https://localhost:8080/"
        },
        "id": "xezd1geEpRh4",
        "outputId": "fd6b63e4-f642-4907-a027-fc369a573ae4"
      },
      "execution_count": 30,
      "outputs": [
        {
          "output_type": "stream",
          "name": "stderr",
          "text": [
            "/usr/local/lib/python3.11/dist-packages/keras/src/layers/core/embedding.py:90: UserWarning: Argument `input_length` is deprecated. Just remove it.\n",
            "  warnings.warn(\n"
          ]
        }
      ]
    },
    {
      "cell_type": "code",
      "source": [
        "loss_fn = tf.keras.losses.SparseCategoricalCrossentropy()\n",
        "optimizer = tf.keras.optimizers.Adam(learning_rate=0.0002)"
      ],
      "metadata": {
        "id": "pYCW8k6-par2"
      },
      "execution_count": 31,
      "outputs": []
    },
    {
      "cell_type": "code",
      "source": [
        "epochs = 4\n",
        "for epoch in range(epochs):\n",
        "  print(f\"Epoch {epoch + 1}/{epochs}\")\n",
        "  for step, (x_batch_train, y_batch_train) in enumerate(train_dataset):\n",
        "    with tf.GradientTape() as tape:\n",
        "      logits, _ = classifier(x_batch_train)\n",
        "      loss_value = loss_fn(y_batch_train, logits)\n",
        "\n",
        "    grads = tape.gradient(loss_value, classifier.trainable_weights)\n",
        "    optimizer.apply_gradients(zip(grads, classifier.trainable_weights))\n",
        "\n",
        "    if step % 100 == 0:\n",
        "      print(f\"Step {step} / {len(x_train) // 32} - Loss: {loss_value.numpy():.4f}\")"
      ],
      "metadata": {
        "colab": {
          "base_uri": "https://localhost:8080/"
        },
        "id": "bXlHLSgxqLRn",
        "outputId": "e1712b82-2534-4051-92be-89729f3d1092"
      },
      "execution_count": 32,
      "outputs": [
        {
          "output_type": "stream",
          "name": "stdout",
          "text": [
            "Epoch 1/4\n",
            "Step 0 / 1250 - Loss: 0.7068\n",
            "Step 100 / 1250 - Loss: 0.6364\n",
            "Step 200 / 1250 - Loss: 0.5581\n",
            "Step 300 / 1250 - Loss: 0.4321\n",
            "Step 400 / 1250 - Loss: 0.2504\n",
            "Step 500 / 1250 - Loss: 0.2753\n",
            "Step 600 / 1250 - Loss: 0.2361\n",
            "Epoch 2/4\n",
            "Step 0 / 1250 - Loss: 0.2226\n",
            "Step 100 / 1250 - Loss: 0.2611\n",
            "Step 200 / 1250 - Loss: 0.3368\n",
            "Step 300 / 1250 - Loss: 0.2593\n",
            "Step 400 / 1250 - Loss: 0.1365\n",
            "Step 500 / 1250 - Loss: 0.1792\n",
            "Step 600 / 1250 - Loss: 0.1570\n",
            "Epoch 3/4\n",
            "Step 0 / 1250 - Loss: 0.1441\n",
            "Step 100 / 1250 - Loss: 0.1391\n",
            "Step 200 / 1250 - Loss: 0.2167\n",
            "Step 300 / 1250 - Loss: 0.1094\n",
            "Step 400 / 1250 - Loss: 0.0903\n",
            "Step 500 / 1250 - Loss: 0.0905\n",
            "Step 600 / 1250 - Loss: 0.0661\n",
            "Epoch 4/4\n",
            "Step 0 / 1250 - Loss: 0.0659\n",
            "Step 100 / 1250 - Loss: 0.0713\n",
            "Step 200 / 1250 - Loss: 0.0960\n",
            "Step 300 / 1250 - Loss: 0.0402\n",
            "Step 400 / 1250 - Loss: 0.0270\n",
            "Step 500 / 1250 - Loss: 0.0322\n",
            "Step 600 / 1250 - Loss: 0.0126\n"
          ]
        }
      ]
    },
    {
      "cell_type": "code",
      "source": [
        "def measure_accuracy(model, dataset):\n",
        "  correct_prediction = 0\n",
        "  total_prediction = 0\n",
        "\n",
        "  for x_batch, y_batch in dataset:\n",
        "    logits, _ = model(x_batch)\n",
        "    predicted_label = tf.argmax(logits, axis=1)\n",
        "    correct_prediction += tf.reduce_sum(tf.cast(tf.equal(predicted_label, y_batch), dtype=tf.int32))\n",
        "    total_prediction += x_batch.shape[0]\n",
        "\n",
        "  accuracy = correct_prediction / total_prediction\n",
        "  return accuracy"
      ],
      "metadata": {
        "id": "iplaRO-CrG6h"
      },
      "execution_count": 33,
      "outputs": []
    },
    {
      "cell_type": "code",
      "source": [
        "print('Training Accuracy: ', {measure_accuracy(classifier, train_dataset).numpy()})\n",
        "print('Test Accuracy: ', {measure_accuracy(classifier, test_dataset).numpy()})\n"
      ],
      "metadata": {
        "colab": {
          "base_uri": "https://localhost:8080/"
        },
        "id": "1CvDwQhTN075",
        "outputId": "af72dc89-51a5-4910-e8bb-31676ea09908"
      },
      "execution_count": 34,
      "outputs": [
        {
          "output_type": "stream",
          "name": "stdout",
          "text": [
            "Training Accuracy:  {np.float64(0.994675)}\n",
            "Test Accuracy:  {np.float64(0.8896)}\n"
          ]
        }
      ]
    },
    {
      "cell_type": "code",
      "source": [
        "def visualize_attention_weights(model, inputs, idx, tokenizer):\n",
        "  _, attention_weights = model(inputs)\n",
        "  attention_weights = tf.squeeze(attention_weights, axis=0).numpy()\n",
        "\n",
        "  words = tokenizer.sequences_to_texts(inputs.numpy())[0].split()   # converts input sequecnes back to word\n",
        "  print(words)\n",
        "\n",
        "  fig, ax = plt.subplots(figsize=(15, 15))\n",
        "  sns.heatmap(attention_weights[:len(words), :len(words)], cmap='hot', ax=ax, xticklabels=words, yticklabels=words)\n",
        "  ax.set_title(f\"Attention Weights (Sample {idx})\")\n",
        "  plt.xticks(rotation=45, ha='right')\n",
        "  plt.yticks(rotation=0)\n",
        "  plt.show()"
      ],
      "metadata": {
        "id": "b_zCcmQmODKQ"
      },
      "execution_count": 42,
      "outputs": []
    },
    {
      "cell_type": "code",
      "source": [
        "sample_index = 817\n",
        "sample_input = tf.expand_dims(X_test_tokenized[sample_index], axis=0)\n",
        "visualize_attention_weights(classifier, sample_input, sample_index, tokenizer)"
      ],
      "metadata": {
        "colab": {
          "base_uri": "https://localhost:8080/",
          "height": 1000
        },
        "id": "a_QDthiAPpCm",
        "outputId": "a874ecf3-c0c3-43bb-b80d-66731d840e08"
      },
      "execution_count": 43,
      "outputs": [
        {
          "output_type": "stream",
          "name": "stdout",
          "text": [
            "['i', 'hope', 'this', 'group', 'of', 'film', 'makers', 'never', 're', 'unites']\n"
          ]
        },
        {
          "output_type": "display_data",
          "data": {
            "text/plain": [
              "<Figure size 1500x1500 with 2 Axes>"
            ],
            "image/png": "[encoded data removed]"
          },
          "metadata": {}
        }
      ]
    },
    {
      "cell_type": "code",
      "source": [],
      "metadata": {
        "id": "3rTP-GoTQAs-"
      },
      "execution_count": null,
      "outputs": []
    }
  ]
}