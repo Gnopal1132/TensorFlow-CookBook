{
 "cells": [
  {
   "cell_type": "code",
   "execution_count": 6,
   "metadata": {
    "id": "5RD19qYGfkJN"
   },
   "source": [
    "import tensorflow as tf\n",
    "import pandas as pd\n",
    "import numpy as np\n",
    "import string"
   ],
   "outputs": []
  },
  {
   "cell_type": "code",
   "execution_count": 3,
   "metadata": {
    "colab": {
     "base_uri": "https://localhost:8080/"
    },
    "id": "5PsLWnx2f4VI",
    "outputId": "40f620e7-5b21-44d4-9ed0-6b491efd201c"
   },
   "source": [
    "!wget --no-check-certificate \\\n",
    "    https://drive.google.com/uc?id=1LiJFZd41ofrWoBtW-pMYsfz1w8Ny0Bj8 \\\n",
    "    -O /tmp/songdata.csv"
   ],
   "outputs": []
  },
  {
   "cell_type": "code",
   "execution_count": 50,
   "metadata": {
    "colab": {
     "base_uri": "https://localhost:8080/",
     "height": 206
    },
    "id": "mNNYe3xMgMIR",
    "outputId": "35ef394c-eaec-4d14-c58d-4cca38383a88"
   },
   "source": [
    "dataset = pd.read_csv(\"/tmp/songdata.csv\")\n",
    "dataset.head()"
   ],
   "outputs": []
  },
  {
   "cell_type": "code",
   "execution_count": 51,
   "metadata": {
    "colab": {
     "base_uri": "https://localhost:8080/"
    },
    "id": "4wFeuqYpggcv",
    "outputId": "1baa61bb-8632-46e9-d482-dfad446c995e"
   },
   "source": [
    "dataset.shape"
   ],
   "outputs": []
  },
  {
   "cell_type": "code",
   "execution_count": 52,
   "metadata": {
    "id": "uRSc1qBUgihn"
   },
   "source": [
    "def preprocess_data(dataframe, field):\n",
    "  dataframe[field] = dataframe[field].str.replace(\"[{}]\".format(string.punctuation),'')\n",
    "  dataframe[field] = dataframe[field].str.lower()\n",
    "  dataframe[field] = dataframe[field].str.strip()\n",
    "  lines = [l for l in dataframe[field].to_numpy() if l != '']\n",
    "  return lines"
   ],
   "outputs": []
  },
  {
   "cell_type": "code",
   "execution_count": 53,
   "metadata": {
    "colab": {
     "base_uri": "https://localhost:8080/"
    },
    "id": "h6i3R7QshS-8",
    "outputId": "ffde5e8f-6fbe-4ee2-c77a-4283d04630e4"
   },
   "source": [
    "dataset = preprocess_data(dataset, \"text\")"
   ],
   "outputs": []
  },
  {
   "cell_type": "code",
   "execution_count": 54,
   "metadata": {
    "colab": {
     "base_uri": "https://localhost:8080/"
    },
    "id": "zrBMuVFqhZkK",
    "outputId": "6200b783-3af9-437f-e88b-b4e92d12006e"
   },
   "source": [
    "len(dataset)"
   ],
   "outputs": []
  },
  {
   "cell_type": "code",
   "execution_count": 55,
   "metadata": {
    "colab": {
     "base_uri": "https://localhost:8080/"
    },
    "id": "IYMcLsMehfN7",
    "outputId": "bcf03d03-df35-47eb-ac12-bf0e54457fe3"
   },
   "source": [
    "dataset[:10]"
   ],
   "outputs": []
  },
  {
   "cell_type": "code",
   "execution_count": 56,
   "metadata": {
    "id": "hE2cYfRLkJbf"
   },
   "source": [
    "def train_val_split(data, train_size=0.8):\n",
    "  train_len = int(len(data) * train_size)\n",
    "  index = tf.random.shuffle(tf.range(len(data)))\n",
    "  x_train = tf.gather(data, index[:train_len])\n",
    "  x_val = tf.gather(data, index[train_len:])\n",
    "\n",
    "  return x_train, x_val"
   ],
   "outputs": []
  },
  {
   "cell_type": "code",
   "execution_count": 57,
   "metadata": {
    "id": "-SkcecWAkhn8"
   },
   "source": [
    "train, val = train_val_split(dataset)"
   ],
   "outputs": []
  },
  {
   "cell_type": "code",
   "execution_count": 58,
   "metadata": {
    "id": "wOL-8EqpoAZN"
   },
   "source": [
    "train = tf.strings.join(train, separator='\\n')\n",
    "val = tf.strings.join(val, separator='\\n')"
   ],
   "outputs": []
  },
  {
   "cell_type": "code",
   "execution_count": 59,
   "metadata": {
    "id": "Tb1h6x54jRLl"
   },
   "source": [
    "train = tf.strings.unicode_split(train, input_encoding='UTF-8')\n",
    "val = tf.strings.unicode_split(val, input_encoding='UTF-8')"
   ],
   "outputs": []
  },
  {
   "cell_type": "code",
   "execution_count": 61,
   "metadata": {
    "colab": {
     "base_uri": "https://localhost:8080/"
    },
    "id": "yYCSLU9fumYi",
    "outputId": "de09928c-3509-4c01-c6a0-73ae9fc83151"
   },
   "source": [
    "train"
   ],
   "outputs": []
  },
  {
   "cell_type": "code",
   "execution_count": 62,
   "metadata": {
    "colab": {
     "base_uri": "https://localhost:8080/"
    },
    "id": "6xuuJKJqjB09",
    "outputId": "9199a6e3-bc45-46d2-f0cc-3151070c06e5"
   },
   "source": [
    "vocabulary = sorted(set(train.numpy()))\n",
    "ids_from_chars = tf.keras.layers.StringLookup(\n",
    "    vocabulary=list(vocabulary), mask_token=None)\n",
    "\n",
    "len(vocabulary)"
   ],
   "outputs": []
  },
  {
   "cell_type": "code",
   "execution_count": 63,
   "metadata": {
    "id": "sHyisFe0uHnM"
   },
   "source": [
    "train = ids_from_chars(train)\n",
    "val = ids_from_chars(val)"
   ],
   "outputs": []
  },
  {
   "cell_type": "code",
   "execution_count": 64,
   "metadata": {
    "colab": {
     "base_uri": "https://localhost:8080/"
    },
    "id": "rf802uaAmVld",
    "outputId": "cd582d1e-ea90-4bd2-9072-c58a5b275624"
   },
   "source": [
    "train"
   ],
   "outputs": []
  },
  {
   "cell_type": "code",
   "execution_count": 65,
   "metadata": {
    "colab": {
     "base_uri": "https://localhost:8080/"
    },
    "id": "3-cJMAa5uvtg",
    "outputId": "db571184-d1ae-4d69-b43e-b0e754cd9d18"
   },
   "source": [
    "val"
   ],
   "outputs": []
  },
  {
   "cell_type": "code",
   "execution_count": 66,
   "metadata": {
    "id": "V1gW-VpvuxDi"
   },
   "source": [
    "train = tf.data.Dataset.from_tensor_slices(train)\n",
    "val = tf.data.Dataset.from_tensor_slices(val)"
   ],
   "outputs": []
  },
  {
   "cell_type": "code",
   "execution_count": 67,
   "metadata": {
    "id": "eKe5WpjjvHUz"
   },
   "source": [
    "chars_from_ids = tf.keras.layers.StringLookup(\n",
    "    vocabulary=ids_from_chars.get_vocabulary(), invert=True, mask_token=None)"
   ],
   "outputs": []
  },
  {
   "cell_type": "code",
   "execution_count": 68,
   "metadata": {
    "id": "UiN3fWcwvKvg"
   },
   "source": [
    "def text_from_ids(ids):\n",
    "  return tf.strings.reduce_join(chars_from_ids(ids), axis=-1)"
   ],
   "outputs": []
  },
  {
   "cell_type": "code",
   "execution_count": 70,
   "metadata": {
    "colab": {
     "base_uri": "https://localhost:8080/"
    },
    "id": "TJeZFmJBu18I",
    "outputId": "37fbd4f1-dce6-4533-c287-450eec1060ff"
   },
   "source": [
    "for ids in train.take(10):\n",
    "    print(chars_from_ids(ids).numpy().decode('utf-8'))"
   ],
   "outputs": []
  },
  {
   "cell_type": "code",
   "execution_count": 73,
   "metadata": {
    "colab": {
     "base_uri": "https://localhost:8080/"
    },
    "id": "Sv4-QFwLvwAs",
    "outputId": "d63ab240-9fc8-43c1-b943-ece50a5f6eb0"
   },
   "source": [
    "train"
   ],
   "outputs": []
  },
  {
   "cell_type": "code",
   "execution_count": 75,
   "metadata": {
    "id": "ZfwQRlPlvL-V"
   },
   "source": [
    "def final_create_sequence_sequence_batch(dataset, window_size=1, batch_size=64,buffer_size=10000):\n",
    "  AUTOTUNE = tf.data.experimental.AUTOTUNE\n",
    "  dataset = dataset.window(window_size+1, shift=window_size+1, drop_remainder=True)\n",
    "  dataset = dataset.flat_map(lambda window: window.batch(window_size+1))\n",
    "  dataset = dataset.map(lambda window: (window[:-1], window[1:]), num_parallel_calls=AUTOTUNE)\n",
    "  dataset = dataset.cache().shuffle(buffer_size).batch(batch_size, drop_remainder=True)\n",
    "  dataset = dataset.prefetch(AUTOTUNE)\n",
    "  return dataset"
   ],
   "outputs": []
  },
  {
   "cell_type": "code",
   "execution_count": 76,
   "metadata": {
    "id": "NBxCh18Pve5T"
   },
   "source": [
    "seq_length = 500\n",
    "\n",
    "train = final_create_sequence_sequence_batch(train, window_size=seq_length)\n",
    "val = final_create_sequence_sequence_batch(val, window_size=seq_length)"
   ],
   "outputs": []
  },
  {
   "cell_type": "code",
   "execution_count": null,
   "metadata": {
    "id": "q0QuthL6vtMS"
   },
   "source": [
    "for input_example, target_example in train.take(1):\n",
    "    print(\"Input :\", text_from_ids(input_example).numpy())\n",
    "    print(\"Target:\", text_from_ids(target_example).numpy())\n",
    "    print(\"\\n\\n\")"
   ],
   "outputs": []
  },
  {
   "cell_type": "code",
   "execution_count": 79,
   "metadata": {
    "id": "vUElYFI6v9un"
   },
   "source": [
    "# Length of the vocabulary in StringLookup Layer\n",
    "vocab_size = len(ids_from_chars.get_vocabulary())\n",
    "\n",
    "# The embedding dimension\n",
    "embedding_dim = 256\n",
    "\n",
    "# Number of RNN units\n",
    "rnn_units = 1024"
   ],
   "outputs": []
  },
  {
   "cell_type": "code",
   "execution_count": 96,
   "metadata": {
    "id": "pZpRiGV2wNnL"
   },
   "source": [
    "class MyModel(tf.keras.Model):\n",
    "  def __init__(self, vocab_size, embedding_dim, rnn_units):\n",
    "    super().__init__(self)\n",
    "    self.embedding = tf.keras.layers.Embedding(vocab_size, embedding_dim)\n",
    "    self.gru = tf.keras.layers.GRU(rnn_units,\n",
    "                                   return_sequences=True,\n",
    "                                   return_state=True)\n",
    "    self.dense = tf.keras.layers.Dense(vocab_size)\n",
    "\n",
    "  def call(self, inputs, states=None, return_state=False, training=False):\n",
    "    x = inputs\n",
    "    x = self.embedding(x, training=training)\n",
    "    if states is None:\n",
    "      states = self.gru.get_initial_state(x)\n",
    "    x, states = self.gru(x, initial_state=states, training=training)\n",
    "    x = self.dense(x, training=training)\n",
    "\n",
    "    if return_state:\n",
    "      return x, states\n",
    "    else:\n",
    "      return x"
   ],
   "outputs": []
  },
  {
   "cell_type": "code",
   "execution_count": 97,
   "metadata": {
    "id": "-AAREtF3wX_R"
   },
   "source": [
    "model = MyModel(\n",
    "    vocab_size=vocab_size,\n",
    "    embedding_dim=embedding_dim,\n",
    "    rnn_units=rnn_units)"
   ],
   "outputs": []
  },
  {
   "cell_type": "code",
   "execution_count": 98,
   "metadata": {
    "colab": {
     "base_uri": "https://localhost:8080/"
    },
    "id": "V23e7nVPwccn",
    "outputId": "75bbb71c-a73f-41e5-f094-ef7c886dc40a"
   },
   "source": [
    "for input_example_batch, target_example_batch in train.take(1):\n",
    "    example_batch_predictions = model(input_example_batch)\n",
    "    print(example_batch_predictions.shape, \"# (batch_size, sequence_length, vocab_size)\")"
   ],
   "outputs": []
  },
  {
   "cell_type": "code",
   "execution_count": 92,
   "metadata": {
    "colab": {
     "base_uri": "https://localhost:8080/"
    },
    "id": "ebIUlDahwfMj",
    "outputId": "75fc5400-3074-4dfb-e21e-0f905f808422"
   },
   "source": [
    "model.summary()"
   ],
   "outputs": []
  },
  {
   "cell_type": "code",
   "execution_count": 99,
   "metadata": {
    "id": "6DbsJSIzwhsB"
   },
   "source": [
    "loss = tf.losses.SparseCategoricalCrossentropy(from_logits=True)\n",
    "\n",
    "model.compile(optimizer='adam', loss=loss)"
   ],
   "outputs": []
  },
  {
   "cell_type": "code",
   "execution_count": 102,
   "metadata": {
    "id": "LFwHlcXdyfH4"
   },
   "source": [
    "checkpoint_callback = tf.keras.callbacks.ModelCheckpoint('best_music/', save_best_only=True)\n",
    "earlystopping = tf.keras.callbacks.EarlyStopping(patience=20)"
   ],
   "outputs": []
  },
  {
   "cell_type": "code",
   "execution_count": null,
   "metadata": {
    "colab": {
     "base_uri": "https://localhost:8080/"
    },
    "id": "OTZxgBwlywD3",
    "outputId": "b3ecc26a-0989-4045-f9e6-e705bb64e763"
   },
   "source": [
    "EPOCHS = 100\n",
    "history = model.fit(train, epochs=EPOCHS, validation_data=val,callbacks=[checkpoint_callback, earlystopping])"
   ],
   "outputs": []
  },
  {
   "cell_type": "code",
   "execution_count": null,
   "metadata": {
    "id": "RvB8IqCLzLRA"
   },
   "source": [],
   "outputs": []
  }
 ],
 "metadata": {
  "accelerator": "GPU",
  "colab": {
   "name": "SongGeneration.ipynb",
   "provenance": []
  },
  "kernelspec": {
   "display_name": "Python 3 (ipykernel)",
   "language": "python",
   "name": "python3"
  },
  "language_info": {
   "codemirror_mode": {
    "name": "ipython",
    "version": 3
   },
   "file_extension": ".py",
   "mimetype": "text/x-python",
   "name": "python",
   "nbconvert_exporter": "python",
   "pygments_lexer": "ipython3",
   "version": "3.8.13"
  }
 },
 "nbformat": 4,
 "nbformat_minor": 1
}
