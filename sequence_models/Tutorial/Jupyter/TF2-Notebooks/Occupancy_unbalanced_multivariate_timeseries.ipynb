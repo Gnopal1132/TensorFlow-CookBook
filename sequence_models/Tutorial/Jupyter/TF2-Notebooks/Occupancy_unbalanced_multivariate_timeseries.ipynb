{
  "cells": [
    {
      "cell_type": "code",
      "execution_count": 1,
      "id": "19c2fac8",
      "metadata": {
        "id": "19c2fac8"
      },
      "outputs": [],
      "source": [
        "import tensorflow as tf\n",
        "import numpy as np\n",
        "import os\n",
        "import pandas as pd\n",
        "import glob\n",
        "import matplotlib.pyplot as plt"
      ]
    },
    {
      "cell_type": "code",
      "execution_count": 2,
      "id": "abb09dd7",
      "metadata": {
        "id": "abb09dd7"
      },
      "outputs": [],
      "source": [
        "PATH = os.path.join(os.curdir,'*.txt')\n",
        "PATH = glob.glob(PATH, recursive=True)"
      ]
    },
    {
      "cell_type": "code",
      "execution_count": 3,
      "id": "0c09e0d6",
      "metadata": {
        "id": "0c09e0d6"
      },
      "outputs": [],
      "source": [
        "dataset = pd.DataFrame()\n",
        "for item in PATH:\n",
        "    df = pd.read_csv(item, sep=',')\n",
        "    dataset = pd.concat([dataset, df], axis=0)"
      ]
    },
    {
      "cell_type": "code",
      "execution_count": 4,
      "id": "140877db",
      "metadata": {
        "colab": {
          "base_uri": "https://localhost:8080/",
          "height": 424
        },
        "id": "140877db",
        "outputId": "80aefc1c-b886-493d-bdf4-efeb2423bfa7"
      },
      "outputs": [
        {
          "output_type": "execute_result",
          "data": {
            "text/plain": [
              "                     date  Temperature   Humidity       Light          CO2  \\\n",
              "1     2015-02-04 17:51:00      23.1800  27.272000  426.000000   721.250000   \n",
              "1     2015-02-11 14:48:00      21.7600  31.133333  437.333333  1029.666667   \n",
              "2     2015-02-11 14:49:00      21.7900  31.000000  437.333333  1000.000000   \n",
              "2     2015-02-04 17:51:59      23.1500  27.267500  429.500000   714.000000   \n",
              "3     2015-02-11 14:50:00      21.7675  31.122500  434.000000  1003.750000   \n",
              "...                   ...          ...        ...         ...          ...   \n",
              "9748  2015-02-18 09:15:00      20.8150  27.717500  429.750000  1505.250000   \n",
              "9749  2015-02-18 09:16:00      20.8650  27.745000  423.500000  1514.500000   \n",
              "9750  2015-02-18 09:16:59      20.8900  27.745000  423.500000  1521.500000   \n",
              "9751  2015-02-18 09:17:59      20.8900  28.022500  418.750000  1632.000000   \n",
              "9752  2015-02-18 09:19:00      21.0000  28.100000  409.000000  1864.000000   \n",
              "\n",
              "      HumidityRatio  Occupancy  \n",
              "1          0.004793          1  \n",
              "1          0.005021          1  \n",
              "2          0.005009          1  \n",
              "2          0.004783          1  \n",
              "3          0.005022          1  \n",
              "...             ...        ...  \n",
              "9748       0.004213          1  \n",
              "9749       0.004230          1  \n",
              "9750       0.004237          1  \n",
              "9751       0.004279          1  \n",
              "9752       0.004321          1  \n",
              "\n",
              "[20560 rows x 7 columns]"
            ],
            "text/html": [
              "\n",
              "  <div id=\"df-000e7a26-9cff-4975-8706-7e258611ad25\">\n",
              "    <div class=\"colab-df-container\">\n",
              "      <div>\n",
              "<style scoped>\n",
              "    .dataframe tbody tr th:only-of-type {\n",
              "        vertical-align: middle;\n",
              "    }\n",
              "\n",
              "    .dataframe tbody tr th {\n",
              "        vertical-align: top;\n",
              "    }\n",
              "\n",
              "    .dataframe thead th {\n",
              "        text-align: right;\n",
              "    }\n",
              "</style>\n",
              "<table border=\"1\" class=\"dataframe\">\n",
              "  <thead>\n",
              "    <tr style=\"text-align: right;\">\n",
              "      <th></th>\n",
              "      <th>date</th>\n",
              "      <th>Temperature</th>\n",
              "      <th>Humidity</th>\n",
              "      <th>Light</th>\n",
              "      <th>CO2</th>\n",
              "      <th>HumidityRatio</th>\n",
              "      <th>Occupancy</th>\n",
              "    </tr>\n",
              "  </thead>\n",
              "  <tbody>\n",
              "    <tr>\n",
              "      <th>1</th>\n",
              "      <td>2015-02-04 17:51:00</td>\n",
              "      <td>23.1800</td>\n",
              "      <td>27.272000</td>\n",
              "      <td>426.000000</td>\n",
              "      <td>721.250000</td>\n",
              "      <td>0.004793</td>\n",
              "      <td>1</td>\n",
              "    </tr>\n",
              "    <tr>\n",
              "      <th>1</th>\n",
              "      <td>2015-02-11 14:48:00</td>\n",
              "      <td>21.7600</td>\n",
              "      <td>31.133333</td>\n",
              "      <td>437.333333</td>\n",
              "      <td>1029.666667</td>\n",
              "      <td>0.005021</td>\n",
              "      <td>1</td>\n",
              "    </tr>\n",
              "    <tr>\n",
              "      <th>2</th>\n",
              "      <td>2015-02-11 14:49:00</td>\n",
              "      <td>21.7900</td>\n",
              "      <td>31.000000</td>\n",
              "      <td>437.333333</td>\n",
              "      <td>1000.000000</td>\n",
              "      <td>0.005009</td>\n",
              "      <td>1</td>\n",
              "    </tr>\n",
              "    <tr>\n",
              "      <th>2</th>\n",
              "      <td>2015-02-04 17:51:59</td>\n",
              "      <td>23.1500</td>\n",
              "      <td>27.267500</td>\n",
              "      <td>429.500000</td>\n",
              "      <td>714.000000</td>\n",
              "      <td>0.004783</td>\n",
              "      <td>1</td>\n",
              "    </tr>\n",
              "    <tr>\n",
              "      <th>3</th>\n",
              "      <td>2015-02-11 14:50:00</td>\n",
              "      <td>21.7675</td>\n",
              "      <td>31.122500</td>\n",
              "      <td>434.000000</td>\n",
              "      <td>1003.750000</td>\n",
              "      <td>0.005022</td>\n",
              "      <td>1</td>\n",
              "    </tr>\n",
              "    <tr>\n",
              "      <th>...</th>\n",
              "      <td>...</td>\n",
              "      <td>...</td>\n",
              "      <td>...</td>\n",
              "      <td>...</td>\n",
              "      <td>...</td>\n",
              "      <td>...</td>\n",
              "      <td>...</td>\n",
              "    </tr>\n",
              "    <tr>\n",
              "      <th>9748</th>\n",
              "      <td>2015-02-18 09:15:00</td>\n",
              "      <td>20.8150</td>\n",
              "      <td>27.717500</td>\n",
              "      <td>429.750000</td>\n",
              "      <td>1505.250000</td>\n",
              "      <td>0.004213</td>\n",
              "      <td>1</td>\n",
              "    </tr>\n",
              "    <tr>\n",
              "      <th>9749</th>\n",
              "      <td>2015-02-18 09:16:00</td>\n",
              "      <td>20.8650</td>\n",
              "      <td>27.745000</td>\n",
              "      <td>423.500000</td>\n",
              "      <td>1514.500000</td>\n",
              "      <td>0.004230</td>\n",
              "      <td>1</td>\n",
              "    </tr>\n",
              "    <tr>\n",
              "      <th>9750</th>\n",
              "      <td>2015-02-18 09:16:59</td>\n",
              "      <td>20.8900</td>\n",
              "      <td>27.745000</td>\n",
              "      <td>423.500000</td>\n",
              "      <td>1521.500000</td>\n",
              "      <td>0.004237</td>\n",
              "      <td>1</td>\n",
              "    </tr>\n",
              "    <tr>\n",
              "      <th>9751</th>\n",
              "      <td>2015-02-18 09:17:59</td>\n",
              "      <td>20.8900</td>\n",
              "      <td>28.022500</td>\n",
              "      <td>418.750000</td>\n",
              "      <td>1632.000000</td>\n",
              "      <td>0.004279</td>\n",
              "      <td>1</td>\n",
              "    </tr>\n",
              "    <tr>\n",
              "      <th>9752</th>\n",
              "      <td>2015-02-18 09:19:00</td>\n",
              "      <td>21.0000</td>\n",
              "      <td>28.100000</td>\n",
              "      <td>409.000000</td>\n",
              "      <td>1864.000000</td>\n",
              "      <td>0.004321</td>\n",
              "      <td>1</td>\n",
              "    </tr>\n",
              "  </tbody>\n",
              "</table>\n",
              "<p>20560 rows × 7 columns</p>\n",
              "</div>\n",
              "      <button class=\"colab-df-convert\" onclick=\"convertToInteractive('df-000e7a26-9cff-4975-8706-7e258611ad25')\"\n",
              "              title=\"Convert this dataframe to an interactive table.\"\n",
              "              style=\"display:none;\">\n",
              "        \n",
              "  <svg xmlns=\"http://www.w3.org/2000/svg\" height=\"24px\"viewBox=\"0 0 24 24\"\n",
              "       width=\"24px\">\n",
              "    <path d=\"M0 0h24v24H0V0z\" fill=\"none\"/>\n",
              "    <path d=\"M18.56 5.44l.94 2.06.94-2.06 2.06-.94-2.06-.94-.94-2.06-.94 2.06-2.06.94zm-11 1L8.5 8.5l.94-2.06 2.06-.94-2.06-.94L8.5 2.5l-.94 2.06-2.06.94zm10 10l.94 2.06.94-2.06 2.06-.94-2.06-.94-.94-2.06-.94 2.06-2.06.94z\"/><path d=\"M17.41 7.96l-1.37-1.37c-.4-.4-.92-.59-1.43-.59-.52 0-1.04.2-1.43.59L10.3 9.45l-7.72 7.72c-.78.78-.78 2.05 0 2.83L4 21.41c.39.39.9.59 1.41.59.51 0 1.02-.2 1.41-.59l7.78-7.78 2.81-2.81c.8-.78.8-2.07 0-2.86zM5.41 20L4 18.59l7.72-7.72 1.47 1.35L5.41 20z\"/>\n",
              "  </svg>\n",
              "      </button>\n",
              "      \n",
              "  <style>\n",
              "    .colab-df-container {\n",
              "      display:flex;\n",
              "      flex-wrap:wrap;\n",
              "      gap: 12px;\n",
              "    }\n",
              "\n",
              "    .colab-df-convert {\n",
              "      background-color: #E8F0FE;\n",
              "      border: none;\n",
              "      border-radius: 50%;\n",
              "      cursor: pointer;\n",
              "      display: none;\n",
              "      fill: #1967D2;\n",
              "      height: 32px;\n",
              "      padding: 0 0 0 0;\n",
              "      width: 32px;\n",
              "    }\n",
              "\n",
              "    .colab-df-convert:hover {\n",
              "      background-color: #E2EBFA;\n",
              "      box-shadow: 0px 1px 2px rgba(60, 64, 67, 0.3), 0px 1px 3px 1px rgba(60, 64, 67, 0.15);\n",
              "      fill: #174EA6;\n",
              "    }\n",
              "\n",
              "    [theme=dark] .colab-df-convert {\n",
              "      background-color: #3B4455;\n",
              "      fill: #D2E3FC;\n",
              "    }\n",
              "\n",
              "    [theme=dark] .colab-df-convert:hover {\n",
              "      background-color: #434B5C;\n",
              "      box-shadow: 0px 1px 3px 1px rgba(0, 0, 0, 0.15);\n",
              "      filter: drop-shadow(0px 1px 2px rgba(0, 0, 0, 0.3));\n",
              "      fill: #FFFFFF;\n",
              "    }\n",
              "  </style>\n",
              "\n",
              "      <script>\n",
              "        const buttonEl =\n",
              "          document.querySelector('#df-000e7a26-9cff-4975-8706-7e258611ad25 button.colab-df-convert');\n",
              "        buttonEl.style.display =\n",
              "          google.colab.kernel.accessAllowed ? 'block' : 'none';\n",
              "\n",
              "        async function convertToInteractive(key) {\n",
              "          const element = document.querySelector('#df-000e7a26-9cff-4975-8706-7e258611ad25');\n",
              "          const dataTable =\n",
              "            await google.colab.kernel.invokeFunction('convertToInteractive',\n",
              "                                                     [key], {});\n",
              "          if (!dataTable) return;\n",
              "\n",
              "          const docLinkHtml = 'Like what you see? Visit the ' +\n",
              "            '<a target=\"_blank\" href=https://colab.research.google.com/notebooks/data_table.ipynb>data table notebook</a>'\n",
              "            + ' to learn more about interactive tables.';\n",
              "          element.innerHTML = '';\n",
              "          dataTable['output_type'] = 'display_data';\n",
              "          await google.colab.output.renderOutput(dataTable, element);\n",
              "          const docLink = document.createElement('div');\n",
              "          docLink.innerHTML = docLinkHtml;\n",
              "          element.appendChild(docLink);\n",
              "        }\n",
              "      </script>\n",
              "    </div>\n",
              "  </div>\n",
              "  "
            ]
          },
          "metadata": {},
          "execution_count": 4
        }
      ],
      "source": [
        "dataset.sort_index(ascending=True)"
      ]
    },
    {
      "cell_type": "code",
      "execution_count": 5,
      "id": "79d5c55a",
      "metadata": {
        "id": "79d5c55a"
      },
      "outputs": [],
      "source": [
        "dataset['date'] = pd.to_datetime(dataset['date'])\n",
        "dataset.set_index('date', inplace=True)\n",
        "dataset = dataset.sort_index(ascending=True)"
      ]
    },
    {
      "cell_type": "code",
      "execution_count": 6,
      "id": "35ce9aa0",
      "metadata": {
        "colab": {
          "base_uri": "https://localhost:8080/",
          "height": 238
        },
        "id": "35ce9aa0",
        "outputId": "cba1fe6a-b4b8-4800-bf0f-3aeabfd15228"
      },
      "outputs": [
        {
          "output_type": "execute_result",
          "data": {
            "text/plain": [
              "                     Temperature  Humidity       Light         CO2  \\\n",
              "date                                                                 \n",
              "2015-02-02 14:19:00      23.7000    26.272  585.200000  749.200000   \n",
              "2015-02-02 14:19:59      23.7180    26.290  578.400000  760.400000   \n",
              "2015-02-02 14:21:00      23.7300    26.230  572.666667  769.666667   \n",
              "2015-02-02 14:22:00      23.7225    26.125  493.750000  774.750000   \n",
              "2015-02-02 14:23:00      23.7540    26.200  488.600000  779.000000   \n",
              "\n",
              "                     HumidityRatio  Occupancy  \n",
              "date                                           \n",
              "2015-02-02 14:19:00       0.004764          1  \n",
              "2015-02-02 14:19:59       0.004773          1  \n",
              "2015-02-02 14:21:00       0.004765          1  \n",
              "2015-02-02 14:22:00       0.004744          1  \n",
              "2015-02-02 14:23:00       0.004767          1  "
            ],
            "text/html": [
              "\n",
              "  <div id=\"df-87f43ab9-81cb-4170-952b-4875a74a3bfd\">\n",
              "    <div class=\"colab-df-container\">\n",
              "      <div>\n",
              "<style scoped>\n",
              "    .dataframe tbody tr th:only-of-type {\n",
              "        vertical-align: middle;\n",
              "    }\n",
              "\n",
              "    .dataframe tbody tr th {\n",
              "        vertical-align: top;\n",
              "    }\n",
              "\n",
              "    .dataframe thead th {\n",
              "        text-align: right;\n",
              "    }\n",
              "</style>\n",
              "<table border=\"1\" class=\"dataframe\">\n",
              "  <thead>\n",
              "    <tr style=\"text-align: right;\">\n",
              "      <th></th>\n",
              "      <th>Temperature</th>\n",
              "      <th>Humidity</th>\n",
              "      <th>Light</th>\n",
              "      <th>CO2</th>\n",
              "      <th>HumidityRatio</th>\n",
              "      <th>Occupancy</th>\n",
              "    </tr>\n",
              "    <tr>\n",
              "      <th>date</th>\n",
              "      <th></th>\n",
              "      <th></th>\n",
              "      <th></th>\n",
              "      <th></th>\n",
              "      <th></th>\n",
              "      <th></th>\n",
              "    </tr>\n",
              "  </thead>\n",
              "  <tbody>\n",
              "    <tr>\n",
              "      <th>2015-02-02 14:19:00</th>\n",
              "      <td>23.7000</td>\n",
              "      <td>26.272</td>\n",
              "      <td>585.200000</td>\n",
              "      <td>749.200000</td>\n",
              "      <td>0.004764</td>\n",
              "      <td>1</td>\n",
              "    </tr>\n",
              "    <tr>\n",
              "      <th>2015-02-02 14:19:59</th>\n",
              "      <td>23.7180</td>\n",
              "      <td>26.290</td>\n",
              "      <td>578.400000</td>\n",
              "      <td>760.400000</td>\n",
              "      <td>0.004773</td>\n",
              "      <td>1</td>\n",
              "    </tr>\n",
              "    <tr>\n",
              "      <th>2015-02-02 14:21:00</th>\n",
              "      <td>23.7300</td>\n",
              "      <td>26.230</td>\n",
              "      <td>572.666667</td>\n",
              "      <td>769.666667</td>\n",
              "      <td>0.004765</td>\n",
              "      <td>1</td>\n",
              "    </tr>\n",
              "    <tr>\n",
              "      <th>2015-02-02 14:22:00</th>\n",
              "      <td>23.7225</td>\n",
              "      <td>26.125</td>\n",
              "      <td>493.750000</td>\n",
              "      <td>774.750000</td>\n",
              "      <td>0.004744</td>\n",
              "      <td>1</td>\n",
              "    </tr>\n",
              "    <tr>\n",
              "      <th>2015-02-02 14:23:00</th>\n",
              "      <td>23.7540</td>\n",
              "      <td>26.200</td>\n",
              "      <td>488.600000</td>\n",
              "      <td>779.000000</td>\n",
              "      <td>0.004767</td>\n",
              "      <td>1</td>\n",
              "    </tr>\n",
              "  </tbody>\n",
              "</table>\n",
              "</div>\n",
              "      <button class=\"colab-df-convert\" onclick=\"convertToInteractive('df-87f43ab9-81cb-4170-952b-4875a74a3bfd')\"\n",
              "              title=\"Convert this dataframe to an interactive table.\"\n",
              "              style=\"display:none;\">\n",
              "        \n",
              "  <svg xmlns=\"http://www.w3.org/2000/svg\" height=\"24px\"viewBox=\"0 0 24 24\"\n",
              "       width=\"24px\">\n",
              "    <path d=\"M0 0h24v24H0V0z\" fill=\"none\"/>\n",
              "    <path d=\"M18.56 5.44l.94 2.06.94-2.06 2.06-.94-2.06-.94-.94-2.06-.94 2.06-2.06.94zm-11 1L8.5 8.5l.94-2.06 2.06-.94-2.06-.94L8.5 2.5l-.94 2.06-2.06.94zm10 10l.94 2.06.94-2.06 2.06-.94-2.06-.94-.94-2.06-.94 2.06-2.06.94z\"/><path d=\"M17.41 7.96l-1.37-1.37c-.4-.4-.92-.59-1.43-.59-.52 0-1.04.2-1.43.59L10.3 9.45l-7.72 7.72c-.78.78-.78 2.05 0 2.83L4 21.41c.39.39.9.59 1.41.59.51 0 1.02-.2 1.41-.59l7.78-7.78 2.81-2.81c.8-.78.8-2.07 0-2.86zM5.41 20L4 18.59l7.72-7.72 1.47 1.35L5.41 20z\"/>\n",
              "  </svg>\n",
              "      </button>\n",
              "      \n",
              "  <style>\n",
              "    .colab-df-container {\n",
              "      display:flex;\n",
              "      flex-wrap:wrap;\n",
              "      gap: 12px;\n",
              "    }\n",
              "\n",
              "    .colab-df-convert {\n",
              "      background-color: #E8F0FE;\n",
              "      border: none;\n",
              "      border-radius: 50%;\n",
              "      cursor: pointer;\n",
              "      display: none;\n",
              "      fill: #1967D2;\n",
              "      height: 32px;\n",
              "      padding: 0 0 0 0;\n",
              "      width: 32px;\n",
              "    }\n",
              "\n",
              "    .colab-df-convert:hover {\n",
              "      background-color: #E2EBFA;\n",
              "      box-shadow: 0px 1px 2px rgba(60, 64, 67, 0.3), 0px 1px 3px 1px rgba(60, 64, 67, 0.15);\n",
              "      fill: #174EA6;\n",
              "    }\n",
              "\n",
              "    [theme=dark] .colab-df-convert {\n",
              "      background-color: #3B4455;\n",
              "      fill: #D2E3FC;\n",
              "    }\n",
              "\n",
              "    [theme=dark] .colab-df-convert:hover {\n",
              "      background-color: #434B5C;\n",
              "      box-shadow: 0px 1px 3px 1px rgba(0, 0, 0, 0.15);\n",
              "      filter: drop-shadow(0px 1px 2px rgba(0, 0, 0, 0.3));\n",
              "      fill: #FFFFFF;\n",
              "    }\n",
              "  </style>\n",
              "\n",
              "      <script>\n",
              "        const buttonEl =\n",
              "          document.querySelector('#df-87f43ab9-81cb-4170-952b-4875a74a3bfd button.colab-df-convert');\n",
              "        buttonEl.style.display =\n",
              "          google.colab.kernel.accessAllowed ? 'block' : 'none';\n",
              "\n",
              "        async function convertToInteractive(key) {\n",
              "          const element = document.querySelector('#df-87f43ab9-81cb-4170-952b-4875a74a3bfd');\n",
              "          const dataTable =\n",
              "            await google.colab.kernel.invokeFunction('convertToInteractive',\n",
              "                                                     [key], {});\n",
              "          if (!dataTable) return;\n",
              "\n",
              "          const docLinkHtml = 'Like what you see? Visit the ' +\n",
              "            '<a target=\"_blank\" href=https://colab.research.google.com/notebooks/data_table.ipynb>data table notebook</a>'\n",
              "            + ' to learn more about interactive tables.';\n",
              "          element.innerHTML = '';\n",
              "          dataTable['output_type'] = 'display_data';\n",
              "          await google.colab.output.renderOutput(dataTable, element);\n",
              "          const docLink = document.createElement('div');\n",
              "          docLink.innerHTML = docLinkHtml;\n",
              "          element.appendChild(docLink);\n",
              "        }\n",
              "      </script>\n",
              "    </div>\n",
              "  </div>\n",
              "  "
            ]
          },
          "metadata": {},
          "execution_count": 6
        }
      ],
      "source": [
        "dataset.head()"
      ]
    },
    {
      "cell_type": "code",
      "execution_count": 7,
      "id": "379e005c",
      "metadata": {
        "colab": {
          "base_uri": "https://localhost:8080/"
        },
        "id": "379e005c",
        "outputId": "269a07b7-4ab9-45f7-80c2-53948eaa93bc"
      },
      "outputs": [
        {
          "output_type": "execute_result",
          "data": {
            "text/plain": [
              "Timestamp('2015-02-18 09:19:00')"
            ]
          },
          "metadata": {},
          "execution_count": 7
        }
      ],
      "source": [
        "dataset.index.max()"
      ]
    },
    {
      "cell_type": "code",
      "execution_count": 8,
      "id": "f2f2af59",
      "metadata": {
        "colab": {
          "base_uri": "https://localhost:8080/"
        },
        "id": "f2f2af59",
        "outputId": "d78d31f6-3999-4040-d115-ae3a2d0bdca0"
      },
      "outputs": [
        {
          "output_type": "execute_result",
          "data": {
            "text/plain": [
              "Timestamp('2015-02-02 14:19:00')"
            ]
          },
          "metadata": {},
          "execution_count": 8
        }
      ],
      "source": [
        "dataset.index.min()"
      ]
    },
    {
      "cell_type": "code",
      "execution_count": 9,
      "id": "46c2821f",
      "metadata": {
        "colab": {
          "base_uri": "https://localhost:8080/",
          "height": 238
        },
        "id": "46c2821f",
        "outputId": "96d0ea6c-fe44-4dc3-caa9-cf0c0c4121f1"
      },
      "outputs": [
        {
          "output_type": "execute_result",
          "data": {
            "text/plain": [
              "                 count        mean         std         min         25%  \\\n",
              "Temperature    20560.0   20.906212    1.055315   19.000000   20.200000   \n",
              "Humidity       20560.0   27.655925    4.982154   16.745000   24.500000   \n",
              "Light          20560.0  130.756622  210.430875    0.000000    0.000000   \n",
              "CO2            20560.0  690.553276  311.201281  412.750000  460.000000   \n",
              "HumidityRatio  20560.0    0.004228    0.000768    0.002674    0.003719   \n",
              "Occupancy      20560.0    0.231031    0.421503    0.000000    0.000000   \n",
              "\n",
              "                      50%         75%          max  \n",
              "Temperature     20.700000   21.525000    24.408333  \n",
              "Humidity        27.290000   31.290000    39.500000  \n",
              "Light            0.000000  301.000000  1697.250000  \n",
              "CO2            565.416667  804.666667  2076.500000  \n",
              "HumidityRatio    0.004292    0.004832     0.006476  \n",
              "Occupancy        0.000000    0.000000     1.000000  "
            ],
            "text/html": [
              "\n",
              "  <div id=\"df-8c6ba6b7-a691-436a-a28b-b2f7052f4fc1\">\n",
              "    <div class=\"colab-df-container\">\n",
              "      <div>\n",
              "<style scoped>\n",
              "    .dataframe tbody tr th:only-of-type {\n",
              "        vertical-align: middle;\n",
              "    }\n",
              "\n",
              "    .dataframe tbody tr th {\n",
              "        vertical-align: top;\n",
              "    }\n",
              "\n",
              "    .dataframe thead th {\n",
              "        text-align: right;\n",
              "    }\n",
              "</style>\n",
              "<table border=\"1\" class=\"dataframe\">\n",
              "  <thead>\n",
              "    <tr style=\"text-align: right;\">\n",
              "      <th></th>\n",
              "      <th>count</th>\n",
              "      <th>mean</th>\n",
              "      <th>std</th>\n",
              "      <th>min</th>\n",
              "      <th>25%</th>\n",
              "      <th>50%</th>\n",
              "      <th>75%</th>\n",
              "      <th>max</th>\n",
              "    </tr>\n",
              "  </thead>\n",
              "  <tbody>\n",
              "    <tr>\n",
              "      <th>Temperature</th>\n",
              "      <td>20560.0</td>\n",
              "      <td>20.906212</td>\n",
              "      <td>1.055315</td>\n",
              "      <td>19.000000</td>\n",
              "      <td>20.200000</td>\n",
              "      <td>20.700000</td>\n",
              "      <td>21.525000</td>\n",
              "      <td>24.408333</td>\n",
              "    </tr>\n",
              "    <tr>\n",
              "      <th>Humidity</th>\n",
              "      <td>20560.0</td>\n",
              "      <td>27.655925</td>\n",
              "      <td>4.982154</td>\n",
              "      <td>16.745000</td>\n",
              "      <td>24.500000</td>\n",
              "      <td>27.290000</td>\n",
              "      <td>31.290000</td>\n",
              "      <td>39.500000</td>\n",
              "    </tr>\n",
              "    <tr>\n",
              "      <th>Light</th>\n",
              "      <td>20560.0</td>\n",
              "      <td>130.756622</td>\n",
              "      <td>210.430875</td>\n",
              "      <td>0.000000</td>\n",
              "      <td>0.000000</td>\n",
              "      <td>0.000000</td>\n",
              "      <td>301.000000</td>\n",
              "      <td>1697.250000</td>\n",
              "    </tr>\n",
              "    <tr>\n",
              "      <th>CO2</th>\n",
              "      <td>20560.0</td>\n",
              "      <td>690.553276</td>\n",
              "      <td>311.201281</td>\n",
              "      <td>412.750000</td>\n",
              "      <td>460.000000</td>\n",
              "      <td>565.416667</td>\n",
              "      <td>804.666667</td>\n",
              "      <td>2076.500000</td>\n",
              "    </tr>\n",
              "    <tr>\n",
              "      <th>HumidityRatio</th>\n",
              "      <td>20560.0</td>\n",
              "      <td>0.004228</td>\n",
              "      <td>0.000768</td>\n",
              "      <td>0.002674</td>\n",
              "      <td>0.003719</td>\n",
              "      <td>0.004292</td>\n",
              "      <td>0.004832</td>\n",
              "      <td>0.006476</td>\n",
              "    </tr>\n",
              "    <tr>\n",
              "      <th>Occupancy</th>\n",
              "      <td>20560.0</td>\n",
              "      <td>0.231031</td>\n",
              "      <td>0.421503</td>\n",
              "      <td>0.000000</td>\n",
              "      <td>0.000000</td>\n",
              "      <td>0.000000</td>\n",
              "      <td>0.000000</td>\n",
              "      <td>1.000000</td>\n",
              "    </tr>\n",
              "  </tbody>\n",
              "</table>\n",
              "</div>\n",
              "      <button class=\"colab-df-convert\" onclick=\"convertToInteractive('df-8c6ba6b7-a691-436a-a28b-b2f7052f4fc1')\"\n",
              "              title=\"Convert this dataframe to an interactive table.\"\n",
              "              style=\"display:none;\">\n",
              "        \n",
              "  <svg xmlns=\"http://www.w3.org/2000/svg\" height=\"24px\"viewBox=\"0 0 24 24\"\n",
              "       width=\"24px\">\n",
              "    <path d=\"M0 0h24v24H0V0z\" fill=\"none\"/>\n",
              "    <path d=\"M18.56 5.44l.94 2.06.94-2.06 2.06-.94-2.06-.94-.94-2.06-.94 2.06-2.06.94zm-11 1L8.5 8.5l.94-2.06 2.06-.94-2.06-.94L8.5 2.5l-.94 2.06-2.06.94zm10 10l.94 2.06.94-2.06 2.06-.94-2.06-.94-.94-2.06-.94 2.06-2.06.94z\"/><path d=\"M17.41 7.96l-1.37-1.37c-.4-.4-.92-.59-1.43-.59-.52 0-1.04.2-1.43.59L10.3 9.45l-7.72 7.72c-.78.78-.78 2.05 0 2.83L4 21.41c.39.39.9.59 1.41.59.51 0 1.02-.2 1.41-.59l7.78-7.78 2.81-2.81c.8-.78.8-2.07 0-2.86zM5.41 20L4 18.59l7.72-7.72 1.47 1.35L5.41 20z\"/>\n",
              "  </svg>\n",
              "      </button>\n",
              "      \n",
              "  <style>\n",
              "    .colab-df-container {\n",
              "      display:flex;\n",
              "      flex-wrap:wrap;\n",
              "      gap: 12px;\n",
              "    }\n",
              "\n",
              "    .colab-df-convert {\n",
              "      background-color: #E8F0FE;\n",
              "      border: none;\n",
              "      border-radius: 50%;\n",
              "      cursor: pointer;\n",
              "      display: none;\n",
              "      fill: #1967D2;\n",
              "      height: 32px;\n",
              "      padding: 0 0 0 0;\n",
              "      width: 32px;\n",
              "    }\n",
              "\n",
              "    .colab-df-convert:hover {\n",
              "      background-color: #E2EBFA;\n",
              "      box-shadow: 0px 1px 2px rgba(60, 64, 67, 0.3), 0px 1px 3px 1px rgba(60, 64, 67, 0.15);\n",
              "      fill: #174EA6;\n",
              "    }\n",
              "\n",
              "    [theme=dark] .colab-df-convert {\n",
              "      background-color: #3B4455;\n",
              "      fill: #D2E3FC;\n",
              "    }\n",
              "\n",
              "    [theme=dark] .colab-df-convert:hover {\n",
              "      background-color: #434B5C;\n",
              "      box-shadow: 0px 1px 3px 1px rgba(0, 0, 0, 0.15);\n",
              "      filter: drop-shadow(0px 1px 2px rgba(0, 0, 0, 0.3));\n",
              "      fill: #FFFFFF;\n",
              "    }\n",
              "  </style>\n",
              "\n",
              "      <script>\n",
              "        const buttonEl =\n",
              "          document.querySelector('#df-8c6ba6b7-a691-436a-a28b-b2f7052f4fc1 button.colab-df-convert');\n",
              "        buttonEl.style.display =\n",
              "          google.colab.kernel.accessAllowed ? 'block' : 'none';\n",
              "\n",
              "        async function convertToInteractive(key) {\n",
              "          const element = document.querySelector('#df-8c6ba6b7-a691-436a-a28b-b2f7052f4fc1');\n",
              "          const dataTable =\n",
              "            await google.colab.kernel.invokeFunction('convertToInteractive',\n",
              "                                                     [key], {});\n",
              "          if (!dataTable) return;\n",
              "\n",
              "          const docLinkHtml = 'Like what you see? Visit the ' +\n",
              "            '<a target=\"_blank\" href=https://colab.research.google.com/notebooks/data_table.ipynb>data table notebook</a>'\n",
              "            + ' to learn more about interactive tables.';\n",
              "          element.innerHTML = '';\n",
              "          dataTable['output_type'] = 'display_data';\n",
              "          await google.colab.output.renderOutput(dataTable, element);\n",
              "          const docLink = document.createElement('div');\n",
              "          docLink.innerHTML = docLinkHtml;\n",
              "          element.appendChild(docLink);\n",
              "        }\n",
              "      </script>\n",
              "    </div>\n",
              "  </div>\n",
              "  "
            ]
          },
          "metadata": {},
          "execution_count": 9
        }
      ],
      "source": [
        "dataset.describe().transpose()"
      ]
    },
    {
      "cell_type": "code",
      "execution_count": 10,
      "id": "df53b38c",
      "metadata": {
        "id": "df53b38c"
      },
      "outputs": [],
      "source": [
        "timestamp_s = dataset.index.map(pd.Timestamp.timestamp)\n",
        "# Lets include day periodicity, this way model gets access to most important frequency features\n",
        "day = 24 * 60 * 60\n",
        "\n",
        "dataset['Day Sin'] = np.sin(timestamp_s * (2 * np.pi/day))\n",
        "dataset['Day Cos'] = np.cos(timestamp_s * (2 * np.pi/day))"
      ]
    },
    {
      "cell_type": "code",
      "execution_count": 11,
      "id": "9ff93210",
      "metadata": {
        "colab": {
          "base_uri": "https://localhost:8080/",
          "height": 609
        },
        "id": "9ff93210",
        "outputId": "2798f08f-30d8-48b0-9787-0763c36f9430"
      },
      "outputs": [
        {
          "output_type": "execute_result",
          "data": {
            "text/plain": [
              "(-1027.95, 21586.95, -1.1, 1.1)"
            ]
          },
          "metadata": {},
          "execution_count": 11
        },
        {
          "output_type": "display_data",
          "data": {
            "text/plain": [
              "<Figure size 720x720 with 1 Axes>"
            ],
            "image/png": "[encoded data removed]"
          },
          "metadata": {
            "needs_background": "light"
          }
        }
      ],
      "source": [
        "plt.figure(figsize=(10,10))\n",
        "plt.plot(dataset['Day Sin'].to_numpy(), label='Day Sin')\n",
        "plt.plot(dataset['Day Cos'].to_numpy(), label='Day Cos')\n",
        "plt.legend()\n",
        "plt.axis()"
      ]
    },
    {
      "cell_type": "code",
      "execution_count": 12,
      "id": "4223e2e6",
      "metadata": {
        "colab": {
          "base_uri": "https://localhost:8080/",
          "height": 238
        },
        "id": "4223e2e6",
        "outputId": "8117e5ee-fad4-4ff8-e56b-0c2bb8840deb"
      },
      "outputs": [
        {
          "output_type": "execute_result",
          "data": {
            "text/plain": [
              "                     Temperature  Humidity       Light         CO2  \\\n",
              "date                                                                 \n",
              "2015-02-02 14:19:00      23.7000    26.272  585.200000  749.200000   \n",
              "2015-02-02 14:19:59      23.7180    26.290  578.400000  760.400000   \n",
              "2015-02-02 14:21:00      23.7300    26.230  572.666667  769.666667   \n",
              "2015-02-02 14:22:00      23.7225    26.125  493.750000  774.750000   \n",
              "2015-02-02 14:23:00      23.7540    26.200  488.600000  779.000000   \n",
              "\n",
              "                     HumidityRatio  Occupancy   Day Sin   Day Cos  \n",
              "date                                                               \n",
              "2015-02-02 14:19:00       0.004764          1 -0.569997 -0.821647  \n",
              "2015-02-02 14:19:59       0.004773          1 -0.573517 -0.819194  \n",
              "2015-02-02 14:21:00       0.004765          1 -0.577145 -0.816642  \n",
              "2015-02-02 14:22:00       0.004744          1 -0.580703 -0.814116  \n",
              "2015-02-02 14:23:00       0.004767          1 -0.584250 -0.811574  "
            ],
            "text/html": [
              "\n",
              "  <div id=\"df-ab9ba30e-a712-4045-8613-9eff25af250d\">\n",
              "    <div class=\"colab-df-container\">\n",
              "      <div>\n",
              "<style scoped>\n",
              "    .dataframe tbody tr th:only-of-type {\n",
              "        vertical-align: middle;\n",
              "    }\n",
              "\n",
              "    .dataframe tbody tr th {\n",
              "        vertical-align: top;\n",
              "    }\n",
              "\n",
              "    .dataframe thead th {\n",
              "        text-align: right;\n",
              "    }\n",
              "</style>\n",
              "<table border=\"1\" class=\"dataframe\">\n",
              "  <thead>\n",
              "    <tr style=\"text-align: right;\">\n",
              "      <th></th>\n",
              "      <th>Temperature</th>\n",
              "      <th>Humidity</th>\n",
              "      <th>Light</th>\n",
              "      <th>CO2</th>\n",
              "      <th>HumidityRatio</th>\n",
              "      <th>Occupancy</th>\n",
              "      <th>Day Sin</th>\n",
              "      <th>Day Cos</th>\n",
              "    </tr>\n",
              "    <tr>\n",
              "      <th>date</th>\n",
              "      <th></th>\n",
              "      <th></th>\n",
              "      <th></th>\n",
              "      <th></th>\n",
              "      <th></th>\n",
              "      <th></th>\n",
              "      <th></th>\n",
              "      <th></th>\n",
              "    </tr>\n",
              "  </thead>\n",
              "  <tbody>\n",
              "    <tr>\n",
              "      <th>2015-02-02 14:19:00</th>\n",
              "      <td>23.7000</td>\n",
              "      <td>26.272</td>\n",
              "      <td>585.200000</td>\n",
              "      <td>749.200000</td>\n",
              "      <td>0.004764</td>\n",
              "      <td>1</td>\n",
              "      <td>-0.569997</td>\n",
              "      <td>-0.821647</td>\n",
              "    </tr>\n",
              "    <tr>\n",
              "      <th>2015-02-02 14:19:59</th>\n",
              "      <td>23.7180</td>\n",
              "      <td>26.290</td>\n",
              "      <td>578.400000</td>\n",
              "      <td>760.400000</td>\n",
              "      <td>0.004773</td>\n",
              "      <td>1</td>\n",
              "      <td>-0.573517</td>\n",
              "      <td>-0.819194</td>\n",
              "    </tr>\n",
              "    <tr>\n",
              "      <th>2015-02-02 14:21:00</th>\n",
              "      <td>23.7300</td>\n",
              "      <td>26.230</td>\n",
              "      <td>572.666667</td>\n",
              "      <td>769.666667</td>\n",
              "      <td>0.004765</td>\n",
              "      <td>1</td>\n",
              "      <td>-0.577145</td>\n",
              "      <td>-0.816642</td>\n",
              "    </tr>\n",
              "    <tr>\n",
              "      <th>2015-02-02 14:22:00</th>\n",
              "      <td>23.7225</td>\n",
              "      <td>26.125</td>\n",
              "      <td>493.750000</td>\n",
              "      <td>774.750000</td>\n",
              "      <td>0.004744</td>\n",
              "      <td>1</td>\n",
              "      <td>-0.580703</td>\n",
              "      <td>-0.814116</td>\n",
              "    </tr>\n",
              "    <tr>\n",
              "      <th>2015-02-02 14:23:00</th>\n",
              "      <td>23.7540</td>\n",
              "      <td>26.200</td>\n",
              "      <td>488.600000</td>\n",
              "      <td>779.000000</td>\n",
              "      <td>0.004767</td>\n",
              "      <td>1</td>\n",
              "      <td>-0.584250</td>\n",
              "      <td>-0.811574</td>\n",
              "    </tr>\n",
              "  </tbody>\n",
              "</table>\n",
              "</div>\n",
              "      <button class=\"colab-df-convert\" onclick=\"convertToInteractive('df-ab9ba30e-a712-4045-8613-9eff25af250d')\"\n",
              "              title=\"Convert this dataframe to an interactive table.\"\n",
              "              style=\"display:none;\">\n",
              "        \n",
              "  <svg xmlns=\"http://www.w3.org/2000/svg\" height=\"24px\"viewBox=\"0 0 24 24\"\n",
              "       width=\"24px\">\n",
              "    <path d=\"M0 0h24v24H0V0z\" fill=\"none\"/>\n",
              "    <path d=\"M18.56 5.44l.94 2.06.94-2.06 2.06-.94-2.06-.94-.94-2.06-.94 2.06-2.06.94zm-11 1L8.5 8.5l.94-2.06 2.06-.94-2.06-.94L8.5 2.5l-.94 2.06-2.06.94zm10 10l.94 2.06.94-2.06 2.06-.94-2.06-.94-.94-2.06-.94 2.06-2.06.94z\"/><path d=\"M17.41 7.96l-1.37-1.37c-.4-.4-.92-.59-1.43-.59-.52 0-1.04.2-1.43.59L10.3 9.45l-7.72 7.72c-.78.78-.78 2.05 0 2.83L4 21.41c.39.39.9.59 1.41.59.51 0 1.02-.2 1.41-.59l7.78-7.78 2.81-2.81c.8-.78.8-2.07 0-2.86zM5.41 20L4 18.59l7.72-7.72 1.47 1.35L5.41 20z\"/>\n",
              "  </svg>\n",
              "      </button>\n",
              "      \n",
              "  <style>\n",
              "    .colab-df-container {\n",
              "      display:flex;\n",
              "      flex-wrap:wrap;\n",
              "      gap: 12px;\n",
              "    }\n",
              "\n",
              "    .colab-df-convert {\n",
              "      background-color: #E8F0FE;\n",
              "      border: none;\n",
              "      border-radius: 50%;\n",
              "      cursor: pointer;\n",
              "      display: none;\n",
              "      fill: #1967D2;\n",
              "      height: 32px;\n",
              "      padding: 0 0 0 0;\n",
              "      width: 32px;\n",
              "    }\n",
              "\n",
              "    .colab-df-convert:hover {\n",
              "      background-color: #E2EBFA;\n",
              "      box-shadow: 0px 1px 2px rgba(60, 64, 67, 0.3), 0px 1px 3px 1px rgba(60, 64, 67, 0.15);\n",
              "      fill: #174EA6;\n",
              "    }\n",
              "\n",
              "    [theme=dark] .colab-df-convert {\n",
              "      background-color: #3B4455;\n",
              "      fill: #D2E3FC;\n",
              "    }\n",
              "\n",
              "    [theme=dark] .colab-df-convert:hover {\n",
              "      background-color: #434B5C;\n",
              "      box-shadow: 0px 1px 3px 1px rgba(0, 0, 0, 0.15);\n",
              "      filter: drop-shadow(0px 1px 2px rgba(0, 0, 0, 0.3));\n",
              "      fill: #FFFFFF;\n",
              "    }\n",
              "  </style>\n",
              "\n",
              "      <script>\n",
              "        const buttonEl =\n",
              "          document.querySelector('#df-ab9ba30e-a712-4045-8613-9eff25af250d button.colab-df-convert');\n",
              "        buttonEl.style.display =\n",
              "          google.colab.kernel.accessAllowed ? 'block' : 'none';\n",
              "\n",
              "        async function convertToInteractive(key) {\n",
              "          const element = document.querySelector('#df-ab9ba30e-a712-4045-8613-9eff25af250d');\n",
              "          const dataTable =\n",
              "            await google.colab.kernel.invokeFunction('convertToInteractive',\n",
              "                                                     [key], {});\n",
              "          if (!dataTable) return;\n",
              "\n",
              "          const docLinkHtml = 'Like what you see? Visit the ' +\n",
              "            '<a target=\"_blank\" href=https://colab.research.google.com/notebooks/data_table.ipynb>data table notebook</a>'\n",
              "            + ' to learn more about interactive tables.';\n",
              "          element.innerHTML = '';\n",
              "          dataTable['output_type'] = 'display_data';\n",
              "          await google.colab.output.renderOutput(dataTable, element);\n",
              "          const docLink = document.createElement('div');\n",
              "          docLink.innerHTML = docLinkHtml;\n",
              "          element.appendChild(docLink);\n",
              "        }\n",
              "      </script>\n",
              "    </div>\n",
              "  </div>\n",
              "  "
            ]
          },
          "metadata": {},
          "execution_count": 12
        }
      ],
      "source": [
        "dataset.head()"
      ]
    },
    {
      "cell_type": "code",
      "execution_count": 13,
      "id": "27aa613c",
      "metadata": {
        "colab": {
          "base_uri": "https://localhost:8080/",
          "height": 206
        },
        "id": "27aa613c",
        "outputId": "bd9533b3-57b9-4c46-ff5d-46e171a5e119"
      },
      "outputs": [
        {
          "output_type": "execute_result",
          "data": {
            "text/plain": [
              "               Total  percentage\n",
              "Temperature        0         0.0\n",
              "Humidity           0         0.0\n",
              "Light              0         0.0\n",
              "CO2                0         0.0\n",
              "HumidityRatio      0         0.0"
            ],
            "text/html": [
              "\n",
              "  <div id=\"df-bcd48c8c-dafc-42d2-b5e2-33b155479b14\">\n",
              "    <div class=\"colab-df-container\">\n",
              "      <div>\n",
              "<style scoped>\n",
              "    .dataframe tbody tr th:only-of-type {\n",
              "        vertical-align: middle;\n",
              "    }\n",
              "\n",
              "    .dataframe tbody tr th {\n",
              "        vertical-align: top;\n",
              "    }\n",
              "\n",
              "    .dataframe thead th {\n",
              "        text-align: right;\n",
              "    }\n",
              "</style>\n",
              "<table border=\"1\" class=\"dataframe\">\n",
              "  <thead>\n",
              "    <tr style=\"text-align: right;\">\n",
              "      <th></th>\n",
              "      <th>Total</th>\n",
              "      <th>percentage</th>\n",
              "    </tr>\n",
              "  </thead>\n",
              "  <tbody>\n",
              "    <tr>\n",
              "      <th>Temperature</th>\n",
              "      <td>0</td>\n",
              "      <td>0.0</td>\n",
              "    </tr>\n",
              "    <tr>\n",
              "      <th>Humidity</th>\n",
              "      <td>0</td>\n",
              "      <td>0.0</td>\n",
              "    </tr>\n",
              "    <tr>\n",
              "      <th>Light</th>\n",
              "      <td>0</td>\n",
              "      <td>0.0</td>\n",
              "    </tr>\n",
              "    <tr>\n",
              "      <th>CO2</th>\n",
              "      <td>0</td>\n",
              "      <td>0.0</td>\n",
              "    </tr>\n",
              "    <tr>\n",
              "      <th>HumidityRatio</th>\n",
              "      <td>0</td>\n",
              "      <td>0.0</td>\n",
              "    </tr>\n",
              "  </tbody>\n",
              "</table>\n",
              "</div>\n",
              "      <button class=\"colab-df-convert\" onclick=\"convertToInteractive('df-bcd48c8c-dafc-42d2-b5e2-33b155479b14')\"\n",
              "              title=\"Convert this dataframe to an interactive table.\"\n",
              "              style=\"display:none;\">\n",
              "        \n",
              "  <svg xmlns=\"http://www.w3.org/2000/svg\" height=\"24px\"viewBox=\"0 0 24 24\"\n",
              "       width=\"24px\">\n",
              "    <path d=\"M0 0h24v24H0V0z\" fill=\"none\"/>\n",
              "    <path d=\"M18.56 5.44l.94 2.06.94-2.06 2.06-.94-2.06-.94-.94-2.06-.94 2.06-2.06.94zm-11 1L8.5 8.5l.94-2.06 2.06-.94-2.06-.94L8.5 2.5l-.94 2.06-2.06.94zm10 10l.94 2.06.94-2.06 2.06-.94-2.06-.94-.94-2.06-.94 2.06-2.06.94z\"/><path d=\"M17.41 7.96l-1.37-1.37c-.4-.4-.92-.59-1.43-.59-.52 0-1.04.2-1.43.59L10.3 9.45l-7.72 7.72c-.78.78-.78 2.05 0 2.83L4 21.41c.39.39.9.59 1.41.59.51 0 1.02-.2 1.41-.59l7.78-7.78 2.81-2.81c.8-.78.8-2.07 0-2.86zM5.41 20L4 18.59l7.72-7.72 1.47 1.35L5.41 20z\"/>\n",
              "  </svg>\n",
              "      </button>\n",
              "      \n",
              "  <style>\n",
              "    .colab-df-container {\n",
              "      display:flex;\n",
              "      flex-wrap:wrap;\n",
              "      gap: 12px;\n",
              "    }\n",
              "\n",
              "    .colab-df-convert {\n",
              "      background-color: #E8F0FE;\n",
              "      border: none;\n",
              "      border-radius: 50%;\n",
              "      cursor: pointer;\n",
              "      display: none;\n",
              "      fill: #1967D2;\n",
              "      height: 32px;\n",
              "      padding: 0 0 0 0;\n",
              "      width: 32px;\n",
              "    }\n",
              "\n",
              "    .colab-df-convert:hover {\n",
              "      background-color: #E2EBFA;\n",
              "      box-shadow: 0px 1px 2px rgba(60, 64, 67, 0.3), 0px 1px 3px 1px rgba(60, 64, 67, 0.15);\n",
              "      fill: #174EA6;\n",
              "    }\n",
              "\n",
              "    [theme=dark] .colab-df-convert {\n",
              "      background-color: #3B4455;\n",
              "      fill: #D2E3FC;\n",
              "    }\n",
              "\n",
              "    [theme=dark] .colab-df-convert:hover {\n",
              "      background-color: #434B5C;\n",
              "      box-shadow: 0px 1px 3px 1px rgba(0, 0, 0, 0.15);\n",
              "      filter: drop-shadow(0px 1px 2px rgba(0, 0, 0, 0.3));\n",
              "      fill: #FFFFFF;\n",
              "    }\n",
              "  </style>\n",
              "\n",
              "      <script>\n",
              "        const buttonEl =\n",
              "          document.querySelector('#df-bcd48c8c-dafc-42d2-b5e2-33b155479b14 button.colab-df-convert');\n",
              "        buttonEl.style.display =\n",
              "          google.colab.kernel.accessAllowed ? 'block' : 'none';\n",
              "\n",
              "        async function convertToInteractive(key) {\n",
              "          const element = document.querySelector('#df-bcd48c8c-dafc-42d2-b5e2-33b155479b14');\n",
              "          const dataTable =\n",
              "            await google.colab.kernel.invokeFunction('convertToInteractive',\n",
              "                                                     [key], {});\n",
              "          if (!dataTable) return;\n",
              "\n",
              "          const docLinkHtml = 'Like what you see? Visit the ' +\n",
              "            '<a target=\"_blank\" href=https://colab.research.google.com/notebooks/data_table.ipynb>data table notebook</a>'\n",
              "            + ' to learn more about interactive tables.';\n",
              "          element.innerHTML = '';\n",
              "          dataTable['output_type'] = 'display_data';\n",
              "          await google.colab.output.renderOutput(dataTable, element);\n",
              "          const docLink = document.createElement('div');\n",
              "          docLink.innerHTML = docLinkHtml;\n",
              "          element.appendChild(docLink);\n",
              "        }\n",
              "      </script>\n",
              "    </div>\n",
              "  </div>\n",
              "  "
            ]
          },
          "metadata": {},
          "execution_count": 13
        }
      ],
      "source": [
        "# Lets check the NULL Values first\n",
        "\n",
        "null = pd.DataFrame(dataset.isnull().sum()).rename(columns={0:\"Total\"})\n",
        "null['percentage'] = null['Total'] / len(dataset)\n",
        "null.sort_values('percentage',ascending=False).head()"
      ]
    },
    {
      "cell_type": "code",
      "execution_count": 14,
      "id": "746d4bd2",
      "metadata": {
        "colab": {
          "base_uri": "https://localhost:8080/"
        },
        "id": "746d4bd2",
        "outputId": "dad5b62f-2ab3-46c5-c66e-d1b26fad051c"
      },
      "outputs": [
        {
          "output_type": "stream",
          "name": "stdout",
          "text": [
            "<class 'pandas.core.frame.DataFrame'>\n",
            "DatetimeIndex: 20560 entries, 2015-02-02 14:19:00 to 2015-02-18 09:19:00\n",
            "Data columns (total 8 columns):\n",
            " #   Column         Non-Null Count  Dtype  \n",
            "---  ------         --------------  -----  \n",
            " 0   Temperature    20560 non-null  float64\n",
            " 1   Humidity       20560 non-null  float64\n",
            " 2   Light          20560 non-null  float64\n",
            " 3   CO2            20560 non-null  float64\n",
            " 4   HumidityRatio  20560 non-null  float64\n",
            " 5   Occupancy      20560 non-null  int64  \n",
            " 6   Day Sin        20560 non-null  float64\n",
            " 7   Day Cos        20560 non-null  float64\n",
            "dtypes: float64(7), int64(1)\n",
            "memory usage: 1.4 MB\n"
          ]
        }
      ],
      "source": [
        "dataset.info()"
      ]
    },
    {
      "cell_type": "code",
      "execution_count": 15,
      "id": "856bf638",
      "metadata": {
        "colab": {
          "base_uri": "https://localhost:8080/",
          "height": 797
        },
        "id": "856bf638",
        "outputId": "4fbc23f2-a0b9-473b-82e5-8f168bde0cef"
      },
      "outputs": [
        {
          "output_type": "display_data",
          "data": {
            "text/plain": [
              "<Figure size 1440x1440 with 7 Axes>"
            ],
            "image/png": "[encoded data removed]"
          },
          "metadata": {
            "needs_background": "light"
          }
        }
      ],
      "source": [
        "plt.figure(figsize=(20, 20))\n",
        "for idx, col in enumerate(dataset.select_dtypes('float')):\n",
        "    plt.subplot(len(dataset.columns), 1, idx+1)\n",
        "    plt.plot(dataset[col], label=col)\n",
        "    plt.legend()    \n",
        "plt.subplots_adjust(hspace=0.3, wspace=0.5)"
      ]
    },
    {
      "cell_type": "code",
      "execution_count": 16,
      "id": "02556c5c",
      "metadata": {
        "colab": {
          "base_uri": "https://localhost:8080/",
          "height": 279
        },
        "id": "02556c5c",
        "outputId": "c8097ef3-52e8-4696-898c-4142672f1eb2"
      },
      "outputs": [
        {
          "output_type": "execute_result",
          "data": {
            "text/plain": [
              "<matplotlib.axes._subplots.AxesSubplot at 0x7fe2faca7590>"
            ]
          },
          "metadata": {},
          "execution_count": 16
        },
        {
          "output_type": "display_data",
          "data": {
            "text/plain": [
              "<Figure size 432x288 with 1 Axes>"
            ],
            "image/png": "[encoded data removed]"
          },
          "metadata": {
            "needs_background": "light"
          }
        }
      ],
      "source": [
        "dataset.Occupancy.value_counts().plot(kind='bar')"
      ]
    },
    {
      "cell_type": "code",
      "execution_count": 17,
      "id": "35614cb4",
      "metadata": {
        "id": "35614cb4"
      },
      "outputs": [],
      "source": [
        "negatives, positives = np.bincount(dataset.Occupancy)\n",
        "total = negatives + positives  # We will use it to create bias intitalizers"
      ]
    },
    {
      "cell_type": "code",
      "execution_count": 18,
      "id": "38075569",
      "metadata": {
        "id": "38075569"
      },
      "outputs": [],
      "source": [
        "train = dataset[ : int(len(dataset) * 0.7)]\n",
        "val = dataset[int(len(dataset) * 0.7) : int(len(dataset) * 0.9)]\n",
        "test = dataset[int(len(dataset) * 0.9):]"
      ]
    },
    {
      "cell_type": "code",
      "execution_count": 19,
      "id": "8df28028",
      "metadata": {
        "colab": {
          "base_uri": "https://localhost:8080/"
        },
        "id": "8df28028",
        "outputId": "722039cc-3864-43f8-ef1a-9fbbf2ab8a67"
      },
      "outputs": [
        {
          "output_type": "execute_result",
          "data": {
            "text/plain": [
              "(14391, 8)"
            ]
          },
          "metadata": {},
          "execution_count": 19
        }
      ],
      "source": [
        "train.shape"
      ]
    },
    {
      "cell_type": "code",
      "execution_count": 20,
      "id": "9fd97e82",
      "metadata": {
        "id": "9fd97e82"
      },
      "outputs": [],
      "source": [
        "train_label = train.Occupancy\n",
        "train_data = train.drop(['Occupancy'], axis=1)\n",
        "\n",
        "val_label = val.Occupancy\n",
        "val_data = val.drop(['Occupancy'], axis=1)\n",
        "\n",
        "test_data = test.drop(['Occupancy'], axis=1)\n",
        "test_label = test.Occupancy\n"
      ]
    },
    {
      "cell_type": "code",
      "execution_count": 21,
      "id": "4e3ba194",
      "metadata": {
        "colab": {
          "base_uri": "https://localhost:8080/",
          "height": 238
        },
        "id": "4e3ba194",
        "outputId": "4b4519b6-de10-4595-8fe3-11d289043fb9"
      },
      "outputs": [
        {
          "output_type": "execute_result",
          "data": {
            "text/plain": [
              "                     Temperature  Humidity       Light         CO2  \\\n",
              "date                                                                 \n",
              "2015-02-02 14:19:00      23.7000    26.272  585.200000  749.200000   \n",
              "2015-02-02 14:19:59      23.7180    26.290  578.400000  760.400000   \n",
              "2015-02-02 14:21:00      23.7300    26.230  572.666667  769.666667   \n",
              "2015-02-02 14:22:00      23.7225    26.125  493.750000  774.750000   \n",
              "2015-02-02 14:23:00      23.7540    26.200  488.600000  779.000000   \n",
              "\n",
              "                     HumidityRatio   Day Sin   Day Cos  \n",
              "date                                                    \n",
              "2015-02-02 14:19:00       0.004764 -0.569997 -0.821647  \n",
              "2015-02-02 14:19:59       0.004773 -0.573517 -0.819194  \n",
              "2015-02-02 14:21:00       0.004765 -0.577145 -0.816642  \n",
              "2015-02-02 14:22:00       0.004744 -0.580703 -0.814116  \n",
              "2015-02-02 14:23:00       0.004767 -0.584250 -0.811574  "
            ],
            "text/html": [
              "\n",
              "  <div id=\"df-6f35440f-7473-4a99-9b56-4c35f358629f\">\n",
              "    <div class=\"colab-df-container\">\n",
              "      <div>\n",
              "<style scoped>\n",
              "    .dataframe tbody tr th:only-of-type {\n",
              "        vertical-align: middle;\n",
              "    }\n",
              "\n",
              "    .dataframe tbody tr th {\n",
              "        vertical-align: top;\n",
              "    }\n",
              "\n",
              "    .dataframe thead th {\n",
              "        text-align: right;\n",
              "    }\n",
              "</style>\n",
              "<table border=\"1\" class=\"dataframe\">\n",
              "  <thead>\n",
              "    <tr style=\"text-align: right;\">\n",
              "      <th></th>\n",
              "      <th>Temperature</th>\n",
              "      <th>Humidity</th>\n",
              "      <th>Light</th>\n",
              "      <th>CO2</th>\n",
              "      <th>HumidityRatio</th>\n",
              "      <th>Day Sin</th>\n",
              "      <th>Day Cos</th>\n",
              "    </tr>\n",
              "    <tr>\n",
              "      <th>date</th>\n",
              "      <th></th>\n",
              "      <th></th>\n",
              "      <th></th>\n",
              "      <th></th>\n",
              "      <th></th>\n",
              "      <th></th>\n",
              "      <th></th>\n",
              "    </tr>\n",
              "  </thead>\n",
              "  <tbody>\n",
              "    <tr>\n",
              "      <th>2015-02-02 14:19:00</th>\n",
              "      <td>23.7000</td>\n",
              "      <td>26.272</td>\n",
              "      <td>585.200000</td>\n",
              "      <td>749.200000</td>\n",
              "      <td>0.004764</td>\n",
              "      <td>-0.569997</td>\n",
              "      <td>-0.821647</td>\n",
              "    </tr>\n",
              "    <tr>\n",
              "      <th>2015-02-02 14:19:59</th>\n",
              "      <td>23.7180</td>\n",
              "      <td>26.290</td>\n",
              "      <td>578.400000</td>\n",
              "      <td>760.400000</td>\n",
              "      <td>0.004773</td>\n",
              "      <td>-0.573517</td>\n",
              "      <td>-0.819194</td>\n",
              "    </tr>\n",
              "    <tr>\n",
              "      <th>2015-02-02 14:21:00</th>\n",
              "      <td>23.7300</td>\n",
              "      <td>26.230</td>\n",
              "      <td>572.666667</td>\n",
              "      <td>769.666667</td>\n",
              "      <td>0.004765</td>\n",
              "      <td>-0.577145</td>\n",
              "      <td>-0.816642</td>\n",
              "    </tr>\n",
              "    <tr>\n",
              "      <th>2015-02-02 14:22:00</th>\n",
              "      <td>23.7225</td>\n",
              "      <td>26.125</td>\n",
              "      <td>493.750000</td>\n",
              "      <td>774.750000</td>\n",
              "      <td>0.004744</td>\n",
              "      <td>-0.580703</td>\n",
              "      <td>-0.814116</td>\n",
              "    </tr>\n",
              "    <tr>\n",
              "      <th>2015-02-02 14:23:00</th>\n",
              "      <td>23.7540</td>\n",
              "      <td>26.200</td>\n",
              "      <td>488.600000</td>\n",
              "      <td>779.000000</td>\n",
              "      <td>0.004767</td>\n",
              "      <td>-0.584250</td>\n",
              "      <td>-0.811574</td>\n",
              "    </tr>\n",
              "  </tbody>\n",
              "</table>\n",
              "</div>\n",
              "      <button class=\"colab-df-convert\" onclick=\"convertToInteractive('df-6f35440f-7473-4a99-9b56-4c35f358629f')\"\n",
              "              title=\"Convert this dataframe to an interactive table.\"\n",
              "              style=\"display:none;\">\n",
              "        \n",
              "  <svg xmlns=\"http://www.w3.org/2000/svg\" height=\"24px\"viewBox=\"0 0 24 24\"\n",
              "       width=\"24px\">\n",
              "    <path d=\"M0 0h24v24H0V0z\" fill=\"none\"/>\n",
              "    <path d=\"M18.56 5.44l.94 2.06.94-2.06 2.06-.94-2.06-.94-.94-2.06-.94 2.06-2.06.94zm-11 1L8.5 8.5l.94-2.06 2.06-.94-2.06-.94L8.5 2.5l-.94 2.06-2.06.94zm10 10l.94 2.06.94-2.06 2.06-.94-2.06-.94-.94-2.06-.94 2.06-2.06.94z\"/><path d=\"M17.41 7.96l-1.37-1.37c-.4-.4-.92-.59-1.43-.59-.52 0-1.04.2-1.43.59L10.3 9.45l-7.72 7.72c-.78.78-.78 2.05 0 2.83L4 21.41c.39.39.9.59 1.41.59.51 0 1.02-.2 1.41-.59l7.78-7.78 2.81-2.81c.8-.78.8-2.07 0-2.86zM5.41 20L4 18.59l7.72-7.72 1.47 1.35L5.41 20z\"/>\n",
              "  </svg>\n",
              "      </button>\n",
              "      \n",
              "  <style>\n",
              "    .colab-df-container {\n",
              "      display:flex;\n",
              "      flex-wrap:wrap;\n",
              "      gap: 12px;\n",
              "    }\n",
              "\n",
              "    .colab-df-convert {\n",
              "      background-color: #E8F0FE;\n",
              "      border: none;\n",
              "      border-radius: 50%;\n",
              "      cursor: pointer;\n",
              "      display: none;\n",
              "      fill: #1967D2;\n",
              "      height: 32px;\n",
              "      padding: 0 0 0 0;\n",
              "      width: 32px;\n",
              "    }\n",
              "\n",
              "    .colab-df-convert:hover {\n",
              "      background-color: #E2EBFA;\n",
              "      box-shadow: 0px 1px 2px rgba(60, 64, 67, 0.3), 0px 1px 3px 1px rgba(60, 64, 67, 0.15);\n",
              "      fill: #174EA6;\n",
              "    }\n",
              "\n",
              "    [theme=dark] .colab-df-convert {\n",
              "      background-color: #3B4455;\n",
              "      fill: #D2E3FC;\n",
              "    }\n",
              "\n",
              "    [theme=dark] .colab-df-convert:hover {\n",
              "      background-color: #434B5C;\n",
              "      box-shadow: 0px 1px 3px 1px rgba(0, 0, 0, 0.15);\n",
              "      filter: drop-shadow(0px 1px 2px rgba(0, 0, 0, 0.3));\n",
              "      fill: #FFFFFF;\n",
              "    }\n",
              "  </style>\n",
              "\n",
              "      <script>\n",
              "        const buttonEl =\n",
              "          document.querySelector('#df-6f35440f-7473-4a99-9b56-4c35f358629f button.colab-df-convert');\n",
              "        buttonEl.style.display =\n",
              "          google.colab.kernel.accessAllowed ? 'block' : 'none';\n",
              "\n",
              "        async function convertToInteractive(key) {\n",
              "          const element = document.querySelector('#df-6f35440f-7473-4a99-9b56-4c35f358629f');\n",
              "          const dataTable =\n",
              "            await google.colab.kernel.invokeFunction('convertToInteractive',\n",
              "                                                     [key], {});\n",
              "          if (!dataTable) return;\n",
              "\n",
              "          const docLinkHtml = 'Like what you see? Visit the ' +\n",
              "            '<a target=\"_blank\" href=https://colab.research.google.com/notebooks/data_table.ipynb>data table notebook</a>'\n",
              "            + ' to learn more about interactive tables.';\n",
              "          element.innerHTML = '';\n",
              "          dataTable['output_type'] = 'display_data';\n",
              "          await google.colab.output.renderOutput(dataTable, element);\n",
              "          const docLink = document.createElement('div');\n",
              "          docLink.innerHTML = docLinkHtml;\n",
              "          element.appendChild(docLink);\n",
              "        }\n",
              "      </script>\n",
              "    </div>\n",
              "  </div>\n",
              "  "
            ]
          },
          "metadata": {},
          "execution_count": 21
        }
      ],
      "source": [
        "train_data.head()"
      ]
    },
    {
      "cell_type": "code",
      "execution_count": 22,
      "id": "48e4711b",
      "metadata": {
        "id": "48e4711b"
      },
      "outputs": [],
      "source": [
        "mean = train_data.mean()\n",
        "std = train_data.std() + 1e-12\n",
        "\n",
        "train_data = (train_data - mean) / std\n",
        "val_data = (val_data - mean) / std\n",
        "test_data = (test_data - mean) / std"
      ]
    },
    {
      "cell_type": "code",
      "source": [
        "test_data.head()"
      ],
      "metadata": {
        "colab": {
          "base_uri": "https://localhost:8080/",
          "height": 238
        },
        "id": "scAP_uDhRNmH",
        "outputId": "e23fab9b-880a-4bc8-84ef-9eb5a6940548"
      },
      "id": "scAP_uDhRNmH",
      "execution_count": 23,
      "outputs": [
        {
          "output_type": "execute_result",
          "data": {
            "text/plain": [
              "                     Temperature  Humidity     Light       CO2  HumidityRatio  \\\n",
              "date                                                                            \n",
              "2015-02-16 23:04:00    -0.612816  0.935607 -0.649743  0.320997       0.616394   \n",
              "2015-02-16 23:05:00    -0.651990  0.924863 -0.649743  0.322794       0.590135   \n",
              "2015-02-16 23:06:00    -0.691165  0.935607 -0.649743  0.328187       0.583417   \n",
              "2015-02-16 23:06:59    -0.612816  0.959244 -0.649743  0.313806       0.637907   \n",
              "2015-02-16 23:08:00    -0.691165  0.935607 -0.649743  0.322195       0.583417   \n",
              "\n",
              "                      Day Sin   Day Cos  \n",
              "date                                     \n",
              "2015-02-16 23:04:00 -0.324065  1.305729  \n",
              "2015-02-16 23:05:00 -0.318136  1.307229  \n",
              "2015-02-16 23:06:00 -0.312200  1.308704  \n",
              "2015-02-16 23:06:59 -0.306357  1.310128  \n",
              "2015-02-16 23:08:00 -0.300310  1.311573  "
            ],
            "text/html": [
              "\n",
              "  <div id=\"df-e3d50b7d-454f-4863-95ab-543592dd496b\">\n",
              "    <div class=\"colab-df-container\">\n",
              "      <div>\n",
              "<style scoped>\n",
              "    .dataframe tbody tr th:only-of-type {\n",
              "        vertical-align: middle;\n",
              "    }\n",
              "\n",
              "    .dataframe tbody tr th {\n",
              "        vertical-align: top;\n",
              "    }\n",
              "\n",
              "    .dataframe thead th {\n",
              "        text-align: right;\n",
              "    }\n",
              "</style>\n",
              "<table border=\"1\" class=\"dataframe\">\n",
              "  <thead>\n",
              "    <tr style=\"text-align: right;\">\n",
              "      <th></th>\n",
              "      <th>Temperature</th>\n",
              "      <th>Humidity</th>\n",
              "      <th>Light</th>\n",
              "      <th>CO2</th>\n",
              "      <th>HumidityRatio</th>\n",
              "      <th>Day Sin</th>\n",
              "      <th>Day Cos</th>\n",
              "    </tr>\n",
              "    <tr>\n",
              "      <th>date</th>\n",
              "      <th></th>\n",
              "      <th></th>\n",
              "      <th></th>\n",
              "      <th></th>\n",
              "      <th></th>\n",
              "      <th></th>\n",
              "      <th></th>\n",
              "    </tr>\n",
              "  </thead>\n",
              "  <tbody>\n",
              "    <tr>\n",
              "      <th>2015-02-16 23:04:00</th>\n",
              "      <td>-0.612816</td>\n",
              "      <td>0.935607</td>\n",
              "      <td>-0.649743</td>\n",
              "      <td>0.320997</td>\n",
              "      <td>0.616394</td>\n",
              "      <td>-0.324065</td>\n",
              "      <td>1.305729</td>\n",
              "    </tr>\n",
              "    <tr>\n",
              "      <th>2015-02-16 23:05:00</th>\n",
              "      <td>-0.651990</td>\n",
              "      <td>0.924863</td>\n",
              "      <td>-0.649743</td>\n",
              "      <td>0.322794</td>\n",
              "      <td>0.590135</td>\n",
              "      <td>-0.318136</td>\n",
              "      <td>1.307229</td>\n",
              "    </tr>\n",
              "    <tr>\n",
              "      <th>2015-02-16 23:06:00</th>\n",
              "      <td>-0.691165</td>\n",
              "      <td>0.935607</td>\n",
              "      <td>-0.649743</td>\n",
              "      <td>0.328187</td>\n",
              "      <td>0.583417</td>\n",
              "      <td>-0.312200</td>\n",
              "      <td>1.308704</td>\n",
              "    </tr>\n",
              "    <tr>\n",
              "      <th>2015-02-16 23:06:59</th>\n",
              "      <td>-0.612816</td>\n",
              "      <td>0.959244</td>\n",
              "      <td>-0.649743</td>\n",
              "      <td>0.313806</td>\n",
              "      <td>0.637907</td>\n",
              "      <td>-0.306357</td>\n",
              "      <td>1.310128</td>\n",
              "    </tr>\n",
              "    <tr>\n",
              "      <th>2015-02-16 23:08:00</th>\n",
              "      <td>-0.691165</td>\n",
              "      <td>0.935607</td>\n",
              "      <td>-0.649743</td>\n",
              "      <td>0.322195</td>\n",
              "      <td>0.583417</td>\n",
              "      <td>-0.300310</td>\n",
              "      <td>1.311573</td>\n",
              "    </tr>\n",
              "  </tbody>\n",
              "</table>\n",
              "</div>\n",
              "      <button class=\"colab-df-convert\" onclick=\"convertToInteractive('df-e3d50b7d-454f-4863-95ab-543592dd496b')\"\n",
              "              title=\"Convert this dataframe to an interactive table.\"\n",
              "              style=\"display:none;\">\n",
              "        \n",
              "  <svg xmlns=\"http://www.w3.org/2000/svg\" height=\"24px\"viewBox=\"0 0 24 24\"\n",
              "       width=\"24px\">\n",
              "    <path d=\"M0 0h24v24H0V0z\" fill=\"none\"/>\n",
              "    <path d=\"M18.56 5.44l.94 2.06.94-2.06 2.06-.94-2.06-.94-.94-2.06-.94 2.06-2.06.94zm-11 1L8.5 8.5l.94-2.06 2.06-.94-2.06-.94L8.5 2.5l-.94 2.06-2.06.94zm10 10l.94 2.06.94-2.06 2.06-.94-2.06-.94-.94-2.06-.94 2.06-2.06.94z\"/><path d=\"M17.41 7.96l-1.37-1.37c-.4-.4-.92-.59-1.43-.59-.52 0-1.04.2-1.43.59L10.3 9.45l-7.72 7.72c-.78.78-.78 2.05 0 2.83L4 21.41c.39.39.9.59 1.41.59.51 0 1.02-.2 1.41-.59l7.78-7.78 2.81-2.81c.8-.78.8-2.07 0-2.86zM5.41 20L4 18.59l7.72-7.72 1.47 1.35L5.41 20z\"/>\n",
              "  </svg>\n",
              "      </button>\n",
              "      \n",
              "  <style>\n",
              "    .colab-df-container {\n",
              "      display:flex;\n",
              "      flex-wrap:wrap;\n",
              "      gap: 12px;\n",
              "    }\n",
              "\n",
              "    .colab-df-convert {\n",
              "      background-color: #E8F0FE;\n",
              "      border: none;\n",
              "      border-radius: 50%;\n",
              "      cursor: pointer;\n",
              "      display: none;\n",
              "      fill: #1967D2;\n",
              "      height: 32px;\n",
              "      padding: 0 0 0 0;\n",
              "      width: 32px;\n",
              "    }\n",
              "\n",
              "    .colab-df-convert:hover {\n",
              "      background-color: #E2EBFA;\n",
              "      box-shadow: 0px 1px 2px rgba(60, 64, 67, 0.3), 0px 1px 3px 1px rgba(60, 64, 67, 0.15);\n",
              "      fill: #174EA6;\n",
              "    }\n",
              "\n",
              "    [theme=dark] .colab-df-convert {\n",
              "      background-color: #3B4455;\n",
              "      fill: #D2E3FC;\n",
              "    }\n",
              "\n",
              "    [theme=dark] .colab-df-convert:hover {\n",
              "      background-color: #434B5C;\n",
              "      box-shadow: 0px 1px 3px 1px rgba(0, 0, 0, 0.15);\n",
              "      filter: drop-shadow(0px 1px 2px rgba(0, 0, 0, 0.3));\n",
              "      fill: #FFFFFF;\n",
              "    }\n",
              "  </style>\n",
              "\n",
              "      <script>\n",
              "        const buttonEl =\n",
              "          document.querySelector('#df-e3d50b7d-454f-4863-95ab-543592dd496b button.colab-df-convert');\n",
              "        buttonEl.style.display =\n",
              "          google.colab.kernel.accessAllowed ? 'block' : 'none';\n",
              "\n",
              "        async function convertToInteractive(key) {\n",
              "          const element = document.querySelector('#df-e3d50b7d-454f-4863-95ab-543592dd496b');\n",
              "          const dataTable =\n",
              "            await google.colab.kernel.invokeFunction('convertToInteractive',\n",
              "                                                     [key], {});\n",
              "          if (!dataTable) return;\n",
              "\n",
              "          const docLinkHtml = 'Like what you see? Visit the ' +\n",
              "            '<a target=\"_blank\" href=https://colab.research.google.com/notebooks/data_table.ipynb>data table notebook</a>'\n",
              "            + ' to learn more about interactive tables.';\n",
              "          element.innerHTML = '';\n",
              "          dataTable['output_type'] = 'display_data';\n",
              "          await google.colab.output.renderOutput(dataTable, element);\n",
              "          const docLink = document.createElement('div');\n",
              "          docLink.innerHTML = docLinkHtml;\n",
              "          element.appendChild(docLink);\n",
              "        }\n",
              "      </script>\n",
              "    </div>\n",
              "  </div>\n",
              "  "
            ]
          },
          "metadata": {},
          "execution_count": 23
        }
      ]
    },
    {
      "cell_type": "code",
      "execution_count": 24,
      "id": "d928420a",
      "metadata": {
        "colab": {
          "base_uri": "https://localhost:8080/",
          "height": 238
        },
        "id": "d928420a",
        "outputId": "47d494bd-084a-4c3f-97e0-a20a326c1a1d"
      },
      "outputs": [
        {
          "output_type": "execute_result",
          "data": {
            "text/plain": [
              "                     Temperature  Humidity     Light       CO2  HumidityRatio  \\\n",
              "date                                                                            \n",
              "2015-02-02 14:19:00     2.355756  0.050724  1.970081  0.440360       0.999288   \n",
              "2015-02-02 14:19:59     2.371426  0.054592  1.939639  0.480627       1.010496   \n",
              "2015-02-02 14:21:00     2.381872  0.041699  1.913972  0.513944       1.000593   \n",
              "2015-02-02 14:22:00     2.375343  0.019137  1.560678  0.532220       0.972395   \n",
              "2015-02-02 14:23:00     2.402766  0.035253  1.537622  0.547500       1.002494   \n",
              "\n",
              "                      Day Sin   Day Cos  \n",
              "date                                     \n",
              "2015-02-02 14:19:00 -0.783298 -1.264724  \n",
              "2015-02-02 14:19:59 -0.788225 -1.261205  \n",
              "2015-02-02 14:21:00 -0.793304 -1.257544  \n",
              "2015-02-02 14:22:00 -0.798284 -1.253920  \n",
              "2015-02-02 14:23:00 -0.803249 -1.250275  "
            ],
            "text/html": [
              "\n",
              "  <div id=\"df-d6119f72-7042-4995-9ed1-d0f1a77452af\">\n",
              "    <div class=\"colab-df-container\">\n",
              "      <div>\n",
              "<style scoped>\n",
              "    .dataframe tbody tr th:only-of-type {\n",
              "        vertical-align: middle;\n",
              "    }\n",
              "\n",
              "    .dataframe tbody tr th {\n",
              "        vertical-align: top;\n",
              "    }\n",
              "\n",
              "    .dataframe thead th {\n",
              "        text-align: right;\n",
              "    }\n",
              "</style>\n",
              "<table border=\"1\" class=\"dataframe\">\n",
              "  <thead>\n",
              "    <tr style=\"text-align: right;\">\n",
              "      <th></th>\n",
              "      <th>Temperature</th>\n",
              "      <th>Humidity</th>\n",
              "      <th>Light</th>\n",
              "      <th>CO2</th>\n",
              "      <th>HumidityRatio</th>\n",
              "      <th>Day Sin</th>\n",
              "      <th>Day Cos</th>\n",
              "    </tr>\n",
              "    <tr>\n",
              "      <th>date</th>\n",
              "      <th></th>\n",
              "      <th></th>\n",
              "      <th></th>\n",
              "      <th></th>\n",
              "      <th></th>\n",
              "      <th></th>\n",
              "      <th></th>\n",
              "    </tr>\n",
              "  </thead>\n",
              "  <tbody>\n",
              "    <tr>\n",
              "      <th>2015-02-02 14:19:00</th>\n",
              "      <td>2.355756</td>\n",
              "      <td>0.050724</td>\n",
              "      <td>1.970081</td>\n",
              "      <td>0.440360</td>\n",
              "      <td>0.999288</td>\n",
              "      <td>-0.783298</td>\n",
              "      <td>-1.264724</td>\n",
              "    </tr>\n",
              "    <tr>\n",
              "      <th>2015-02-02 14:19:59</th>\n",
              "      <td>2.371426</td>\n",
              "      <td>0.054592</td>\n",
              "      <td>1.939639</td>\n",
              "      <td>0.480627</td>\n",
              "      <td>1.010496</td>\n",
              "      <td>-0.788225</td>\n",
              "      <td>-1.261205</td>\n",
              "    </tr>\n",
              "    <tr>\n",
              "      <th>2015-02-02 14:21:00</th>\n",
              "      <td>2.381872</td>\n",
              "      <td>0.041699</td>\n",
              "      <td>1.913972</td>\n",
              "      <td>0.513944</td>\n",
              "      <td>1.000593</td>\n",
              "      <td>-0.793304</td>\n",
              "      <td>-1.257544</td>\n",
              "    </tr>\n",
              "    <tr>\n",
              "      <th>2015-02-02 14:22:00</th>\n",
              "      <td>2.375343</td>\n",
              "      <td>0.019137</td>\n",
              "      <td>1.560678</td>\n",
              "      <td>0.532220</td>\n",
              "      <td>0.972395</td>\n",
              "      <td>-0.798284</td>\n",
              "      <td>-1.253920</td>\n",
              "    </tr>\n",
              "    <tr>\n",
              "      <th>2015-02-02 14:23:00</th>\n",
              "      <td>2.402766</td>\n",
              "      <td>0.035253</td>\n",
              "      <td>1.537622</td>\n",
              "      <td>0.547500</td>\n",
              "      <td>1.002494</td>\n",
              "      <td>-0.803249</td>\n",
              "      <td>-1.250275</td>\n",
              "    </tr>\n",
              "  </tbody>\n",
              "</table>\n",
              "</div>\n",
              "      <button class=\"colab-df-convert\" onclick=\"convertToInteractive('df-d6119f72-7042-4995-9ed1-d0f1a77452af')\"\n",
              "              title=\"Convert this dataframe to an interactive table.\"\n",
              "              style=\"display:none;\">\n",
              "        \n",
              "  <svg xmlns=\"http://www.w3.org/2000/svg\" height=\"24px\"viewBox=\"0 0 24 24\"\n",
              "       width=\"24px\">\n",
              "    <path d=\"M0 0h24v24H0V0z\" fill=\"none\"/>\n",
              "    <path d=\"M18.56 5.44l.94 2.06.94-2.06 2.06-.94-2.06-.94-.94-2.06-.94 2.06-2.06.94zm-11 1L8.5 8.5l.94-2.06 2.06-.94-2.06-.94L8.5 2.5l-.94 2.06-2.06.94zm10 10l.94 2.06.94-2.06 2.06-.94-2.06-.94-.94-2.06-.94 2.06-2.06.94z\"/><path d=\"M17.41 7.96l-1.37-1.37c-.4-.4-.92-.59-1.43-.59-.52 0-1.04.2-1.43.59L10.3 9.45l-7.72 7.72c-.78.78-.78 2.05 0 2.83L4 21.41c.39.39.9.59 1.41.59.51 0 1.02-.2 1.41-.59l7.78-7.78 2.81-2.81c.8-.78.8-2.07 0-2.86zM5.41 20L4 18.59l7.72-7.72 1.47 1.35L5.41 20z\"/>\n",
              "  </svg>\n",
              "      </button>\n",
              "      \n",
              "  <style>\n",
              "    .colab-df-container {\n",
              "      display:flex;\n",
              "      flex-wrap:wrap;\n",
              "      gap: 12px;\n",
              "    }\n",
              "\n",
              "    .colab-df-convert {\n",
              "      background-color: #E8F0FE;\n",
              "      border: none;\n",
              "      border-radius: 50%;\n",
              "      cursor: pointer;\n",
              "      display: none;\n",
              "      fill: #1967D2;\n",
              "      height: 32px;\n",
              "      padding: 0 0 0 0;\n",
              "      width: 32px;\n",
              "    }\n",
              "\n",
              "    .colab-df-convert:hover {\n",
              "      background-color: #E2EBFA;\n",
              "      box-shadow: 0px 1px 2px rgba(60, 64, 67, 0.3), 0px 1px 3px 1px rgba(60, 64, 67, 0.15);\n",
              "      fill: #174EA6;\n",
              "    }\n",
              "\n",
              "    [theme=dark] .colab-df-convert {\n",
              "      background-color: #3B4455;\n",
              "      fill: #D2E3FC;\n",
              "    }\n",
              "\n",
              "    [theme=dark] .colab-df-convert:hover {\n",
              "      background-color: #434B5C;\n",
              "      box-shadow: 0px 1px 3px 1px rgba(0, 0, 0, 0.15);\n",
              "      filter: drop-shadow(0px 1px 2px rgba(0, 0, 0, 0.3));\n",
              "      fill: #FFFFFF;\n",
              "    }\n",
              "  </style>\n",
              "\n",
              "      <script>\n",
              "        const buttonEl =\n",
              "          document.querySelector('#df-d6119f72-7042-4995-9ed1-d0f1a77452af button.colab-df-convert');\n",
              "        buttonEl.style.display =\n",
              "          google.colab.kernel.accessAllowed ? 'block' : 'none';\n",
              "\n",
              "        async function convertToInteractive(key) {\n",
              "          const element = document.querySelector('#df-d6119f72-7042-4995-9ed1-d0f1a77452af');\n",
              "          const dataTable =\n",
              "            await google.colab.kernel.invokeFunction('convertToInteractive',\n",
              "                                                     [key], {});\n",
              "          if (!dataTable) return;\n",
              "\n",
              "          const docLinkHtml = 'Like what you see? Visit the ' +\n",
              "            '<a target=\"_blank\" href=https://colab.research.google.com/notebooks/data_table.ipynb>data table notebook</a>'\n",
              "            + ' to learn more about interactive tables.';\n",
              "          element.innerHTML = '';\n",
              "          dataTable['output_type'] = 'display_data';\n",
              "          await google.colab.output.renderOutput(dataTable, element);\n",
              "          const docLink = document.createElement('div');\n",
              "          docLink.innerHTML = docLinkHtml;\n",
              "          element.appendChild(docLink);\n",
              "        }\n",
              "      </script>\n",
              "    </div>\n",
              "  </div>\n",
              "  "
            ]
          },
          "metadata": {},
          "execution_count": 24
        }
      ],
      "source": [
        "train_data.head()"
      ]
    },
    {
      "cell_type": "code",
      "execution_count": 25,
      "id": "02128080",
      "metadata": {
        "colab": {
          "base_uri": "https://localhost:8080/",
          "height": 300
        },
        "id": "02128080",
        "outputId": "f7aea164-c080-47ec-8c61-ea76744b36c0"
      },
      "outputs": [
        {
          "output_type": "execute_result",
          "data": {
            "text/plain": [
              "        Temperature      Humidity         Light           CO2  HumidityRatio  \\\n",
              "count  1.439100e+04  1.439100e+04  1.439100e+04  1.439100e+04   1.439100e+04   \n",
              "mean  -2.037749e-12 -3.643175e-13 -1.384620e-15 -6.250299e-16  -3.071984e-14   \n",
              "std    1.000000e+00  1.000000e+00  1.000000e+00  1.000000e+00   1.000000e+00   \n",
              "min   -1.735824e+00 -1.996454e+00 -6.497426e-01 -7.692749e-01  -1.757339e+00   \n",
              "25%   -6.519903e-01 -7.168332e-01 -6.497426e-01 -6.497316e-01  -7.289520e-01   \n",
              "50%   -1.775412e-01 -5.213231e-02 -6.497426e-01 -4.178354e-01  -1.070026e-01   \n",
              "75%    6.146583e-01  6.278968e-01  1.226037e+00  2.257214e-01   7.066508e-01   \n",
              "max    2.972395e+00  2.810988e+00  6.948508e+00  5.039814e+00   3.257111e+00   \n",
              "\n",
              "            Day Sin       Day Cos  \n",
              "count  1.439100e+04  1.439100e+04  \n",
              "mean  -1.198788e-16 -5.393041e-16  \n",
              "std    1.000000e+00  1.000000e+00  \n",
              "min   -1.385207e+00 -1.520562e+00  \n",
              "25%   -1.013318e+00 -9.790784e-01  \n",
              "50%   -9.857681e-03  6.994814e-02  \n",
              "75%    1.004365e+00  9.964810e-01  \n",
              "max    1.414351e+00  1.348338e+00  "
            ],
            "text/html": [
              "\n",
              "  <div id=\"df-f95b27cf-e899-4b35-b91e-9ce0ec0d38da\">\n",
              "    <div class=\"colab-df-container\">\n",
              "      <div>\n",
              "<style scoped>\n",
              "    .dataframe tbody tr th:only-of-type {\n",
              "        vertical-align: middle;\n",
              "    }\n",
              "\n",
              "    .dataframe tbody tr th {\n",
              "        vertical-align: top;\n",
              "    }\n",
              "\n",
              "    .dataframe thead th {\n",
              "        text-align: right;\n",
              "    }\n",
              "</style>\n",
              "<table border=\"1\" class=\"dataframe\">\n",
              "  <thead>\n",
              "    <tr style=\"text-align: right;\">\n",
              "      <th></th>\n",
              "      <th>Temperature</th>\n",
              "      <th>Humidity</th>\n",
              "      <th>Light</th>\n",
              "      <th>CO2</th>\n",
              "      <th>HumidityRatio</th>\n",
              "      <th>Day Sin</th>\n",
              "      <th>Day Cos</th>\n",
              "    </tr>\n",
              "  </thead>\n",
              "  <tbody>\n",
              "    <tr>\n",
              "      <th>count</th>\n",
              "      <td>1.439100e+04</td>\n",
              "      <td>1.439100e+04</td>\n",
              "      <td>1.439100e+04</td>\n",
              "      <td>1.439100e+04</td>\n",
              "      <td>1.439100e+04</td>\n",
              "      <td>1.439100e+04</td>\n",
              "      <td>1.439100e+04</td>\n",
              "    </tr>\n",
              "    <tr>\n",
              "      <th>mean</th>\n",
              "      <td>-2.037749e-12</td>\n",
              "      <td>-3.643175e-13</td>\n",
              "      <td>-1.384620e-15</td>\n",
              "      <td>-6.250299e-16</td>\n",
              "      <td>-3.071984e-14</td>\n",
              "      <td>-1.198788e-16</td>\n",
              "      <td>-5.393041e-16</td>\n",
              "    </tr>\n",
              "    <tr>\n",
              "      <th>std</th>\n",
              "      <td>1.000000e+00</td>\n",
              "      <td>1.000000e+00</td>\n",
              "      <td>1.000000e+00</td>\n",
              "      <td>1.000000e+00</td>\n",
              "      <td>1.000000e+00</td>\n",
              "      <td>1.000000e+00</td>\n",
              "      <td>1.000000e+00</td>\n",
              "    </tr>\n",
              "    <tr>\n",
              "      <th>min</th>\n",
              "      <td>-1.735824e+00</td>\n",
              "      <td>-1.996454e+00</td>\n",
              "      <td>-6.497426e-01</td>\n",
              "      <td>-7.692749e-01</td>\n",
              "      <td>-1.757339e+00</td>\n",
              "      <td>-1.385207e+00</td>\n",
              "      <td>-1.520562e+00</td>\n",
              "    </tr>\n",
              "    <tr>\n",
              "      <th>25%</th>\n",
              "      <td>-6.519903e-01</td>\n",
              "      <td>-7.168332e-01</td>\n",
              "      <td>-6.497426e-01</td>\n",
              "      <td>-6.497316e-01</td>\n",
              "      <td>-7.289520e-01</td>\n",
              "      <td>-1.013318e+00</td>\n",
              "      <td>-9.790784e-01</td>\n",
              "    </tr>\n",
              "    <tr>\n",
              "      <th>50%</th>\n",
              "      <td>-1.775412e-01</td>\n",
              "      <td>-5.213231e-02</td>\n",
              "      <td>-6.497426e-01</td>\n",
              "      <td>-4.178354e-01</td>\n",
              "      <td>-1.070026e-01</td>\n",
              "      <td>-9.857681e-03</td>\n",
              "      <td>6.994814e-02</td>\n",
              "    </tr>\n",
              "    <tr>\n",
              "      <th>75%</th>\n",
              "      <td>6.146583e-01</td>\n",
              "      <td>6.278968e-01</td>\n",
              "      <td>1.226037e+00</td>\n",
              "      <td>2.257214e-01</td>\n",
              "      <td>7.066508e-01</td>\n",
              "      <td>1.004365e+00</td>\n",
              "      <td>9.964810e-01</td>\n",
              "    </tr>\n",
              "    <tr>\n",
              "      <th>max</th>\n",
              "      <td>2.972395e+00</td>\n",
              "      <td>2.810988e+00</td>\n",
              "      <td>6.948508e+00</td>\n",
              "      <td>5.039814e+00</td>\n",
              "      <td>3.257111e+00</td>\n",
              "      <td>1.414351e+00</td>\n",
              "      <td>1.348338e+00</td>\n",
              "    </tr>\n",
              "  </tbody>\n",
              "</table>\n",
              "</div>\n",
              "      <button class=\"colab-df-convert\" onclick=\"convertToInteractive('df-f95b27cf-e899-4b35-b91e-9ce0ec0d38da')\"\n",
              "              title=\"Convert this dataframe to an interactive table.\"\n",
              "              style=\"display:none;\">\n",
              "        \n",
              "  <svg xmlns=\"http://www.w3.org/2000/svg\" height=\"24px\"viewBox=\"0 0 24 24\"\n",
              "       width=\"24px\">\n",
              "    <path d=\"M0 0h24v24H0V0z\" fill=\"none\"/>\n",
              "    <path d=\"M18.56 5.44l.94 2.06.94-2.06 2.06-.94-2.06-.94-.94-2.06-.94 2.06-2.06.94zm-11 1L8.5 8.5l.94-2.06 2.06-.94-2.06-.94L8.5 2.5l-.94 2.06-2.06.94zm10 10l.94 2.06.94-2.06 2.06-.94-2.06-.94-.94-2.06-.94 2.06-2.06.94z\"/><path d=\"M17.41 7.96l-1.37-1.37c-.4-.4-.92-.59-1.43-.59-.52 0-1.04.2-1.43.59L10.3 9.45l-7.72 7.72c-.78.78-.78 2.05 0 2.83L4 21.41c.39.39.9.59 1.41.59.51 0 1.02-.2 1.41-.59l7.78-7.78 2.81-2.81c.8-.78.8-2.07 0-2.86zM5.41 20L4 18.59l7.72-7.72 1.47 1.35L5.41 20z\"/>\n",
              "  </svg>\n",
              "      </button>\n",
              "      \n",
              "  <style>\n",
              "    .colab-df-container {\n",
              "      display:flex;\n",
              "      flex-wrap:wrap;\n",
              "      gap: 12px;\n",
              "    }\n",
              "\n",
              "    .colab-df-convert {\n",
              "      background-color: #E8F0FE;\n",
              "      border: none;\n",
              "      border-radius: 50%;\n",
              "      cursor: pointer;\n",
              "      display: none;\n",
              "      fill: #1967D2;\n",
              "      height: 32px;\n",
              "      padding: 0 0 0 0;\n",
              "      width: 32px;\n",
              "    }\n",
              "\n",
              "    .colab-df-convert:hover {\n",
              "      background-color: #E2EBFA;\n",
              "      box-shadow: 0px 1px 2px rgba(60, 64, 67, 0.3), 0px 1px 3px 1px rgba(60, 64, 67, 0.15);\n",
              "      fill: #174EA6;\n",
              "    }\n",
              "\n",
              "    [theme=dark] .colab-df-convert {\n",
              "      background-color: #3B4455;\n",
              "      fill: #D2E3FC;\n",
              "    }\n",
              "\n",
              "    [theme=dark] .colab-df-convert:hover {\n",
              "      background-color: #434B5C;\n",
              "      box-shadow: 0px 1px 3px 1px rgba(0, 0, 0, 0.15);\n",
              "      filter: drop-shadow(0px 1px 2px rgba(0, 0, 0, 0.3));\n",
              "      fill: #FFFFFF;\n",
              "    }\n",
              "  </style>\n",
              "\n",
              "      <script>\n",
              "        const buttonEl =\n",
              "          document.querySelector('#df-f95b27cf-e899-4b35-b91e-9ce0ec0d38da button.colab-df-convert');\n",
              "        buttonEl.style.display =\n",
              "          google.colab.kernel.accessAllowed ? 'block' : 'none';\n",
              "\n",
              "        async function convertToInteractive(key) {\n",
              "          const element = document.querySelector('#df-f95b27cf-e899-4b35-b91e-9ce0ec0d38da');\n",
              "          const dataTable =\n",
              "            await google.colab.kernel.invokeFunction('convertToInteractive',\n",
              "                                                     [key], {});\n",
              "          if (!dataTable) return;\n",
              "\n",
              "          const docLinkHtml = 'Like what you see? Visit the ' +\n",
              "            '<a target=\"_blank\" href=https://colab.research.google.com/notebooks/data_table.ipynb>data table notebook</a>'\n",
              "            + ' to learn more about interactive tables.';\n",
              "          element.innerHTML = '';\n",
              "          dataTable['output_type'] = 'display_data';\n",
              "          await google.colab.output.renderOutput(dataTable, element);\n",
              "          const docLink = document.createElement('div');\n",
              "          docLink.innerHTML = docLinkHtml;\n",
              "          element.appendChild(docLink);\n",
              "        }\n",
              "      </script>\n",
              "    </div>\n",
              "  </div>\n",
              "  "
            ]
          },
          "metadata": {},
          "execution_count": 25
        }
      ],
      "source": [
        "train_data.describe()"
      ]
    },
    {
      "cell_type": "code",
      "execution_count": 26,
      "id": "52fa53f2",
      "metadata": {
        "id": "52fa53f2"
      },
      "outputs": [],
      "source": [
        "METRICS = [\n",
        "    tf.keras.metrics.TruePositives(name='tp'),\n",
        "    tf.keras.metrics.FalsePositives(name='fp'),\n",
        "    tf.keras.metrics.TrueNegatives(name='tn'),\n",
        "    tf.keras.metrics.FalseNegatives(name='fn'),\n",
        "    tf.keras.metrics.BinaryAccuracy(name='accuracy'),\n",
        "    tf.keras.metrics.Precision(name='precision'),\n",
        "    tf.keras.metrics.Recall(name='recall'),\n",
        "    tf.keras.metrics.AUC(name='auc'),\n",
        "    tf.keras.metrics.AUC(name='prc', curve='PR')    \n",
        "]"
      ]
    },
    {
      "cell_type": "code",
      "execution_count": 27,
      "id": "bbf84453",
      "metadata": {
        "id": "bbf84453"
      },
      "outputs": [],
      "source": [
        "def create_model(input_shape, output_shape,output_bias=None):\n",
        "    if output_bias is not None:\n",
        "        output_bias = tf.keras.initializers.Constant(output_bias)\n",
        "        \n",
        "    model = tf.keras.models.Sequential([\n",
        "        tf.keras.layers.LSTM(50, return_sequences=True, input_shape=[None, input_shape]),\n",
        "        tf.keras.layers.LSTM(50),\n",
        "        tf.keras.layers.Dense(output_shape, bias_initializer=output_bias,activation='sigmoid')\n",
        "    ])\n",
        "    return model"
      ]
    },
    {
      "cell_type": "code",
      "execution_count": 28,
      "id": "e90e66ec",
      "metadata": {
        "id": "e90e66ec"
      },
      "outputs": [],
      "source": [
        "# Lets try non sequential loader\n",
        "def create_non_sequential_loader(series, window_size=24, batchsize=32, buffersize=100):\n",
        "    AUTOTUNE = tf.data.experimental.AUTOTUNE\n",
        "    dataset = tf.data.Dataset.from_tensor_slices(series)\n",
        "    dataset = dataset.window(window_size+1, drop_remainder=True, shift=1)\n",
        "    dataset = dataset.flat_map(lambda window: window.batch(window_size+1))\n",
        "    dataset = dataset.map(lambda window: (window[:-1,:-1],window[-1,-1]), num_parallel_calls=AUTOTUNE)\n",
        "    dataset = dataset.cache().shuffle(buffersize).batch(batchsize)\n",
        "    return dataset.prefetch(AUTOTUNE)"
      ]
    },
    {
      "cell_type": "code",
      "execution_count": 29,
      "id": "4da9d460",
      "metadata": {
        "id": "4da9d460"
      },
      "outputs": [],
      "source": [
        "# Lets try non sequential loader\n",
        "def val_create_non_sequential_loader(series, window_size=24, batchsize=32):\n",
        "    AUTOTUNE = tf.data.experimental.AUTOTUNE\n",
        "    dataset = tf.data.Dataset.from_tensor_slices(series)\n",
        "    dataset = dataset.window(window_size+1, drop_remainder=True, shift=1)\n",
        "    dataset = dataset.flat_map(lambda window: window.batch(window_size+1))\n",
        "    dataset = dataset.map(lambda window: (window[:-1,:-1],window[-1,-1]), num_parallel_calls=AUTOTUNE)\n",
        "    dataset = dataset.cache().batch(batchsize)\n",
        "    return dataset.prefetch(AUTOTUNE)"
      ]
    },
    {
      "cell_type": "code",
      "execution_count": 30,
      "id": "63b097c6",
      "metadata": {
        "id": "63b097c6"
      },
      "outputs": [],
      "source": [
        "train = tf.concat([train_data.to_numpy(), train_label.to_numpy().reshape(-1,1)], axis=1)\n",
        "val = tf.concat([val_data.to_numpy(), val_label.to_numpy().reshape(-1,1)], axis=1)"
      ]
    },
    {
      "cell_type": "code",
      "execution_count": 31,
      "id": "39b6a884",
      "metadata": {
        "id": "39b6a884"
      },
      "outputs": [],
      "source": [
        "train = create_non_sequential_loader(train, window_size=60)\n",
        "val = val_create_non_sequential_loader(val, window_size=60)"
      ]
    },
    {
      "cell_type": "code",
      "execution_count": 32,
      "id": "d82e2234",
      "metadata": {
        "colab": {
          "base_uri": "https://localhost:8080/"
        },
        "id": "d82e2234",
        "outputId": "03982789-2832-456b-aff8-649fbe782084"
      },
      "outputs": [
        {
          "output_type": "stream",
          "name": "stdout",
          "text": [
            "(32, 60, 7)\n",
            "(32,)\n",
            "tf.Tensor(\n",
            "[[[-1.04809007  2.20340975 -0.64974256 ...  1.55491062  0.87154082\n",
            "    1.04809247]\n",
            "  [-1.04809007  2.20340975 -0.64974256 ...  1.55491062  0.87628172\n",
            "    1.04431406]\n",
            "  [-1.04809007  2.20340975 -0.64974256 ...  1.55491062  0.8810867\n",
            "    1.04045026]\n",
            "  ...\n",
            "  [-1.12643947  2.24853492 -0.64974256 ...  1.55618008  1.11761286\n",
            "    0.7970234 ]\n",
            "  [-1.12643947  2.26142783 -0.64974256 ...  1.5675187   1.12136262\n",
            "    0.79208287]\n",
            "  [-1.16996691  2.2582046  -0.64974256 ...  1.54327404  1.12502933\n",
            "    0.78720838]]\n",
            "\n",
            " [[-1.04809007  2.20340975 -0.64974256 ...  1.55491062  0.87628172\n",
            "    1.04431406]\n",
            "  [-1.04809007  2.20340975 -0.64974256 ...  1.55491062  0.8810867\n",
            "    1.04045026]\n",
            "  [-1.04809007  2.20340975 -0.64974256 ...  1.55491062  0.88595485\n",
            "    1.03650008]\n",
            "  ...\n",
            "  [-1.12643947  2.26142783 -0.64974256 ...  1.5675187   1.12136262\n",
            "    0.79208287]\n",
            "  [-1.16996691  2.2582046  -0.64974256 ...  1.54327404  1.12502933\n",
            "    0.78720838]\n",
            "  [-1.12643947  2.26787428 -0.64974256 ...  1.57318812  1.12873723\n",
            "    0.78223479]]\n",
            "\n",
            " [[-1.04809007  2.20340975 -0.64974256 ...  1.55491062  0.8810867\n",
            "    1.04045026]\n",
            "  [-1.04809007  2.20340975 -0.64974256 ...  1.55491062  0.88595485\n",
            "    1.03650008]\n",
            "  [-1.04809007  2.20340975 -0.64974256 ...  1.55491062  0.89072647\n",
            "    1.03259311]\n",
            "  ...\n",
            "  [-1.16996691  2.2582046  -0.64974256 ...  1.54327404  1.12502933\n",
            "    0.78720838]\n",
            "  [-1.12643947  2.26787428 -0.64974256 ...  1.57318812  1.12873723\n",
            "    0.78223479]\n",
            "  [-1.12643947  2.26787428 -0.64974256 ...  1.57318812  1.13248518\n",
            "    0.77716135]]\n",
            "\n",
            " ...\n",
            "\n",
            " [[-1.04809007  2.2413722  -0.64974256 ...  1.58848436  1.00436517\n",
            "    0.92819713]\n",
            "  [-1.04809007  2.24853492 -0.64974256 ...  1.59481933  1.00867452\n",
            "    0.92376173]\n",
            "  [-1.04809007  2.24853492 -0.64974256 ...  1.59481933  1.01296495\n",
            "    0.9193071 ]\n",
            "  ...\n",
            "  [-1.21349436  2.2582046  -0.64974256 ...  1.5219233   1.21749897\n",
            "    0.6474018 ]\n",
            "  [-1.21349436  2.24853492 -0.64974256 ...  1.5134729   1.22066238\n",
            "    0.64192619]\n",
            "  [-1.16996691  2.2582046  -0.64974256 ...  1.54327404  1.22375077\n",
            "    0.63652637]]\n",
            "\n",
            " [[-1.04809007  2.24853492 -0.64974256 ...  1.59481933  1.00867452\n",
            "    0.92376173]\n",
            "  [-1.04809007  2.24853492 -0.64974256 ...  1.59481933  1.01296495\n",
            "    0.9193071 ]\n",
            "  [-1.12643947  2.23779083 -0.64974256 ...  1.54673147  1.01723637\n",
            "    0.91483333]\n",
            "  ...\n",
            "  [-1.21349436  2.24853492 -0.64974256 ...  1.5134729   1.22066238\n",
            "    0.64192619]\n",
            "  [-1.16996691  2.2582046  -0.64974256 ...  1.54327404  1.22375077\n",
            "    0.63652637]\n",
            "  [-1.16996691  2.2582046  -0.64974256 ...  1.54327404  1.22681615\n",
            "    0.63111279]]\n",
            "\n",
            " [[-1.04809007  2.24853492 -0.64974256 ...  1.59481933  1.01296495\n",
            "    0.9193071 ]\n",
            "  [-1.12643947  2.23779083 -0.64974256 ...  1.54673147  1.01723637\n",
            "    0.91483333]\n",
            "  [-1.04809007  2.24853492 -0.64974256 ...  1.59481933  1.0214887\n",
            "    0.9103405 ]\n",
            "  ...\n",
            "  [-1.16996691  2.2582046  -0.64974256 ...  1.54327404  1.22375077\n",
            "    0.63652637]\n",
            "  [-1.16996691  2.2582046  -0.64974256 ...  1.54327404  1.22681615\n",
            "    0.63111279]\n",
            "  [-1.21349436  2.24853492 -0.64974256 ...  1.5134729   1.22985844\n",
            "    0.62568555]]], shape=(32, 60, 7), dtype=float64)\n",
            "tf.Tensor(\n",
            "[0. 0. 0. 0. 0. 0. 0. 0. 0. 0. 0. 0. 0. 0. 0. 0. 0. 0. 0. 0. 0. 0. 0. 0.\n",
            " 0. 0. 0. 0. 0. 0. 0. 0.], shape=(32,), dtype=float64)\n"
          ]
        }
      ],
      "source": [
        "for X, Y in val.take(1):\n",
        "    print(X.shape)\n",
        "    print(Y.shape)\n",
        "    \n",
        "    print(X)\n",
        "    print(Y)"
      ]
    },
    {
      "cell_type": "code",
      "execution_count": 33,
      "id": "de9d589c",
      "metadata": {
        "id": "de9d589c"
      },
      "outputs": [],
      "source": [
        "bias = np.log(positives / negatives)\n",
        "model = create_model(input_shape=7, output_shape=1, output_bias=bias)"
      ]
    },
    {
      "cell_type": "code",
      "execution_count": 34,
      "id": "9674e1eb",
      "metadata": {
        "colab": {
          "base_uri": "https://localhost:8080/"
        },
        "id": "9674e1eb",
        "outputId": "605b1ec8-f1a2-41ae-c7c8-6a85f7230cb5"
      },
      "outputs": [
        {
          "output_type": "stream",
          "name": "stdout",
          "text": [
            "Model: \"sequential\"\n",
            "_________________________________________________________________\n",
            " Layer (type)                Output Shape              Param #   \n",
            "=================================================================\n",
            " lstm (LSTM)                 (None, None, 50)          11600     \n",
            "                                                                 \n",
            " lstm_1 (LSTM)               (None, 50)                20200     \n",
            "                                                                 \n",
            " dense (Dense)               (None, 1)                 51        \n",
            "                                                                 \n",
            "=================================================================\n",
            "Total params: 31,851\n",
            "Trainable params: 31,851\n",
            "Non-trainable params: 0\n",
            "_________________________________________________________________\n"
          ]
        }
      ],
      "source": [
        "model.summary()"
      ]
    },
    {
      "cell_type": "code",
      "execution_count": 35,
      "id": "b81553a2",
      "metadata": {
        "colab": {
          "base_uri": "https://localhost:8080/"
        },
        "id": "b81553a2",
        "outputId": "43500f6b-07ec-4bdf-ee38-5781d2dd284c"
      },
      "outputs": [
        {
          "output_type": "execute_result",
          "data": {
            "text/plain": [
              "{0: 0.6502213788741303, 1: 2.16421052631579}"
            ]
          },
          "metadata": {},
          "execution_count": 35
        }
      ],
      "source": [
        "# Lets provide the model class weights\n",
        "w0 = (1 / negatives) * (total / 2.0)\n",
        "w1 = (1 / positives) * (total / 2.0)\n",
        "class_weights = {0:w0, 1:w1}\n",
        "class_weights"
      ]
    },
    {
      "cell_type": "code",
      "execution_count": 36,
      "id": "2418ed78",
      "metadata": {
        "id": "2418ed78"
      },
      "outputs": [],
      "source": [
        "model.compile(loss=tf.keras.losses.BinaryCrossentropy(), optimizer='adam', metrics=METRICS)"
      ]
    },
    {
      "cell_type": "code",
      "execution_count": 37,
      "id": "e94f8e80",
      "metadata": {
        "id": "e94f8e80"
      },
      "outputs": [],
      "source": [
        "earlystop = tf.keras.callbacks.EarlyStopping(patience=10, monitor='val_prc')\n",
        "checkpoint = tf.keras.callbacks.ModelCheckpoint('best_temp/', save_best_only=True)\n",
        "#lr = tf.keras.callbacks.LearningRateScheduler(lambda epoch: 1e-3 * (1.0 /10)**(epoch/10))"
      ]
    },
    {
      "cell_type": "code",
      "execution_count": 38,
      "id": "2272aebc",
      "metadata": {
        "colab": {
          "base_uri": "https://localhost:8080/"
        },
        "id": "2272aebc",
        "outputId": "388213a6-d15e-4b27-c81c-fb7d64b5cc3a"
      },
      "outputs": [
        {
          "output_type": "stream",
          "name": "stdout",
          "text": [
            "Epoch 1/50\n",
            "    447/Unknown - 26s 34ms/step - loss: 0.1693 - tp: 3358.0000 - fp: 454.0000 - tn: 10257.0000 - fn: 235.0000 - accuracy: 0.9518 - precision: 0.8809 - recall: 0.9346 - auc: 0.9794 - prc: 0.9390"
          ]
        },
        {
          "output_type": "stream",
          "name": "stderr",
          "text": [
            "WARNING:absl:Found untraced functions such as lstm_cell_layer_call_fn, lstm_cell_layer_call_and_return_conditional_losses, lstm_cell_1_layer_call_fn, lstm_cell_1_layer_call_and_return_conditional_losses while saving (showing 4 of 4). These functions will not be directly callable after loading.\n"
          ]
        },
        {
          "output_type": "stream",
          "name": "stdout",
          "text": [
            "INFO:tensorflow:Assets written to: best_temp/assets\n"
          ]
        },
        {
          "output_type": "stream",
          "name": "stderr",
          "text": [
            "INFO:tensorflow:Assets written to: best_temp/assets\n",
            "WARNING:absl:<keras.layers.recurrent.LSTMCell object at 0x7fe28254ba10> has the same name 'LSTMCell' as a built-in Keras object. Consider renaming <class 'keras.layers.recurrent.LSTMCell'> to avoid naming conflicts when loading with `tf.keras.models.load_model`. If renaming is not possible, pass the object in the `custom_objects` parameter of the load function.\n",
            "WARNING:absl:<keras.layers.recurrent.LSTMCell object at 0x7fe28248d0d0> has the same name 'LSTMCell' as a built-in Keras object. Consider renaming <class 'keras.layers.recurrent.LSTMCell'> to avoid naming conflicts when loading with `tf.keras.models.load_model`. If renaming is not possible, pass the object in the `custom_objects` parameter of the load function.\n"
          ]
        },
        {
          "output_type": "stream",
          "name": "stdout",
          "text": [
            "\b\b\b\b\b\b\b\b\b\b\b\b\b\b\b\b\b\b\b\b\b\b\b\b\b\b\b\b\b\b\b\b\b\b\b\b\b\b\b\b\b\b\b\b\b\b\b\b\b\b\b\b\b\b\b\b\b\b\b\b\b\b\b\b\b\b\b\b\b\b\b\b\b\b\b\b\b\b\b\b\b\b\b\b\b\b\b\b\b\b\b\b\b\b\b\b\b\b\b\b\b\b\b\b\b\b\b\b\b\b\b\b\b\b\b\b\b\b\b\b\b\b\b\b\b\b\b\b\b\b\b\b\b\b\b\b\b\b\b\b\b\b\b\b\b\b\b\b\b\b\b\b\b\b\b\b\b\b\b\b\b\b\b\b\b\b\b\b\b\b\b\b\b\b\b\b\b\b\b\b\b\b\b\b\b\b\b\b\b\b\b\b\b\r448/448 [==============================] - 39s 64ms/step - loss: 0.1690 - tp: 3358.0000 - fp: 454.0000 - tn: 10284.0000 - fn: 235.0000 - accuracy: 0.9519 - precision: 0.8809 - recall: 0.9346 - auc: 0.9794 - prc: 0.9390 - val_loss: 0.1615 - val_tp: 547.0000 - val_fp: 315.0000 - val_tn: 3187.0000 - val_fn: 4.0000 - val_accuracy: 0.9213 - val_precision: 0.6346 - val_recall: 0.9927 - val_auc: 0.9973 - val_prc: 0.9880\n",
            "Epoch 2/50\n",
            "447/448 [============================>.] - ETA: 0s - loss: 0.0900 - tp: 3535.0000 - fp: 336.0000 - tn: 10375.0000 - fn: 58.0000 - accuracy: 0.9725 - precision: 0.9132 - recall: 0.9839 - auc: 0.9912 - prc: 0.9653"
          ]
        },
        {
          "output_type": "stream",
          "name": "stderr",
          "text": [
            "WARNING:absl:Found untraced functions such as lstm_cell_layer_call_fn, lstm_cell_layer_call_and_return_conditional_losses, lstm_cell_1_layer_call_fn, lstm_cell_1_layer_call_and_return_conditional_losses while saving (showing 4 of 4). These functions will not be directly callable after loading.\n"
          ]
        },
        {
          "output_type": "stream",
          "name": "stdout",
          "text": [
            "INFO:tensorflow:Assets written to: best_temp/assets\n"
          ]
        },
        {
          "output_type": "stream",
          "name": "stderr",
          "text": [
            "INFO:tensorflow:Assets written to: best_temp/assets\n",
            "WARNING:absl:<keras.layers.recurrent.LSTMCell object at 0x7fe28254ba10> has the same name 'LSTMCell' as a built-in Keras object. Consider renaming <class 'keras.layers.recurrent.LSTMCell'> to avoid naming conflicts when loading with `tf.keras.models.load_model`. If renaming is not possible, pass the object in the `custom_objects` parameter of the load function.\n",
            "WARNING:absl:<keras.layers.recurrent.LSTMCell object at 0x7fe28248d0d0> has the same name 'LSTMCell' as a built-in Keras object. Consider renaming <class 'keras.layers.recurrent.LSTMCell'> to avoid naming conflicts when loading with `tf.keras.models.load_model`. If renaming is not possible, pass the object in the `custom_objects` parameter of the load function.\n"
          ]
        },
        {
          "output_type": "stream",
          "name": "stdout",
          "text": [
            "\b\b\b\b\b\b\b\b\b\b\b\b\b\b\b\b\b\b\b\b\b\b\b\b\b\b\b\b\b\b\b\b\b\b\b\b\b\b\b\b\b\b\b\b\b\b\b\b\b\b\b\b\b\b\b\b\b\b\b\b\b\b\b\b\b\b\b\b\b\b\b\b\b\b\b\b\b\b\b\b\b\b\b\b\b\b\b\b\b\b\b\b\b\b\b\b\b\b\b\b\b\b\b\b\b\b\b\b\b\b\b\b\b\b\b\b\b\b\b\b\b\b\b\b\b\b\b\b\b\b\b\b\b\b\b\b\b\b\b\b\b\b\b\b\b\b\b\b\b\b\b\b\b\b\b\b\b\b\b\b\b\b\b\b\b\b\b\b\b\b\b\b\b\b\b\b\b\b\b\b\b\b\b\b\b\b\b\b\b\b\b\b\b\b\b\b\b\b\b\b\b\b\b\b\b\b\b\b\b\b\b\r448/448 [==============================] - 26s 58ms/step - loss: 0.0899 - tp: 3535.0000 - fp: 336.0000 - tn: 10402.0000 - fn: 58.0000 - accuracy: 0.9725 - precision: 0.9132 - recall: 0.9839 - auc: 0.9912 - prc: 0.9653 - val_loss: 0.1371 - val_tp: 548.0000 - val_fp: 223.0000 - val_tn: 3279.0000 - val_fn: 3.0000 - val_accuracy: 0.9442 - val_precision: 0.7108 - val_recall: 0.9946 - val_auc: 0.9983 - val_prc: 0.9845\n",
            "Epoch 3/50\n",
            "447/448 [============================>.] - ETA: 0s - loss: 0.0697 - tp: 3554.0000 - fp: 236.0000 - tn: 10475.0000 - fn: 39.0000 - accuracy: 0.9808 - precision: 0.9377 - recall: 0.9891 - auc: 0.9934 - prc: 0.9664"
          ]
        },
        {
          "output_type": "stream",
          "name": "stderr",
          "text": [
            "WARNING:absl:Found untraced functions such as lstm_cell_layer_call_fn, lstm_cell_layer_call_and_return_conditional_losses, lstm_cell_1_layer_call_fn, lstm_cell_1_layer_call_and_return_conditional_losses while saving (showing 4 of 4). These functions will not be directly callable after loading.\n"
          ]
        },
        {
          "output_type": "stream",
          "name": "stdout",
          "text": [
            "INFO:tensorflow:Assets written to: best_temp/assets\n"
          ]
        },
        {
          "output_type": "stream",
          "name": "stderr",
          "text": [
            "INFO:tensorflow:Assets written to: best_temp/assets\n",
            "WARNING:absl:<keras.layers.recurrent.LSTMCell object at 0x7fe28254ba10> has the same name 'LSTMCell' as a built-in Keras object. Consider renaming <class 'keras.layers.recurrent.LSTMCell'> to avoid naming conflicts when loading with `tf.keras.models.load_model`. If renaming is not possible, pass the object in the `custom_objects` parameter of the load function.\n",
            "WARNING:absl:<keras.layers.recurrent.LSTMCell object at 0x7fe28248d0d0> has the same name 'LSTMCell' as a built-in Keras object. Consider renaming <class 'keras.layers.recurrent.LSTMCell'> to avoid naming conflicts when loading with `tf.keras.models.load_model`. If renaming is not possible, pass the object in the `custom_objects` parameter of the load function.\n"
          ]
        },
        {
          "output_type": "stream",
          "name": "stdout",
          "text": [
            "\b\b\b\b\b\b\b\b\b\b\b\b\b\b\b\b\b\b\b\b\b\b\b\b\b\b\b\b\b\b\b\b\b\b\b\b\b\b\b\b\b\b\b\b\b\b\b\b\b\b\b\b\b\b\b\b\b\b\b\b\b\b\b\b\b\b\b\b\b\b\b\b\b\b\b\b\b\b\b\b\b\b\b\b\b\b\b\b\b\b\b\b\b\b\b\b\b\b\b\b\b\b\b\b\b\b\b\b\b\b\b\b\b\b\b\b\b\b\b\b\b\b\b\b\b\b\b\b\b\b\b\b\b\b\b\b\b\b\b\b\b\b\b\b\b\b\b\b\b\b\b\b\b\b\b\b\b\b\b\b\b\b\b\b\b\b\b\b\b\b\b\b\b\b\b\b\b\b\b\b\b\b\b\b\b\b\b\b\b\b\b\b\b\b\b\b\b\b\b\b\b\b\b\b\b\b\b\b\b\b\b\r448/448 [==============================] - 25s 56ms/step - loss: 0.0695 - tp: 3554.0000 - fp: 236.0000 - tn: 10502.0000 - fn: 39.0000 - accuracy: 0.9808 - precision: 0.9377 - recall: 0.9891 - auc: 0.9934 - prc: 0.9664 - val_loss: 0.0919 - val_tp: 549.0000 - val_fp: 133.0000 - val_tn: 3369.0000 - val_fn: 2.0000 - val_accuracy: 0.9667 - val_precision: 0.8050 - val_recall: 0.9964 - val_auc: 0.9983 - val_prc: 0.9846\n",
            "Epoch 4/50\n",
            "447/448 [============================>.] - ETA: 0s - loss: 0.0721 - tp: 3548.0000 - fp: 242.0000 - tn: 10469.0000 - fn: 45.0000 - accuracy: 0.9799 - precision: 0.9361 - recall: 0.9875 - auc: 0.9923 - prc: 0.9582"
          ]
        },
        {
          "output_type": "stream",
          "name": "stderr",
          "text": [
            "WARNING:absl:Found untraced functions such as lstm_cell_layer_call_fn, lstm_cell_layer_call_and_return_conditional_losses, lstm_cell_1_layer_call_fn, lstm_cell_1_layer_call_and_return_conditional_losses while saving (showing 4 of 4). These functions will not be directly callable after loading.\n"
          ]
        },
        {
          "output_type": "stream",
          "name": "stdout",
          "text": [
            "INFO:tensorflow:Assets written to: best_temp/assets\n"
          ]
        },
        {
          "output_type": "stream",
          "name": "stderr",
          "text": [
            "INFO:tensorflow:Assets written to: best_temp/assets\n",
            "WARNING:absl:<keras.layers.recurrent.LSTMCell object at 0x7fe28254ba10> has the same name 'LSTMCell' as a built-in Keras object. Consider renaming <class 'keras.layers.recurrent.LSTMCell'> to avoid naming conflicts when loading with `tf.keras.models.load_model`. If renaming is not possible, pass the object in the `custom_objects` parameter of the load function.\n",
            "WARNING:absl:<keras.layers.recurrent.LSTMCell object at 0x7fe28248d0d0> has the same name 'LSTMCell' as a built-in Keras object. Consider renaming <class 'keras.layers.recurrent.LSTMCell'> to avoid naming conflicts when loading with `tf.keras.models.load_model`. If renaming is not possible, pass the object in the `custom_objects` parameter of the load function.\n"
          ]
        },
        {
          "output_type": "stream",
          "name": "stdout",
          "text": [
            "\b\b\b\b\b\b\b\b\b\b\b\b\b\b\b\b\b\b\b\b\b\b\b\b\b\b\b\b\b\b\b\b\b\b\b\b\b\b\b\b\b\b\b\b\b\b\b\b\b\b\b\b\b\b\b\b\b\b\b\b\b\b\b\b\b\b\b\b\b\b\b\b\b\b\b\b\b\b\b\b\b\b\b\b\b\b\b\b\b\b\b\b\b\b\b\b\b\b\b\b\b\b\b\b\b\b\b\b\b\b\b\b\b\b\b\b\b\b\b\b\b\b\b\b\b\b\b\b\b\b\b\b\b\b\b\b\b\b\b\b\b\b\b\b\b\b\b\b\b\b\b\b\b\b\b\b\b\b\b\b\b\b\b\b\b\b\b\b\b\b\b\b\b\b\b\b\b\b\b\b\b\b\b\b\b\b\b\b\b\b\b\b\b\b\b\b\b\b\b\b\b\b\b\b\b\b\b\b\b\b\b\r448/448 [==============================] - 25s 56ms/step - loss: 0.0720 - tp: 3548.0000 - fp: 242.0000 - tn: 10496.0000 - fn: 45.0000 - accuracy: 0.9800 - precision: 0.9361 - recall: 0.9875 - auc: 0.9923 - prc: 0.9582 - val_loss: 0.0669 - val_tp: 549.0000 - val_fp: 93.0000 - val_tn: 3409.0000 - val_fn: 2.0000 - val_accuracy: 0.9766 - val_precision: 0.8551 - val_recall: 0.9964 - val_auc: 0.9986 - val_prc: 0.9855\n",
            "Epoch 5/50\n",
            "448/448 [==============================] - 16s 36ms/step - loss: 0.0654 - tp: 3558.0000 - fp: 211.0000 - tn: 10527.0000 - fn: 35.0000 - accuracy: 0.9828 - precision: 0.9440 - recall: 0.9903 - auc: 0.9935 - prc: 0.9720 - val_loss: 0.0805 - val_tp: 550.0000 - val_fp: 87.0000 - val_tn: 3415.0000 - val_fn: 1.0000 - val_accuracy: 0.9783 - val_precision: 0.8634 - val_recall: 0.9982 - val_auc: 0.9983 - val_prc: 0.9811\n",
            "Epoch 6/50\n",
            "448/448 [==============================] - 16s 36ms/step - loss: 0.0584 - tp: 3564.0000 - fp: 193.0000 - tn: 10545.0000 - fn: 29.0000 - accuracy: 0.9845 - precision: 0.9486 - recall: 0.9919 - auc: 0.9942 - prc: 0.9729 - val_loss: 0.0822 - val_tp: 550.0000 - val_fp: 91.0000 - val_tn: 3411.0000 - val_fn: 1.0000 - val_accuracy: 0.9773 - val_precision: 0.8580 - val_recall: 0.9982 - val_auc: 0.9984 - val_prc: 0.9812\n",
            "Epoch 7/50\n",
            "447/448 [============================>.] - ETA: 0s - loss: 0.0601 - tp: 3560.0000 - fp: 196.0000 - tn: 10515.0000 - fn: 33.0000 - accuracy: 0.9840 - precision: 0.9478 - recall: 0.9908 - auc: 0.9934 - prc: 0.9710"
          ]
        },
        {
          "output_type": "stream",
          "name": "stderr",
          "text": [
            "WARNING:absl:Found untraced functions such as lstm_cell_layer_call_fn, lstm_cell_layer_call_and_return_conditional_losses, lstm_cell_1_layer_call_fn, lstm_cell_1_layer_call_and_return_conditional_losses while saving (showing 4 of 4). These functions will not be directly callable after loading.\n"
          ]
        },
        {
          "output_type": "stream",
          "name": "stdout",
          "text": [
            "INFO:tensorflow:Assets written to: best_temp/assets\n"
          ]
        },
        {
          "output_type": "stream",
          "name": "stderr",
          "text": [
            "INFO:tensorflow:Assets written to: best_temp/assets\n",
            "WARNING:absl:<keras.layers.recurrent.LSTMCell object at 0x7fe28254ba10> has the same name 'LSTMCell' as a built-in Keras object. Consider renaming <class 'keras.layers.recurrent.LSTMCell'> to avoid naming conflicts when loading with `tf.keras.models.load_model`. If renaming is not possible, pass the object in the `custom_objects` parameter of the load function.\n",
            "WARNING:absl:<keras.layers.recurrent.LSTMCell object at 0x7fe28248d0d0> has the same name 'LSTMCell' as a built-in Keras object. Consider renaming <class 'keras.layers.recurrent.LSTMCell'> to avoid naming conflicts when loading with `tf.keras.models.load_model`. If renaming is not possible, pass the object in the `custom_objects` parameter of the load function.\n"
          ]
        },
        {
          "output_type": "stream",
          "name": "stdout",
          "text": [
            "\b\b\b\b\b\b\b\b\b\b\b\b\b\b\b\b\b\b\b\b\b\b\b\b\b\b\b\b\b\b\b\b\b\b\b\b\b\b\b\b\b\b\b\b\b\b\b\b\b\b\b\b\b\b\b\b\b\b\b\b\b\b\b\b\b\b\b\b\b\b\b\b\b\b\b\b\b\b\b\b\b\b\b\b\b\b\b\b\b\b\b\b\b\b\b\b\b\b\b\b\b\b\b\b\b\b\b\b\b\b\b\b\b\b\b\b\b\b\b\b\b\b\b\b\b\b\b\b\b\b\b\b\b\b\b\b\b\b\b\b\b\b\b\b\b\b\b\b\b\b\b\b\b\b\b\b\b\b\b\b\b\b\b\b\b\b\b\b\b\b\b\b\b\b\b\b\b\b\b\b\b\b\b\b\b\b\b\b\b\b\b\b\b\b\b\b\b\b\b\b\b\b\b\b\b\b\b\b\b\b\b\r448/448 [==============================] - 25s 57ms/step - loss: 0.0600 - tp: 3560.0000 - fp: 196.0000 - tn: 10542.0000 - fn: 33.0000 - accuracy: 0.9840 - precision: 0.9478 - recall: 0.9908 - auc: 0.9934 - prc: 0.9710 - val_loss: 0.0569 - val_tp: 550.0000 - val_fp: 43.0000 - val_tn: 3459.0000 - val_fn: 1.0000 - val_accuracy: 0.9891 - val_precision: 0.9275 - val_recall: 0.9982 - val_auc: 0.9985 - val_prc: 0.9815\n",
            "Epoch 8/50\n",
            "447/448 [============================>.] - ETA: 0s - loss: 0.0551 - tp: 3563.0000 - fp: 188.0000 - tn: 10523.0000 - fn: 30.0000 - accuracy: 0.9848 - precision: 0.9499 - recall: 0.9917 - auc: 0.9942 - prc: 0.9719"
          ]
        },
        {
          "output_type": "stream",
          "name": "stderr",
          "text": [
            "WARNING:absl:Found untraced functions such as lstm_cell_layer_call_fn, lstm_cell_layer_call_and_return_conditional_losses, lstm_cell_1_layer_call_fn, lstm_cell_1_layer_call_and_return_conditional_losses while saving (showing 4 of 4). These functions will not be directly callable after loading.\n"
          ]
        },
        {
          "output_type": "stream",
          "name": "stdout",
          "text": [
            "INFO:tensorflow:Assets written to: best_temp/assets\n"
          ]
        },
        {
          "output_type": "stream",
          "name": "stderr",
          "text": [
            "INFO:tensorflow:Assets written to: best_temp/assets\n",
            "WARNING:absl:<keras.layers.recurrent.LSTMCell object at 0x7fe28254ba10> has the same name 'LSTMCell' as a built-in Keras object. Consider renaming <class 'keras.layers.recurrent.LSTMCell'> to avoid naming conflicts when loading with `tf.keras.models.load_model`. If renaming is not possible, pass the object in the `custom_objects` parameter of the load function.\n",
            "WARNING:absl:<keras.layers.recurrent.LSTMCell object at 0x7fe28248d0d0> has the same name 'LSTMCell' as a built-in Keras object. Consider renaming <class 'keras.layers.recurrent.LSTMCell'> to avoid naming conflicts when loading with `tf.keras.models.load_model`. If renaming is not possible, pass the object in the `custom_objects` parameter of the load function.\n"
          ]
        },
        {
          "output_type": "stream",
          "name": "stdout",
          "text": [
            "\b\b\b\b\b\b\b\b\b\b\b\b\b\b\b\b\b\b\b\b\b\b\b\b\b\b\b\b\b\b\b\b\b\b\b\b\b\b\b\b\b\b\b\b\b\b\b\b\b\b\b\b\b\b\b\b\b\b\b\b\b\b\b\b\b\b\b\b\b\b\b\b\b\b\b\b\b\b\b\b\b\b\b\b\b\b\b\b\b\b\b\b\b\b\b\b\b\b\b\b\b\b\b\b\b\b\b\b\b\b\b\b\b\b\b\b\b\b\b\b\b\b\b\b\b\b\b\b\b\b\b\b\b\b\b\b\b\b\b\b\b\b\b\b\b\b\b\b\b\b\b\b\b\b\b\b\b\b\b\b\b\b\b\b\b\b\b\b\b\b\b\b\b\b\b\b\b\b\b\b\b\b\b\b\b\b\b\b\b\b\b\b\b\b\b\b\b\b\b\b\b\b\b\b\b\b\b\b\b\b\b\r448/448 [==============================] - 25s 56ms/step - loss: 0.0550 - tp: 3563.0000 - fp: 188.0000 - tn: 10550.0000 - fn: 30.0000 - accuracy: 0.9848 - precision: 0.9499 - recall: 0.9917 - auc: 0.9942 - prc: 0.9719 - val_loss: 0.0535 - val_tp: 550.0000 - val_fp: 41.0000 - val_tn: 3461.0000 - val_fn: 1.0000 - val_accuracy: 0.9896 - val_precision: 0.9306 - val_recall: 0.9982 - val_auc: 0.9984 - val_prc: 0.9801\n",
            "Epoch 9/50\n",
            "448/448 [==============================] - 16s 36ms/step - loss: 0.0531 - tp: 3564.0000 - fp: 182.0000 - tn: 10556.0000 - fn: 29.0000 - accuracy: 0.9853 - precision: 0.9514 - recall: 0.9919 - auc: 0.9943 - prc: 0.9722 - val_loss: 0.0582 - val_tp: 550.0000 - val_fp: 51.0000 - val_tn: 3451.0000 - val_fn: 1.0000 - val_accuracy: 0.9872 - val_precision: 0.9151 - val_recall: 0.9982 - val_auc: 0.9985 - val_prc: 0.9819\n",
            "Epoch 10/50\n",
            "447/448 [============================>.] - ETA: 0s - loss: 0.0519 - tp: 3570.0000 - fp: 182.0000 - tn: 10529.0000 - fn: 23.0000 - accuracy: 0.9857 - precision: 0.9515 - recall: 0.9936 - auc: 0.9942 - prc: 0.9711"
          ]
        },
        {
          "output_type": "stream",
          "name": "stderr",
          "text": [
            "WARNING:absl:Found untraced functions such as lstm_cell_layer_call_fn, lstm_cell_layer_call_and_return_conditional_losses, lstm_cell_1_layer_call_fn, lstm_cell_1_layer_call_and_return_conditional_losses while saving (showing 4 of 4). These functions will not be directly callable after loading.\n"
          ]
        },
        {
          "output_type": "stream",
          "name": "stdout",
          "text": [
            "INFO:tensorflow:Assets written to: best_temp/assets\n"
          ]
        },
        {
          "output_type": "stream",
          "name": "stderr",
          "text": [
            "INFO:tensorflow:Assets written to: best_temp/assets\n",
            "WARNING:absl:<keras.layers.recurrent.LSTMCell object at 0x7fe28254ba10> has the same name 'LSTMCell' as a built-in Keras object. Consider renaming <class 'keras.layers.recurrent.LSTMCell'> to avoid naming conflicts when loading with `tf.keras.models.load_model`. If renaming is not possible, pass the object in the `custom_objects` parameter of the load function.\n",
            "WARNING:absl:<keras.layers.recurrent.LSTMCell object at 0x7fe28248d0d0> has the same name 'LSTMCell' as a built-in Keras object. Consider renaming <class 'keras.layers.recurrent.LSTMCell'> to avoid naming conflicts when loading with `tf.keras.models.load_model`. If renaming is not possible, pass the object in the `custom_objects` parameter of the load function.\n"
          ]
        },
        {
          "output_type": "stream",
          "name": "stdout",
          "text": [
            "\b\b\b\b\b\b\b\b\b\b\b\b\b\b\b\b\b\b\b\b\b\b\b\b\b\b\b\b\b\b\b\b\b\b\b\b\b\b\b\b\b\b\b\b\b\b\b\b\b\b\b\b\b\b\b\b\b\b\b\b\b\b\b\b\b\b\b\b\b\b\b\b\b\b\b\b\b\b\b\b\b\b\b\b\b\b\b\b\b\b\b\b\b\b\b\b\b\b\b\b\b\b\b\b\b\b\b\b\b\b\b\b\b\b\b\b\b\b\b\b\b\b\b\b\b\b\b\b\b\b\b\b\b\b\b\b\b\b\b\b\b\b\b\b\b\b\b\b\b\b\b\b\b\b\b\b\b\b\b\b\b\b\b\b\b\b\b\b\b\b\b\b\b\b\b\b\b\b\b\b\b\b\b\b\b\b\b\b\b\b\b\b\b\b\b\b\b\b\b\b\b\b\b\b\b\b\b\b\b\b\b\r448/448 [==============================] - 25s 55ms/step - loss: 0.0518 - tp: 3570.0000 - fp: 182.0000 - tn: 10556.0000 - fn: 23.0000 - accuracy: 0.9857 - precision: 0.9515 - recall: 0.9936 - auc: 0.9943 - prc: 0.9711 - val_loss: 0.0510 - val_tp: 550.0000 - val_fp: 37.0000 - val_tn: 3465.0000 - val_fn: 1.0000 - val_accuracy: 0.9906 - val_precision: 0.9370 - val_recall: 0.9982 - val_auc: 0.9985 - val_prc: 0.9818\n",
            "Epoch 11/50\n",
            "448/448 [==============================] - 16s 36ms/step - loss: 0.0513 - tp: 3570.0000 - fp: 183.0000 - tn: 10555.0000 - fn: 23.0000 - accuracy: 0.9856 - precision: 0.9512 - recall: 0.9936 - auc: 0.9935 - prc: 0.9634 - val_loss: 0.0991 - val_tp: 551.0000 - val_fp: 144.0000 - val_tn: 3358.0000 - val_fn: 0.0000e+00 - val_accuracy: 0.9645 - val_precision: 0.7928 - val_recall: 1.0000 - val_auc: 0.9988 - val_prc: 0.9850\n",
            "Epoch 12/50\n",
            "448/448 [==============================] - 16s 36ms/step - loss: 0.0498 - tp: 3573.0000 - fp: 187.0000 - tn: 10551.0000 - fn: 20.0000 - accuracy: 0.9856 - precision: 0.9503 - recall: 0.9944 - auc: 0.9943 - prc: 0.9695 - val_loss: 0.0617 - val_tp: 551.0000 - val_fp: 91.0000 - val_tn: 3411.0000 - val_fn: 0.0000e+00 - val_accuracy: 0.9775 - val_precision: 0.8583 - val_recall: 1.0000 - val_auc: 0.9988 - val_prc: 0.9854\n",
            "Epoch 13/50\n",
            "448/448 [==============================] - 16s 36ms/step - loss: 0.0468 - tp: 3575.0000 - fp: 179.0000 - tn: 10559.0000 - fn: 18.0000 - accuracy: 0.9863 - precision: 0.9523 - recall: 0.9950 - auc: 0.9949 - prc: 0.9723 - val_loss: 0.0735 - val_tp: 551.0000 - val_fp: 108.0000 - val_tn: 3394.0000 - val_fn: 0.0000e+00 - val_accuracy: 0.9734 - val_precision: 0.8361 - val_recall: 1.0000 - val_auc: 0.9990 - val_prc: 0.9872\n",
            "Epoch 14/50\n",
            "448/448 [==============================] - 16s 36ms/step - loss: 0.0495 - tp: 3574.0000 - fp: 177.0000 - tn: 10561.0000 - fn: 19.0000 - accuracy: 0.9863 - precision: 0.9528 - recall: 0.9947 - auc: 0.9944 - prc: 0.9693 - val_loss: 0.1015 - val_tp: 551.0000 - val_fp: 157.0000 - val_tn: 3345.0000 - val_fn: 0.0000e+00 - val_accuracy: 0.9613 - val_precision: 0.7782 - val_recall: 1.0000 - val_auc: 0.9988 - val_prc: 0.9854\n",
            "Epoch 15/50\n",
            "448/448 [==============================] - 16s 36ms/step - loss: 0.0477 - tp: 3576.0000 - fp: 186.0000 - tn: 10552.0000 - fn: 17.0000 - accuracy: 0.9858 - precision: 0.9506 - recall: 0.9953 - auc: 0.9948 - prc: 0.9740 - val_loss: 0.1300 - val_tp: 551.0000 - val_fp: 190.0000 - val_tn: 3312.0000 - val_fn: 0.0000e+00 - val_accuracy: 0.9531 - val_precision: 0.7436 - val_recall: 1.0000 - val_auc: 0.9986 - val_prc: 0.9830\n",
            "Epoch 16/50\n",
            "448/448 [==============================] - 16s 36ms/step - loss: 0.0456 - tp: 3582.0000 - fp: 181.0000 - tn: 10557.0000 - fn: 11.0000 - accuracy: 0.9866 - precision: 0.9519 - recall: 0.9969 - auc: 0.9948 - prc: 0.9720 - val_loss: 0.0663 - val_tp: 551.0000 - val_fp: 113.0000 - val_tn: 3389.0000 - val_fn: 0.0000e+00 - val_accuracy: 0.9721 - val_precision: 0.8298 - val_recall: 1.0000 - val_auc: 0.9990 - val_prc: 0.9871\n",
            "Epoch 17/50\n",
            "448/448 [==============================] - 16s 36ms/step - loss: 0.0445 - tp: 3581.0000 - fp: 175.0000 - tn: 10563.0000 - fn: 12.0000 - accuracy: 0.9870 - precision: 0.9534 - recall: 0.9967 - auc: 0.9949 - prc: 0.9708 - val_loss: 0.0602 - val_tp: 551.0000 - val_fp: 105.0000 - val_tn: 3397.0000 - val_fn: 0.0000e+00 - val_accuracy: 0.9741 - val_precision: 0.8399 - val_recall: 1.0000 - val_auc: 0.9990 - val_prc: 0.9872\n",
            "Epoch 18/50\n",
            "447/448 [============================>.] - ETA: 0s - loss: 0.0427 - tp: 3582.0000 - fp: 174.0000 - tn: 10537.0000 - fn: 11.0000 - accuracy: 0.9871 - precision: 0.9537 - recall: 0.9969 - auc: 0.9952 - prc: 0.9726"
          ]
        },
        {
          "output_type": "stream",
          "name": "stderr",
          "text": [
            "WARNING:absl:Found untraced functions such as lstm_cell_layer_call_fn, lstm_cell_layer_call_and_return_conditional_losses, lstm_cell_1_layer_call_fn, lstm_cell_1_layer_call_and_return_conditional_losses while saving (showing 4 of 4). These functions will not be directly callable after loading.\n"
          ]
        },
        {
          "output_type": "stream",
          "name": "stdout",
          "text": [
            "INFO:tensorflow:Assets written to: best_temp/assets\n"
          ]
        },
        {
          "output_type": "stream",
          "name": "stderr",
          "text": [
            "INFO:tensorflow:Assets written to: best_temp/assets\n",
            "WARNING:absl:<keras.layers.recurrent.LSTMCell object at 0x7fe28254ba10> has the same name 'LSTMCell' as a built-in Keras object. Consider renaming <class 'keras.layers.recurrent.LSTMCell'> to avoid naming conflicts when loading with `tf.keras.models.load_model`. If renaming is not possible, pass the object in the `custom_objects` parameter of the load function.\n",
            "WARNING:absl:<keras.layers.recurrent.LSTMCell object at 0x7fe28248d0d0> has the same name 'LSTMCell' as a built-in Keras object. Consider renaming <class 'keras.layers.recurrent.LSTMCell'> to avoid naming conflicts when loading with `tf.keras.models.load_model`. If renaming is not possible, pass the object in the `custom_objects` parameter of the load function.\n"
          ]
        },
        {
          "output_type": "stream",
          "name": "stdout",
          "text": [
            "\b\b\b\b\b\b\b\b\b\b\b\b\b\b\b\b\b\b\b\b\b\b\b\b\b\b\b\b\b\b\b\b\b\b\b\b\b\b\b\b\b\b\b\b\b\b\b\b\b\b\b\b\b\b\b\b\b\b\b\b\b\b\b\b\b\b\b\b\b\b\b\b\b\b\b\b\b\b\b\b\b\b\b\b\b\b\b\b\b\b\b\b\b\b\b\b\b\b\b\b\b\b\b\b\b\b\b\b\b\b\b\b\b\b\b\b\b\b\b\b\b\b\b\b\b\b\b\b\b\b\b\b\b\b\b\b\b\b\b\b\b\b\b\b\b\b\b\b\b\b\b\b\b\b\b\b\b\b\b\b\b\b\b\b\b\b\b\b\b\b\b\b\b\b\b\b\b\b\b\b\b\b\b\b\b\b\b\b\b\b\b\b\b\b\b\b\b\b\b\b\b\b\b\b\b\b\b\b\b\b\b\r448/448 [==============================] - 26s 57ms/step - loss: 0.0426 - tp: 3582.0000 - fp: 174.0000 - tn: 10564.0000 - fn: 11.0000 - accuracy: 0.9871 - precision: 0.9537 - recall: 0.9969 - auc: 0.9952 - prc: 0.9726 - val_loss: 0.0291 - val_tp: 551.0000 - val_fp: 28.0000 - val_tn: 3474.0000 - val_fn: 0.0000e+00 - val_accuracy: 0.9931 - val_precision: 0.9516 - val_recall: 1.0000 - val_auc: 0.9990 - val_prc: 0.9873\n"
          ]
        }
      ],
      "source": [
        "history = model.fit(train, epochs=50, validation_data=val, callbacks=[checkpoint, earlystop], class_weight=class_weights)"
      ]
    },
    {
      "cell_type": "code",
      "execution_count": 39,
      "id": "c343aa22",
      "metadata": {
        "id": "c343aa22"
      },
      "outputs": [],
      "source": [
        "def plot_metrics(history):\n",
        "  plt.figure(figsize=(10, 10))\n",
        "  metrics = ['loss', 'prc', 'precision', 'recall']\n",
        "  for n, metric in enumerate(metrics):\n",
        "    plt.subplot(2, 2, n+1)\n",
        "    plt.plot(history.epoch, history.history[metric], label='Train')\n",
        "    plt.plot(history.epoch, history.history['val_'+metric], label='Val', linestyle='--')\n",
        "    plt.xlabel('Epoch')\n",
        "    plt.ylabel(metric)\n",
        "  plt.subplots_adjust(hspace=0.3, wspace=0.3)"
      ]
    },
    {
      "cell_type": "code",
      "source": [
        "plot_metrics(history)"
      ],
      "metadata": {
        "colab": {
          "base_uri": "https://localhost:8080/",
          "height": 608
        },
        "id": "hcjHfof2QGtK",
        "outputId": "0b1757a5-f9b8-468b-bf6a-a6af11fb8d4f"
      },
      "id": "hcjHfof2QGtK",
      "execution_count": 40,
      "outputs": [
        {
          "output_type": "display_data",
          "data": {
            "text/plain": [
              "<Figure size 720x720 with 4 Axes>"
            ],
            "image/png": "[encoded data removed]"
          },
          "metadata": {
            "needs_background": "light"
          }
        }
      ]
    },
    {
      "cell_type": "code",
      "source": [
        "model = tf.keras.models.load_model('best_temp/')"
      ],
      "metadata": {
        "id": "5WNy3ElbQI_K"
      },
      "id": "5WNy3ElbQI_K",
      "execution_count": 41,
      "outputs": []
    },
    {
      "cell_type": "code",
      "source": [
        "test_data.head()"
      ],
      "metadata": {
        "id": "JxzYQbnwVLVQ",
        "colab": {
          "base_uri": "https://localhost:8080/",
          "height": 238
        },
        "outputId": "99636940-bf4b-4f2f-d0e2-64a9c00eb016"
      },
      "id": "JxzYQbnwVLVQ",
      "execution_count": 42,
      "outputs": [
        {
          "output_type": "execute_result",
          "data": {
            "text/plain": [
              "                     Temperature  Humidity     Light       CO2  HumidityRatio  \\\n",
              "date                                                                            \n",
              "2015-02-16 23:04:00    -0.612816  0.935607 -0.649743  0.320997       0.616394   \n",
              "2015-02-16 23:05:00    -0.651990  0.924863 -0.649743  0.322794       0.590135   \n",
              "2015-02-16 23:06:00    -0.691165  0.935607 -0.649743  0.328187       0.583417   \n",
              "2015-02-16 23:06:59    -0.612816  0.959244 -0.649743  0.313806       0.637907   \n",
              "2015-02-16 23:08:00    -0.691165  0.935607 -0.649743  0.322195       0.583417   \n",
              "\n",
              "                      Day Sin   Day Cos  \n",
              "date                                     \n",
              "2015-02-16 23:04:00 -0.324065  1.305729  \n",
              "2015-02-16 23:05:00 -0.318136  1.307229  \n",
              "2015-02-16 23:06:00 -0.312200  1.308704  \n",
              "2015-02-16 23:06:59 -0.306357  1.310128  \n",
              "2015-02-16 23:08:00 -0.300310  1.311573  "
            ],
            "text/html": [
              "\n",
              "  <div id=\"df-c5fa433e-e55e-47e7-a07e-21793ec58aca\">\n",
              "    <div class=\"colab-df-container\">\n",
              "      <div>\n",
              "<style scoped>\n",
              "    .dataframe tbody tr th:only-of-type {\n",
              "        vertical-align: middle;\n",
              "    }\n",
              "\n",
              "    .dataframe tbody tr th {\n",
              "        vertical-align: top;\n",
              "    }\n",
              "\n",
              "    .dataframe thead th {\n",
              "        text-align: right;\n",
              "    }\n",
              "</style>\n",
              "<table border=\"1\" class=\"dataframe\">\n",
              "  <thead>\n",
              "    <tr style=\"text-align: right;\">\n",
              "      <th></th>\n",
              "      <th>Temperature</th>\n",
              "      <th>Humidity</th>\n",
              "      <th>Light</th>\n",
              "      <th>CO2</th>\n",
              "      <th>HumidityRatio</th>\n",
              "      <th>Day Sin</th>\n",
              "      <th>Day Cos</th>\n",
              "    </tr>\n",
              "    <tr>\n",
              "      <th>date</th>\n",
              "      <th></th>\n",
              "      <th></th>\n",
              "      <th></th>\n",
              "      <th></th>\n",
              "      <th></th>\n",
              "      <th></th>\n",
              "      <th></th>\n",
              "    </tr>\n",
              "  </thead>\n",
              "  <tbody>\n",
              "    <tr>\n",
              "      <th>2015-02-16 23:04:00</th>\n",
              "      <td>-0.612816</td>\n",
              "      <td>0.935607</td>\n",
              "      <td>-0.649743</td>\n",
              "      <td>0.320997</td>\n",
              "      <td>0.616394</td>\n",
              "      <td>-0.324065</td>\n",
              "      <td>1.305729</td>\n",
              "    </tr>\n",
              "    <tr>\n",
              "      <th>2015-02-16 23:05:00</th>\n",
              "      <td>-0.651990</td>\n",
              "      <td>0.924863</td>\n",
              "      <td>-0.649743</td>\n",
              "      <td>0.322794</td>\n",
              "      <td>0.590135</td>\n",
              "      <td>-0.318136</td>\n",
              "      <td>1.307229</td>\n",
              "    </tr>\n",
              "    <tr>\n",
              "      <th>2015-02-16 23:06:00</th>\n",
              "      <td>-0.691165</td>\n",
              "      <td>0.935607</td>\n",
              "      <td>-0.649743</td>\n",
              "      <td>0.328187</td>\n",
              "      <td>0.583417</td>\n",
              "      <td>-0.312200</td>\n",
              "      <td>1.308704</td>\n",
              "    </tr>\n",
              "    <tr>\n",
              "      <th>2015-02-16 23:06:59</th>\n",
              "      <td>-0.612816</td>\n",
              "      <td>0.959244</td>\n",
              "      <td>-0.649743</td>\n",
              "      <td>0.313806</td>\n",
              "      <td>0.637907</td>\n",
              "      <td>-0.306357</td>\n",
              "      <td>1.310128</td>\n",
              "    </tr>\n",
              "    <tr>\n",
              "      <th>2015-02-16 23:08:00</th>\n",
              "      <td>-0.691165</td>\n",
              "      <td>0.935607</td>\n",
              "      <td>-0.649743</td>\n",
              "      <td>0.322195</td>\n",
              "      <td>0.583417</td>\n",
              "      <td>-0.300310</td>\n",
              "      <td>1.311573</td>\n",
              "    </tr>\n",
              "  </tbody>\n",
              "</table>\n",
              "</div>\n",
              "      <button class=\"colab-df-convert\" onclick=\"convertToInteractive('df-c5fa433e-e55e-47e7-a07e-21793ec58aca')\"\n",
              "              title=\"Convert this dataframe to an interactive table.\"\n",
              "              style=\"display:none;\">\n",
              "        \n",
              "  <svg xmlns=\"http://www.w3.org/2000/svg\" height=\"24px\"viewBox=\"0 0 24 24\"\n",
              "       width=\"24px\">\n",
              "    <path d=\"M0 0h24v24H0V0z\" fill=\"none\"/>\n",
              "    <path d=\"M18.56 5.44l.94 2.06.94-2.06 2.06-.94-2.06-.94-.94-2.06-.94 2.06-2.06.94zm-11 1L8.5 8.5l.94-2.06 2.06-.94-2.06-.94L8.5 2.5l-.94 2.06-2.06.94zm10 10l.94 2.06.94-2.06 2.06-.94-2.06-.94-.94-2.06-.94 2.06-2.06.94z\"/><path d=\"M17.41 7.96l-1.37-1.37c-.4-.4-.92-.59-1.43-.59-.52 0-1.04.2-1.43.59L10.3 9.45l-7.72 7.72c-.78.78-.78 2.05 0 2.83L4 21.41c.39.39.9.59 1.41.59.51 0 1.02-.2 1.41-.59l7.78-7.78 2.81-2.81c.8-.78.8-2.07 0-2.86zM5.41 20L4 18.59l7.72-7.72 1.47 1.35L5.41 20z\"/>\n",
              "  </svg>\n",
              "      </button>\n",
              "      \n",
              "  <style>\n",
              "    .colab-df-container {\n",
              "      display:flex;\n",
              "      flex-wrap:wrap;\n",
              "      gap: 12px;\n",
              "    }\n",
              "\n",
              "    .colab-df-convert {\n",
              "      background-color: #E8F0FE;\n",
              "      border: none;\n",
              "      border-radius: 50%;\n",
              "      cursor: pointer;\n",
              "      display: none;\n",
              "      fill: #1967D2;\n",
              "      height: 32px;\n",
              "      padding: 0 0 0 0;\n",
              "      width: 32px;\n",
              "    }\n",
              "\n",
              "    .colab-df-convert:hover {\n",
              "      background-color: #E2EBFA;\n",
              "      box-shadow: 0px 1px 2px rgba(60, 64, 67, 0.3), 0px 1px 3px 1px rgba(60, 64, 67, 0.15);\n",
              "      fill: #174EA6;\n",
              "    }\n",
              "\n",
              "    [theme=dark] .colab-df-convert {\n",
              "      background-color: #3B4455;\n",
              "      fill: #D2E3FC;\n",
              "    }\n",
              "\n",
              "    [theme=dark] .colab-df-convert:hover {\n",
              "      background-color: #434B5C;\n",
              "      box-shadow: 0px 1px 3px 1px rgba(0, 0, 0, 0.15);\n",
              "      filter: drop-shadow(0px 1px 2px rgba(0, 0, 0, 0.3));\n",
              "      fill: #FFFFFF;\n",
              "    }\n",
              "  </style>\n",
              "\n",
              "      <script>\n",
              "        const buttonEl =\n",
              "          document.querySelector('#df-c5fa433e-e55e-47e7-a07e-21793ec58aca button.colab-df-convert');\n",
              "        buttonEl.style.display =\n",
              "          google.colab.kernel.accessAllowed ? 'block' : 'none';\n",
              "\n",
              "        async function convertToInteractive(key) {\n",
              "          const element = document.querySelector('#df-c5fa433e-e55e-47e7-a07e-21793ec58aca');\n",
              "          const dataTable =\n",
              "            await google.colab.kernel.invokeFunction('convertToInteractive',\n",
              "                                                     [key], {});\n",
              "          if (!dataTable) return;\n",
              "\n",
              "          const docLinkHtml = 'Like what you see? Visit the ' +\n",
              "            '<a target=\"_blank\" href=https://colab.research.google.com/notebooks/data_table.ipynb>data table notebook</a>'\n",
              "            + ' to learn more about interactive tables.';\n",
              "          element.innerHTML = '';\n",
              "          dataTable['output_type'] = 'display_data';\n",
              "          await google.colab.output.renderOutput(dataTable, element);\n",
              "          const docLink = document.createElement('div');\n",
              "          docLink.innerHTML = docLinkHtml;\n",
              "          element.appendChild(docLink);\n",
              "        }\n",
              "      </script>\n",
              "    </div>\n",
              "  </div>\n",
              "  "
            ]
          },
          "metadata": {},
          "execution_count": 42
        }
      ]
    },
    {
      "cell_type": "code",
      "source": [
        "# Lets try non sequential loader\n",
        "def forecasting(model,series, window_size=24, batchsize=32):\n",
        "    AUTOTUNE = tf.data.experimental.AUTOTUNE\n",
        "    dataset = tf.data.Dataset.from_tensor_slices(series)\n",
        "    dataset = dataset.window(window_size, drop_remainder=True, shift=1)\n",
        "    dataset = dataset.flat_map(lambda window: window.batch(window_size))\n",
        "    dataset = dataset.cache().batch(batchsize).prefetch(AUTOTUNE)\n",
        "    return model.predict(dataset)"
      ],
      "metadata": {
        "id": "uzX8wOU2ZN_G"
      },
      "id": "uzX8wOU2ZN_G",
      "execution_count": 43,
      "outputs": []
    },
    {
      "cell_type": "code",
      "source": [
        "window_size = 60\n",
        "prediction = forecasting(model, test_data.to_numpy(), window_size=window_size)\n",
        "prediction = np.where(prediction > 0.5, 1, 0)\n",
        "prediction.shape"
      ],
      "metadata": {
        "colab": {
          "base_uri": "https://localhost:8080/"
        },
        "id": "_8gO_lO2hRhL",
        "outputId": "ac654e45-0dfb-4a72-eb6f-b0af8c567f15"
      },
      "id": "_8gO_lO2hRhL",
      "execution_count": 44,
      "outputs": [
        {
          "output_type": "execute_result",
          "data": {
            "text/plain": [
              "(1997, 1)"
            ]
          },
          "metadata": {},
          "execution_count": 44
        }
      ]
    },
    {
      "cell_type": "code",
      "source": [
        "target = test_label.to_numpy()[window_size-1:]   # Because all the previous values will be dropped!\n",
        "target.shape"
      ],
      "metadata": {
        "colab": {
          "base_uri": "https://localhost:8080/"
        },
        "id": "B5EWtjVjh2TU",
        "outputId": "646bdcc4-02d6-4483-a072-c3390d71bb0e"
      },
      "id": "B5EWtjVjh2TU",
      "execution_count": 48,
      "outputs": [
        {
          "output_type": "execute_result",
          "data": {
            "text/plain": [
              "(1997,)"
            ]
          },
          "metadata": {},
          "execution_count": 48
        }
      ]
    },
    {
      "cell_type": "code",
      "source": [
        "tf.keras.metrics.Accuracy()(target, tf.squeeze(prediction, axis=-1))"
      ],
      "metadata": {
        "colab": {
          "base_uri": "https://localhost:8080/"
        },
        "id": "dhCxWcNZiXKr",
        "outputId": "67df0b4b-3361-4b71-d75c-655888d86fad"
      },
      "id": "dhCxWcNZiXKr",
      "execution_count": 49,
      "outputs": [
        {
          "output_type": "execute_result",
          "data": {
            "text/plain": [
              "<tf.Tensor: shape=(), dtype=float32, numpy=0.99649477>"
            ]
          },
          "metadata": {},
          "execution_count": 49
        }
      ]
    },
    {
      "cell_type": "code",
      "source": [
        ""
      ],
      "metadata": {
        "id": "D-tqzR1FiuTt"
      },
      "id": "D-tqzR1FiuTt",
      "execution_count": 46,
      "outputs": []
    }
  ],
  "metadata": {
    "kernelspec": {
      "display_name": "tf2_deepai",
      "language": "python",
      "name": "tf2_deepai"
    },
    "language_info": {
      "codemirror_mode": {
        "name": "ipython",
        "version": 3
      },
      "file_extension": ".py",
      "mimetype": "text/x-python",
      "name": "python",
      "nbconvert_exporter": "python",
      "pygments_lexer": "ipython3",
      "version": "3.9.12"
    },
    "colab": {
      "name": "Occupancy_unbalanced_multivariate_timeseries.ipynb",
      "provenance": []
    },
    "accelerator": "GPU"
  },
  "nbformat": 4,
  "nbformat_minor": 5
}