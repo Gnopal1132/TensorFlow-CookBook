{
 "cells": [
  {
   "cell_type": "code",
   "execution_count": 10,
   "metadata": {
    "id": "QNoWUKQt0OMz"
   },
   "outputs": [],
   "source": [
    "import tensorflow as tf\n",
    "import pandas as pd\n",
    "import numpy as np\n",
    "import string"
   ]
  },
  {
   "cell_type": "code",
   "execution_count": 40,
   "metadata": {
    "colab": {
     "base_uri": "https://localhost:8080/",
     "height": 363
    },
    "id": "dq5azElc0Z56",
    "outputId": "3bab3cca-364a-47c0-dbb3-272c5de0d4cd"
   },
   "outputs": [
    {
     "data": {
      "text/html": [
       "\n",
       "  <div id=\"df-987bae02-0e72-453b-b647-30baf1ed62c6\">\n",
       "    <div class=\"colab-df-container\">\n",
       "      <div>\n",
       "<style scoped>\n",
       "    .dataframe tbody tr th:only-of-type {\n",
       "        vertical-align: middle;\n",
       "    }\n",
       "\n",
       "    .dataframe tbody tr th {\n",
       "        vertical-align: top;\n",
       "    }\n",
       "\n",
       "    .dataframe thead th {\n",
       "        text-align: right;\n",
       "    }\n",
       "</style>\n",
       "<table border=\"1\" class=\"dataframe\">\n",
       "  <thead>\n",
       "    <tr style=\"text-align: right;\">\n",
       "      <th></th>\n",
       "      <th>text</th>\n",
       "      <th>env_problems</th>\n",
       "      <th>pollution</th>\n",
       "      <th>treatment</th>\n",
       "      <th>climate</th>\n",
       "      <th>biomonitoring</th>\n",
       "    </tr>\n",
       "  </thead>\n",
       "  <tbody>\n",
       "    <tr>\n",
       "      <th>0</th>\n",
       "      <td>In the Southern Bug basin wastewater is discha...</td>\n",
       "      <td>1</td>\n",
       "      <td>1.0</td>\n",
       "      <td>NaN</td>\n",
       "      <td>NaN</td>\n",
       "      <td>NaN</td>\n",
       "    </tr>\n",
       "    <tr>\n",
       "      <th>1</th>\n",
       "      <td>This amount is distributed as follows: urban a...</td>\n",
       "      <td>1</td>\n",
       "      <td>1.0</td>\n",
       "      <td>NaN</td>\n",
       "      <td>NaN</td>\n",
       "      <td>NaN</td>\n",
       "    </tr>\n",
       "    <tr>\n",
       "      <th>2</th>\n",
       "      <td>Despite the similar volumes of discharged wast...</td>\n",
       "      <td>1</td>\n",
       "      <td>1.0</td>\n",
       "      <td>NaN</td>\n",
       "      <td>NaN</td>\n",
       "      <td>NaN</td>\n",
       "    </tr>\n",
       "    <tr>\n",
       "      <th>3</th>\n",
       "      <td>They bring 84% of organic pollution 86% of pho...</td>\n",
       "      <td>1</td>\n",
       "      <td>1.0</td>\n",
       "      <td>NaN</td>\n",
       "      <td>NaN</td>\n",
       "      <td>NaN</td>\n",
       "    </tr>\n",
       "    <tr>\n",
       "      <th>4</th>\n",
       "      <td>The input of the industry is between 7–21% and...</td>\n",
       "      <td>1</td>\n",
       "      <td>1.0</td>\n",
       "      <td>NaN</td>\n",
       "      <td>NaN</td>\n",
       "      <td>NaN</td>\n",
       "    </tr>\n",
       "    <tr>\n",
       "      <th>5</th>\n",
       "      <td>Settlements that do not have sewage systems us...</td>\n",
       "      <td>1</td>\n",
       "      <td>NaN</td>\n",
       "      <td>1.0</td>\n",
       "      <td>NaN</td>\n",
       "      <td>NaN</td>\n",
       "    </tr>\n",
       "    <tr>\n",
       "      <th>6</th>\n",
       "      <td>Equipment of WWTPs is very worn-out the amount...</td>\n",
       "      <td>1</td>\n",
       "      <td>NaN</td>\n",
       "      <td>1.0</td>\n",
       "      <td>NaN</td>\n",
       "      <td>NaN</td>\n",
       "    </tr>\n",
       "    <tr>\n",
       "      <th>7</th>\n",
       "      <td>The current state of sewage networks is a sour...</td>\n",
       "      <td>1</td>\n",
       "      <td>NaN</td>\n",
       "      <td>1.0</td>\n",
       "      <td>NaN</td>\n",
       "      <td>NaN</td>\n",
       "    </tr>\n",
       "    <tr>\n",
       "      <th>8</th>\n",
       "      <td>Consequently in Ukraine on average 2 accidents...</td>\n",
       "      <td>1</td>\n",
       "      <td>1.0</td>\n",
       "      <td>NaN</td>\n",
       "      <td>NaN</td>\n",
       "      <td>NaN</td>\n",
       "    </tr>\n",
       "    <tr>\n",
       "      <th>9</th>\n",
       "      <td>The load of pollutants from accidental dischar...</td>\n",
       "      <td>0</td>\n",
       "      <td>NaN</td>\n",
       "      <td>NaN</td>\n",
       "      <td>NaN</td>\n",
       "      <td>NaN</td>\n",
       "    </tr>\n",
       "  </tbody>\n",
       "</table>\n",
       "</div>\n",
       "      <button class=\"colab-df-convert\" onclick=\"convertToInteractive('df-987bae02-0e72-453b-b647-30baf1ed62c6')\"\n",
       "              title=\"Convert this dataframe to an interactive table.\"\n",
       "              style=\"display:none;\">\n",
       "        \n",
       "  <svg xmlns=\"http://www.w3.org/2000/svg\" height=\"24px\"viewBox=\"0 0 24 24\"\n",
       "       width=\"24px\">\n",
       "    <path d=\"M0 0h24v24H0V0z\" fill=\"none\"/>\n",
       "    <path d=\"M18.56 5.44l.94 2.06.94-2.06 2.06-.94-2.06-.94-.94-2.06-.94 2.06-2.06.94zm-11 1L8.5 8.5l.94-2.06 2.06-.94-2.06-.94L8.5 2.5l-.94 2.06-2.06.94zm10 10l.94 2.06.94-2.06 2.06-.94-2.06-.94-.94-2.06-.94 2.06-2.06.94z\"/><path d=\"M17.41 7.96l-1.37-1.37c-.4-.4-.92-.59-1.43-.59-.52 0-1.04.2-1.43.59L10.3 9.45l-7.72 7.72c-.78.78-.78 2.05 0 2.83L4 21.41c.39.39.9.59 1.41.59.51 0 1.02-.2 1.41-.59l7.78-7.78 2.81-2.81c.8-.78.8-2.07 0-2.86zM5.41 20L4 18.59l7.72-7.72 1.47 1.35L5.41 20z\"/>\n",
       "  </svg>\n",
       "      </button>\n",
       "      \n",
       "  <style>\n",
       "    .colab-df-container {\n",
       "      display:flex;\n",
       "      flex-wrap:wrap;\n",
       "      gap: 12px;\n",
       "    }\n",
       "\n",
       "    .colab-df-convert {\n",
       "      background-color: #E8F0FE;\n",
       "      border: none;\n",
       "      border-radius: 50%;\n",
       "      cursor: pointer;\n",
       "      display: none;\n",
       "      fill: #1967D2;\n",
       "      height: 32px;\n",
       "      padding: 0 0 0 0;\n",
       "      width: 32px;\n",
       "    }\n",
       "\n",
       "    .colab-df-convert:hover {\n",
       "      background-color: #E2EBFA;\n",
       "      box-shadow: 0px 1px 2px rgba(60, 64, 67, 0.3), 0px 1px 3px 1px rgba(60, 64, 67, 0.15);\n",
       "      fill: #174EA6;\n",
       "    }\n",
       "\n",
       "    [theme=dark] .colab-df-convert {\n",
       "      background-color: #3B4455;\n",
       "      fill: #D2E3FC;\n",
       "    }\n",
       "\n",
       "    [theme=dark] .colab-df-convert:hover {\n",
       "      background-color: #434B5C;\n",
       "      box-shadow: 0px 1px 3px 1px rgba(0, 0, 0, 0.15);\n",
       "      filter: drop-shadow(0px 1px 2px rgba(0, 0, 0, 0.3));\n",
       "      fill: #FFFFFF;\n",
       "    }\n",
       "  </style>\n",
       "\n",
       "      <script>\n",
       "        const buttonEl =\n",
       "          document.querySelector('#df-987bae02-0e72-453b-b647-30baf1ed62c6 button.colab-df-convert');\n",
       "        buttonEl.style.display =\n",
       "          google.colab.kernel.accessAllowed ? 'block' : 'none';\n",
       "\n",
       "        async function convertToInteractive(key) {\n",
       "          const element = document.querySelector('#df-987bae02-0e72-453b-b647-30baf1ed62c6');\n",
       "          const dataTable =\n",
       "            await google.colab.kernel.invokeFunction('convertToInteractive',\n",
       "                                                     [key], {});\n",
       "          if (!dataTable) return;\n",
       "\n",
       "          const docLinkHtml = 'Like what you see? Visit the ' +\n",
       "            '<a target=\"_blank\" href=https://colab.research.google.com/notebooks/data_table.ipynb>data table notebook</a>'\n",
       "            + ' to learn more about interactive tables.';\n",
       "          element.innerHTML = '';\n",
       "          dataTable['output_type'] = 'display_data';\n",
       "          await google.colab.output.renderOutput(dataTable, element);\n",
       "          const docLink = document.createElement('div');\n",
       "          docLink.innerHTML = docLinkHtml;\n",
       "          element.appendChild(docLink);\n",
       "        }\n",
       "      </script>\n",
       "    </div>\n",
       "  </div>\n",
       "  "
      ],
      "text/plain": [
       "                                                text  env_problems  pollution  \\\n",
       "0  In the Southern Bug basin wastewater is discha...             1        1.0   \n",
       "1  This amount is distributed as follows: urban a...             1        1.0   \n",
       "2  Despite the similar volumes of discharged wast...             1        1.0   \n",
       "3  They bring 84% of organic pollution 86% of pho...             1        1.0   \n",
       "4  The input of the industry is between 7–21% and...             1        1.0   \n",
       "5  Settlements that do not have sewage systems us...             1        NaN   \n",
       "6  Equipment of WWTPs is very worn-out the amount...             1        NaN   \n",
       "7  The current state of sewage networks is a sour...             1        NaN   \n",
       "8  Consequently in Ukraine on average 2 accidents...             1        1.0   \n",
       "9  The load of pollutants from accidental dischar...             0        NaN   \n",
       "\n",
       "   treatment  climate  biomonitoring  \n",
       "0        NaN      NaN            NaN  \n",
       "1        NaN      NaN            NaN  \n",
       "2        NaN      NaN            NaN  \n",
       "3        NaN      NaN            NaN  \n",
       "4        NaN      NaN            NaN  \n",
       "5        1.0      NaN            NaN  \n",
       "6        1.0      NaN            NaN  \n",
       "7        1.0      NaN            NaN  \n",
       "8        NaN      NaN            NaN  \n",
       "9        NaN      NaN            NaN  "
      ]
     },
     "execution_count": 40,
     "metadata": {},
     "output_type": "execute_result"
    }
   ],
   "source": [
    "PATH = '/content/water_problem_nlp_en_for_Kaggle_100.csv'\n",
    "dataset = pd.read_csv(PATH, sep=\";\")\n",
    "dataset.head(10)"
   ]
  },
  {
   "cell_type": "code",
   "execution_count": 41,
   "metadata": {
    "id": "hghsqYu-0jHC"
   },
   "outputs": [],
   "source": [
    "# Lets replace NaN with 0, as its multilabel problem we need to format it properly\n",
    "dataset.fillna(value=0, inplace=True)"
   ]
  },
  {
   "cell_type": "code",
   "execution_count": 42,
   "metadata": {
    "colab": {
     "base_uri": "https://localhost:8080/"
    },
    "id": "SWRpHiXw2YGD",
    "outputId": "2819f77a-8aff-44d6-b6a6-913e90777421"
   },
   "outputs": [
    {
     "data": {
      "text/plain": [
       "[1.0, 1.0, 1.0, 0.0, 0.0]"
      ]
     },
     "execution_count": 42,
     "metadata": {},
     "output_type": "execute_result"
    }
   ],
   "source": [
    "list(dataset.iloc[12, 1:].to_numpy().astype(np.float32))"
   ]
  },
  {
   "cell_type": "code",
   "execution_count": 43,
   "metadata": {
    "id": "cZlSbRa51nSW"
   },
   "outputs": [],
   "source": [
    "def clean_string(dataframe, field):\n",
    "  dataframe[field] = dataframe[field].str.replace(\"[{}]\".format(string.punctuation), '')\n",
    "  dataframe[field] = dataframe[field].str.lower()\n",
    "\n",
    "  lines = []\n",
    "  target = []\n",
    "\n",
    "  for idx, text in enumerate(dataframe[field].to_numpy()):\n",
    "\n",
    "    if text != '':\n",
    "      lines.append(text.strip())\n",
    "      target.append(list(dataset.iloc[idx, 1:].to_numpy().astype(np.float32)))\n",
    "  \n",
    "  return lines, target"
   ]
  },
  {
   "cell_type": "code",
   "execution_count": 44,
   "metadata": {
    "colab": {
     "base_uri": "https://localhost:8080/"
    },
    "id": "WDcYS5Da26sI",
    "outputId": "ad2630c0-8352-413a-aa51-2bac15d122be"
   },
   "outputs": [
    {
     "name": "stderr",
     "output_type": "stream",
     "text": [
      "/usr/local/lib/python3.7/dist-packages/ipykernel_launcher.py:2: FutureWarning: The default value of regex will change from True to False in a future version.\n",
      "  \n"
     ]
    }
   ],
   "source": [
    "dataset, target = clean_string(dataset, 'text')"
   ]
  },
  {
   "cell_type": "code",
   "execution_count": 45,
   "metadata": {
    "colab": {
     "base_uri": "https://localhost:8080/"
    },
    "id": "bzU4JHq03D4k",
    "outputId": "35cf505b-56a7-471b-dad9-2d2d68bce0be"
   },
   "outputs": [
    {
     "data": {
      "text/plain": [
       "['in the southern bug basin wastewater is discharged from 341 organized sources map 5 in 2011 reference year 211 mln m3 was discharged in total',\n",
       " 'this amount is distributed as follows urban and rural housing wastewater treatment facilities wwtps  vodocanals – 70 mln m3 57 users industry – 50 mln m3 79 users agriculture – 90 mln m3 193 users other users – 1 mln m3 12 users picture 21',\n",
       " 'despite the similar volumes of discharged wastewater major part of pollutants comes with communal wwtps',\n",
       " 'they bring 84 of organic pollution 86 of phosphate ions and 84 of mineral nitrogen 91 of ammonia nitrogen 87 nitrate nitrogen and 79 nitrite nitrogen',\n",
       " 'the input of the industry is between 7–21 and agriculture has the lowest impact on water bodies  0–6 of the 92 urban areas only 51 localities 55 have centralized collection of communal waste waters and their monitoring among the 2878 villages 6 of them 02 have such a monitoring',\n",
       " 'settlements that do not have sewage systems usually do not have central water supply vodocanals of the departments of housing most of which are in communal ownership collect wastewater from users to treat them at communal wwtps and then discharge back into the receiving surface waters such as southern bug and its tributaries of the 1st and 2nd orders',\n",
       " 'equipment of wwtps is very wornout the amount of wastewater often exceeds their treatment capacity and the waters can enter the receiving waters without proper treatment',\n",
       " 'the current state of sewage networks is a source of concern since about 24 of them due to financial difficulties were not repaired',\n",
       " 'consequently in ukraine on average 2 accidents occur at 1 km network per year which is much higher than the corresponding figure in the eu and it contributes to further pollution of surface waters these discharges are not monitored',\n",
       " 'the load of pollutants from accidental discharges cannot presently be estimated']"
      ]
     },
     "execution_count": 45,
     "metadata": {},
     "output_type": "execute_result"
    }
   ],
   "source": [
    "dataset[:10]"
   ]
  },
  {
   "cell_type": "code",
   "execution_count": 46,
   "metadata": {
    "colab": {
     "base_uri": "https://localhost:8080/"
    },
    "id": "Av-1Lwwb3KA4",
    "outputId": "04e20a3d-5e4c-433a-d6fb-b02328c1c361"
   },
   "outputs": [
    {
     "data": {
      "text/plain": [
       "[[1.0, 1.0, 0.0, 0.0, 0.0],\n",
       " [1.0, 1.0, 0.0, 0.0, 0.0],\n",
       " [1.0, 1.0, 0.0, 0.0, 0.0],\n",
       " [1.0, 1.0, 0.0, 0.0, 0.0],\n",
       " [1.0, 1.0, 0.0, 0.0, 0.0],\n",
       " [1.0, 0.0, 1.0, 0.0, 0.0],\n",
       " [1.0, 0.0, 1.0, 0.0, 0.0],\n",
       " [1.0, 0.0, 1.0, 0.0, 0.0],\n",
       " [1.0, 1.0, 0.0, 0.0, 0.0],\n",
       " [0.0, 0.0, 0.0, 0.0, 0.0]]"
      ]
     },
     "execution_count": 46,
     "metadata": {},
     "output_type": "execute_result"
    }
   ],
   "source": [
    "target[:10]"
   ]
  },
  {
   "cell_type": "code",
   "execution_count": 47,
   "metadata": {
    "colab": {
     "base_uri": "https://localhost:8080/"
    },
    "id": "HJHv3p253y9x",
    "outputId": "ef3a8279-5b74-4e0d-b156-e289373cd9eb"
   },
   "outputs": [
    {
     "data": {
      "text/plain": [
       "True"
      ]
     },
     "execution_count": 47,
     "metadata": {},
     "output_type": "execute_result"
    }
   ],
   "source": [
    "len(dataset) == len(target)"
   ]
  },
  {
   "cell_type": "code",
   "execution_count": 48,
   "metadata": {
    "id": "rX_0K2LN3PA9"
   },
   "outputs": [],
   "source": [
    "def train_val_split(data, target, train_size=0.8):\n",
    "  train_len = int(len(data) * train_size)\n",
    "  index = tf.random.shuffle(tf.range(len(data)))\n",
    "  x_train = tf.gather(data, index[:train_len])\n",
    "  y_train = tf.gather(target, index[:train_len])\n",
    "\n",
    "  x_val = tf.gather(data, index[train_len:])\n",
    "  y_val = tf.gather(target, index[train_len:])\n",
    "\n",
    "  return (x_train, y_train), (x_val, y_val)"
   ]
  },
  {
   "cell_type": "code",
   "execution_count": 49,
   "metadata": {
    "id": "KnCAydpN3vv9"
   },
   "outputs": [],
   "source": [
    "train, val = train_val_split(dataset, target)"
   ]
  },
  {
   "cell_type": "code",
   "execution_count": 50,
   "metadata": {
    "id": "z8DXM-hb344m"
   },
   "outputs": [],
   "source": [
    "train = tf.data.Dataset.from_tensor_slices(train)\n",
    "val = tf.data.Dataset.from_tensor_slices(val)"
   ]
  },
  {
   "cell_type": "code",
   "execution_count": 51,
   "metadata": {
    "colab": {
     "base_uri": "https://localhost:8080/"
    },
    "id": "huRaY08T3_fu",
    "outputId": "cc3e9583-d991-4289-88d0-4f7fc528caf2"
   },
   "outputs": [
    {
     "name": "stdout",
     "output_type": "stream",
     "text": [
      "tf.Tensor(b'this method allows extracting only a part of pollutants containing nitrogen and phosphorus', shape=(), dtype=string)\n",
      "tf.Tensor([1. 1. 1. 0. 0.], shape=(5,), dtype=float32)\n"
     ]
    }
   ],
   "source": [
    "for X, Y in train.take(1):\n",
    "  print(X)\n",
    "  print(Y)"
   ]
  },
  {
   "cell_type": "code",
   "execution_count": 52,
   "metadata": {
    "id": "vPypDuEO4Dwj"
   },
   "outputs": [],
   "source": [
    "MAX_SEQUENCE = 250\n",
    "VOCABSIZE = 10000\n",
    "\n",
    "vectorizer = tf.keras.layers.TextVectorization(\n",
    "    max_tokens=VOCABSIZE,\n",
    "    output_mode='int',\n",
    "    output_sequence_length=MAX_SEQUENCE\n",
    ")"
   ]
  },
  {
   "cell_type": "code",
   "execution_count": 53,
   "metadata": {
    "id": "N5FgImYk4Hjb"
   },
   "outputs": [],
   "source": [
    "text = train.map(lambda text, label: text)\n",
    "vectorizer.adapt(text)"
   ]
  },
  {
   "cell_type": "code",
   "execution_count": 54,
   "metadata": {
    "id": "RJ5EcOGf4LyU"
   },
   "outputs": [],
   "source": [
    "def vectorize_text(text, labels=None):\n",
    "  if labels is not None:\n",
    "    return vectorizer(text), labels\n",
    "  return vectorizer(text)"
   ]
  },
  {
   "cell_type": "code",
   "execution_count": 55,
   "metadata": {
    "id": "sv-_XUJ74Uqv"
   },
   "outputs": [],
   "source": [
    "AUTOTUNE = tf.data.experimental.AUTOTUNE\n",
    "\n",
    "train = train.map(vectorize_text, num_parallel_calls=AUTOTUNE)\n",
    "val = val.map(vectorize_text, num_parallel_calls=AUTOTUNE)"
   ]
  },
  {
   "cell_type": "code",
   "execution_count": 56,
   "metadata": {
    "colab": {
     "base_uri": "https://localhost:8080/"
    },
    "id": "grN7dv_Z4YFW",
    "outputId": "12b72484-bd48-454d-b9de-6459ae8f78c2"
   },
   "outputs": [
    {
     "name": "stdout",
     "output_type": "stream",
     "text": [
      "(250,)\n",
      "(5,)\n",
      "tf.Tensor(\n",
      "[ 43 400 605 484 191  32   9   3  56 543  13   5  44   0   0   0   0   0\n",
      "   0   0   0   0   0   0   0   0   0   0   0   0   0   0   0   0   0   0\n",
      "   0   0   0   0   0   0   0   0   0   0   0   0   0   0   0   0   0   0\n",
      "   0   0   0   0   0   0   0   0   0   0   0   0   0   0   0   0   0   0\n",
      "   0   0   0   0   0   0   0   0   0   0   0   0   0   0   0   0   0   0\n",
      "   0   0   0   0   0   0   0   0   0   0   0   0   0   0   0   0   0   0\n",
      "   0   0   0   0   0   0   0   0   0   0   0   0   0   0   0   0   0   0\n",
      "   0   0   0   0   0   0   0   0   0   0   0   0   0   0   0   0   0   0\n",
      "   0   0   0   0   0   0   0   0   0   0   0   0   0   0   0   0   0   0\n",
      "   0   0   0   0   0   0   0   0   0   0   0   0   0   0   0   0   0   0\n",
      "   0   0   0   0   0   0   0   0   0   0   0   0   0   0   0   0   0   0\n",
      "   0   0   0   0   0   0   0   0   0   0   0   0   0   0   0   0   0   0\n",
      "   0   0   0   0   0   0   0   0   0   0   0   0   0   0   0   0   0   0\n",
      "   0   0   0   0   0   0   0   0   0   0   0   0   0   0   0   0], shape=(250,), dtype=int64)\n",
      "tf.Tensor([1. 1. 1. 0. 0.], shape=(5,), dtype=float32)\n"
     ]
    }
   ],
   "source": [
    "for X, Y in train.take(1):\n",
    "  print(X.shape)\n",
    "  print(Y.shape)\n",
    "  print(X)\n",
    "  print(Y)"
   ]
  },
  {
   "cell_type": "code",
   "execution_count": 57,
   "metadata": {
    "id": "tIGC0PhI4Zsi"
   },
   "outputs": [],
   "source": [
    "BATCH_SIZE = 64\n",
    "train = train.cache().shuffle(1000).batch(BATCH_SIZE).prefetch(AUTOTUNE)\n",
    "val = val.cache().batch(BATCH_SIZE).prefetch(AUTOTUNE)"
   ]
  },
  {
   "cell_type": "code",
   "execution_count": 58,
   "metadata": {
    "colab": {
     "base_uri": "https://localhost:8080/"
    },
    "id": "UCm2QNRk4ePF",
    "outputId": "8e716496-442d-421b-8116-1d713efcfcce"
   },
   "outputs": [
    {
     "name": "stdout",
     "output_type": "stream",
     "text": [
      "(64, 250)\n",
      "(64, 5)\n"
     ]
    }
   ],
   "source": [
    "for line, label in train.take(1):\n",
    "    print(line.shape)\n",
    "    print(label.shape)"
   ]
  },
  {
   "cell_type": "code",
   "execution_count": 71,
   "metadata": {
    "id": "_w1pg_KT4mNI"
   },
   "outputs": [],
   "source": [
    "embedding = 64\n",
    "model = tf.keras.models.Sequential([\n",
    "                                    tf.keras.layers.Embedding(input_dim=VOCABSIZE,\n",
    "                                                              output_dim=embedding,\n",
    "                                                              input_length=MAX_SEQUENCE,\n",
    "                                                              mask_zero=True),\n",
    "                                    tf.keras.layers.Bidirectional(tf.keras.layers.LSTM(64, return_sequences=True)),\n",
    "                                    tf.keras.layers.Bidirectional(tf.keras.layers.LSTM(32)),\n",
    "                                    tf.keras.layers.Dense(64, activation='relu'),\n",
    "                                    tf.keras.layers.Dropout(0.5),\n",
    "                                    tf.keras.layers.Dense(5)\n",
    "])"
   ]
  },
  {
   "cell_type": "code",
   "execution_count": 72,
   "metadata": {
    "colab": {
     "base_uri": "https://localhost:8080/"
    },
    "id": "HZlpp2nK5Oaq",
    "outputId": "e586ab54-7f9c-4b85-ca8a-1e646cf818cd"
   },
   "outputs": [
    {
     "name": "stdout",
     "output_type": "stream",
     "text": [
      "Model: \"sequential_2\"\n",
      "_________________________________________________________________\n",
      " Layer (type)                Output Shape              Param #   \n",
      "=================================================================\n",
      " embedding_2 (Embedding)     (None, 250, 64)           640000    \n",
      "                                                                 \n",
      " bidirectional_2 (Bidirectio  (None, 250, 128)         66048     \n",
      " nal)                                                            \n",
      "                                                                 \n",
      " bidirectional_3 (Bidirectio  (None, 64)               41216     \n",
      " nal)                                                            \n",
      "                                                                 \n",
      " dense_4 (Dense)             (None, 64)                4160      \n",
      "                                                                 \n",
      " dropout (Dropout)           (None, 64)                0         \n",
      "                                                                 \n",
      " dense_5 (Dense)             (None, 5)                 325       \n",
      "                                                                 \n",
      "=================================================================\n",
      "Total params: 751,749\n",
      "Trainable params: 751,749\n",
      "Non-trainable params: 0\n",
      "_________________________________________________________________\n"
     ]
    }
   ],
   "source": [
    "model.summary()"
   ]
  },
  {
   "cell_type": "code",
   "execution_count": 73,
   "metadata": {
    "id": "4qgK7v9d59Jg"
   },
   "outputs": [],
   "source": [
    "model.compile(loss=tf.keras.losses.BinaryCrossentropy(from_logits=True),\n",
    "                  optimizer=tf.keras.optimizers.Adam(),\n",
    "                  metrics=[tf.keras.metrics.BinaryAccuracy()])"
   ]
  },
  {
   "cell_type": "code",
   "execution_count": 74,
   "metadata": {
    "id": "C2ONymnm5-2H"
   },
   "outputs": [],
   "source": [
    "earlystopping = tf.keras.callbacks.EarlyStopping(patience=20)\n",
    "checkpoint = tf.keras.callbacks.ModelCheckpoint(\"multilabel_nlp.h5\", save_only_best=True, monitor=\"val_loss\")\n",
    "#scheduler = tf.keras.callbacks.LearningRateScheduler(lambda epoch : learning_rate * 0.1 ** (epoch/20) )"
   ]
  },
  {
   "cell_type": "code",
   "execution_count": 75,
   "metadata": {
    "colab": {
     "base_uri": "https://localhost:8080/"
    },
    "id": "d_lRaRjA6uNT",
    "outputId": "f120b18c-5155-46bd-8bc6-b059e9617f5d"
   },
   "outputs": [
    {
     "name": "stdout",
     "output_type": "stream",
     "text": [
      "Epoch 1/100\n",
      "2/2 [==============================] - 28s 8s/step - loss: 0.6928 - binary_accuracy: 0.7425 - val_loss: 0.6885 - val_binary_accuracy: 0.6900\n",
      "Epoch 2/100\n",
      "2/2 [==============================] - 2s 958ms/step - loss: 0.6869 - binary_accuracy: 0.7425 - val_loss: 0.6812 - val_binary_accuracy: 0.6900\n",
      "Epoch 3/100\n",
      "2/2 [==============================] - 2s 989ms/step - loss: 0.6770 - binary_accuracy: 0.7425 - val_loss: 0.6711 - val_binary_accuracy: 0.6900\n",
      "Epoch 4/100\n",
      "2/2 [==============================] - 2s 913ms/step - loss: 0.6658 - binary_accuracy: 0.7425 - val_loss: 0.6564 - val_binary_accuracy: 0.6900\n",
      "Epoch 5/100\n",
      "2/2 [==============================] - 2s 980ms/step - loss: 0.6473 - binary_accuracy: 0.7425 - val_loss: 0.6344 - val_binary_accuracy: 0.6900\n",
      "Epoch 6/100\n",
      "2/2 [==============================] - 2s 927ms/step - loss: 0.6260 - binary_accuracy: 0.7450 - val_loss: 0.6036 - val_binary_accuracy: 0.6900\n",
      "Epoch 7/100\n",
      "2/2 [==============================] - 2s 900ms/step - loss: 0.5958 - binary_accuracy: 0.7425 - val_loss: 0.5685 - val_binary_accuracy: 0.6900\n",
      "Epoch 8/100\n",
      "2/2 [==============================] - 2s 889ms/step - loss: 0.5622 - binary_accuracy: 0.7525 - val_loss: 0.5511 - val_binary_accuracy: 0.6900\n",
      "Epoch 9/100\n",
      "2/2 [==============================] - 2s 856ms/step - loss: 0.5556 - binary_accuracy: 0.7375 - val_loss: 0.5582 - val_binary_accuracy: 0.6900\n",
      "Epoch 10/100\n",
      "2/2 [==============================] - 2s 864ms/step - loss: 0.5149 - binary_accuracy: 0.7600 - val_loss: 0.5659 - val_binary_accuracy: 0.6900\n",
      "Epoch 11/100\n",
      "2/2 [==============================] - 2s 875ms/step - loss: 0.5662 - binary_accuracy: 0.7500 - val_loss: 0.5614 - val_binary_accuracy: 0.6900\n",
      "Epoch 12/100\n",
      "2/2 [==============================] - 2s 863ms/step - loss: 0.5400 - binary_accuracy: 0.7450 - val_loss: 0.5510 - val_binary_accuracy: 0.6900\n",
      "Epoch 13/100\n",
      "2/2 [==============================] - 2s 853ms/step - loss: 0.5322 - binary_accuracy: 0.7500 - val_loss: 0.5452 - val_binary_accuracy: 0.6900\n",
      "Epoch 14/100\n",
      "2/2 [==============================] - 2s 855ms/step - loss: 0.5358 - binary_accuracy: 0.7350 - val_loss: 0.5445 - val_binary_accuracy: 0.6900\n",
      "Epoch 15/100\n",
      "2/2 [==============================] - 2s 859ms/step - loss: 0.5184 - binary_accuracy: 0.7475 - val_loss: 0.5452 - val_binary_accuracy: 0.6900\n",
      "Epoch 16/100\n",
      "2/2 [==============================] - 2s 846ms/step - loss: 0.5097 - binary_accuracy: 0.7425 - val_loss: 0.5438 - val_binary_accuracy: 0.6900\n",
      "Epoch 17/100\n",
      "2/2 [==============================] - 2s 875ms/step - loss: 0.5209 - binary_accuracy: 0.7450 - val_loss: 0.5396 - val_binary_accuracy: 0.6900\n",
      "Epoch 18/100\n",
      "2/2 [==============================] - 2s 840ms/step - loss: 0.4935 - binary_accuracy: 0.7525 - val_loss: 0.5338 - val_binary_accuracy: 0.6900\n",
      "Epoch 19/100\n",
      "2/2 [==============================] - 2s 851ms/step - loss: 0.5078 - binary_accuracy: 0.7500 - val_loss: 0.5273 - val_binary_accuracy: 0.6900\n",
      "Epoch 20/100\n",
      "2/2 [==============================] - 2s 846ms/step - loss: 0.4825 - binary_accuracy: 0.7600 - val_loss: 0.5194 - val_binary_accuracy: 0.6900\n",
      "Epoch 21/100\n",
      "2/2 [==============================] - 2s 837ms/step - loss: 0.4537 - binary_accuracy: 0.7725 - val_loss: 0.5073 - val_binary_accuracy: 0.6900\n",
      "Epoch 22/100\n",
      "2/2 [==============================] - 2s 870ms/step - loss: 0.4569 - binary_accuracy: 0.7825 - val_loss: 0.4883 - val_binary_accuracy: 0.7000\n",
      "Epoch 23/100\n",
      "2/2 [==============================] - 2s 879ms/step - loss: 0.4256 - binary_accuracy: 0.7725 - val_loss: 0.4627 - val_binary_accuracy: 0.7400\n",
      "Epoch 24/100\n",
      "2/2 [==============================] - 2s 935ms/step - loss: 0.3939 - binary_accuracy: 0.8125 - val_loss: 0.4381 - val_binary_accuracy: 0.7600\n",
      "Epoch 25/100\n",
      "2/2 [==============================] - 2s 890ms/step - loss: 0.3776 - binary_accuracy: 0.8125 - val_loss: 0.4270 - val_binary_accuracy: 0.7300\n",
      "Epoch 26/100\n",
      "2/2 [==============================] - 2s 866ms/step - loss: 0.3402 - binary_accuracy: 0.8525 - val_loss: 0.4099 - val_binary_accuracy: 0.7600\n",
      "Epoch 27/100\n",
      "2/2 [==============================] - 2s 880ms/step - loss: 0.3194 - binary_accuracy: 0.8625 - val_loss: 0.3811 - val_binary_accuracy: 0.8100\n",
      "Epoch 28/100\n",
      "2/2 [==============================] - 2s 861ms/step - loss: 0.2923 - binary_accuracy: 0.8775 - val_loss: 0.3709 - val_binary_accuracy: 0.8300\n",
      "Epoch 29/100\n",
      "2/2 [==============================] - 2s 869ms/step - loss: 0.2919 - binary_accuracy: 0.8800 - val_loss: 0.3691 - val_binary_accuracy: 0.8300\n",
      "Epoch 30/100\n",
      "2/2 [==============================] - 2s 916ms/step - loss: 0.2476 - binary_accuracy: 0.8875 - val_loss: 0.3762 - val_binary_accuracy: 0.8300\n",
      "Epoch 31/100\n",
      "2/2 [==============================] - 2s 906ms/step - loss: 0.2398 - binary_accuracy: 0.9100 - val_loss: 0.3993 - val_binary_accuracy: 0.8200\n",
      "Epoch 32/100\n",
      "2/2 [==============================] - 2s 884ms/step - loss: 0.2427 - binary_accuracy: 0.8925 - val_loss: 0.4024 - val_binary_accuracy: 0.8100\n",
      "Epoch 33/100\n",
      "2/2 [==============================] - 2s 907ms/step - loss: 0.2360 - binary_accuracy: 0.8975 - val_loss: 0.3750 - val_binary_accuracy: 0.8200\n",
      "Epoch 34/100\n",
      "2/2 [==============================] - 2s 943ms/step - loss: 0.2112 - binary_accuracy: 0.9100 - val_loss: 0.3655 - val_binary_accuracy: 0.8300\n",
      "Epoch 35/100\n",
      "2/2 [==============================] - 2s 940ms/step - loss: 0.1914 - binary_accuracy: 0.9225 - val_loss: 0.3637 - val_binary_accuracy: 0.8300\n",
      "Epoch 36/100\n",
      "2/2 [==============================] - 2s 969ms/step - loss: 0.1713 - binary_accuracy: 0.9200 - val_loss: 0.3610 - val_binary_accuracy: 0.8300\n",
      "Epoch 37/100\n",
      "2/2 [==============================] - 2s 975ms/step - loss: 0.1945 - binary_accuracy: 0.9125 - val_loss: 0.3595 - val_binary_accuracy: 0.8400\n",
      "Epoch 38/100\n",
      "2/2 [==============================] - 2s 921ms/step - loss: 0.1789 - binary_accuracy: 0.9150 - val_loss: 0.3584 - val_binary_accuracy: 0.8400\n",
      "Epoch 39/100\n",
      "2/2 [==============================] - 2s 1s/step - loss: 0.1797 - binary_accuracy: 0.9150 - val_loss: 0.3555 - val_binary_accuracy: 0.8400\n",
      "Epoch 40/100\n",
      "2/2 [==============================] - 2s 1s/step - loss: 0.1690 - binary_accuracy: 0.9375 - val_loss: 0.3562 - val_binary_accuracy: 0.8500\n",
      "Epoch 41/100\n",
      "2/2 [==============================] - 2s 1s/step - loss: 0.1716 - binary_accuracy: 0.9200 - val_loss: 0.3607 - val_binary_accuracy: 0.8400\n",
      "Epoch 42/100\n",
      "2/2 [==============================] - 2s 982ms/step - loss: 0.1654 - binary_accuracy: 0.9275 - val_loss: 0.3705 - val_binary_accuracy: 0.8300\n",
      "Epoch 43/100\n",
      "2/2 [==============================] - 2s 881ms/step - loss: 0.1542 - binary_accuracy: 0.9350 - val_loss: 0.3765 - val_binary_accuracy: 0.8300\n",
      "Epoch 44/100\n",
      "2/2 [==============================] - 2s 865ms/step - loss: 0.1505 - binary_accuracy: 0.9300 - val_loss: 0.3803 - val_binary_accuracy: 0.8200\n",
      "Epoch 45/100\n",
      "2/2 [==============================] - 2s 963ms/step - loss: 0.1305 - binary_accuracy: 0.9500 - val_loss: 0.3830 - val_binary_accuracy: 0.8200\n",
      "Epoch 46/100\n",
      "2/2 [==============================] - 2s 990ms/step - loss: 0.1321 - binary_accuracy: 0.9400 - val_loss: 0.3869 - val_binary_accuracy: 0.8200\n",
      "Epoch 47/100\n",
      "2/2 [==============================] - 2s 1s/step - loss: 0.1257 - binary_accuracy: 0.9450 - val_loss: 0.3916 - val_binary_accuracy: 0.8300\n",
      "Epoch 48/100\n",
      "2/2 [==============================] - 2s 894ms/step - loss: 0.1390 - binary_accuracy: 0.9425 - val_loss: 0.3944 - val_binary_accuracy: 0.8200\n",
      "Epoch 49/100\n",
      "2/2 [==============================] - 2s 1s/step - loss: 0.1183 - binary_accuracy: 0.9425 - val_loss: 0.3995 - val_binary_accuracy: 0.8300\n",
      "Epoch 50/100\n",
      "2/2 [==============================] - 2s 895ms/step - loss: 0.1244 - binary_accuracy: 0.9450 - val_loss: 0.4104 - val_binary_accuracy: 0.8400\n",
      "Epoch 51/100\n",
      "2/2 [==============================] - 2s 885ms/step - loss: 0.1090 - binary_accuracy: 0.9550 - val_loss: 0.4194 - val_binary_accuracy: 0.8300\n",
      "Epoch 52/100\n",
      "2/2 [==============================] - 2s 924ms/step - loss: 0.0992 - binary_accuracy: 0.9600 - val_loss: 0.4284 - val_binary_accuracy: 0.8300\n",
      "Epoch 53/100\n",
      "2/2 [==============================] - 2s 1s/step - loss: 0.1074 - binary_accuracy: 0.9475 - val_loss: 0.4381 - val_binary_accuracy: 0.8300\n",
      "Epoch 54/100\n",
      "2/2 [==============================] - 2s 1s/step - loss: 0.0987 - binary_accuracy: 0.9675 - val_loss: 0.4450 - val_binary_accuracy: 0.8200\n",
      "Epoch 55/100\n",
      "2/2 [==============================] - 2s 1s/step - loss: 0.1008 - binary_accuracy: 0.9675 - val_loss: 0.4412 - val_binary_accuracy: 0.8400\n",
      "Epoch 56/100\n",
      "2/2 [==============================] - 2s 1s/step - loss: 0.0846 - binary_accuracy: 0.9700 - val_loss: 0.4194 - val_binary_accuracy: 0.8400\n",
      "Epoch 57/100\n",
      "2/2 [==============================] - 2s 1s/step - loss: 0.0864 - binary_accuracy: 0.9550 - val_loss: 0.3798 - val_binary_accuracy: 0.8500\n",
      "Epoch 58/100\n",
      "2/2 [==============================] - 2s 1s/step - loss: 0.0707 - binary_accuracy: 0.9875 - val_loss: 0.3711 - val_binary_accuracy: 0.8700\n",
      "Epoch 59/100\n",
      "2/2 [==============================] - 2s 1s/step - loss: 0.0732 - binary_accuracy: 0.9800 - val_loss: 0.3676 - val_binary_accuracy: 0.8500\n"
     ]
    }
   ],
   "source": [
    "history = model.fit(train, validation_data = val, epochs=100, callbacks=[earlystopping, checkpoint])"
   ]
  },
  {
   "cell_type": "code",
   "execution_count": null,
   "metadata": {
    "id": "PyKTmmX66xEE"
   },
   "outputs": [],
   "source": []
  }
 ],
 "metadata": {
  "colab": {
   "name": "Multilabel NLP.ipynb",
   "provenance": []
  },
  "kernelspec": {
   "display_name": "Python 3 (ipykernel)",
   "language": "python",
   "name": "python3"
  },
  "language_info": {
   "codemirror_mode": {
    "name": "ipython",
    "version": 3
   },
   "file_extension": ".py",
   "mimetype": "text/x-python",
   "name": "python",
   "nbconvert_exporter": "python",
   "pygments_lexer": "ipython3",
   "version": "3.8.13"
  }
 },
 "nbformat": 4,
 "nbformat_minor": 1
}
