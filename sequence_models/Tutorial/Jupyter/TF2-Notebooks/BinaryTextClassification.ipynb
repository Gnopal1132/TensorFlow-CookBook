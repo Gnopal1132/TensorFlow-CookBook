{
 "cells": [
  {
   "cell_type": "code",
   "execution_count": 1,
   "metadata": {
    "id": "p3wE6ECsiyie"
   },
   "outputs": [],
   "source": [
    "import tensorflow as tf\n",
    "import numpy as np\n",
    "import pandas as pd\n",
    "import os\n",
    "import string"
   ]
  },
  {
   "cell_type": "code",
   "execution_count": 2,
   "metadata": {
    "id": "8gV5tdJ_jbg5"
   },
   "outputs": [],
   "source": [
    "train = pd.read_csv(\"train.csv\")\n",
    "test = pd.read_csv(\"test.csv\")"
   ]
  },
  {
   "cell_type": "code",
   "execution_count": 3,
   "metadata": {
    "colab": {
     "base_uri": "https://localhost:8080/",
     "height": 206
    },
    "id": "Q0RnFNgmkqJa",
    "outputId": "a8062fe9-605d-40ba-9ab2-29e10ce464c7"
   },
   "outputs": [
    {
     "data": {
      "text/html": [
       "\n",
       "  <div id=\"df-e02b55c0-7e79-4567-a840-d5adb1e628e9\">\n",
       "    <div class=\"colab-df-container\">\n",
       "      <div>\n",
       "<style scoped>\n",
       "    .dataframe tbody tr th:only-of-type {\n",
       "        vertical-align: middle;\n",
       "    }\n",
       "\n",
       "    .dataframe tbody tr th {\n",
       "        vertical-align: top;\n",
       "    }\n",
       "\n",
       "    .dataframe thead th {\n",
       "        text-align: right;\n",
       "    }\n",
       "</style>\n",
       "<table border=\"1\" class=\"dataframe\">\n",
       "  <thead>\n",
       "    <tr style=\"text-align: right;\">\n",
       "      <th></th>\n",
       "      <th>id</th>\n",
       "      <th>keyword</th>\n",
       "      <th>location</th>\n",
       "      <th>text</th>\n",
       "      <th>target</th>\n",
       "    </tr>\n",
       "  </thead>\n",
       "  <tbody>\n",
       "    <tr>\n",
       "      <th>0</th>\n",
       "      <td>1</td>\n",
       "      <td>NaN</td>\n",
       "      <td>NaN</td>\n",
       "      <td>Our Deeds are the Reason of this #earthquake M...</td>\n",
       "      <td>1</td>\n",
       "    </tr>\n",
       "    <tr>\n",
       "      <th>1</th>\n",
       "      <td>4</td>\n",
       "      <td>NaN</td>\n",
       "      <td>NaN</td>\n",
       "      <td>Forest fire near La Ronge Sask. Canada</td>\n",
       "      <td>1</td>\n",
       "    </tr>\n",
       "    <tr>\n",
       "      <th>2</th>\n",
       "      <td>5</td>\n",
       "      <td>NaN</td>\n",
       "      <td>NaN</td>\n",
       "      <td>All residents asked to 'shelter in place' are ...</td>\n",
       "      <td>1</td>\n",
       "    </tr>\n",
       "    <tr>\n",
       "      <th>3</th>\n",
       "      <td>6</td>\n",
       "      <td>NaN</td>\n",
       "      <td>NaN</td>\n",
       "      <td>13,000 people receive #wildfires evacuation or...</td>\n",
       "      <td>1</td>\n",
       "    </tr>\n",
       "    <tr>\n",
       "      <th>4</th>\n",
       "      <td>7</td>\n",
       "      <td>NaN</td>\n",
       "      <td>NaN</td>\n",
       "      <td>Just got sent this photo from Ruby #Alaska as ...</td>\n",
       "      <td>1</td>\n",
       "    </tr>\n",
       "  </tbody>\n",
       "</table>\n",
       "</div>\n",
       "      <button class=\"colab-df-convert\" onclick=\"convertToInteractive('df-e02b55c0-7e79-4567-a840-d5adb1e628e9')\"\n",
       "              title=\"Convert this dataframe to an interactive table.\"\n",
       "              style=\"display:none;\">\n",
       "        \n",
       "  <svg xmlns=\"http://www.w3.org/2000/svg\" height=\"24px\"viewBox=\"0 0 24 24\"\n",
       "       width=\"24px\">\n",
       "    <path d=\"M0 0h24v24H0V0z\" fill=\"none\"/>\n",
       "    <path d=\"M18.56 5.44l.94 2.06.94-2.06 2.06-.94-2.06-.94-.94-2.06-.94 2.06-2.06.94zm-11 1L8.5 8.5l.94-2.06 2.06-.94-2.06-.94L8.5 2.5l-.94 2.06-2.06.94zm10 10l.94 2.06.94-2.06 2.06-.94-2.06-.94-.94-2.06-.94 2.06-2.06.94z\"/><path d=\"M17.41 7.96l-1.37-1.37c-.4-.4-.92-.59-1.43-.59-.52 0-1.04.2-1.43.59L10.3 9.45l-7.72 7.72c-.78.78-.78 2.05 0 2.83L4 21.41c.39.39.9.59 1.41.59.51 0 1.02-.2 1.41-.59l7.78-7.78 2.81-2.81c.8-.78.8-2.07 0-2.86zM5.41 20L4 18.59l7.72-7.72 1.47 1.35L5.41 20z\"/>\n",
       "  </svg>\n",
       "      </button>\n",
       "      \n",
       "  <style>\n",
       "    .colab-df-container {\n",
       "      display:flex;\n",
       "      flex-wrap:wrap;\n",
       "      gap: 12px;\n",
       "    }\n",
       "\n",
       "    .colab-df-convert {\n",
       "      background-color: #E8F0FE;\n",
       "      border: none;\n",
       "      border-radius: 50%;\n",
       "      cursor: pointer;\n",
       "      display: none;\n",
       "      fill: #1967D2;\n",
       "      height: 32px;\n",
       "      padding: 0 0 0 0;\n",
       "      width: 32px;\n",
       "    }\n",
       "\n",
       "    .colab-df-convert:hover {\n",
       "      background-color: #E2EBFA;\n",
       "      box-shadow: 0px 1px 2px rgba(60, 64, 67, 0.3), 0px 1px 3px 1px rgba(60, 64, 67, 0.15);\n",
       "      fill: #174EA6;\n",
       "    }\n",
       "\n",
       "    [theme=dark] .colab-df-convert {\n",
       "      background-color: #3B4455;\n",
       "      fill: #D2E3FC;\n",
       "    }\n",
       "\n",
       "    [theme=dark] .colab-df-convert:hover {\n",
       "      background-color: #434B5C;\n",
       "      box-shadow: 0px 1px 3px 1px rgba(0, 0, 0, 0.15);\n",
       "      filter: drop-shadow(0px 1px 2px rgba(0, 0, 0, 0.3));\n",
       "      fill: #FFFFFF;\n",
       "    }\n",
       "  </style>\n",
       "\n",
       "      <script>\n",
       "        const buttonEl =\n",
       "          document.querySelector('#df-e02b55c0-7e79-4567-a840-d5adb1e628e9 button.colab-df-convert');\n",
       "        buttonEl.style.display =\n",
       "          google.colab.kernel.accessAllowed ? 'block' : 'none';\n",
       "\n",
       "        async function convertToInteractive(key) {\n",
       "          const element = document.querySelector('#df-e02b55c0-7e79-4567-a840-d5adb1e628e9');\n",
       "          const dataTable =\n",
       "            await google.colab.kernel.invokeFunction('convertToInteractive',\n",
       "                                                     [key], {});\n",
       "          if (!dataTable) return;\n",
       "\n",
       "          const docLinkHtml = 'Like what you see? Visit the ' +\n",
       "            '<a target=\"_blank\" href=https://colab.research.google.com/notebooks/data_table.ipynb>data table notebook</a>'\n",
       "            + ' to learn more about interactive tables.';\n",
       "          element.innerHTML = '';\n",
       "          dataTable['output_type'] = 'display_data';\n",
       "          await google.colab.output.renderOutput(dataTable, element);\n",
       "          const docLink = document.createElement('div');\n",
       "          docLink.innerHTML = docLinkHtml;\n",
       "          element.appendChild(docLink);\n",
       "        }\n",
       "      </script>\n",
       "    </div>\n",
       "  </div>\n",
       "  "
      ],
      "text/plain": [
       "   id keyword location                                               text  \\\n",
       "0   1     NaN      NaN  Our Deeds are the Reason of this #earthquake M...   \n",
       "1   4     NaN      NaN             Forest fire near La Ronge Sask. Canada   \n",
       "2   5     NaN      NaN  All residents asked to 'shelter in place' are ...   \n",
       "3   6     NaN      NaN  13,000 people receive #wildfires evacuation or...   \n",
       "4   7     NaN      NaN  Just got sent this photo from Ruby #Alaska as ...   \n",
       "\n",
       "   target  \n",
       "0       1  \n",
       "1       1  \n",
       "2       1  \n",
       "3       1  \n",
       "4       1  "
      ]
     },
     "execution_count": 3,
     "metadata": {},
     "output_type": "execute_result"
    }
   ],
   "source": [
    "train.head()"
   ]
  },
  {
   "cell_type": "code",
   "execution_count": 4,
   "metadata": {
    "id": "v-CW5R2flElH"
   },
   "outputs": [],
   "source": [
    "def clean_string(dataframe, field,targets=None, is_train=True):\n",
    "\n",
    "  dataframe[field] = dataframe[field].str.replace(\"[{}]\".format(string.punctuation), \" \")\n",
    "\n",
    "  dataframe[field] = dataframe[field].str.lower()\n",
    "\n",
    "  # Everything in one line\n",
    "  lines = []\n",
    "  target = []\n",
    "\n",
    "  for idx, line in enumerate(dataframe[field].to_numpy()):\n",
    "    \n",
    "    if line != '':\n",
    "      lines.append(line.strip())\n",
    "      if targets is not None:\n",
    "        target.append(targets[idx])\n",
    "\n",
    "  if is_train:\n",
    "    return lines, target\n",
    "\n",
    "  return lines"
   ]
  },
  {
   "cell_type": "code",
   "execution_count": 5,
   "metadata": {
    "colab": {
     "base_uri": "https://localhost:8080/"
    },
    "id": "FZa65x-smT31",
    "outputId": "6718abb3-e936-47be-9586-d518dd873f0b"
   },
   "outputs": [
    {
     "name": "stderr",
     "output_type": "stream",
     "text": [
      "/usr/local/lib/python3.7/dist-packages/ipykernel_launcher.py:3: FutureWarning: The default value of regex will change from True to False in a future version.\n",
      "  This is separate from the ipykernel package so we can avoid doing imports until\n"
     ]
    }
   ],
   "source": [
    "labels = train.target.to_numpy()\n",
    "\n",
    "train, labels = clean_string(train, \"text\", targets=labels)\n",
    "test = clean_string(test, \"text\", is_train=False)"
   ]
  },
  {
   "cell_type": "code",
   "execution_count": 6,
   "metadata": {
    "colab": {
     "base_uri": "https://localhost:8080/"
    },
    "id": "PURkrk1Fmtu-",
    "outputId": "bc5bc8d3-543f-4bd3-aa93-8efdf9ed3ed5"
   },
   "outputs": [
    {
     "data": {
      "text/plain": [
       "True"
      ]
     },
     "execution_count": 6,
     "metadata": {},
     "output_type": "execute_result"
    }
   ],
   "source": [
    "len(train) == len(labels)"
   ]
  },
  {
   "cell_type": "code",
   "execution_count": 7,
   "metadata": {
    "colab": {
     "base_uri": "https://localhost:8080/"
    },
    "id": "-K1blhh9pA-w",
    "outputId": "bd7b1116-c8ce-47bc-da60-4fb0d8453280"
   },
   "outputs": [
    {
     "data": {
      "text/plain": [
       "['just happened a terrible car crash',\n",
       " 'heard about  earthquake is different cities  stay safe everyone',\n",
       " 'there is a forest fire at spot pond  geese are fleeing across the street  i cannot save them all',\n",
       " 'apocalypse lighting   spokane  wildfires',\n",
       " 'typhoon soudelor kills 28 in china and taiwan',\n",
       " 'we re shaking   it s an earthquake',\n",
       " 'they d probably still show more life than arsenal did yesterday  eh  eh',\n",
       " 'hey  how are you',\n",
       " 'what a nice hat',\n",
       " 'fuck off']"
      ]
     },
     "execution_count": 7,
     "metadata": {},
     "output_type": "execute_result"
    }
   ],
   "source": [
    "test[:10]"
   ]
  },
  {
   "cell_type": "code",
   "execution_count": 8,
   "metadata": {
    "id": "DERw-UYIqav6"
   },
   "outputs": [],
   "source": [
    "def train_val_split(data, target, train_size=0.8):\n",
    "  train_len = int(len(data) * train_size)\n",
    "  index = tf.random.shuffle(tf.range(len(data)))\n",
    "  x_train = tf.gather(data, index[:train_len])\n",
    "  y_train = tf.gather(target, index[:train_len])\n",
    "\n",
    "  x_val = tf.gather(data, index[train_len:])\n",
    "  y_val = tf.gather(target, index[train_len:])\n",
    "\n",
    "  return (x_train, y_train), (x_val, y_val)"
   ]
  },
  {
   "cell_type": "code",
   "execution_count": 9,
   "metadata": {
    "id": "qOulexLJrKPL"
   },
   "outputs": [],
   "source": [
    "train, val = train_val_split(train, labels)"
   ]
  },
  {
   "cell_type": "code",
   "execution_count": 10,
   "metadata": {
    "id": "8KlgLTd0rTTm"
   },
   "outputs": [],
   "source": [
    "train = tf.data.Dataset.from_tensor_slices(train)\n",
    "val = tf.data.Dataset.from_tensor_slices(val)"
   ]
  },
  {
   "cell_type": "code",
   "execution_count": 11,
   "metadata": {
    "colab": {
     "base_uri": "https://localhost:8080/"
    },
    "id": "0R4OzDYPuFBS",
    "outputId": "be5da427-aa57-4ee9-f576-086012d04e33"
   },
   "outputs": [
    {
     "name": "stdout",
     "output_type": "stream",
     "text": [
      "tf.Tensor(b'wrecked tired but not gonna be asleep before 3', shape=(), dtype=string)\n",
      "tf.Tensor(0, shape=(), dtype=int32)\n"
     ]
    }
   ],
   "source": [
    "for X, Y in train.take(1):\n",
    "  print(X)\n",
    "  print(Y)"
   ]
  },
  {
   "cell_type": "code",
   "execution_count": 12,
   "metadata": {
    "id": "kZUR3FgluJHH"
   },
   "outputs": [],
   "source": [
    "MAX_SEQUENCE = 250\n",
    "VOCABSIZE = 10000\n",
    "\n",
    "vectorizer = tf.keras.layers.TextVectorization(\n",
    "    max_tokens=VOCABSIZE,\n",
    "    output_mode='int',\n",
    "    output_sequence_length=MAX_SEQUENCE\n",
    ")"
   ]
  },
  {
   "cell_type": "code",
   "execution_count": 13,
   "metadata": {
    "id": "LbGU_vK7u3Fx"
   },
   "outputs": [],
   "source": [
    "text = train.map(lambda text, label: text)\n",
    "vectorizer.adapt(text)"
   ]
  },
  {
   "cell_type": "code",
   "execution_count": 14,
   "metadata": {
    "id": "RCa-2cCtvAZ5"
   },
   "outputs": [],
   "source": [
    "def vectorize_text(text, labels):\n",
    "  return vectorizer(text), labels"
   ]
  },
  {
   "cell_type": "code",
   "execution_count": 15,
   "metadata": {
    "id": "teqnZWymvOXj"
   },
   "outputs": [],
   "source": [
    "AUTOTUNE = tf.data.experimental.AUTOTUNE\n",
    "\n",
    "train = train.map(vectorize_text, num_parallel_calls=AUTOTUNE)\n",
    "val = val.map(vectorize_text, num_parallel_calls=AUTOTUNE)"
   ]
  },
  {
   "cell_type": "code",
   "execution_count": 16,
   "metadata": {
    "colab": {
     "base_uri": "https://localhost:8080/"
    },
    "id": "oX0Bn_JYvbu-",
    "outputId": "9c364d47-f8db-4783-aef5-bccb7b5e7f7a"
   },
   "outputs": [
    {
     "name": "stdout",
     "output_type": "stream",
     "text": [
      "(250,)\n",
      "()\n",
      "tf.Tensor(\n",
      "[ 449 1390   34   38  365   29 2992  236   83    0    0    0    0    0\n",
      "    0    0    0    0    0    0    0    0    0    0    0    0    0    0\n",
      "    0    0    0    0    0    0    0    0    0    0    0    0    0    0\n",
      "    0    0    0    0    0    0    0    0    0    0    0    0    0    0\n",
      "    0    0    0    0    0    0    0    0    0    0    0    0    0    0\n",
      "    0    0    0    0    0    0    0    0    0    0    0    0    0    0\n",
      "    0    0    0    0    0    0    0    0    0    0    0    0    0    0\n",
      "    0    0    0    0    0    0    0    0    0    0    0    0    0    0\n",
      "    0    0    0    0    0    0    0    0    0    0    0    0    0    0\n",
      "    0    0    0    0    0    0    0    0    0    0    0    0    0    0\n",
      "    0    0    0    0    0    0    0    0    0    0    0    0    0    0\n",
      "    0    0    0    0    0    0    0    0    0    0    0    0    0    0\n",
      "    0    0    0    0    0    0    0    0    0    0    0    0    0    0\n",
      "    0    0    0    0    0    0    0    0    0    0    0    0    0    0\n",
      "    0    0    0    0    0    0    0    0    0    0    0    0    0    0\n",
      "    0    0    0    0    0    0    0    0    0    0    0    0    0    0\n",
      "    0    0    0    0    0    0    0    0    0    0    0    0    0    0\n",
      "    0    0    0    0    0    0    0    0    0    0    0    0], shape=(250,), dtype=int64)\n",
      "tf.Tensor(0, shape=(), dtype=int32)\n"
     ]
    }
   ],
   "source": [
    "for X, Y in train.take(1):\n",
    "  print(X.shape)\n",
    "  print(Y.shape)\n",
    "  print(X)\n",
    "  print(Y)"
   ]
  },
  {
   "cell_type": "code",
   "execution_count": 17,
   "metadata": {
    "id": "7XNk9sgevgRf"
   },
   "outputs": [],
   "source": [
    "BATCH_SIZE = 64\n",
    "train = train.cache().shuffle(1000).batch(BATCH_SIZE).prefetch(AUTOTUNE)\n",
    "val = val.cache().shuffle(1000).batch(BATCH_SIZE).prefetch(AUTOTUNE)"
   ]
  },
  {
   "cell_type": "code",
   "execution_count": 18,
   "metadata": {
    "colab": {
     "base_uri": "https://localhost:8080/"
    },
    "id": "TxyRQgxVvyQO",
    "outputId": "2c0a4d2a-b6b4-44e6-f766-65c4c981b2e8"
   },
   "outputs": [
    {
     "name": "stdout",
     "output_type": "stream",
     "text": [
      "(64, 250)\n",
      "(64,)\n"
     ]
    }
   ],
   "source": [
    "for line, label in train.take(1):\n",
    "    print(line.shape)\n",
    "    print(label.shape)"
   ]
  },
  {
   "cell_type": "code",
   "execution_count": 57,
   "metadata": {
    "id": "C9SnlJNVv2YR"
   },
   "outputs": [],
   "source": [
    "# Defining the Model\n",
    "embedding_dim = 64\n",
    "l2 = tf.keras.regularizers.l2(0.1)\n",
    "model = tf.keras.Sequential([\n",
    "  tf.keras.layers.Embedding(input_dim=VOCABSIZE,\n",
    "                            output_dim=embedding_dim,\n",
    "                            mask_zero=True,\n",
    "                            input_length=MAX_SEQUENCE),\n",
    "  tf.keras.layers.Dropout(0.5),\n",
    "  tf.keras.layers.LSTM(50, return_sequences=True, kernel_regularizer=l2),\n",
    "  tf.keras.layers.Dropout(0.5),\n",
    "  tf.keras.layers.LSTM(50, kernel_regularizer=l2),\n",
    "  tf.keras.layers.Dropout(0.5),\n",
    "  tf.keras.layers.Dense(1)])"
   ]
  },
  {
   "cell_type": "code",
   "execution_count": 58,
   "metadata": {
    "colab": {
     "base_uri": "https://localhost:8080/"
    },
    "id": "AHN_dCkywkC8",
    "outputId": "5d4c33a5-1e78-4112-89ab-edb0c5514c02"
   },
   "outputs": [
    {
     "name": "stdout",
     "output_type": "stream",
     "text": [
      "Model: \"sequential_9\"\n",
      "_________________________________________________________________\n",
      " Layer (type)                Output Shape              Param #   \n",
      "=================================================================\n",
      " embedding_9 (Embedding)     (None, 250, 64)           640000    \n",
      "                                                                 \n",
      " dropout_19 (Dropout)        (None, 250, 64)           0         \n",
      "                                                                 \n",
      " lstm_12 (LSTM)              (None, 250, 50)           23000     \n",
      "                                                                 \n",
      " dropout_20 (Dropout)        (None, 250, 50)           0         \n",
      "                                                                 \n",
      " lstm_13 (LSTM)              (None, 50)                20200     \n",
      "                                                                 \n",
      " dropout_21 (Dropout)        (None, 50)                0         \n",
      "                                                                 \n",
      " dense_16 (Dense)            (None, 1)                 51        \n",
      "                                                                 \n",
      "=================================================================\n",
      "Total params: 683,251\n",
      "Trainable params: 683,251\n",
      "Non-trainable params: 0\n",
      "_________________________________________________________________\n"
     ]
    }
   ],
   "source": [
    "model.summary()"
   ]
  },
  {
   "cell_type": "code",
   "execution_count": 59,
   "metadata": {
    "id": "nrkIrPsTwnP4"
   },
   "outputs": [],
   "source": [
    "model.compile(loss=tf.keras.losses.BinaryCrossentropy(from_logits=True),\n",
    "                  optimizer=tf.keras.optimizers.Adam(),\n",
    "                  metrics=['accuracy'])"
   ]
  },
  {
   "cell_type": "code",
   "execution_count": 60,
   "metadata": {
    "id": "TqM6I1rOwsST"
   },
   "outputs": [],
   "source": [
    "earlystopping = tf.keras.callbacks.EarlyStopping(patience=5)\n",
    "checkpoint = tf.keras.callbacks.ModelCheckpoint(\"disaster.h5\", save_only_best=True)"
   ]
  },
  {
   "cell_type": "code",
   "execution_count": 61,
   "metadata": {
    "colab": {
     "base_uri": "https://localhost:8080/"
    },
    "id": "8UI9XNqbw8I1",
    "outputId": "635cacdc-fb5d-411a-a47c-c747e6c0a069"
   },
   "outputs": [
    {
     "name": "stdout",
     "output_type": "stream",
     "text": [
      "Epoch 1/10\n",
      "96/96 [==============================] - 17s 75ms/step - loss: 8.2333 - accuracy: 0.6138 - val_loss: 2.5373 - val_accuracy: 0.6415\n",
      "Epoch 2/10\n",
      "96/96 [==============================] - 3s 35ms/step - loss: 1.2006 - accuracy: 0.7732 - val_loss: 0.6715 - val_accuracy: 0.7347\n",
      "Epoch 3/10\n",
      "96/96 [==============================] - 3s 35ms/step - loss: 0.4661 - accuracy: 0.8363 - val_loss: 0.5476 - val_accuracy: 0.7511\n",
      "Epoch 4/10\n",
      "96/96 [==============================] - 3s 35ms/step - loss: 0.3631 - accuracy: 0.8655 - val_loss: 0.5963 - val_accuracy: 0.7577\n",
      "Epoch 5/10\n",
      "96/96 [==============================] - 3s 35ms/step - loss: 0.3229 - accuracy: 0.8892 - val_loss: 0.5464 - val_accuracy: 0.7597\n",
      "Epoch 6/10\n",
      "96/96 [==============================] - 3s 35ms/step - loss: 0.2807 - accuracy: 0.9069 - val_loss: 0.7207 - val_accuracy: 0.7472\n",
      "Epoch 7/10\n",
      "96/96 [==============================] - 3s 35ms/step - loss: 0.2536 - accuracy: 0.9159 - val_loss: 0.7126 - val_accuracy: 0.7387\n",
      "Epoch 8/10\n",
      "96/96 [==============================] - 3s 35ms/step - loss: 0.2334 - accuracy: 0.9230 - val_loss: 0.6242 - val_accuracy: 0.7518\n",
      "Epoch 9/10\n",
      "96/96 [==============================] - 3s 35ms/step - loss: 0.2160 - accuracy: 0.9291 - val_loss: 0.7060 - val_accuracy: 0.7597\n",
      "Epoch 10/10\n",
      "96/96 [==============================] - 3s 35ms/step - loss: 0.1976 - accuracy: 0.9388 - val_loss: 0.7704 - val_accuracy: 0.7400\n"
     ]
    }
   ],
   "source": [
    "history = model.fit(train, validation_data = val, epochs=10, callbacks=[earlystopping, checkpoint])"
   ]
  },
  {
   "cell_type": "code",
   "execution_count": 23,
   "metadata": {
    "id": "9w78_TX-xKVh"
   },
   "outputs": [],
   "source": []
  }
 ],
 "metadata": {
  "accelerator": "GPU",
  "colab": {
   "name": "Untitled24.ipynb",
   "provenance": []
  },
  "kernelspec": {
   "display_name": "Python 3 (ipykernel)",
   "language": "python",
   "name": "python3"
  },
  "language_info": {
   "codemirror_mode": {
    "name": "ipython",
    "version": 3
   },
   "file_extension": ".py",
   "mimetype": "text/x-python",
   "name": "python",
   "nbconvert_exporter": "python",
   "pygments_lexer": "ipython3",
   "version": "3.8.13"
  }
 },
 "nbformat": 4,
 "nbformat_minor": 1
}
