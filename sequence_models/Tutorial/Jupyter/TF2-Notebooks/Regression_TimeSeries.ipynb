{
 "cells": [
  {
   "cell_type": "code",
   "execution_count": 36,
   "metadata": {
    "id": "KJf0pJeMeSKF"
   },
   "outputs": [],
   "source": [
    "import tensorflow as tf\n",
    "import pandas as pd\n",
    "import os\n",
    "import matplotlib.pyplot as plt\n",
    "import seaborn as sns\n",
    "import numpy as np\n"
   ]
  },
  {
   "cell_type": "code",
   "execution_count": 37,
   "metadata": {
    "colab": {
     "base_uri": "https://localhost:8080/",
     "height": 354
    },
    "id": "Zyfjyd8eevNt",
    "outputId": "baed98ef-832b-4f3e-9c25-c639ddad6565"
   },
   "outputs": [
    {
     "data": {
      "text/html": [
       "\n",
       "  <div id=\"df-00baa664-ab9d-49dd-b7ac-51f69b169aad\">\n",
       "    <div class=\"colab-df-container\">\n",
       "      <div>\n",
       "<style scoped>\n",
       "    .dataframe tbody tr th:only-of-type {\n",
       "        vertical-align: middle;\n",
       "    }\n",
       "\n",
       "    .dataframe tbody tr th {\n",
       "        vertical-align: top;\n",
       "    }\n",
       "\n",
       "    .dataframe thead th {\n",
       "        text-align: right;\n",
       "    }\n",
       "</style>\n",
       "<table border=\"1\" class=\"dataframe\">\n",
       "  <thead>\n",
       "    <tr style=\"text-align: right;\">\n",
       "      <th></th>\n",
       "      <th>Formatted Date</th>\n",
       "      <th>Summary</th>\n",
       "      <th>Precip Type</th>\n",
       "      <th>Temperature (C)</th>\n",
       "      <th>Apparent Temperature (C)</th>\n",
       "      <th>Humidity</th>\n",
       "      <th>Wind Speed (km/h)</th>\n",
       "      <th>Wind Bearing (degrees)</th>\n",
       "      <th>Visibility (km)</th>\n",
       "      <th>Loud Cover</th>\n",
       "      <th>Pressure (millibars)</th>\n",
       "      <th>Daily Summary</th>\n",
       "    </tr>\n",
       "  </thead>\n",
       "  <tbody>\n",
       "    <tr>\n",
       "      <th>0</th>\n",
       "      <td>2006-04-01 00:00:00.000 +0200</td>\n",
       "      <td>Partly Cloudy</td>\n",
       "      <td>rain</td>\n",
       "      <td>9.472222</td>\n",
       "      <td>7.388889</td>\n",
       "      <td>0.89</td>\n",
       "      <td>14.1197</td>\n",
       "      <td>251.0</td>\n",
       "      <td>15.8263</td>\n",
       "      <td>0.0</td>\n",
       "      <td>1015.13</td>\n",
       "      <td>Partly cloudy throughout the day.</td>\n",
       "    </tr>\n",
       "    <tr>\n",
       "      <th>1</th>\n",
       "      <td>2006-04-01 01:00:00.000 +0200</td>\n",
       "      <td>Partly Cloudy</td>\n",
       "      <td>rain</td>\n",
       "      <td>9.355556</td>\n",
       "      <td>7.227778</td>\n",
       "      <td>0.86</td>\n",
       "      <td>14.2646</td>\n",
       "      <td>259.0</td>\n",
       "      <td>15.8263</td>\n",
       "      <td>0.0</td>\n",
       "      <td>1015.63</td>\n",
       "      <td>Partly cloudy throughout the day.</td>\n",
       "    </tr>\n",
       "    <tr>\n",
       "      <th>2</th>\n",
       "      <td>2006-04-01 02:00:00.000 +0200</td>\n",
       "      <td>Mostly Cloudy</td>\n",
       "      <td>rain</td>\n",
       "      <td>9.377778</td>\n",
       "      <td>9.377778</td>\n",
       "      <td>0.89</td>\n",
       "      <td>3.9284</td>\n",
       "      <td>204.0</td>\n",
       "      <td>14.9569</td>\n",
       "      <td>0.0</td>\n",
       "      <td>1015.94</td>\n",
       "      <td>Partly cloudy throughout the day.</td>\n",
       "    </tr>\n",
       "    <tr>\n",
       "      <th>3</th>\n",
       "      <td>2006-04-01 03:00:00.000 +0200</td>\n",
       "      <td>Partly Cloudy</td>\n",
       "      <td>rain</td>\n",
       "      <td>8.288889</td>\n",
       "      <td>5.944444</td>\n",
       "      <td>0.83</td>\n",
       "      <td>14.1036</td>\n",
       "      <td>269.0</td>\n",
       "      <td>15.8263</td>\n",
       "      <td>0.0</td>\n",
       "      <td>1016.41</td>\n",
       "      <td>Partly cloudy throughout the day.</td>\n",
       "    </tr>\n",
       "    <tr>\n",
       "      <th>4</th>\n",
       "      <td>2006-04-01 04:00:00.000 +0200</td>\n",
       "      <td>Mostly Cloudy</td>\n",
       "      <td>rain</td>\n",
       "      <td>8.755556</td>\n",
       "      <td>6.977778</td>\n",
       "      <td>0.83</td>\n",
       "      <td>11.0446</td>\n",
       "      <td>259.0</td>\n",
       "      <td>15.8263</td>\n",
       "      <td>0.0</td>\n",
       "      <td>1016.51</td>\n",
       "      <td>Partly cloudy throughout the day.</td>\n",
       "    </tr>\n",
       "  </tbody>\n",
       "</table>\n",
       "</div>\n",
       "      <button class=\"colab-df-convert\" onclick=\"convertToInteractive('df-00baa664-ab9d-49dd-b7ac-51f69b169aad')\"\n",
       "              title=\"Convert this dataframe to an interactive table.\"\n",
       "              style=\"display:none;\">\n",
       "        \n",
       "  <svg xmlns=\"http://www.w3.org/2000/svg\" height=\"24px\"viewBox=\"0 0 24 24\"\n",
       "       width=\"24px\">\n",
       "    <path d=\"M0 0h24v24H0V0z\" fill=\"none\"/>\n",
       "    <path d=\"M18.56 5.44l.94 2.06.94-2.06 2.06-.94-2.06-.94-.94-2.06-.94 2.06-2.06.94zm-11 1L8.5 8.5l.94-2.06 2.06-.94-2.06-.94L8.5 2.5l-.94 2.06-2.06.94zm10 10l.94 2.06.94-2.06 2.06-.94-2.06-.94-.94-2.06-.94 2.06-2.06.94z\"/><path d=\"M17.41 7.96l-1.37-1.37c-.4-.4-.92-.59-1.43-.59-.52 0-1.04.2-1.43.59L10.3 9.45l-7.72 7.72c-.78.78-.78 2.05 0 2.83L4 21.41c.39.39.9.59 1.41.59.51 0 1.02-.2 1.41-.59l7.78-7.78 2.81-2.81c.8-.78.8-2.07 0-2.86zM5.41 20L4 18.59l7.72-7.72 1.47 1.35L5.41 20z\"/>\n",
       "  </svg>\n",
       "      </button>\n",
       "      \n",
       "  <style>\n",
       "    .colab-df-container {\n",
       "      display:flex;\n",
       "      flex-wrap:wrap;\n",
       "      gap: 12px;\n",
       "    }\n",
       "\n",
       "    .colab-df-convert {\n",
       "      background-color: #E8F0FE;\n",
       "      border: none;\n",
       "      border-radius: 50%;\n",
       "      cursor: pointer;\n",
       "      display: none;\n",
       "      fill: #1967D2;\n",
       "      height: 32px;\n",
       "      padding: 0 0 0 0;\n",
       "      width: 32px;\n",
       "    }\n",
       "\n",
       "    .colab-df-convert:hover {\n",
       "      background-color: #E2EBFA;\n",
       "      box-shadow: 0px 1px 2px rgba(60, 64, 67, 0.3), 0px 1px 3px 1px rgba(60, 64, 67, 0.15);\n",
       "      fill: #174EA6;\n",
       "    }\n",
       "\n",
       "    [theme=dark] .colab-df-convert {\n",
       "      background-color: #3B4455;\n",
       "      fill: #D2E3FC;\n",
       "    }\n",
       "\n",
       "    [theme=dark] .colab-df-convert:hover {\n",
       "      background-color: #434B5C;\n",
       "      box-shadow: 0px 1px 3px 1px rgba(0, 0, 0, 0.15);\n",
       "      filter: drop-shadow(0px 1px 2px rgba(0, 0, 0, 0.3));\n",
       "      fill: #FFFFFF;\n",
       "    }\n",
       "  </style>\n",
       "\n",
       "      <script>\n",
       "        const buttonEl =\n",
       "          document.querySelector('#df-00baa664-ab9d-49dd-b7ac-51f69b169aad button.colab-df-convert');\n",
       "        buttonEl.style.display =\n",
       "          google.colab.kernel.accessAllowed ? 'block' : 'none';\n",
       "\n",
       "        async function convertToInteractive(key) {\n",
       "          const element = document.querySelector('#df-00baa664-ab9d-49dd-b7ac-51f69b169aad');\n",
       "          const dataTable =\n",
       "            await google.colab.kernel.invokeFunction('convertToInteractive',\n",
       "                                                     [key], {});\n",
       "          if (!dataTable) return;\n",
       "\n",
       "          const docLinkHtml = 'Like what you see? Visit the ' +\n",
       "            '<a target=\"_blank\" href=https://colab.research.google.com/notebooks/data_table.ipynb>data table notebook</a>'\n",
       "            + ' to learn more about interactive tables.';\n",
       "          element.innerHTML = '';\n",
       "          dataTable['output_type'] = 'display_data';\n",
       "          await google.colab.output.renderOutput(dataTable, element);\n",
       "          const docLink = document.createElement('div');\n",
       "          docLink.innerHTML = docLinkHtml;\n",
       "          element.appendChild(docLink);\n",
       "        }\n",
       "      </script>\n",
       "    </div>\n",
       "  </div>\n",
       "  "
      ],
      "text/plain": [
       "                  Formatted Date        Summary Precip Type  Temperature (C)  \\\n",
       "0  2006-04-01 00:00:00.000 +0200  Partly Cloudy        rain         9.472222   \n",
       "1  2006-04-01 01:00:00.000 +0200  Partly Cloudy        rain         9.355556   \n",
       "2  2006-04-01 02:00:00.000 +0200  Mostly Cloudy        rain         9.377778   \n",
       "3  2006-04-01 03:00:00.000 +0200  Partly Cloudy        rain         8.288889   \n",
       "4  2006-04-01 04:00:00.000 +0200  Mostly Cloudy        rain         8.755556   \n",
       "\n",
       "   Apparent Temperature (C)  Humidity  Wind Speed (km/h)  \\\n",
       "0                  7.388889      0.89            14.1197   \n",
       "1                  7.227778      0.86            14.2646   \n",
       "2                  9.377778      0.89             3.9284   \n",
       "3                  5.944444      0.83            14.1036   \n",
       "4                  6.977778      0.83            11.0446   \n",
       "\n",
       "   Wind Bearing (degrees)  Visibility (km)  Loud Cover  Pressure (millibars)  \\\n",
       "0                   251.0          15.8263         0.0               1015.13   \n",
       "1                   259.0          15.8263         0.0               1015.63   \n",
       "2                   204.0          14.9569         0.0               1015.94   \n",
       "3                   269.0          15.8263         0.0               1016.41   \n",
       "4                   259.0          15.8263         0.0               1016.51   \n",
       "\n",
       "                       Daily Summary  \n",
       "0  Partly cloudy throughout the day.  \n",
       "1  Partly cloudy throughout the day.  \n",
       "2  Partly cloudy throughout the day.  \n",
       "3  Partly cloudy throughout the day.  \n",
       "4  Partly cloudy throughout the day.  "
      ]
     },
     "execution_count": 37,
     "metadata": {},
     "output_type": "execute_result"
    }
   ],
   "source": [
    "dataset = pd.read_csv('weatherHistory.csv')\n",
    "dataset.head()"
   ]
  },
  {
   "cell_type": "code",
   "execution_count": 38,
   "metadata": {
    "colab": {
     "base_uri": "https://localhost:8080/",
     "height": 386
    },
    "id": "VUWMAqkAfsrA",
    "outputId": "3ae821fd-564b-4ba4-ea99-ebc377353003"
   },
   "outputs": [
    {
     "data": {
      "text/html": [
       "\n",
       "  <div id=\"df-833c2f90-7fdb-4c1f-9393-34534309ef0b\">\n",
       "    <div class=\"colab-df-container\">\n",
       "      <div>\n",
       "<style scoped>\n",
       "    .dataframe tbody tr th:only-of-type {\n",
       "        vertical-align: middle;\n",
       "    }\n",
       "\n",
       "    .dataframe tbody tr th {\n",
       "        vertical-align: top;\n",
       "    }\n",
       "\n",
       "    .dataframe thead th {\n",
       "        text-align: right;\n",
       "    }\n",
       "</style>\n",
       "<table border=\"1\" class=\"dataframe\">\n",
       "  <thead>\n",
       "    <tr style=\"text-align: right;\">\n",
       "      <th></th>\n",
       "      <th>Summary</th>\n",
       "      <th>Precip Type</th>\n",
       "      <th>Temperature (C)</th>\n",
       "      <th>Apparent Temperature (C)</th>\n",
       "      <th>Humidity</th>\n",
       "      <th>Wind Speed (km/h)</th>\n",
       "      <th>Wind Bearing (degrees)</th>\n",
       "      <th>Visibility (km)</th>\n",
       "      <th>Loud Cover</th>\n",
       "      <th>Pressure (millibars)</th>\n",
       "      <th>Daily Summary</th>\n",
       "    </tr>\n",
       "    <tr>\n",
       "      <th>Formatted Date</th>\n",
       "      <th></th>\n",
       "      <th></th>\n",
       "      <th></th>\n",
       "      <th></th>\n",
       "      <th></th>\n",
       "      <th></th>\n",
       "      <th></th>\n",
       "      <th></th>\n",
       "      <th></th>\n",
       "      <th></th>\n",
       "      <th></th>\n",
       "    </tr>\n",
       "  </thead>\n",
       "  <tbody>\n",
       "    <tr>\n",
       "      <th>2006-04-01 00:00:00+02:00</th>\n",
       "      <td>Partly Cloudy</td>\n",
       "      <td>rain</td>\n",
       "      <td>9.472222</td>\n",
       "      <td>7.388889</td>\n",
       "      <td>0.89</td>\n",
       "      <td>14.1197</td>\n",
       "      <td>251.0</td>\n",
       "      <td>15.8263</td>\n",
       "      <td>0.0</td>\n",
       "      <td>1015.13</td>\n",
       "      <td>Partly cloudy throughout the day.</td>\n",
       "    </tr>\n",
       "    <tr>\n",
       "      <th>2006-04-01 01:00:00+02:00</th>\n",
       "      <td>Partly Cloudy</td>\n",
       "      <td>rain</td>\n",
       "      <td>9.355556</td>\n",
       "      <td>7.227778</td>\n",
       "      <td>0.86</td>\n",
       "      <td>14.2646</td>\n",
       "      <td>259.0</td>\n",
       "      <td>15.8263</td>\n",
       "      <td>0.0</td>\n",
       "      <td>1015.63</td>\n",
       "      <td>Partly cloudy throughout the day.</td>\n",
       "    </tr>\n",
       "    <tr>\n",
       "      <th>2006-04-01 02:00:00+02:00</th>\n",
       "      <td>Mostly Cloudy</td>\n",
       "      <td>rain</td>\n",
       "      <td>9.377778</td>\n",
       "      <td>9.377778</td>\n",
       "      <td>0.89</td>\n",
       "      <td>3.9284</td>\n",
       "      <td>204.0</td>\n",
       "      <td>14.9569</td>\n",
       "      <td>0.0</td>\n",
       "      <td>1015.94</td>\n",
       "      <td>Partly cloudy throughout the day.</td>\n",
       "    </tr>\n",
       "    <tr>\n",
       "      <th>2006-04-01 03:00:00+02:00</th>\n",
       "      <td>Partly Cloudy</td>\n",
       "      <td>rain</td>\n",
       "      <td>8.288889</td>\n",
       "      <td>5.944444</td>\n",
       "      <td>0.83</td>\n",
       "      <td>14.1036</td>\n",
       "      <td>269.0</td>\n",
       "      <td>15.8263</td>\n",
       "      <td>0.0</td>\n",
       "      <td>1016.41</td>\n",
       "      <td>Partly cloudy throughout the day.</td>\n",
       "    </tr>\n",
       "    <tr>\n",
       "      <th>2006-04-01 04:00:00+02:00</th>\n",
       "      <td>Mostly Cloudy</td>\n",
       "      <td>rain</td>\n",
       "      <td>8.755556</td>\n",
       "      <td>6.977778</td>\n",
       "      <td>0.83</td>\n",
       "      <td>11.0446</td>\n",
       "      <td>259.0</td>\n",
       "      <td>15.8263</td>\n",
       "      <td>0.0</td>\n",
       "      <td>1016.51</td>\n",
       "      <td>Partly cloudy throughout the day.</td>\n",
       "    </tr>\n",
       "  </tbody>\n",
       "</table>\n",
       "</div>\n",
       "      <button class=\"colab-df-convert\" onclick=\"convertToInteractive('df-833c2f90-7fdb-4c1f-9393-34534309ef0b')\"\n",
       "              title=\"Convert this dataframe to an interactive table.\"\n",
       "              style=\"display:none;\">\n",
       "        \n",
       "  <svg xmlns=\"http://www.w3.org/2000/svg\" height=\"24px\"viewBox=\"0 0 24 24\"\n",
       "       width=\"24px\">\n",
       "    <path d=\"M0 0h24v24H0V0z\" fill=\"none\"/>\n",
       "    <path d=\"M18.56 5.44l.94 2.06.94-2.06 2.06-.94-2.06-.94-.94-2.06-.94 2.06-2.06.94zm-11 1L8.5 8.5l.94-2.06 2.06-.94-2.06-.94L8.5 2.5l-.94 2.06-2.06.94zm10 10l.94 2.06.94-2.06 2.06-.94-2.06-.94-.94-2.06-.94 2.06-2.06.94z\"/><path d=\"M17.41 7.96l-1.37-1.37c-.4-.4-.92-.59-1.43-.59-.52 0-1.04.2-1.43.59L10.3 9.45l-7.72 7.72c-.78.78-.78 2.05 0 2.83L4 21.41c.39.39.9.59 1.41.59.51 0 1.02-.2 1.41-.59l7.78-7.78 2.81-2.81c.8-.78.8-2.07 0-2.86zM5.41 20L4 18.59l7.72-7.72 1.47 1.35L5.41 20z\"/>\n",
       "  </svg>\n",
       "      </button>\n",
       "      \n",
       "  <style>\n",
       "    .colab-df-container {\n",
       "      display:flex;\n",
       "      flex-wrap:wrap;\n",
       "      gap: 12px;\n",
       "    }\n",
       "\n",
       "    .colab-df-convert {\n",
       "      background-color: #E8F0FE;\n",
       "      border: none;\n",
       "      border-radius: 50%;\n",
       "      cursor: pointer;\n",
       "      display: none;\n",
       "      fill: #1967D2;\n",
       "      height: 32px;\n",
       "      padding: 0 0 0 0;\n",
       "      width: 32px;\n",
       "    }\n",
       "\n",
       "    .colab-df-convert:hover {\n",
       "      background-color: #E2EBFA;\n",
       "      box-shadow: 0px 1px 2px rgba(60, 64, 67, 0.3), 0px 1px 3px 1px rgba(60, 64, 67, 0.15);\n",
       "      fill: #174EA6;\n",
       "    }\n",
       "\n",
       "    [theme=dark] .colab-df-convert {\n",
       "      background-color: #3B4455;\n",
       "      fill: #D2E3FC;\n",
       "    }\n",
       "\n",
       "    [theme=dark] .colab-df-convert:hover {\n",
       "      background-color: #434B5C;\n",
       "      box-shadow: 0px 1px 3px 1px rgba(0, 0, 0, 0.15);\n",
       "      filter: drop-shadow(0px 1px 2px rgba(0, 0, 0, 0.3));\n",
       "      fill: #FFFFFF;\n",
       "    }\n",
       "  </style>\n",
       "\n",
       "      <script>\n",
       "        const buttonEl =\n",
       "          document.querySelector('#df-833c2f90-7fdb-4c1f-9393-34534309ef0b button.colab-df-convert');\n",
       "        buttonEl.style.display =\n",
       "          google.colab.kernel.accessAllowed ? 'block' : 'none';\n",
       "\n",
       "        async function convertToInteractive(key) {\n",
       "          const element = document.querySelector('#df-833c2f90-7fdb-4c1f-9393-34534309ef0b');\n",
       "          const dataTable =\n",
       "            await google.colab.kernel.invokeFunction('convertToInteractive',\n",
       "                                                     [key], {});\n",
       "          if (!dataTable) return;\n",
       "\n",
       "          const docLinkHtml = 'Like what you see? Visit the ' +\n",
       "            '<a target=\"_blank\" href=https://colab.research.google.com/notebooks/data_table.ipynb>data table notebook</a>'\n",
       "            + ' to learn more about interactive tables.';\n",
       "          element.innerHTML = '';\n",
       "          dataTable['output_type'] = 'display_data';\n",
       "          await google.colab.output.renderOutput(dataTable, element);\n",
       "          const docLink = document.createElement('div');\n",
       "          docLink.innerHTML = docLinkHtml;\n",
       "          element.appendChild(docLink);\n",
       "        }\n",
       "      </script>\n",
       "    </div>\n",
       "  </div>\n",
       "  "
      ],
      "text/plain": [
       "                                 Summary Precip Type  Temperature (C)  \\\n",
       "Formatted Date                                                          \n",
       "2006-04-01 00:00:00+02:00  Partly Cloudy        rain         9.472222   \n",
       "2006-04-01 01:00:00+02:00  Partly Cloudy        rain         9.355556   \n",
       "2006-04-01 02:00:00+02:00  Mostly Cloudy        rain         9.377778   \n",
       "2006-04-01 03:00:00+02:00  Partly Cloudy        rain         8.288889   \n",
       "2006-04-01 04:00:00+02:00  Mostly Cloudy        rain         8.755556   \n",
       "\n",
       "                           Apparent Temperature (C)  Humidity  \\\n",
       "Formatted Date                                                  \n",
       "2006-04-01 00:00:00+02:00                  7.388889      0.89   \n",
       "2006-04-01 01:00:00+02:00                  7.227778      0.86   \n",
       "2006-04-01 02:00:00+02:00                  9.377778      0.89   \n",
       "2006-04-01 03:00:00+02:00                  5.944444      0.83   \n",
       "2006-04-01 04:00:00+02:00                  6.977778      0.83   \n",
       "\n",
       "                           Wind Speed (km/h)  Wind Bearing (degrees)  \\\n",
       "Formatted Date                                                         \n",
       "2006-04-01 00:00:00+02:00            14.1197                   251.0   \n",
       "2006-04-01 01:00:00+02:00            14.2646                   259.0   \n",
       "2006-04-01 02:00:00+02:00             3.9284                   204.0   \n",
       "2006-04-01 03:00:00+02:00            14.1036                   269.0   \n",
       "2006-04-01 04:00:00+02:00            11.0446                   259.0   \n",
       "\n",
       "                           Visibility (km)  Loud Cover  Pressure (millibars)  \\\n",
       "Formatted Date                                                                 \n",
       "2006-04-01 00:00:00+02:00          15.8263         0.0               1015.13   \n",
       "2006-04-01 01:00:00+02:00          15.8263         0.0               1015.63   \n",
       "2006-04-01 02:00:00+02:00          14.9569         0.0               1015.94   \n",
       "2006-04-01 03:00:00+02:00          15.8263         0.0               1016.41   \n",
       "2006-04-01 04:00:00+02:00          15.8263         0.0               1016.51   \n",
       "\n",
       "                                               Daily Summary  \n",
       "Formatted Date                                                \n",
       "2006-04-01 00:00:00+02:00  Partly cloudy throughout the day.  \n",
       "2006-04-01 01:00:00+02:00  Partly cloudy throughout the day.  \n",
       "2006-04-01 02:00:00+02:00  Partly cloudy throughout the day.  \n",
       "2006-04-01 03:00:00+02:00  Partly cloudy throughout the day.  \n",
       "2006-04-01 04:00:00+02:00  Partly cloudy throughout the day.  "
      ]
     },
     "execution_count": 38,
     "metadata": {},
     "output_type": "execute_result"
    }
   ],
   "source": [
    "date_time = dataset['Formatted Date'] = pd.to_datetime(dataset['Formatted Date'])\n",
    "dataset.set_index('Formatted Date', inplace=True)\n",
    "dataset.head()"
   ]
  },
  {
   "cell_type": "code",
   "execution_count": 39,
   "metadata": {
    "colab": {
     "base_uri": "https://localhost:8080/",
     "height": 300
    },
    "id": "2muA6-OHf64R",
    "outputId": "017e37c2-767a-4e91-e3ef-fd4ea191eb19"
   },
   "outputs": [
    {
     "data": {
      "text/html": [
       "\n",
       "  <div id=\"df-eda6ac4b-a699-486b-85ea-7f4e86156ee9\">\n",
       "    <div class=\"colab-df-container\">\n",
       "      <div>\n",
       "<style scoped>\n",
       "    .dataframe tbody tr th:only-of-type {\n",
       "        vertical-align: middle;\n",
       "    }\n",
       "\n",
       "    .dataframe tbody tr th {\n",
       "        vertical-align: top;\n",
       "    }\n",
       "\n",
       "    .dataframe thead th {\n",
       "        text-align: right;\n",
       "    }\n",
       "</style>\n",
       "<table border=\"1\" class=\"dataframe\">\n",
       "  <thead>\n",
       "    <tr style=\"text-align: right;\">\n",
       "      <th></th>\n",
       "      <th>count</th>\n",
       "      <th>mean</th>\n",
       "      <th>std</th>\n",
       "      <th>min</th>\n",
       "      <th>25%</th>\n",
       "      <th>50%</th>\n",
       "      <th>75%</th>\n",
       "      <th>max</th>\n",
       "    </tr>\n",
       "  </thead>\n",
       "  <tbody>\n",
       "    <tr>\n",
       "      <th>Temperature (C)</th>\n",
       "      <td>96453.0</td>\n",
       "      <td>11.932678</td>\n",
       "      <td>9.551546</td>\n",
       "      <td>-21.822222</td>\n",
       "      <td>4.688889</td>\n",
       "      <td>12.0000</td>\n",
       "      <td>18.838889</td>\n",
       "      <td>39.905556</td>\n",
       "    </tr>\n",
       "    <tr>\n",
       "      <th>Apparent Temperature (C)</th>\n",
       "      <td>96453.0</td>\n",
       "      <td>10.855029</td>\n",
       "      <td>10.696847</td>\n",
       "      <td>-27.716667</td>\n",
       "      <td>2.311111</td>\n",
       "      <td>12.0000</td>\n",
       "      <td>18.838889</td>\n",
       "      <td>39.344444</td>\n",
       "    </tr>\n",
       "    <tr>\n",
       "      <th>Humidity</th>\n",
       "      <td>96453.0</td>\n",
       "      <td>0.734899</td>\n",
       "      <td>0.195473</td>\n",
       "      <td>0.000000</td>\n",
       "      <td>0.600000</td>\n",
       "      <td>0.7800</td>\n",
       "      <td>0.890000</td>\n",
       "      <td>1.000000</td>\n",
       "    </tr>\n",
       "    <tr>\n",
       "      <th>Wind Speed (km/h)</th>\n",
       "      <td>96453.0</td>\n",
       "      <td>10.810640</td>\n",
       "      <td>6.913571</td>\n",
       "      <td>0.000000</td>\n",
       "      <td>5.828200</td>\n",
       "      <td>9.9659</td>\n",
       "      <td>14.135800</td>\n",
       "      <td>63.852600</td>\n",
       "    </tr>\n",
       "    <tr>\n",
       "      <th>Wind Bearing (degrees)</th>\n",
       "      <td>96453.0</td>\n",
       "      <td>187.509232</td>\n",
       "      <td>107.383428</td>\n",
       "      <td>0.000000</td>\n",
       "      <td>116.000000</td>\n",
       "      <td>180.0000</td>\n",
       "      <td>290.000000</td>\n",
       "      <td>359.000000</td>\n",
       "    </tr>\n",
       "    <tr>\n",
       "      <th>Visibility (km)</th>\n",
       "      <td>96453.0</td>\n",
       "      <td>10.347325</td>\n",
       "      <td>4.192123</td>\n",
       "      <td>0.000000</td>\n",
       "      <td>8.339800</td>\n",
       "      <td>10.0464</td>\n",
       "      <td>14.812000</td>\n",
       "      <td>16.100000</td>\n",
       "    </tr>\n",
       "    <tr>\n",
       "      <th>Loud Cover</th>\n",
       "      <td>96453.0</td>\n",
       "      <td>0.000000</td>\n",
       "      <td>0.000000</td>\n",
       "      <td>0.000000</td>\n",
       "      <td>0.000000</td>\n",
       "      <td>0.0000</td>\n",
       "      <td>0.000000</td>\n",
       "      <td>0.000000</td>\n",
       "    </tr>\n",
       "    <tr>\n",
       "      <th>Pressure (millibars)</th>\n",
       "      <td>96453.0</td>\n",
       "      <td>1003.235956</td>\n",
       "      <td>116.969906</td>\n",
       "      <td>0.000000</td>\n",
       "      <td>1011.900000</td>\n",
       "      <td>1016.4500</td>\n",
       "      <td>1021.090000</td>\n",
       "      <td>1046.380000</td>\n",
       "    </tr>\n",
       "  </tbody>\n",
       "</table>\n",
       "</div>\n",
       "      <button class=\"colab-df-convert\" onclick=\"convertToInteractive('df-eda6ac4b-a699-486b-85ea-7f4e86156ee9')\"\n",
       "              title=\"Convert this dataframe to an interactive table.\"\n",
       "              style=\"display:none;\">\n",
       "        \n",
       "  <svg xmlns=\"http://www.w3.org/2000/svg\" height=\"24px\"viewBox=\"0 0 24 24\"\n",
       "       width=\"24px\">\n",
       "    <path d=\"M0 0h24v24H0V0z\" fill=\"none\"/>\n",
       "    <path d=\"M18.56 5.44l.94 2.06.94-2.06 2.06-.94-2.06-.94-.94-2.06-.94 2.06-2.06.94zm-11 1L8.5 8.5l.94-2.06 2.06-.94-2.06-.94L8.5 2.5l-.94 2.06-2.06.94zm10 10l.94 2.06.94-2.06 2.06-.94-2.06-.94-.94-2.06-.94 2.06-2.06.94z\"/><path d=\"M17.41 7.96l-1.37-1.37c-.4-.4-.92-.59-1.43-.59-.52 0-1.04.2-1.43.59L10.3 9.45l-7.72 7.72c-.78.78-.78 2.05 0 2.83L4 21.41c.39.39.9.59 1.41.59.51 0 1.02-.2 1.41-.59l7.78-7.78 2.81-2.81c.8-.78.8-2.07 0-2.86zM5.41 20L4 18.59l7.72-7.72 1.47 1.35L5.41 20z\"/>\n",
       "  </svg>\n",
       "      </button>\n",
       "      \n",
       "  <style>\n",
       "    .colab-df-container {\n",
       "      display:flex;\n",
       "      flex-wrap:wrap;\n",
       "      gap: 12px;\n",
       "    }\n",
       "\n",
       "    .colab-df-convert {\n",
       "      background-color: #E8F0FE;\n",
       "      border: none;\n",
       "      border-radius: 50%;\n",
       "      cursor: pointer;\n",
       "      display: none;\n",
       "      fill: #1967D2;\n",
       "      height: 32px;\n",
       "      padding: 0 0 0 0;\n",
       "      width: 32px;\n",
       "    }\n",
       "\n",
       "    .colab-df-convert:hover {\n",
       "      background-color: #E2EBFA;\n",
       "      box-shadow: 0px 1px 2px rgba(60, 64, 67, 0.3), 0px 1px 3px 1px rgba(60, 64, 67, 0.15);\n",
       "      fill: #174EA6;\n",
       "    }\n",
       "\n",
       "    [theme=dark] .colab-df-convert {\n",
       "      background-color: #3B4455;\n",
       "      fill: #D2E3FC;\n",
       "    }\n",
       "\n",
       "    [theme=dark] .colab-df-convert:hover {\n",
       "      background-color: #434B5C;\n",
       "      box-shadow: 0px 1px 3px 1px rgba(0, 0, 0, 0.15);\n",
       "      filter: drop-shadow(0px 1px 2px rgba(0, 0, 0, 0.3));\n",
       "      fill: #FFFFFF;\n",
       "    }\n",
       "  </style>\n",
       "\n",
       "      <script>\n",
       "        const buttonEl =\n",
       "          document.querySelector('#df-eda6ac4b-a699-486b-85ea-7f4e86156ee9 button.colab-df-convert');\n",
       "        buttonEl.style.display =\n",
       "          google.colab.kernel.accessAllowed ? 'block' : 'none';\n",
       "\n",
       "        async function convertToInteractive(key) {\n",
       "          const element = document.querySelector('#df-eda6ac4b-a699-486b-85ea-7f4e86156ee9');\n",
       "          const dataTable =\n",
       "            await google.colab.kernel.invokeFunction('convertToInteractive',\n",
       "                                                     [key], {});\n",
       "          if (!dataTable) return;\n",
       "\n",
       "          const docLinkHtml = 'Like what you see? Visit the ' +\n",
       "            '<a target=\"_blank\" href=https://colab.research.google.com/notebooks/data_table.ipynb>data table notebook</a>'\n",
       "            + ' to learn more about interactive tables.';\n",
       "          element.innerHTML = '';\n",
       "          dataTable['output_type'] = 'display_data';\n",
       "          await google.colab.output.renderOutput(dataTable, element);\n",
       "          const docLink = document.createElement('div');\n",
       "          docLink.innerHTML = docLinkHtml;\n",
       "          element.appendChild(docLink);\n",
       "        }\n",
       "      </script>\n",
       "    </div>\n",
       "  </div>\n",
       "  "
      ],
      "text/plain": [
       "                            count         mean         std        min  \\\n",
       "Temperature (C)           96453.0    11.932678    9.551546 -21.822222   \n",
       "Apparent Temperature (C)  96453.0    10.855029   10.696847 -27.716667   \n",
       "Humidity                  96453.0     0.734899    0.195473   0.000000   \n",
       "Wind Speed (km/h)         96453.0    10.810640    6.913571   0.000000   \n",
       "Wind Bearing (degrees)    96453.0   187.509232  107.383428   0.000000   \n",
       "Visibility (km)           96453.0    10.347325    4.192123   0.000000   \n",
       "Loud Cover                96453.0     0.000000    0.000000   0.000000   \n",
       "Pressure (millibars)      96453.0  1003.235956  116.969906   0.000000   \n",
       "\n",
       "                                  25%        50%          75%          max  \n",
       "Temperature (C)              4.688889    12.0000    18.838889    39.905556  \n",
       "Apparent Temperature (C)     2.311111    12.0000    18.838889    39.344444  \n",
       "Humidity                     0.600000     0.7800     0.890000     1.000000  \n",
       "Wind Speed (km/h)            5.828200     9.9659    14.135800    63.852600  \n",
       "Wind Bearing (degrees)     116.000000   180.0000   290.000000   359.000000  \n",
       "Visibility (km)              8.339800    10.0464    14.812000    16.100000  \n",
       "Loud Cover                   0.000000     0.0000     0.000000     0.000000  \n",
       "Pressure (millibars)      1011.900000  1016.4500  1021.090000  1046.380000  "
      ]
     },
     "execution_count": 39,
     "metadata": {},
     "output_type": "execute_result"
    }
   ],
   "source": [
    "dataset.describe().transpose()"
   ]
  },
  {
   "cell_type": "code",
   "execution_count": 40,
   "metadata": {
    "colab": {
     "base_uri": "https://localhost:8080/"
    },
    "id": "PnWVgGTcgr3x",
    "outputId": "86dce53b-9d62-4e03-a374-5535d5540905"
   },
   "outputs": [
    {
     "name": "stdout",
     "output_type": "stream",
     "text": [
      "<class 'pandas.core.frame.DataFrame'>\n",
      "Index: 96453 entries, 2006-04-01 00:00:00+02:00 to 2016-09-09 23:00:00+02:00\n",
      "Data columns (total 11 columns):\n",
      " #   Column                    Non-Null Count  Dtype  \n",
      "---  ------                    --------------  -----  \n",
      " 0   Summary                   96453 non-null  object \n",
      " 1   Precip Type               95936 non-null  object \n",
      " 2   Temperature (C)           96453 non-null  float64\n",
      " 3   Apparent Temperature (C)  96453 non-null  float64\n",
      " 4   Humidity                  96453 non-null  float64\n",
      " 5   Wind Speed (km/h)         96453 non-null  float64\n",
      " 6   Wind Bearing (degrees)    96453 non-null  float64\n",
      " 7   Visibility (km)           96453 non-null  float64\n",
      " 8   Loud Cover                96453 non-null  float64\n",
      " 9   Pressure (millibars)      96453 non-null  float64\n",
      " 10  Daily Summary             96453 non-null  object \n",
      "dtypes: float64(8), object(3)\n",
      "memory usage: 8.8+ MB\n"
     ]
    }
   ],
   "source": [
    "dataset.info()"
   ]
  },
  {
   "cell_type": "code",
   "execution_count": 41,
   "metadata": {
    "id": "Y-bDPpDshCQR"
   },
   "outputs": [],
   "source": [
    "wv = dataset.pop('Wind Speed (km/h)')\n",
    "wd = dataset.pop('Wind Bearing (degrees)') * np.pi / 180\n",
    "\n",
    "dataset['Wx'] = wv * np.cos(wd)\n",
    "dataset['Wy'] = wv * np.sin(wd)"
   ]
  },
  {
   "cell_type": "code",
   "execution_count": 42,
   "metadata": {
    "colab": {
     "base_uri": "https://localhost:8080/",
     "height": 386
    },
    "id": "TIuHcHJ8hcZc",
    "outputId": "8cba0a2a-7447-46c6-f464-ab1cb88fd190"
   },
   "outputs": [
    {
     "data": {
      "text/html": [
       "\n",
       "  <div id=\"df-99bbd632-8fe3-43ba-a384-398c76699b44\">\n",
       "    <div class=\"colab-df-container\">\n",
       "      <div>\n",
       "<style scoped>\n",
       "    .dataframe tbody tr th:only-of-type {\n",
       "        vertical-align: middle;\n",
       "    }\n",
       "\n",
       "    .dataframe tbody tr th {\n",
       "        vertical-align: top;\n",
       "    }\n",
       "\n",
       "    .dataframe thead th {\n",
       "        text-align: right;\n",
       "    }\n",
       "</style>\n",
       "<table border=\"1\" class=\"dataframe\">\n",
       "  <thead>\n",
       "    <tr style=\"text-align: right;\">\n",
       "      <th></th>\n",
       "      <th>Summary</th>\n",
       "      <th>Precip Type</th>\n",
       "      <th>Temperature (C)</th>\n",
       "      <th>Apparent Temperature (C)</th>\n",
       "      <th>Humidity</th>\n",
       "      <th>Visibility (km)</th>\n",
       "      <th>Loud Cover</th>\n",
       "      <th>Pressure (millibars)</th>\n",
       "      <th>Daily Summary</th>\n",
       "      <th>Wx</th>\n",
       "      <th>Wy</th>\n",
       "    </tr>\n",
       "    <tr>\n",
       "      <th>Formatted Date</th>\n",
       "      <th></th>\n",
       "      <th></th>\n",
       "      <th></th>\n",
       "      <th></th>\n",
       "      <th></th>\n",
       "      <th></th>\n",
       "      <th></th>\n",
       "      <th></th>\n",
       "      <th></th>\n",
       "      <th></th>\n",
       "      <th></th>\n",
       "    </tr>\n",
       "  </thead>\n",
       "  <tbody>\n",
       "    <tr>\n",
       "      <th>2006-04-01 00:00:00+02:00</th>\n",
       "      <td>Partly Cloudy</td>\n",
       "      <td>rain</td>\n",
       "      <td>9.472222</td>\n",
       "      <td>7.388889</td>\n",
       "      <td>0.89</td>\n",
       "      <td>15.8263</td>\n",
       "      <td>0.0</td>\n",
       "      <td>1015.13</td>\n",
       "      <td>Partly cloudy throughout the day.</td>\n",
       "      <td>-4.596925</td>\n",
       "      <td>-13.350439</td>\n",
       "    </tr>\n",
       "    <tr>\n",
       "      <th>2006-04-01 01:00:00+02:00</th>\n",
       "      <td>Partly Cloudy</td>\n",
       "      <td>rain</td>\n",
       "      <td>9.355556</td>\n",
       "      <td>7.227778</td>\n",
       "      <td>0.86</td>\n",
       "      <td>15.8263</td>\n",
       "      <td>0.0</td>\n",
       "      <td>1015.63</td>\n",
       "      <td>Partly cloudy throughout the day.</td>\n",
       "      <td>-2.721814</td>\n",
       "      <td>-14.002519</td>\n",
       "    </tr>\n",
       "    <tr>\n",
       "      <th>2006-04-01 02:00:00+02:00</th>\n",
       "      <td>Mostly Cloudy</td>\n",
       "      <td>rain</td>\n",
       "      <td>9.377778</td>\n",
       "      <td>9.377778</td>\n",
       "      <td>0.89</td>\n",
       "      <td>14.9569</td>\n",
       "      <td>0.0</td>\n",
       "      <td>1015.94</td>\n",
       "      <td>Partly cloudy throughout the day.</td>\n",
       "      <td>-3.588772</td>\n",
       "      <td>-1.597824</td>\n",
       "    </tr>\n",
       "    <tr>\n",
       "      <th>2006-04-01 03:00:00+02:00</th>\n",
       "      <td>Partly Cloudy</td>\n",
       "      <td>rain</td>\n",
       "      <td>8.288889</td>\n",
       "      <td>5.944444</td>\n",
       "      <td>0.83</td>\n",
       "      <td>15.8263</td>\n",
       "      <td>0.0</td>\n",
       "      <td>1016.41</td>\n",
       "      <td>Partly cloudy throughout the day.</td>\n",
       "      <td>-0.246142</td>\n",
       "      <td>-14.101452</td>\n",
       "    </tr>\n",
       "    <tr>\n",
       "      <th>2006-04-01 04:00:00+02:00</th>\n",
       "      <td>Mostly Cloudy</td>\n",
       "      <td>rain</td>\n",
       "      <td>8.755556</td>\n",
       "      <td>6.977778</td>\n",
       "      <td>0.83</td>\n",
       "      <td>15.8263</td>\n",
       "      <td>0.0</td>\n",
       "      <td>1016.51</td>\n",
       "      <td>Partly cloudy throughout the day.</td>\n",
       "      <td>-2.107409</td>\n",
       "      <td>-10.841680</td>\n",
       "    </tr>\n",
       "  </tbody>\n",
       "</table>\n",
       "</div>\n",
       "      <button class=\"colab-df-convert\" onclick=\"convertToInteractive('df-99bbd632-8fe3-43ba-a384-398c76699b44')\"\n",
       "              title=\"Convert this dataframe to an interactive table.\"\n",
       "              style=\"display:none;\">\n",
       "        \n",
       "  <svg xmlns=\"http://www.w3.org/2000/svg\" height=\"24px\"viewBox=\"0 0 24 24\"\n",
       "       width=\"24px\">\n",
       "    <path d=\"M0 0h24v24H0V0z\" fill=\"none\"/>\n",
       "    <path d=\"M18.56 5.44l.94 2.06.94-2.06 2.06-.94-2.06-.94-.94-2.06-.94 2.06-2.06.94zm-11 1L8.5 8.5l.94-2.06 2.06-.94-2.06-.94L8.5 2.5l-.94 2.06-2.06.94zm10 10l.94 2.06.94-2.06 2.06-.94-2.06-.94-.94-2.06-.94 2.06-2.06.94z\"/><path d=\"M17.41 7.96l-1.37-1.37c-.4-.4-.92-.59-1.43-.59-.52 0-1.04.2-1.43.59L10.3 9.45l-7.72 7.72c-.78.78-.78 2.05 0 2.83L4 21.41c.39.39.9.59 1.41.59.51 0 1.02-.2 1.41-.59l7.78-7.78 2.81-2.81c.8-.78.8-2.07 0-2.86zM5.41 20L4 18.59l7.72-7.72 1.47 1.35L5.41 20z\"/>\n",
       "  </svg>\n",
       "      </button>\n",
       "      \n",
       "  <style>\n",
       "    .colab-df-container {\n",
       "      display:flex;\n",
       "      flex-wrap:wrap;\n",
       "      gap: 12px;\n",
       "    }\n",
       "\n",
       "    .colab-df-convert {\n",
       "      background-color: #E8F0FE;\n",
       "      border: none;\n",
       "      border-radius: 50%;\n",
       "      cursor: pointer;\n",
       "      display: none;\n",
       "      fill: #1967D2;\n",
       "      height: 32px;\n",
       "      padding: 0 0 0 0;\n",
       "      width: 32px;\n",
       "    }\n",
       "\n",
       "    .colab-df-convert:hover {\n",
       "      background-color: #E2EBFA;\n",
       "      box-shadow: 0px 1px 2px rgba(60, 64, 67, 0.3), 0px 1px 3px 1px rgba(60, 64, 67, 0.15);\n",
       "      fill: #174EA6;\n",
       "    }\n",
       "\n",
       "    [theme=dark] .colab-df-convert {\n",
       "      background-color: #3B4455;\n",
       "      fill: #D2E3FC;\n",
       "    }\n",
       "\n",
       "    [theme=dark] .colab-df-convert:hover {\n",
       "      background-color: #434B5C;\n",
       "      box-shadow: 0px 1px 3px 1px rgba(0, 0, 0, 0.15);\n",
       "      filter: drop-shadow(0px 1px 2px rgba(0, 0, 0, 0.3));\n",
       "      fill: #FFFFFF;\n",
       "    }\n",
       "  </style>\n",
       "\n",
       "      <script>\n",
       "        const buttonEl =\n",
       "          document.querySelector('#df-99bbd632-8fe3-43ba-a384-398c76699b44 button.colab-df-convert');\n",
       "        buttonEl.style.display =\n",
       "          google.colab.kernel.accessAllowed ? 'block' : 'none';\n",
       "\n",
       "        async function convertToInteractive(key) {\n",
       "          const element = document.querySelector('#df-99bbd632-8fe3-43ba-a384-398c76699b44');\n",
       "          const dataTable =\n",
       "            await google.colab.kernel.invokeFunction('convertToInteractive',\n",
       "                                                     [key], {});\n",
       "          if (!dataTable) return;\n",
       "\n",
       "          const docLinkHtml = 'Like what you see? Visit the ' +\n",
       "            '<a target=\"_blank\" href=https://colab.research.google.com/notebooks/data_table.ipynb>data table notebook</a>'\n",
       "            + ' to learn more about interactive tables.';\n",
       "          element.innerHTML = '';\n",
       "          dataTable['output_type'] = 'display_data';\n",
       "          await google.colab.output.renderOutput(dataTable, element);\n",
       "          const docLink = document.createElement('div');\n",
       "          docLink.innerHTML = docLinkHtml;\n",
       "          element.appendChild(docLink);\n",
       "        }\n",
       "      </script>\n",
       "    </div>\n",
       "  </div>\n",
       "  "
      ],
      "text/plain": [
       "                                 Summary Precip Type  Temperature (C)  \\\n",
       "Formatted Date                                                          \n",
       "2006-04-01 00:00:00+02:00  Partly Cloudy        rain         9.472222   \n",
       "2006-04-01 01:00:00+02:00  Partly Cloudy        rain         9.355556   \n",
       "2006-04-01 02:00:00+02:00  Mostly Cloudy        rain         9.377778   \n",
       "2006-04-01 03:00:00+02:00  Partly Cloudy        rain         8.288889   \n",
       "2006-04-01 04:00:00+02:00  Mostly Cloudy        rain         8.755556   \n",
       "\n",
       "                           Apparent Temperature (C)  Humidity  \\\n",
       "Formatted Date                                                  \n",
       "2006-04-01 00:00:00+02:00                  7.388889      0.89   \n",
       "2006-04-01 01:00:00+02:00                  7.227778      0.86   \n",
       "2006-04-01 02:00:00+02:00                  9.377778      0.89   \n",
       "2006-04-01 03:00:00+02:00                  5.944444      0.83   \n",
       "2006-04-01 04:00:00+02:00                  6.977778      0.83   \n",
       "\n",
       "                           Visibility (km)  Loud Cover  Pressure (millibars)  \\\n",
       "Formatted Date                                                                 \n",
       "2006-04-01 00:00:00+02:00          15.8263         0.0               1015.13   \n",
       "2006-04-01 01:00:00+02:00          15.8263         0.0               1015.63   \n",
       "2006-04-01 02:00:00+02:00          14.9569         0.0               1015.94   \n",
       "2006-04-01 03:00:00+02:00          15.8263         0.0               1016.41   \n",
       "2006-04-01 04:00:00+02:00          15.8263         0.0               1016.51   \n",
       "\n",
       "                                               Daily Summary        Wx  \\\n",
       "Formatted Date                                                           \n",
       "2006-04-01 00:00:00+02:00  Partly cloudy throughout the day. -4.596925   \n",
       "2006-04-01 01:00:00+02:00  Partly cloudy throughout the day. -2.721814   \n",
       "2006-04-01 02:00:00+02:00  Partly cloudy throughout the day. -3.588772   \n",
       "2006-04-01 03:00:00+02:00  Partly cloudy throughout the day. -0.246142   \n",
       "2006-04-01 04:00:00+02:00  Partly cloudy throughout the day. -2.107409   \n",
       "\n",
       "                                  Wy  \n",
       "Formatted Date                        \n",
       "2006-04-01 00:00:00+02:00 -13.350439  \n",
       "2006-04-01 01:00:00+02:00 -14.002519  \n",
       "2006-04-01 02:00:00+02:00  -1.597824  \n",
       "2006-04-01 03:00:00+02:00 -14.101452  \n",
       "2006-04-01 04:00:00+02:00 -10.841680  "
      ]
     },
     "execution_count": 42,
     "metadata": {},
     "output_type": "execute_result"
    }
   ],
   "source": [
    "dataset.head()"
   ]
  },
  {
   "cell_type": "code",
   "execution_count": 43,
   "metadata": {
    "colab": {
     "base_uri": "https://localhost:8080/"
    },
    "id": "bE41MdhjiMjT",
    "outputId": "5f76f868-b9c5-47ca-bb9c-6b18d8286ff6"
   },
   "outputs": [
    {
     "data": {
      "text/plain": [
       "datetime.datetime(2006, 1, 1, 0, 0, tzinfo=tzoffset(None, 3600))"
      ]
     },
     "execution_count": 43,
     "metadata": {},
     "output_type": "execute_result"
    }
   ],
   "source": [
    "dataset.index.min()"
   ]
  },
  {
   "cell_type": "code",
   "execution_count": 44,
   "metadata": {
    "colab": {
     "base_uri": "https://localhost:8080/"
    },
    "id": "kdnF3qOZiOqb",
    "outputId": "2e5da104-3ae6-493f-ff5c-f6618c160979"
   },
   "outputs": [
    {
     "data": {
      "text/plain": [
       "datetime.datetime(2016, 12, 31, 23, 0, tzinfo=tzoffset(None, 3600))"
      ]
     },
     "execution_count": 44,
     "metadata": {},
     "output_type": "execute_result"
    }
   ],
   "source": [
    "dataset.index.max()"
   ]
  },
  {
   "cell_type": "code",
   "execution_count": 45,
   "metadata": {
    "colab": {
     "base_uri": "https://localhost:8080/"
    },
    "id": "ZrzbLQaQmcg-",
    "outputId": "6c064508-03eb-4ba1-8c23-e610b4015f8a"
   },
   "outputs": [
    {
     "data": {
      "text/plain": [
       "(96453, 11)"
      ]
     },
     "execution_count": 45,
     "metadata": {},
     "output_type": "execute_result"
    }
   ],
   "source": [
    "dataset.shape"
   ]
  },
  {
   "cell_type": "code",
   "execution_count": 46,
   "metadata": {
    "id": "AJFI58NrjdQi"
   },
   "outputs": [],
   "source": [
    "from sklearn.preprocessing import LabelEncoder\n",
    "\n",
    "for column in dataset.select_dtypes('object').columns:\n",
    "  encoder = LabelEncoder()\n",
    "  dataset[column] = encoder.fit_transform(dataset[column])"
   ]
  },
  {
   "cell_type": "code",
   "execution_count": 47,
   "metadata": {
    "colab": {
     "base_uri": "https://localhost:8080/",
     "height": 386
    },
    "id": "1lhAcyKAmqwj",
    "outputId": "fea573f1-a60e-4749-96d4-fa007fa2e0b6"
   },
   "outputs": [
    {
     "data": {
      "text/html": [
       "\n",
       "  <div id=\"df-260b4d18-dda9-486f-8352-8ff5bb6013bf\">\n",
       "    <div class=\"colab-df-container\">\n",
       "      <div>\n",
       "<style scoped>\n",
       "    .dataframe tbody tr th:only-of-type {\n",
       "        vertical-align: middle;\n",
       "    }\n",
       "\n",
       "    .dataframe tbody tr th {\n",
       "        vertical-align: top;\n",
       "    }\n",
       "\n",
       "    .dataframe thead th {\n",
       "        text-align: right;\n",
       "    }\n",
       "</style>\n",
       "<table border=\"1\" class=\"dataframe\">\n",
       "  <thead>\n",
       "    <tr style=\"text-align: right;\">\n",
       "      <th></th>\n",
       "      <th>Summary</th>\n",
       "      <th>Precip Type</th>\n",
       "      <th>Temperature (C)</th>\n",
       "      <th>Apparent Temperature (C)</th>\n",
       "      <th>Humidity</th>\n",
       "      <th>Visibility (km)</th>\n",
       "      <th>Loud Cover</th>\n",
       "      <th>Pressure (millibars)</th>\n",
       "      <th>Daily Summary</th>\n",
       "      <th>Wx</th>\n",
       "      <th>Wy</th>\n",
       "    </tr>\n",
       "    <tr>\n",
       "      <th>Formatted Date</th>\n",
       "      <th></th>\n",
       "      <th></th>\n",
       "      <th></th>\n",
       "      <th></th>\n",
       "      <th></th>\n",
       "      <th></th>\n",
       "      <th></th>\n",
       "      <th></th>\n",
       "      <th></th>\n",
       "      <th></th>\n",
       "      <th></th>\n",
       "    </tr>\n",
       "  </thead>\n",
       "  <tbody>\n",
       "    <tr>\n",
       "      <th>2006-04-01 00:00:00+02:00</th>\n",
       "      <td>19</td>\n",
       "      <td>0</td>\n",
       "      <td>9.472222</td>\n",
       "      <td>7.388889</td>\n",
       "      <td>0.89</td>\n",
       "      <td>15.8263</td>\n",
       "      <td>0.0</td>\n",
       "      <td>1015.13</td>\n",
       "      <td>197</td>\n",
       "      <td>-4.596925</td>\n",
       "      <td>-13.350439</td>\n",
       "    </tr>\n",
       "    <tr>\n",
       "      <th>2006-04-01 01:00:00+02:00</th>\n",
       "      <td>19</td>\n",
       "      <td>0</td>\n",
       "      <td>9.355556</td>\n",
       "      <td>7.227778</td>\n",
       "      <td>0.86</td>\n",
       "      <td>15.8263</td>\n",
       "      <td>0.0</td>\n",
       "      <td>1015.63</td>\n",
       "      <td>197</td>\n",
       "      <td>-2.721814</td>\n",
       "      <td>-14.002519</td>\n",
       "    </tr>\n",
       "    <tr>\n",
       "      <th>2006-04-01 02:00:00+02:00</th>\n",
       "      <td>17</td>\n",
       "      <td>0</td>\n",
       "      <td>9.377778</td>\n",
       "      <td>9.377778</td>\n",
       "      <td>0.89</td>\n",
       "      <td>14.9569</td>\n",
       "      <td>0.0</td>\n",
       "      <td>1015.94</td>\n",
       "      <td>197</td>\n",
       "      <td>-3.588772</td>\n",
       "      <td>-1.597824</td>\n",
       "    </tr>\n",
       "    <tr>\n",
       "      <th>2006-04-01 03:00:00+02:00</th>\n",
       "      <td>19</td>\n",
       "      <td>0</td>\n",
       "      <td>8.288889</td>\n",
       "      <td>5.944444</td>\n",
       "      <td>0.83</td>\n",
       "      <td>15.8263</td>\n",
       "      <td>0.0</td>\n",
       "      <td>1016.41</td>\n",
       "      <td>197</td>\n",
       "      <td>-0.246142</td>\n",
       "      <td>-14.101452</td>\n",
       "    </tr>\n",
       "    <tr>\n",
       "      <th>2006-04-01 04:00:00+02:00</th>\n",
       "      <td>17</td>\n",
       "      <td>0</td>\n",
       "      <td>8.755556</td>\n",
       "      <td>6.977778</td>\n",
       "      <td>0.83</td>\n",
       "      <td>15.8263</td>\n",
       "      <td>0.0</td>\n",
       "      <td>1016.51</td>\n",
       "      <td>197</td>\n",
       "      <td>-2.107409</td>\n",
       "      <td>-10.841680</td>\n",
       "    </tr>\n",
       "  </tbody>\n",
       "</table>\n",
       "</div>\n",
       "      <button class=\"colab-df-convert\" onclick=\"convertToInteractive('df-260b4d18-dda9-486f-8352-8ff5bb6013bf')\"\n",
       "              title=\"Convert this dataframe to an interactive table.\"\n",
       "              style=\"display:none;\">\n",
       "        \n",
       "  <svg xmlns=\"http://www.w3.org/2000/svg\" height=\"24px\"viewBox=\"0 0 24 24\"\n",
       "       width=\"24px\">\n",
       "    <path d=\"M0 0h24v24H0V0z\" fill=\"none\"/>\n",
       "    <path d=\"M18.56 5.44l.94 2.06.94-2.06 2.06-.94-2.06-.94-.94-2.06-.94 2.06-2.06.94zm-11 1L8.5 8.5l.94-2.06 2.06-.94-2.06-.94L8.5 2.5l-.94 2.06-2.06.94zm10 10l.94 2.06.94-2.06 2.06-.94-2.06-.94-.94-2.06-.94 2.06-2.06.94z\"/><path d=\"M17.41 7.96l-1.37-1.37c-.4-.4-.92-.59-1.43-.59-.52 0-1.04.2-1.43.59L10.3 9.45l-7.72 7.72c-.78.78-.78 2.05 0 2.83L4 21.41c.39.39.9.59 1.41.59.51 0 1.02-.2 1.41-.59l7.78-7.78 2.81-2.81c.8-.78.8-2.07 0-2.86zM5.41 20L4 18.59l7.72-7.72 1.47 1.35L5.41 20z\"/>\n",
       "  </svg>\n",
       "      </button>\n",
       "      \n",
       "  <style>\n",
       "    .colab-df-container {\n",
       "      display:flex;\n",
       "      flex-wrap:wrap;\n",
       "      gap: 12px;\n",
       "    }\n",
       "\n",
       "    .colab-df-convert {\n",
       "      background-color: #E8F0FE;\n",
       "      border: none;\n",
       "      border-radius: 50%;\n",
       "      cursor: pointer;\n",
       "      display: none;\n",
       "      fill: #1967D2;\n",
       "      height: 32px;\n",
       "      padding: 0 0 0 0;\n",
       "      width: 32px;\n",
       "    }\n",
       "\n",
       "    .colab-df-convert:hover {\n",
       "      background-color: #E2EBFA;\n",
       "      box-shadow: 0px 1px 2px rgba(60, 64, 67, 0.3), 0px 1px 3px 1px rgba(60, 64, 67, 0.15);\n",
       "      fill: #174EA6;\n",
       "    }\n",
       "\n",
       "    [theme=dark] .colab-df-convert {\n",
       "      background-color: #3B4455;\n",
       "      fill: #D2E3FC;\n",
       "    }\n",
       "\n",
       "    [theme=dark] .colab-df-convert:hover {\n",
       "      background-color: #434B5C;\n",
       "      box-shadow: 0px 1px 3px 1px rgba(0, 0, 0, 0.15);\n",
       "      filter: drop-shadow(0px 1px 2px rgba(0, 0, 0, 0.3));\n",
       "      fill: #FFFFFF;\n",
       "    }\n",
       "  </style>\n",
       "\n",
       "      <script>\n",
       "        const buttonEl =\n",
       "          document.querySelector('#df-260b4d18-dda9-486f-8352-8ff5bb6013bf button.colab-df-convert');\n",
       "        buttonEl.style.display =\n",
       "          google.colab.kernel.accessAllowed ? 'block' : 'none';\n",
       "\n",
       "        async function convertToInteractive(key) {\n",
       "          const element = document.querySelector('#df-260b4d18-dda9-486f-8352-8ff5bb6013bf');\n",
       "          const dataTable =\n",
       "            await google.colab.kernel.invokeFunction('convertToInteractive',\n",
       "                                                     [key], {});\n",
       "          if (!dataTable) return;\n",
       "\n",
       "          const docLinkHtml = 'Like what you see? Visit the ' +\n",
       "            '<a target=\"_blank\" href=https://colab.research.google.com/notebooks/data_table.ipynb>data table notebook</a>'\n",
       "            + ' to learn more about interactive tables.';\n",
       "          element.innerHTML = '';\n",
       "          dataTable['output_type'] = 'display_data';\n",
       "          await google.colab.output.renderOutput(dataTable, element);\n",
       "          const docLink = document.createElement('div');\n",
       "          docLink.innerHTML = docLinkHtml;\n",
       "          element.appendChild(docLink);\n",
       "        }\n",
       "      </script>\n",
       "    </div>\n",
       "  </div>\n",
       "  "
      ],
      "text/plain": [
       "                           Summary  Precip Type  Temperature (C)  \\\n",
       "Formatted Date                                                     \n",
       "2006-04-01 00:00:00+02:00       19            0         9.472222   \n",
       "2006-04-01 01:00:00+02:00       19            0         9.355556   \n",
       "2006-04-01 02:00:00+02:00       17            0         9.377778   \n",
       "2006-04-01 03:00:00+02:00       19            0         8.288889   \n",
       "2006-04-01 04:00:00+02:00       17            0         8.755556   \n",
       "\n",
       "                           Apparent Temperature (C)  Humidity  \\\n",
       "Formatted Date                                                  \n",
       "2006-04-01 00:00:00+02:00                  7.388889      0.89   \n",
       "2006-04-01 01:00:00+02:00                  7.227778      0.86   \n",
       "2006-04-01 02:00:00+02:00                  9.377778      0.89   \n",
       "2006-04-01 03:00:00+02:00                  5.944444      0.83   \n",
       "2006-04-01 04:00:00+02:00                  6.977778      0.83   \n",
       "\n",
       "                           Visibility (km)  Loud Cover  Pressure (millibars)  \\\n",
       "Formatted Date                                                                 \n",
       "2006-04-01 00:00:00+02:00          15.8263         0.0               1015.13   \n",
       "2006-04-01 01:00:00+02:00          15.8263         0.0               1015.63   \n",
       "2006-04-01 02:00:00+02:00          14.9569         0.0               1015.94   \n",
       "2006-04-01 03:00:00+02:00          15.8263         0.0               1016.41   \n",
       "2006-04-01 04:00:00+02:00          15.8263         0.0               1016.51   \n",
       "\n",
       "                           Daily Summary        Wx         Wy  \n",
       "Formatted Date                                                 \n",
       "2006-04-01 00:00:00+02:00            197 -4.596925 -13.350439  \n",
       "2006-04-01 01:00:00+02:00            197 -2.721814 -14.002519  \n",
       "2006-04-01 02:00:00+02:00            197 -3.588772  -1.597824  \n",
       "2006-04-01 03:00:00+02:00            197 -0.246142 -14.101452  \n",
       "2006-04-01 04:00:00+02:00            197 -2.107409 -10.841680  "
      ]
     },
     "execution_count": 47,
     "metadata": {},
     "output_type": "execute_result"
    }
   ],
   "source": [
    "dataset.head()"
   ]
  },
  {
   "cell_type": "code",
   "execution_count": 50,
   "metadata": {
    "id": "-N6UbM4CmtGv"
   },
   "outputs": [],
   "source": [
    "dataset.drop(['Loud Cover'], axis=1, inplace=True)"
   ]
  },
  {
   "cell_type": "code",
   "execution_count": 51,
   "metadata": {
    "colab": {
     "base_uri": "https://localhost:8080/",
     "height": 282
    },
    "id": "UQUmFyKSnTvV",
    "outputId": "f44f23cf-3e32-4b75-eb90-0a66c8d4df25"
   },
   "outputs": [
    {
     "data": {
      "text/html": [
       "\n",
       "  <div id=\"df-e357c97b-bf49-4327-9695-c836cad6643d\">\n",
       "    <div class=\"colab-df-container\">\n",
       "      <div>\n",
       "<style scoped>\n",
       "    .dataframe tbody tr th:only-of-type {\n",
       "        vertical-align: middle;\n",
       "    }\n",
       "\n",
       "    .dataframe tbody tr th {\n",
       "        vertical-align: top;\n",
       "    }\n",
       "\n",
       "    .dataframe thead th {\n",
       "        text-align: right;\n",
       "    }\n",
       "</style>\n",
       "<table border=\"1\" class=\"dataframe\">\n",
       "  <thead>\n",
       "    <tr style=\"text-align: right;\">\n",
       "      <th></th>\n",
       "      <th>Summary</th>\n",
       "      <th>Precip Type</th>\n",
       "      <th>Temperature (C)</th>\n",
       "      <th>Apparent Temperature (C)</th>\n",
       "      <th>Humidity</th>\n",
       "      <th>Visibility (km)</th>\n",
       "      <th>Pressure (millibars)</th>\n",
       "      <th>Daily Summary</th>\n",
       "      <th>Wx</th>\n",
       "      <th>Wy</th>\n",
       "    </tr>\n",
       "    <tr>\n",
       "      <th>Formatted Date</th>\n",
       "      <th></th>\n",
       "      <th></th>\n",
       "      <th></th>\n",
       "      <th></th>\n",
       "      <th></th>\n",
       "      <th></th>\n",
       "      <th></th>\n",
       "      <th></th>\n",
       "      <th></th>\n",
       "      <th></th>\n",
       "    </tr>\n",
       "  </thead>\n",
       "  <tbody>\n",
       "    <tr>\n",
       "      <th>2006-04-01 00:00:00+02:00</th>\n",
       "      <td>19</td>\n",
       "      <td>0</td>\n",
       "      <td>9.472222</td>\n",
       "      <td>7.388889</td>\n",
       "      <td>0.89</td>\n",
       "      <td>15.8263</td>\n",
       "      <td>1015.13</td>\n",
       "      <td>197</td>\n",
       "      <td>-4.596925</td>\n",
       "      <td>-13.350439</td>\n",
       "    </tr>\n",
       "    <tr>\n",
       "      <th>2006-04-01 01:00:00+02:00</th>\n",
       "      <td>19</td>\n",
       "      <td>0</td>\n",
       "      <td>9.355556</td>\n",
       "      <td>7.227778</td>\n",
       "      <td>0.86</td>\n",
       "      <td>15.8263</td>\n",
       "      <td>1015.63</td>\n",
       "      <td>197</td>\n",
       "      <td>-2.721814</td>\n",
       "      <td>-14.002519</td>\n",
       "    </tr>\n",
       "    <tr>\n",
       "      <th>2006-04-01 02:00:00+02:00</th>\n",
       "      <td>17</td>\n",
       "      <td>0</td>\n",
       "      <td>9.377778</td>\n",
       "      <td>9.377778</td>\n",
       "      <td>0.89</td>\n",
       "      <td>14.9569</td>\n",
       "      <td>1015.94</td>\n",
       "      <td>197</td>\n",
       "      <td>-3.588772</td>\n",
       "      <td>-1.597824</td>\n",
       "    </tr>\n",
       "    <tr>\n",
       "      <th>2006-04-01 03:00:00+02:00</th>\n",
       "      <td>19</td>\n",
       "      <td>0</td>\n",
       "      <td>8.288889</td>\n",
       "      <td>5.944444</td>\n",
       "      <td>0.83</td>\n",
       "      <td>15.8263</td>\n",
       "      <td>1016.41</td>\n",
       "      <td>197</td>\n",
       "      <td>-0.246142</td>\n",
       "      <td>-14.101452</td>\n",
       "    </tr>\n",
       "    <tr>\n",
       "      <th>2006-04-01 04:00:00+02:00</th>\n",
       "      <td>17</td>\n",
       "      <td>0</td>\n",
       "      <td>8.755556</td>\n",
       "      <td>6.977778</td>\n",
       "      <td>0.83</td>\n",
       "      <td>15.8263</td>\n",
       "      <td>1016.51</td>\n",
       "      <td>197</td>\n",
       "      <td>-2.107409</td>\n",
       "      <td>-10.841680</td>\n",
       "    </tr>\n",
       "  </tbody>\n",
       "</table>\n",
       "</div>\n",
       "      <button class=\"colab-df-convert\" onclick=\"convertToInteractive('df-e357c97b-bf49-4327-9695-c836cad6643d')\"\n",
       "              title=\"Convert this dataframe to an interactive table.\"\n",
       "              style=\"display:none;\">\n",
       "        \n",
       "  <svg xmlns=\"http://www.w3.org/2000/svg\" height=\"24px\"viewBox=\"0 0 24 24\"\n",
       "       width=\"24px\">\n",
       "    <path d=\"M0 0h24v24H0V0z\" fill=\"none\"/>\n",
       "    <path d=\"M18.56 5.44l.94 2.06.94-2.06 2.06-.94-2.06-.94-.94-2.06-.94 2.06-2.06.94zm-11 1L8.5 8.5l.94-2.06 2.06-.94-2.06-.94L8.5 2.5l-.94 2.06-2.06.94zm10 10l.94 2.06.94-2.06 2.06-.94-2.06-.94-.94-2.06-.94 2.06-2.06.94z\"/><path d=\"M17.41 7.96l-1.37-1.37c-.4-.4-.92-.59-1.43-.59-.52 0-1.04.2-1.43.59L10.3 9.45l-7.72 7.72c-.78.78-.78 2.05 0 2.83L4 21.41c.39.39.9.59 1.41.59.51 0 1.02-.2 1.41-.59l7.78-7.78 2.81-2.81c.8-.78.8-2.07 0-2.86zM5.41 20L4 18.59l7.72-7.72 1.47 1.35L5.41 20z\"/>\n",
       "  </svg>\n",
       "      </button>\n",
       "      \n",
       "  <style>\n",
       "    .colab-df-container {\n",
       "      display:flex;\n",
       "      flex-wrap:wrap;\n",
       "      gap: 12px;\n",
       "    }\n",
       "\n",
       "    .colab-df-convert {\n",
       "      background-color: #E8F0FE;\n",
       "      border: none;\n",
       "      border-radius: 50%;\n",
       "      cursor: pointer;\n",
       "      display: none;\n",
       "      fill: #1967D2;\n",
       "      height: 32px;\n",
       "      padding: 0 0 0 0;\n",
       "      width: 32px;\n",
       "    }\n",
       "\n",
       "    .colab-df-convert:hover {\n",
       "      background-color: #E2EBFA;\n",
       "      box-shadow: 0px 1px 2px rgba(60, 64, 67, 0.3), 0px 1px 3px 1px rgba(60, 64, 67, 0.15);\n",
       "      fill: #174EA6;\n",
       "    }\n",
       "\n",
       "    [theme=dark] .colab-df-convert {\n",
       "      background-color: #3B4455;\n",
       "      fill: #D2E3FC;\n",
       "    }\n",
       "\n",
       "    [theme=dark] .colab-df-convert:hover {\n",
       "      background-color: #434B5C;\n",
       "      box-shadow: 0px 1px 3px 1px rgba(0, 0, 0, 0.15);\n",
       "      filter: drop-shadow(0px 1px 2px rgba(0, 0, 0, 0.3));\n",
       "      fill: #FFFFFF;\n",
       "    }\n",
       "  </style>\n",
       "\n",
       "      <script>\n",
       "        const buttonEl =\n",
       "          document.querySelector('#df-e357c97b-bf49-4327-9695-c836cad6643d button.colab-df-convert');\n",
       "        buttonEl.style.display =\n",
       "          google.colab.kernel.accessAllowed ? 'block' : 'none';\n",
       "\n",
       "        async function convertToInteractive(key) {\n",
       "          const element = document.querySelector('#df-e357c97b-bf49-4327-9695-c836cad6643d');\n",
       "          const dataTable =\n",
       "            await google.colab.kernel.invokeFunction('convertToInteractive',\n",
       "                                                     [key], {});\n",
       "          if (!dataTable) return;\n",
       "\n",
       "          const docLinkHtml = 'Like what you see? Visit the ' +\n",
       "            '<a target=\"_blank\" href=https://colab.research.google.com/notebooks/data_table.ipynb>data table notebook</a>'\n",
       "            + ' to learn more about interactive tables.';\n",
       "          element.innerHTML = '';\n",
       "          dataTable['output_type'] = 'display_data';\n",
       "          await google.colab.output.renderOutput(dataTable, element);\n",
       "          const docLink = document.createElement('div');\n",
       "          docLink.innerHTML = docLinkHtml;\n",
       "          element.appendChild(docLink);\n",
       "        }\n",
       "      </script>\n",
       "    </div>\n",
       "  </div>\n",
       "  "
      ],
      "text/plain": [
       "                           Summary  Precip Type  Temperature (C)  \\\n",
       "Formatted Date                                                     \n",
       "2006-04-01 00:00:00+02:00       19            0         9.472222   \n",
       "2006-04-01 01:00:00+02:00       19            0         9.355556   \n",
       "2006-04-01 02:00:00+02:00       17            0         9.377778   \n",
       "2006-04-01 03:00:00+02:00       19            0         8.288889   \n",
       "2006-04-01 04:00:00+02:00       17            0         8.755556   \n",
       "\n",
       "                           Apparent Temperature (C)  Humidity  \\\n",
       "Formatted Date                                                  \n",
       "2006-04-01 00:00:00+02:00                  7.388889      0.89   \n",
       "2006-04-01 01:00:00+02:00                  7.227778      0.86   \n",
       "2006-04-01 02:00:00+02:00                  9.377778      0.89   \n",
       "2006-04-01 03:00:00+02:00                  5.944444      0.83   \n",
       "2006-04-01 04:00:00+02:00                  6.977778      0.83   \n",
       "\n",
       "                           Visibility (km)  Pressure (millibars)  \\\n",
       "Formatted Date                                                     \n",
       "2006-04-01 00:00:00+02:00          15.8263               1015.13   \n",
       "2006-04-01 01:00:00+02:00          15.8263               1015.63   \n",
       "2006-04-01 02:00:00+02:00          14.9569               1015.94   \n",
       "2006-04-01 03:00:00+02:00          15.8263               1016.41   \n",
       "2006-04-01 04:00:00+02:00          15.8263               1016.51   \n",
       "\n",
       "                           Daily Summary        Wx         Wy  \n",
       "Formatted Date                                                 \n",
       "2006-04-01 00:00:00+02:00            197 -4.596925 -13.350439  \n",
       "2006-04-01 01:00:00+02:00            197 -2.721814 -14.002519  \n",
       "2006-04-01 02:00:00+02:00            197 -3.588772  -1.597824  \n",
       "2006-04-01 03:00:00+02:00            197 -0.246142 -14.101452  \n",
       "2006-04-01 04:00:00+02:00            197 -2.107409 -10.841680  "
      ]
     },
     "execution_count": 51,
     "metadata": {},
     "output_type": "execute_result"
    }
   ],
   "source": [
    "dataset.head()"
   ]
  },
  {
   "cell_type": "code",
   "execution_count": 52,
   "metadata": {
    "colab": {
     "base_uri": "https://localhost:8080/",
     "height": 206
    },
    "id": "NLE5K6PanhCK",
    "outputId": "e7880391-5b7c-4648-ba53-73d6958a7564"
   },
   "outputs": [
    {
     "data": {
      "text/html": [
       "\n",
       "  <div id=\"df-990e326f-5236-4625-9eda-74f2257d1e2f\">\n",
       "    <div class=\"colab-df-container\">\n",
       "      <div>\n",
       "<style scoped>\n",
       "    .dataframe tbody tr th:only-of-type {\n",
       "        vertical-align: middle;\n",
       "    }\n",
       "\n",
       "    .dataframe tbody tr th {\n",
       "        vertical-align: top;\n",
       "    }\n",
       "\n",
       "    .dataframe thead th {\n",
       "        text-align: right;\n",
       "    }\n",
       "</style>\n",
       "<table border=\"1\" class=\"dataframe\">\n",
       "  <thead>\n",
       "    <tr style=\"text-align: right;\">\n",
       "      <th></th>\n",
       "      <th>Total</th>\n",
       "      <th>percentage</th>\n",
       "    </tr>\n",
       "  </thead>\n",
       "  <tbody>\n",
       "    <tr>\n",
       "      <th>Summary</th>\n",
       "      <td>0</td>\n",
       "      <td>0.0</td>\n",
       "    </tr>\n",
       "    <tr>\n",
       "      <th>Precip Type</th>\n",
       "      <td>0</td>\n",
       "      <td>0.0</td>\n",
       "    </tr>\n",
       "    <tr>\n",
       "      <th>Temperature (C)</th>\n",
       "      <td>0</td>\n",
       "      <td>0.0</td>\n",
       "    </tr>\n",
       "    <tr>\n",
       "      <th>Apparent Temperature (C)</th>\n",
       "      <td>0</td>\n",
       "      <td>0.0</td>\n",
       "    </tr>\n",
       "    <tr>\n",
       "      <th>Humidity</th>\n",
       "      <td>0</td>\n",
       "      <td>0.0</td>\n",
       "    </tr>\n",
       "  </tbody>\n",
       "</table>\n",
       "</div>\n",
       "      <button class=\"colab-df-convert\" onclick=\"convertToInteractive('df-990e326f-5236-4625-9eda-74f2257d1e2f')\"\n",
       "              title=\"Convert this dataframe to an interactive table.\"\n",
       "              style=\"display:none;\">\n",
       "        \n",
       "  <svg xmlns=\"http://www.w3.org/2000/svg\" height=\"24px\"viewBox=\"0 0 24 24\"\n",
       "       width=\"24px\">\n",
       "    <path d=\"M0 0h24v24H0V0z\" fill=\"none\"/>\n",
       "    <path d=\"M18.56 5.44l.94 2.06.94-2.06 2.06-.94-2.06-.94-.94-2.06-.94 2.06-2.06.94zm-11 1L8.5 8.5l.94-2.06 2.06-.94-2.06-.94L8.5 2.5l-.94 2.06-2.06.94zm10 10l.94 2.06.94-2.06 2.06-.94-2.06-.94-.94-2.06-.94 2.06-2.06.94z\"/><path d=\"M17.41 7.96l-1.37-1.37c-.4-.4-.92-.59-1.43-.59-.52 0-1.04.2-1.43.59L10.3 9.45l-7.72 7.72c-.78.78-.78 2.05 0 2.83L4 21.41c.39.39.9.59 1.41.59.51 0 1.02-.2 1.41-.59l7.78-7.78 2.81-2.81c.8-.78.8-2.07 0-2.86zM5.41 20L4 18.59l7.72-7.72 1.47 1.35L5.41 20z\"/>\n",
       "  </svg>\n",
       "      </button>\n",
       "      \n",
       "  <style>\n",
       "    .colab-df-container {\n",
       "      display:flex;\n",
       "      flex-wrap:wrap;\n",
       "      gap: 12px;\n",
       "    }\n",
       "\n",
       "    .colab-df-convert {\n",
       "      background-color: #E8F0FE;\n",
       "      border: none;\n",
       "      border-radius: 50%;\n",
       "      cursor: pointer;\n",
       "      display: none;\n",
       "      fill: #1967D2;\n",
       "      height: 32px;\n",
       "      padding: 0 0 0 0;\n",
       "      width: 32px;\n",
       "    }\n",
       "\n",
       "    .colab-df-convert:hover {\n",
       "      background-color: #E2EBFA;\n",
       "      box-shadow: 0px 1px 2px rgba(60, 64, 67, 0.3), 0px 1px 3px 1px rgba(60, 64, 67, 0.15);\n",
       "      fill: #174EA6;\n",
       "    }\n",
       "\n",
       "    [theme=dark] .colab-df-convert {\n",
       "      background-color: #3B4455;\n",
       "      fill: #D2E3FC;\n",
       "    }\n",
       "\n",
       "    [theme=dark] .colab-df-convert:hover {\n",
       "      background-color: #434B5C;\n",
       "      box-shadow: 0px 1px 3px 1px rgba(0, 0, 0, 0.15);\n",
       "      filter: drop-shadow(0px 1px 2px rgba(0, 0, 0, 0.3));\n",
       "      fill: #FFFFFF;\n",
       "    }\n",
       "  </style>\n",
       "\n",
       "      <script>\n",
       "        const buttonEl =\n",
       "          document.querySelector('#df-990e326f-5236-4625-9eda-74f2257d1e2f button.colab-df-convert');\n",
       "        buttonEl.style.display =\n",
       "          google.colab.kernel.accessAllowed ? 'block' : 'none';\n",
       "\n",
       "        async function convertToInteractive(key) {\n",
       "          const element = document.querySelector('#df-990e326f-5236-4625-9eda-74f2257d1e2f');\n",
       "          const dataTable =\n",
       "            await google.colab.kernel.invokeFunction('convertToInteractive',\n",
       "                                                     [key], {});\n",
       "          if (!dataTable) return;\n",
       "\n",
       "          const docLinkHtml = 'Like what you see? Visit the ' +\n",
       "            '<a target=\"_blank\" href=https://colab.research.google.com/notebooks/data_table.ipynb>data table notebook</a>'\n",
       "            + ' to learn more about interactive tables.';\n",
       "          element.innerHTML = '';\n",
       "          dataTable['output_type'] = 'display_data';\n",
       "          await google.colab.output.renderOutput(dataTable, element);\n",
       "          const docLink = document.createElement('div');\n",
       "          docLink.innerHTML = docLinkHtml;\n",
       "          element.appendChild(docLink);\n",
       "        }\n",
       "      </script>\n",
       "    </div>\n",
       "  </div>\n",
       "  "
      ],
      "text/plain": [
       "                          Total  percentage\n",
       "Summary                       0         0.0\n",
       "Precip Type                   0         0.0\n",
       "Temperature (C)               0         0.0\n",
       "Apparent Temperature (C)      0         0.0\n",
       "Humidity                      0         0.0"
      ]
     },
     "execution_count": 52,
     "metadata": {},
     "output_type": "execute_result"
    }
   ],
   "source": [
    "# Lets check the NULL Values first\n",
    "\n",
    "null = pd.DataFrame(dataset.isnull().sum()).rename(columns={0:\"Total\"})\n",
    "null['percentage'] = null['Total'] / len(dataset)\n",
    "null.sort_values('percentage',ascending=False).head()"
   ]
  },
  {
   "cell_type": "code",
   "execution_count": 53,
   "metadata": {
    "colab": {
     "base_uri": "https://localhost:8080/",
     "height": 1000
    },
    "id": "5aaElFI_nl5K",
    "outputId": "4b446d7f-fb84-4c3c-af07-79aa74637610"
   },
   "outputs": [
    {
     "data": {
      "image/png": "[encoded data removed]",
      "text/plain": [
       "<Figure size 1440x1440 with 10 Axes>"
      ]
     },
     "metadata": {
      "needs_background": "light"
     },
     "output_type": "display_data"
    }
   ],
   "source": [
    "plt.figure(figsize=(20, 20))\n",
    "for idx, col in enumerate(dataset.columns):\n",
    "    plt.subplot(len(dataset.columns), 1, idx+1)\n",
    "    plt.plot(dataset[col], label=col)\n",
    "    plt.legend()    \n",
    "plt.subplots_adjust(hspace=0.3, wspace=0.5)"
   ]
  },
  {
   "cell_type": "code",
   "execution_count": 54,
   "metadata": {
    "id": "jvXSccVsnqQD"
   },
   "outputs": [],
   "source": [
    "# Lets split the dataset \n",
    "\n",
    "train = dataset[0 : int(0.7 * len(dataset))]\n",
    "val = dataset[int(0.7 * len(dataset)):int(0.9 * len(dataset))]\n",
    "test = dataset[int(0.9 * len(dataset)):]"
   ]
  },
  {
   "cell_type": "code",
   "execution_count": 55,
   "metadata": {
    "id": "6jXLkGJhn5cS"
   },
   "outputs": [],
   "source": [
    "train_label = train['Temperature (C)']\n",
    "train = train.drop(['Temperature (C)'], axis=1)\n",
    "\n",
    "val_label = val['Temperature (C)']\n",
    "val = val.drop(['Temperature (C)'], axis=1)\n",
    "\n",
    "test_label = test['Temperature (C)']\n",
    "test = test.drop(['Temperature (C)'], axis=1)"
   ]
  },
  {
   "cell_type": "code",
   "execution_count": 56,
   "metadata": {
    "id": "L2gnhJzcn_aS"
   },
   "outputs": [],
   "source": [
    "mean = train.mean()\n",
    "std = train.std() + 1e-12\n",
    "\n",
    "train = (train - mean) / std\n",
    "val = (val - mean) / std\n",
    "test = (test - mean) / std"
   ]
  },
  {
   "cell_type": "code",
   "execution_count": 57,
   "metadata": {
    "colab": {
     "base_uri": "https://localhost:8080/"
    },
    "id": "Km-NkyBwoBgV",
    "outputId": "4c7f79e8-4cdc-4822-c3bf-1f7dd824aefa"
   },
   "outputs": [
    {
     "data": {
      "text/plain": [
       "(67517, 9)"
      ]
     },
     "execution_count": 57,
     "metadata": {},
     "output_type": "execute_result"
    }
   ],
   "source": [
    "train.shape"
   ]
  },
  {
   "cell_type": "code",
   "execution_count": 58,
   "metadata": {
    "id": "H4w2oLFboEKb"
   },
   "outputs": [],
   "source": [
    "def train_loader(data, labels, batchsize=32, buffersize=100):\n",
    "  dataset = tf.data.Dataset.from_tensor_slices((data, labels))\n",
    "  dataset = dataset.cache().shuffle(buffersize).batch(batchsize)\n",
    "  dataset = dataset.prefetch(tf.data.experimental.AUTOTUNE)\n",
    "  return dataset"
   ]
  },
  {
   "cell_type": "code",
   "execution_count": 59,
   "metadata": {
    "id": "FkJuZfPtoGba"
   },
   "outputs": [],
   "source": [
    "def val_loader(data, labels, batchsize=32):\n",
    "  dataset = tf.data.Dataset.from_tensor_slices((data, labels))\n",
    "  dataset = dataset.cache().batch(batchsize)\n",
    "  dataset = dataset.prefetch(tf.data.experimental.AUTOTUNE)\n",
    "  return dataset"
   ]
  },
  {
   "cell_type": "code",
   "execution_count": 60,
   "metadata": {
    "id": "ek5QlzLDoH-6"
   },
   "outputs": [],
   "source": [
    "def test_loader(data, batchsize=32):\n",
    "  dataset = tf.data.Dataset.from_tensor_slices(data)\n",
    "  dataset = dataset.cache().batch(batchsize)\n",
    "  dataset = dataset.prefetch(tf.data.experimental.AUTOTUNE)\n",
    "  return dataset"
   ]
  },
  {
   "cell_type": "code",
   "execution_count": 61,
   "metadata": {
    "id": "Yv9xaHeCoJgp"
   },
   "outputs": [],
   "source": [
    "train_load = train_loader(train.to_numpy(), train_label.to_numpy())\n",
    "val_load = val_loader(val.to_numpy(), val_label.to_numpy())\n",
    "test_load = test_loader(test.to_numpy())"
   ]
  },
  {
   "cell_type": "code",
   "execution_count": 64,
   "metadata": {
    "colab": {
     "base_uri": "https://localhost:8080/"
    },
    "id": "fLVvqAFIoM3L",
    "outputId": "34998d80-cec9-4173-e1fe-c254ecfb6bd8"
   },
   "outputs": [
    {
     "name": "stdout",
     "output_type": "stream",
     "text": [
      "(32, 9)\n",
      "(32,)\n",
      "tf.Tensor(\n",
      "[[ 2.53612242e-01 -3.89015752e-01  4.89592951e-01 -1.00394387e+00\n",
      "   1.28439935e-03  4.32326187e-02 -3.36493904e-01 -1.92581239e+00\n",
      "   1.45829145e+00]\n",
      " [ 4.74146189e-01 -3.89015752e-01 -4.38751994e-01  1.01143321e+00\n",
      "  -1.58596993e+00  1.55811925e-02 -1.70494069e+00  2.18117704e+00\n",
      "  -8.08544751e-01]\n",
      " [ 2.53612242e-01 -3.89015752e-01  8.49194964e-01 -1.65894142e+00\n",
      "   1.28439935e-03  7.80937726e-02 -3.36493904e-01 -2.90728279e+00\n",
      "   7.29707977e-01]\n",
      " [ 2.53612242e-01 -3.89015752e-01  4.43451549e-01 -5.00099598e-01\n",
      "   3.78412712e-01  1.11597801e-01  1.17230640e+00 -7.83521723e-01\n",
      "  -8.81064330e-01]\n",
      " [ 6.94680136e-01 -3.89015752e-01  2.88978160e-01  5.57973370e-01\n",
      "   2.16786292e-01  2.38935844e-02 -1.70494069e+00 -9.18578362e-01\n",
      "   5.30506500e-01]\n",
      " [ 4.74146189e-01 -3.89015752e-01  3.26593434e-01 -7.01637307e-01\n",
      "   1.28186296e+00  4.13665715e-02 -3.36493904e-01 -1.70092847e+00\n",
      "   5.50970552e-01]\n",
      " [ 4.74146189e-01 -3.89015752e-01  2.38824463e-01 -5.00099598e-01\n",
      "   1.50565338e+00  3.60228910e-02 -1.70494069e+00 -1.43023358e+00\n",
      "   7.28002341e-01]\n",
      " [ 2.53612242e-01 -3.89015752e-01 -1.13756033e-01  8.09895506e-01\n",
      "   1.28186296e+00  1.09646934e-01  1.17230640e+00 -4.17074525e-01\n",
      "  -5.02576331e-02]\n",
      " [ 4.74146189e-01 -3.89015752e-01 -7.24126534e-01  1.01143321e+00\n",
      "  -9.93339722e-01  5.65721435e-03 -1.65230813e+00  2.51043810e+00\n",
      "   1.40770119e-01]\n",
      " [ 4.74146189e-01 -3.89015752e-01  5.10823104e-03  1.11220207e+00\n",
      "  -8.44146104e-01  3.03399292e-02 -1.70494069e+00 -1.05579359e+00\n",
      "   5.45595538e-01]\n",
      " [ 6.94680136e-01 -3.89015752e-01  4.85580656e-01 -2.98561890e-01\n",
      "   3.16248705e-01  1.22200342e-01  1.17230640e+00  5.64384599e-01\n",
      "  -1.83257891e+00]\n",
      " [ 4.74146189e-01 -3.89015752e-01 -4.70516146e-02  1.54897954e-01\n",
      "   3.32825773e-01  8.37146478e-03 -1.65230813e+00  1.65031090e+00\n",
      "  -2.14576528e+00]\n",
      " [ 4.74146189e-01 -3.89015752e-01  3.41639543e-01 -7.52021734e-01\n",
      "   1.50565338e+00  4.10272902e-02 -3.36493904e-01 -1.96082772e+00\n",
      "   9.98190158e-01]\n",
      " [-8.49057492e-01 -3.89015752e-01 -5.02447190e-01  1.16258650e+00\n",
      "  -1.76831768e+00  1.51570908e-02 -1.65230813e+00  1.92722372e+00\n",
      "  -6.55094095e-01]\n",
      " [ 6.94680136e-01 -3.89015752e-01  1.38015530e-01  4.57204516e-01\n",
      "   1.79487888e-01  2.50810690e-02 -1.70494069e+00 -4.45716533e-01\n",
      "   1.23043897e+00]\n",
      " [ 6.94680136e-01 -3.89015752e-01 -1.94670809e-02 -5.50484025e-01\n",
      "   1.50565338e+00  9.65846036e-02 -3.36493904e-01 -1.55447177e+00\n",
      "   1.15612019e+00]\n",
      " [ 2.53612242e-01 -3.89015752e-01 -4.02139795e-01  4.57204516e-01\n",
      "   1.04978399e+00  3.38175625e-02 -1.65230813e+00  3.40439279e-02\n",
      "  -6.59723863e-01]\n",
      " [ 2.53612242e-01 -3.89015752e-01 -6.40369859e-01  5.57973370e-01\n",
      "   1.46333750e-01  1.03223323e-02 -1.65230813e+00  2.65550682e+00\n",
      "  -1.07327595e+00]\n",
      " [ 4.74146189e-01 -3.89015752e-01 -2.75752476e-01 -1.47408609e-01\n",
      "   1.78614680e-02  6.25716530e-02  2.24920164e-01  4.38102010e-01\n",
      "   2.98528604e-02]\n",
      " [ 2.53612242e-01 -3.89015752e-01  6.08958752e-01 -2.98561890e-01\n",
      "   2.25074827e-01  1.85499039e-02 -1.70494069e+00  3.44186018e-01\n",
      "   1.72994835e-01]\n",
      " [-8.49057492e-01 -3.89015752e-01 -5.65640849e-01  1.01143321e+00\n",
      "  -1.74345208e+00  1.59204738e-02 -1.65230813e+00  2.64495388e+00\n",
      "   1.22552678e+00]\n",
      " [ 4.74146189e-01 -3.89015752e-01 -3.79570631e-01  1.04513527e-01\n",
      "   1.28439935e-03  6.69823099e-02  2.24920164e-01 -8.92805774e-01\n",
      "   7.09558641e-01]\n",
      " [ 4.74146189e-01 -3.89015752e-01 -5.40564001e-01  1.16258650e+00\n",
      "  -1.10523494e+00  1.72775990e-02 -1.70494069e+00  1.79157741e+00\n",
      "  -6.85608969e-01]\n",
      " [ 2.53612242e-01 -3.89015752e-01  9.39973157e-01 -1.65894142e+00\n",
      "   9.66025443e-02  7.14777872e-02 -3.36493904e-01 -2.78100996e+00\n",
      "  -2.51210198e-01]\n",
      " [ 2.53612242e-01 -3.89015752e-01  4.92434851e-02  3.56435662e-01\n",
      "   1.28186296e+00  4.83218382e-02 -3.36493904e-01 -1.10820808e+00\n",
      "   5.18949591e-01]\n",
      " [ 4.74146189e-01 -3.89015752e-01 -6.24320676e-01  1.16258650e+00\n",
      "  -1.42434351e+00  1.80409819e-02 -1.70494069e+00  2.63552268e+00\n",
      "  -1.06430857e+00]\n",
      " [ 2.53612242e-01 -3.89015752e-01  4.02325517e-01 -6.00868452e-01\n",
      "   1.28439935e-03  9.28525093e-02 -3.36493904e-01 -1.61980700e+00\n",
      "   1.15793432e+00]\n",
      " [ 4.74146189e-01 -3.89015752e-01 -8.12898579e-01  1.01143321e+00\n",
      "  -9.35319982e-01  8.03218347e-03 -1.65230813e+00  2.74923006e+00\n",
      "  -5.54769737e-01]\n",
      " [-8.49057492e-01 -3.89015752e-01 -4.82385711e-01  1.31373978e+00\n",
      "  -1.88435716e+00  1.67686770e-02 -1.70494069e+00  2.48026135e+00\n",
      "  -9.94638878e-01]\n",
      " [ 6.94680136e-01 -3.89015752e-01 -2.93306271e-01  8.09895506e-01\n",
      "   1.50565338e+00  1.02776487e-01  1.17230640e+00 -5.20182117e-01\n",
      "  -1.45534054e+00]\n",
      " [ 4.74146189e-01 -3.89015752e-01 -4.07155165e-01  4.57204516e-01\n",
      "   1.28439935e-03  7.04599433e-02  2.24920164e-01 -8.55812528e-01\n",
      "   8.76683869e-01]\n",
      " [ 6.94680136e-01 -3.89015752e-01 -4.23705885e-01  5.07588943e-01\n",
      "   1.50565338e+00  1.13633489e-01  1.17230640e+00 -7.52110820e-02\n",
      "  -1.54512788e+00]], shape=(32, 9), dtype=float64)\n",
      "tf.Tensor(\n",
      "[16.06111111  8.96111111 20.04444444 15.55       13.83888889 14.25555556\n",
      " 13.28333333  9.37777778  6.62222222 10.69444444 16.01666667 10.11666667\n",
      " 14.42222222  8.2        12.16666667 10.42222222  7.31111111  7.56666667\n",
      "  8.03333333 17.38333333  8.17777778  8.07222222  7.76666667 21.05\n",
      " 11.18333333  7.68888889 15.09444444  6.06666667  8.8         9.47222222\n",
      "  7.89444444  8.28888889], shape=(32,), dtype=float64)\n"
     ]
    }
   ],
   "source": [
    "for X, Y in train_load.take(1):\n",
    "  print(X.shape)\n",
    "  print(Y.shape)\n",
    "  print(X)\n",
    "  print(Y)"
   ]
  },
  {
   "cell_type": "code",
   "execution_count": 65,
   "metadata": {
    "id": "sL1LlHy-oO3I"
   },
   "outputs": [],
   "source": [
    "model = tf.keras.models.Sequential([\n",
    "    tf.keras.layers.Flatten(input_shape=[9]),\n",
    "    tf.keras.layers.Dense(100, activation='elu', kernel_initializer='he_normal'),\n",
    "    tf.keras.layers.Dense(1)\n",
    "])"
   ]
  },
  {
   "cell_type": "code",
   "execution_count": 66,
   "metadata": {
    "id": "kVpYG4k8obCK"
   },
   "outputs": [],
   "source": [
    "model.compile(loss='mse', optimizer='adam')"
   ]
  },
  {
   "cell_type": "code",
   "execution_count": 67,
   "metadata": {
    "id": "JMklSV4ioiDD"
   },
   "outputs": [],
   "source": [
    "earlystop = tf.keras.callbacks.EarlyStopping(patience=10)\n",
    "checkpoint = tf.keras.callbacks.ModelCheckpoint('best_temp/', save_best_only=True)"
   ]
  },
  {
   "cell_type": "code",
   "execution_count": 68,
   "metadata": {
    "colab": {
     "base_uri": "https://localhost:8080/"
    },
    "id": "XXNoSqi_ojaa",
    "outputId": "46dd6e9b-7224-4196-a885-4d862cb0b424"
   },
   "outputs": [
    {
     "name": "stdout",
     "output_type": "stream",
     "text": [
      "Epoch 1/100\n",
      "2062/2110 [============================>.] - ETA: 0s - loss: 19.7358INFO:tensorflow:Assets written to: best_temp/assets\n",
      "2110/2110 [==============================] - 6s 2ms/step - loss: 19.3103 - val_loss: 0.8677\n",
      "Epoch 2/100\n",
      "2105/2110 [============================>.] - ETA: 0s - loss: 0.9052INFO:tensorflow:Assets written to: best_temp/assets\n",
      "2110/2110 [==============================] - 3s 1ms/step - loss: 0.9037 - val_loss: 0.6665\n",
      "Epoch 3/100\n",
      "2110/2110 [==============================] - ETA: 0s - loss: 0.6909INFO:tensorflow:Assets written to: best_temp/assets\n",
      "2110/2110 [==============================] - 3s 1ms/step - loss: 0.6909 - val_loss: 0.5830\n",
      "Epoch 4/100\n",
      "2064/2110 [============================>.] - ETA: 0s - loss: 0.5873INFO:tensorflow:Assets written to: best_temp/assets\n",
      "2110/2110 [==============================] - 3s 1ms/step - loss: 0.5860 - val_loss: 0.5043\n",
      "Epoch 5/100\n",
      "2093/2110 [============================>.] - ETA: 0s - loss: 0.5332INFO:tensorflow:Assets written to: best_temp/assets\n",
      "2110/2110 [==============================] - 3s 1ms/step - loss: 0.5320 - val_loss: 0.4688\n",
      "Epoch 6/100\n",
      "2090/2110 [============================>.] - ETA: 0s - loss: 0.4918INFO:tensorflow:Assets written to: best_temp/assets\n",
      "2110/2110 [==============================] - 3s 2ms/step - loss: 0.4909 - val_loss: 0.4398\n",
      "Epoch 7/100\n",
      "2106/2110 [============================>.] - ETA: 0s - loss: 0.4656INFO:tensorflow:Assets written to: best_temp/assets\n",
      "2110/2110 [==============================] - 3s 1ms/step - loss: 0.4651 - val_loss: 0.4281\n",
      "Epoch 8/100\n",
      "2100/2110 [============================>.] - ETA: 0s - loss: 0.4413INFO:tensorflow:Assets written to: best_temp/assets\n",
      "2110/2110 [==============================] - 3s 2ms/step - loss: 0.4405 - val_loss: 0.4087\n",
      "Epoch 9/100\n",
      "2094/2110 [============================>.] - ETA: 0s - loss: 0.4187INFO:tensorflow:Assets written to: best_temp/assets\n",
      "2110/2110 [==============================] - 3s 1ms/step - loss: 0.4178 - val_loss: 0.3628\n",
      "Epoch 10/100\n",
      "2110/2110 [==============================] - 3s 1ms/step - loss: 0.3942 - val_loss: 0.3777\n",
      "Epoch 11/100\n",
      "2110/2110 [==============================] - 3s 1ms/step - loss: 0.3740 - val_loss: 0.4236\n",
      "Epoch 12/100\n",
      "2110/2110 [==============================] - 3s 1ms/step - loss: 0.3562 - val_loss: 0.3939\n",
      "Epoch 13/100\n",
      "2082/2110 [============================>.] - ETA: 0s - loss: 0.3351INFO:tensorflow:Assets written to: best_temp/assets\n",
      "2110/2110 [==============================] - 3s 2ms/step - loss: 0.3356 - val_loss: 0.3287\n",
      "Epoch 14/100\n",
      "2069/2110 [============================>.] - ETA: 0s - loss: 0.3261INFO:tensorflow:Assets written to: best_temp/assets\n",
      "2110/2110 [==============================] - 3s 1ms/step - loss: 0.3271 - val_loss: 0.3150\n",
      "Epoch 15/100\n",
      "2080/2110 [============================>.] - ETA: 0s - loss: 0.3073INFO:tensorflow:Assets written to: best_temp/assets\n",
      "2110/2110 [==============================] - 3s 1ms/step - loss: 0.3087 - val_loss: 0.3070\n",
      "Epoch 16/100\n",
      "2084/2110 [============================>.] - ETA: 0s - loss: 0.2966INFO:tensorflow:Assets written to: best_temp/assets\n",
      "2110/2110 [==============================] - 3s 1ms/step - loss: 0.2969 - val_loss: 0.2883\n",
      "Epoch 17/100\n",
      "2076/2110 [============================>.] - ETA: 0s - loss: 0.2835INFO:tensorflow:Assets written to: best_temp/assets\n",
      "2110/2110 [==============================] - 4s 2ms/step - loss: 0.2846 - val_loss: 0.2717\n",
      "Epoch 18/100\n",
      "2105/2110 [============================>.] - ETA: 0s - loss: 0.2747INFO:tensorflow:Assets written to: best_temp/assets\n",
      "2110/2110 [==============================] - 3s 2ms/step - loss: 0.2745 - val_loss: 0.2577\n",
      "Epoch 19/100\n",
      "2078/2110 [============================>.] - ETA: 0s - loss: 0.2612INFO:tensorflow:Assets written to: best_temp/assets\n",
      "2110/2110 [==============================] - 3s 2ms/step - loss: 0.2624 - val_loss: 0.2414\n",
      "Epoch 20/100\n",
      "2096/2110 [============================>.] - ETA: 0s - loss: 0.2539INFO:tensorflow:Assets written to: best_temp/assets\n",
      "2110/2110 [==============================] - 3s 1ms/step - loss: 0.2536 - val_loss: 0.2297\n",
      "Epoch 21/100\n",
      "2101/2110 [============================>.] - ETA: 0s - loss: 0.2444INFO:tensorflow:Assets written to: best_temp/assets\n",
      "2110/2110 [==============================] - 3s 1ms/step - loss: 0.2440 - val_loss: 0.2257\n",
      "Epoch 22/100\n",
      "2110/2110 [==============================] - 3s 2ms/step - loss: 0.2338 - val_loss: 0.2276\n",
      "Epoch 23/100\n",
      "2100/2110 [============================>.] - ETA: 0s - loss: 0.2250INFO:tensorflow:Assets written to: best_temp/assets\n",
      "2110/2110 [==============================] - 3s 2ms/step - loss: 0.2246 - val_loss: 0.2145\n",
      "Epoch 24/100\n",
      "2096/2110 [============================>.] - ETA: 0s - loss: 0.2162INFO:tensorflow:Assets written to: best_temp/assets\n",
      "2110/2110 [==============================] - 4s 2ms/step - loss: 0.2159 - val_loss: 0.2119\n",
      "Epoch 25/100\n",
      "2110/2110 [==============================] - 3s 1ms/step - loss: 0.2125 - val_loss: 0.2288\n",
      "Epoch 26/100\n",
      "2066/2110 [============================>.] - ETA: 0s - loss: 0.2045INFO:tensorflow:Assets written to: best_temp/assets\n",
      "2110/2110 [==============================] - 3s 1ms/step - loss: 0.2058 - val_loss: 0.2059\n",
      "Epoch 27/100\n",
      "2110/2110 [==============================] - 3s 1ms/step - loss: 0.1989 - val_loss: 0.2133\n",
      "Epoch 28/100\n",
      "2074/2110 [============================>.] - ETA: 0s - loss: 0.1932INFO:tensorflow:Assets written to: best_temp/assets\n",
      "2110/2110 [==============================] - 3s 1ms/step - loss: 0.1946 - val_loss: 0.1935\n",
      "Epoch 29/100\n",
      "2076/2110 [============================>.] - ETA: 0s - loss: 0.1893INFO:tensorflow:Assets written to: best_temp/assets\n",
      "2110/2110 [==============================] - 3s 1ms/step - loss: 0.1901 - val_loss: 0.1864\n",
      "Epoch 30/100\n",
      "2110/2110 [==============================] - 3s 1ms/step - loss: 0.1866 - val_loss: 0.1931\n",
      "Epoch 31/100\n",
      "2110/2110 [==============================] - 3s 1ms/step - loss: 0.1816 - val_loss: 0.2011\n",
      "Epoch 32/100\n",
      "2069/2110 [============================>.] - ETA: 0s - loss: 0.1770INFO:tensorflow:Assets written to: best_temp/assets\n",
      "2110/2110 [==============================] - 3s 1ms/step - loss: 0.1776 - val_loss: 0.1741\n",
      "Epoch 33/100\n",
      "2076/2110 [============================>.] - ETA: 0s - loss: 0.1733INFO:tensorflow:Assets written to: best_temp/assets\n",
      "2110/2110 [==============================] - 3s 2ms/step - loss: 0.1737 - val_loss: 0.1695\n",
      "Epoch 34/100\n",
      "2110/2110 [==============================] - 3s 1ms/step - loss: 0.1749 - val_loss: 0.1749\n",
      "Epoch 35/100\n",
      "2110/2110 [==============================] - 3s 1ms/step - loss: 0.1723 - val_loss: 0.1728\n",
      "Epoch 36/100\n",
      "2110/2110 [==============================] - 3s 1ms/step - loss: 0.1684 - val_loss: 0.1825\n",
      "Epoch 37/100\n",
      "2110/2110 [==============================] - 3s 1ms/step - loss: 0.1681 - val_loss: 0.1711\n",
      "Epoch 38/100\n",
      "2102/2110 [============================>.] - ETA: 0s - loss: 0.1634INFO:tensorflow:Assets written to: best_temp/assets\n",
      "2110/2110 [==============================] - 3s 2ms/step - loss: 0.1631 - val_loss: 0.1683\n",
      "Epoch 39/100\n",
      "2064/2110 [============================>.] - ETA: 0s - loss: 0.1601INFO:tensorflow:Assets written to: best_temp/assets\n",
      "2110/2110 [==============================] - 3s 1ms/step - loss: 0.1607 - val_loss: 0.1608\n",
      "Epoch 40/100\n",
      "2110/2110 [==============================] - 3s 1ms/step - loss: 0.1606 - val_loss: 0.1757\n",
      "Epoch 41/100\n",
      "2089/2110 [============================>.] - ETA: 0s - loss: 0.1597INFO:tensorflow:Assets written to: best_temp/assets\n",
      "2110/2110 [==============================] - 3s 2ms/step - loss: 0.1597 - val_loss: 0.1554\n",
      "Epoch 42/100\n",
      "2110/2110 [==============================] - 3s 1ms/step - loss: 0.1571 - val_loss: 0.1623\n",
      "Epoch 43/100\n",
      "2110/2110 [==============================] - 3s 1ms/step - loss: 0.1549 - val_loss: 0.1583\n",
      "Epoch 44/100\n",
      "2110/2110 [==============================] - 3s 1ms/step - loss: 0.1528 - val_loss: 0.1563\n",
      "Epoch 45/100\n",
      "2110/2110 [==============================] - 3s 1ms/step - loss: 0.1514 - val_loss: 0.1561\n",
      "Epoch 46/100\n",
      "2110/2110 [==============================] - 3s 1ms/step - loss: 0.1498 - val_loss: 0.1569\n",
      "Epoch 47/100\n",
      "2110/2110 [==============================] - 3s 1ms/step - loss: 0.1497 - val_loss: 0.1563\n",
      "Epoch 48/100\n",
      "2110/2110 [==============================] - 3s 1ms/step - loss: 0.1470 - val_loss: 0.1743\n",
      "Epoch 49/100\n",
      "2110/2110 [==============================] - 3s 1ms/step - loss: 0.1460 - val_loss: 0.1574\n",
      "Epoch 50/100\n",
      "2110/2110 [==============================] - 3s 1ms/step - loss: 0.1447 - val_loss: 0.1568\n",
      "Epoch 51/100\n",
      "2110/2110 [==============================] - 3s 1ms/step - loss: 0.1417 - val_loss: 0.1564\n"
     ]
    }
   ],
   "source": [
    "history = model.fit(train_load, validation_data=val_load, epochs=100, callbacks=[earlystop, checkpoint])"
   ]
  },
  {
   "cell_type": "code",
   "execution_count": 70,
   "metadata": {
    "id": "MVf_AGcxp6br"
   },
   "outputs": [],
   "source": [
    "# Lets try sequential loader\n",
    "\n",
    "def create_sequential_loader(series, window_size=24, batchsize=32, buffersize=100):\n",
    "    AUTOTUNE = tf.data.experimental.AUTOTUNE\n",
    "    dataset = tf.data.Dataset.from_tensor_slices(series)\n",
    "    dataset = dataset.window(window_size, drop_remainder=True, shift=1)\n",
    "    dataset = dataset.flat_map(lambda window: window.batch(window_size))\n",
    "    dataset = dataset.map(lambda window: (window[:,:-1], window[-1,-1]), num_parallel_calls=AUTOTUNE)\n",
    "    dataset = dataset.cache().shuffle(buffersize).batch(batchsize)\n",
    "    return dataset.prefetch(tf.data.experimental.AUTOTUNE)"
   ]
  },
  {
   "cell_type": "code",
   "execution_count": 71,
   "metadata": {
    "id": "tRaJM9aDqOHq"
   },
   "outputs": [],
   "source": [
    "train = tf.concat([train.to_numpy(), train_label.to_numpy().reshape(-1,1)], axis=1)\n",
    "val = tf.concat([val.to_numpy(), val_label.to_numpy().reshape(-1,1)], axis=1)"
   ]
  },
  {
   "cell_type": "code",
   "execution_count": 73,
   "metadata": {
    "id": "Xwh9aYjxqXdr"
   },
   "outputs": [],
   "source": [
    "train = create_sequential_loader(train)\n",
    "val = create_sequential_loader(val)"
   ]
  },
  {
   "cell_type": "code",
   "execution_count": 74,
   "metadata": {
    "colab": {
     "base_uri": "https://localhost:8080/"
    },
    "id": "ntGWjJU2qcCq",
    "outputId": "de4936c5-26b1-4f1e-a00c-e256fcc2f7e5"
   },
   "outputs": [
    {
     "name": "stdout",
     "output_type": "stream",
     "text": [
      "(32, 24, 9)\n",
      "(32,)\n"
     ]
    }
   ],
   "source": [
    "for X, Y in train.take(1):\n",
    "    print(X.shape)\n",
    "    print(Y.shape)"
   ]
  },
  {
   "cell_type": "code",
   "execution_count": 75,
   "metadata": {
    "id": "OoBygBqfqekj"
   },
   "outputs": [],
   "source": [
    "model = tf.keras.models.Sequential([\n",
    "    tf.keras.layers.LSTM(50, return_sequences=True, input_shape=[None, 9]),\n",
    "    tf.keras.layers.LSTM(50),\n",
    "    tf.keras.layers.Dense(1),\n",
    "])"
   ]
  },
  {
   "cell_type": "code",
   "execution_count": 76,
   "metadata": {
    "colab": {
     "base_uri": "https://localhost:8080/"
    },
    "id": "VDBtqI0AqoOD",
    "outputId": "ebec9073-9d6d-4d25-b876-f3e02a95e151"
   },
   "outputs": [
    {
     "name": "stdout",
     "output_type": "stream",
     "text": [
      "Model: \"sequential_2\"\n",
      "_________________________________________________________________\n",
      " Layer (type)                Output Shape              Param #   \n",
      "=================================================================\n",
      " lstm (LSTM)                 (None, None, 50)          12000     \n",
      "                                                                 \n",
      " lstm_1 (LSTM)               (None, 50)                20200     \n",
      "                                                                 \n",
      " dense_4 (Dense)             (None, 1)                 51        \n",
      "                                                                 \n",
      "=================================================================\n",
      "Total params: 32,251\n",
      "Trainable params: 32,251\n",
      "Non-trainable params: 0\n",
      "_________________________________________________________________\n"
     ]
    }
   ],
   "source": [
    "model.summary()"
   ]
  },
  {
   "cell_type": "code",
   "execution_count": 77,
   "metadata": {
    "id": "aymNJazEqpxS"
   },
   "outputs": [],
   "source": [
    "model.compile(loss='mse', optimizer='adam')"
   ]
  },
  {
   "cell_type": "code",
   "execution_count": 78,
   "metadata": {
    "id": "CaCt2EpnqsFz"
   },
   "outputs": [],
   "source": [
    "earlystop = tf.keras.callbacks.EarlyStopping(patience=10)\n",
    "checkpoint = tf.keras.callbacks.ModelCheckpoint('best_seq_temp/', save_best_only=True)"
   ]
  },
  {
   "cell_type": "code",
   "execution_count": 79,
   "metadata": {
    "colab": {
     "base_uri": "https://localhost:8080/"
    },
    "id": "Ic5dFWUgqvdD",
    "outputId": "e0a11227-6e1d-46fc-ef05-6f839a24b671"
   },
   "outputs": [
    {
     "metadata": {
      "tags": null
     },
     "name": "stdout",
     "output_type": "stream",
     "text": [
      "Epoch 1/100\n",
      "   2108/Unknown - 48s 21ms/step - loss: 18.1613"
     ]
    },
    {
     "metadata": {
      "tags": null
     },
     "name": "stderr",
     "output_type": "stream",
     "text": [
      "WARNING:absl:Found untraced functions such as lstm_cell_layer_call_fn, lstm_cell_layer_call_and_return_conditional_losses, lstm_cell_1_layer_call_fn, lstm_cell_1_layer_call_and_return_conditional_losses while saving (showing 4 of 4). These functions will not be directly callable after loading.\n"
     ]
    },
    {
     "metadata": {
      "tags": null
     },
     "name": "stdout",
     "output_type": "stream",
     "text": [
      "INFO:tensorflow:Assets written to: best_seq_temp/assets\n"
     ]
    },
    {
     "metadata": {
      "tags": null
     },
     "name": "stderr",
     "output_type": "stream",
     "text": [
      "INFO:tensorflow:Assets written to: best_seq_temp/assets\n",
      "WARNING:absl:<keras.layers.recurrent.LSTMCell object at 0x7f8de92e4750> has the same name 'LSTMCell' as a built-in Keras object. Consider renaming <class 'keras.layers.recurrent.LSTMCell'> to avoid naming conflicts when loading with `tf.keras.models.load_model`. If renaming is not possible, pass the object in the `custom_objects` parameter of the load function.\n",
      "WARNING:absl:<keras.layers.recurrent.LSTMCell object at 0x7f8de9512b90> has the same name 'LSTMCell' as a built-in Keras object. Consider renaming <class 'keras.layers.recurrent.LSTMCell'> to avoid naming conflicts when loading with `tf.keras.models.load_model`. If renaming is not possible, pass the object in the `custom_objects` parameter of the load function.\n"
     ]
    },
    {
     "metadata": {
      "tags": null
     },
     "name": "stdout",
     "output_type": "stream",
     "text": [
      "2110/2110 [==============================] - 60s 27ms/step - loss: 18.1513 - val_loss: 0.9908\n",
      "Epoch 2/100\n",
      "2107/2110 [============================>.] - ETA: 0s - loss: 0.8378"
     ]
    },
    {
     "metadata": {
      "tags": null
     },
     "name": "stderr",
     "output_type": "stream",
     "text": [
      "WARNING:absl:Found untraced functions such as lstm_cell_layer_call_fn, lstm_cell_layer_call_and_return_conditional_losses, lstm_cell_1_layer_call_fn, lstm_cell_1_layer_call_and_return_conditional_losses while saving (showing 4 of 4). These functions will not be directly callable after loading.\n"
     ]
    },
    {
     "metadata": {
      "tags": null
     },
     "name": "stdout",
     "output_type": "stream",
     "text": [
      "INFO:tensorflow:Assets written to: best_seq_temp/assets\n"
     ]
    },
    {
     "metadata": {
      "tags": null
     },
     "name": "stderr",
     "output_type": "stream",
     "text": [
      "INFO:tensorflow:Assets written to: best_seq_temp/assets\n",
      "WARNING:absl:<keras.layers.recurrent.LSTMCell object at 0x7f8de92e4750> has the same name 'LSTMCell' as a built-in Keras object. Consider renaming <class 'keras.layers.recurrent.LSTMCell'> to avoid naming conflicts when loading with `tf.keras.models.load_model`. If renaming is not possible, pass the object in the `custom_objects` parameter of the load function.\n",
      "WARNING:absl:<keras.layers.recurrent.LSTMCell object at 0x7f8de9512b90> has the same name 'LSTMCell' as a built-in Keras object. Consider renaming <class 'keras.layers.recurrent.LSTMCell'> to avoid naming conflicts when loading with `tf.keras.models.load_model`. If renaming is not possible, pass the object in the `custom_objects` parameter of the load function.\n"
     ]
    },
    {
     "metadata": {
      "tags": null
     },
     "name": "stdout",
     "output_type": "stream",
     "text": [
      "2110/2110 [==============================] - 48s 23ms/step - loss: 0.8371 - val_loss: 0.5081\n",
      "Epoch 3/100\n",
      "2108/2110 [============================>.] - ETA: 0s - loss: 0.4206"
     ]
    },
    {
     "metadata": {
      "tags": null
     },
     "name": "stderr",
     "output_type": "stream",
     "text": [
      "WARNING:absl:Found untraced functions such as lstm_cell_layer_call_fn, lstm_cell_layer_call_and_return_conditional_losses, lstm_cell_1_layer_call_fn, lstm_cell_1_layer_call_and_return_conditional_losses while saving (showing 4 of 4). These functions will not be directly callable after loading.\n"
     ]
    },
    {
     "metadata": {
      "tags": null
     },
     "name": "stdout",
     "output_type": "stream",
     "text": [
      "INFO:tensorflow:Assets written to: best_seq_temp/assets\n"
     ]
    },
    {
     "metadata": {
      "tags": null
     },
     "name": "stderr",
     "output_type": "stream",
     "text": [
      "INFO:tensorflow:Assets written to: best_seq_temp/assets\n",
      "WARNING:absl:<keras.layers.recurrent.LSTMCell object at 0x7f8de92e4750> has the same name 'LSTMCell' as a built-in Keras object. Consider renaming <class 'keras.layers.recurrent.LSTMCell'> to avoid naming conflicts when loading with `tf.keras.models.load_model`. If renaming is not possible, pass the object in the `custom_objects` parameter of the load function.\n",
      "WARNING:absl:<keras.layers.recurrent.LSTMCell object at 0x7f8de9512b90> has the same name 'LSTMCell' as a built-in Keras object. Consider renaming <class 'keras.layers.recurrent.LSTMCell'> to avoid naming conflicts when loading with `tf.keras.models.load_model`. If renaming is not possible, pass the object in the `custom_objects` parameter of the load function.\n"
     ]
    },
    {
     "metadata": {
      "tags": null
     },
     "name": "stdout",
     "output_type": "stream",
     "text": [
      "2110/2110 [==============================] - 49s 23ms/step - loss: 0.4204 - val_loss: 0.2752\n",
      "Epoch 4/100\n",
      "2108/2110 [============================>.] - ETA: 0s - loss: 0.2522"
     ]
    },
    {
     "metadata": {
      "tags": null
     },
     "name": "stderr",
     "output_type": "stream",
     "text": [
      "WARNING:absl:Found untraced functions such as lstm_cell_layer_call_fn, lstm_cell_layer_call_and_return_conditional_losses, lstm_cell_1_layer_call_fn, lstm_cell_1_layer_call_and_return_conditional_losses while saving (showing 4 of 4). These functions will not be directly callable after loading.\n"
     ]
    },
    {
     "metadata": {
      "tags": null
     },
     "name": "stdout",
     "output_type": "stream",
     "text": [
      "INFO:tensorflow:Assets written to: best_seq_temp/assets\n"
     ]
    },
    {
     "metadata": {
      "tags": null
     },
     "name": "stderr",
     "output_type": "stream",
     "text": [
      "INFO:tensorflow:Assets written to: best_seq_temp/assets\n",
      "WARNING:absl:<keras.layers.recurrent.LSTMCell object at 0x7f8de92e4750> has the same name 'LSTMCell' as a built-in Keras object. Consider renaming <class 'keras.layers.recurrent.LSTMCell'> to avoid naming conflicts when loading with `tf.keras.models.load_model`. If renaming is not possible, pass the object in the `custom_objects` parameter of the load function.\n",
      "WARNING:absl:<keras.layers.recurrent.LSTMCell object at 0x7f8de9512b90> has the same name 'LSTMCell' as a built-in Keras object. Consider renaming <class 'keras.layers.recurrent.LSTMCell'> to avoid naming conflicts when loading with `tf.keras.models.load_model`. If renaming is not possible, pass the object in the `custom_objects` parameter of the load function.\n"
     ]
    },
    {
     "metadata": {
      "tags": null
     },
     "name": "stdout",
     "output_type": "stream",
     "text": [
      "2110/2110 [==============================] - 48s 23ms/step - loss: 0.2520 - val_loss: 0.2014\n",
      "Epoch 5/100\n",
      "2110/2110 [==============================] - ETA: 0s - loss: 0.1645"
     ]
    },
    {
     "metadata": {
      "tags": null
     },
     "name": "stderr",
     "output_type": "stream",
     "text": [
      "WARNING:absl:Found untraced functions such as lstm_cell_layer_call_fn, lstm_cell_layer_call_and_return_conditional_losses, lstm_cell_1_layer_call_fn, lstm_cell_1_layer_call_and_return_conditional_losses while saving (showing 4 of 4). These functions will not be directly callable after loading.\n"
     ]
    },
    {
     "metadata": {
      "tags": null
     },
     "name": "stdout",
     "output_type": "stream",
     "text": [
      "INFO:tensorflow:Assets written to: best_seq_temp/assets\n"
     ]
    },
    {
     "metadata": {
      "tags": null
     },
     "name": "stderr",
     "output_type": "stream",
     "text": [
      "INFO:tensorflow:Assets written to: best_seq_temp/assets\n",
      "WARNING:absl:<keras.layers.recurrent.LSTMCell object at 0x7f8de92e4750> has the same name 'LSTMCell' as a built-in Keras object. Consider renaming <class 'keras.layers.recurrent.LSTMCell'> to avoid naming conflicts when loading with `tf.keras.models.load_model`. If renaming is not possible, pass the object in the `custom_objects` parameter of the load function.\n",
      "WARNING:absl:<keras.layers.recurrent.LSTMCell object at 0x7f8de9512b90> has the same name 'LSTMCell' as a built-in Keras object. Consider renaming <class 'keras.layers.recurrent.LSTMCell'> to avoid naming conflicts when loading with `tf.keras.models.load_model`. If renaming is not possible, pass the object in the `custom_objects` parameter of the load function.\n"
     ]
    },
    {
     "metadata": {
      "tags": null
     },
     "name": "stdout",
     "output_type": "stream",
     "text": [
      "2110/2110 [==============================] - 48s 23ms/step - loss: 0.1645 - val_loss: 0.1318\n",
      "Epoch 6/100\n",
      "2108/2110 [============================>.] - ETA: 0s - loss: 0.1246"
     ]
    },
    {
     "metadata": {
      "tags": null
     },
     "name": "stderr",
     "output_type": "stream",
     "text": [
      "WARNING:absl:Found untraced functions such as lstm_cell_layer_call_fn, lstm_cell_layer_call_and_return_conditional_losses, lstm_cell_1_layer_call_fn, lstm_cell_1_layer_call_and_return_conditional_losses while saving (showing 4 of 4). These functions will not be directly callable after loading.\n"
     ]
    },
    {
     "metadata": {
      "tags": null
     },
     "name": "stdout",
     "output_type": "stream",
     "text": [
      "INFO:tensorflow:Assets written to: best_seq_temp/assets\n"
     ]
    },
    {
     "metadata": {
      "tags": null
     },
     "name": "stderr",
     "output_type": "stream",
     "text": [
      "INFO:tensorflow:Assets written to: best_seq_temp/assets\n",
      "WARNING:absl:<keras.layers.recurrent.LSTMCell object at 0x7f8de92e4750> has the same name 'LSTMCell' as a built-in Keras object. Consider renaming <class 'keras.layers.recurrent.LSTMCell'> to avoid naming conflicts when loading with `tf.keras.models.load_model`. If renaming is not possible, pass the object in the `custom_objects` parameter of the load function.\n",
      "WARNING:absl:<keras.layers.recurrent.LSTMCell object at 0x7f8de9512b90> has the same name 'LSTMCell' as a built-in Keras object. Consider renaming <class 'keras.layers.recurrent.LSTMCell'> to avoid naming conflicts when loading with `tf.keras.models.load_model`. If renaming is not possible, pass the object in the `custom_objects` parameter of the load function.\n"
     ]
    },
    {
     "metadata": {
      "tags": null
     },
     "name": "stdout",
     "output_type": "stream",
     "text": [
      "2110/2110 [==============================] - 48s 23ms/step - loss: 0.1246 - val_loss: 0.0805\n",
      "Epoch 7/100\n",
      "2110/2110 [==============================] - 41s 20ms/step - loss: 0.1055 - val_loss: 0.0939\n",
      "Epoch 8/100\n",
      "2109/2110 [============================>.] - ETA: 0s - loss: 0.0868"
     ]
    },
    {
     "metadata": {
      "tags": null
     },
     "name": "stderr",
     "output_type": "stream",
     "text": [
      "WARNING:absl:Found untraced functions such as lstm_cell_layer_call_fn, lstm_cell_layer_call_and_return_conditional_losses, lstm_cell_1_layer_call_fn, lstm_cell_1_layer_call_and_return_conditional_losses while saving (showing 4 of 4). These functions will not be directly callable after loading.\n"
     ]
    },
    {
     "metadata": {
      "tags": null
     },
     "name": "stdout",
     "output_type": "stream",
     "text": [
      "INFO:tensorflow:Assets written to: best_seq_temp/assets\n"
     ]
    },
    {
     "metadata": {
      "tags": null
     },
     "name": "stderr",
     "output_type": "stream",
     "text": [
      "INFO:tensorflow:Assets written to: best_seq_temp/assets\n",
      "WARNING:absl:<keras.layers.recurrent.LSTMCell object at 0x7f8de92e4750> has the same name 'LSTMCell' as a built-in Keras object. Consider renaming <class 'keras.layers.recurrent.LSTMCell'> to avoid naming conflicts when loading with `tf.keras.models.load_model`. If renaming is not possible, pass the object in the `custom_objects` parameter of the load function.\n",
      "WARNING:absl:<keras.layers.recurrent.LSTMCell object at 0x7f8de9512b90> has the same name 'LSTMCell' as a built-in Keras object. Consider renaming <class 'keras.layers.recurrent.LSTMCell'> to avoid naming conflicts when loading with `tf.keras.models.load_model`. If renaming is not possible, pass the object in the `custom_objects` parameter of the load function.\n"
     ]
    },
    {
     "metadata": {
      "tags": null
     },
     "name": "stdout",
     "output_type": "stream",
     "text": [
      "2110/2110 [==============================] - 48s 23ms/step - loss: 0.0867 - val_loss: 0.0610\n",
      "Epoch 9/100\n",
      "2110/2110 [==============================] - 41s 20ms/step - loss: 0.1569 - val_loss: 0.0741\n",
      "Epoch 10/100\n",
      "2108/2110 [============================>.] - ETA: 0s - loss: 0.0778"
     ]
    },
    {
     "metadata": {
      "tags": null
     },
     "name": "stderr",
     "output_type": "stream",
     "text": [
      "WARNING:absl:Found untraced functions such as lstm_cell_layer_call_fn, lstm_cell_layer_call_and_return_conditional_losses, lstm_cell_1_layer_call_fn, lstm_cell_1_layer_call_and_return_conditional_losses while saving (showing 4 of 4). These functions will not be directly callable after loading.\n"
     ]
    },
    {
     "metadata": {
      "tags": null
     },
     "name": "stdout",
     "output_type": "stream",
     "text": [
      "INFO:tensorflow:Assets written to: best_seq_temp/assets\n"
     ]
    },
    {
     "metadata": {
      "tags": null
     },
     "name": "stderr",
     "output_type": "stream",
     "text": [
      "INFO:tensorflow:Assets written to: best_seq_temp/assets\n",
      "WARNING:absl:<keras.layers.recurrent.LSTMCell object at 0x7f8de92e4750> has the same name 'LSTMCell' as a built-in Keras object. Consider renaming <class 'keras.layers.recurrent.LSTMCell'> to avoid naming conflicts when loading with `tf.keras.models.load_model`. If renaming is not possible, pass the object in the `custom_objects` parameter of the load function.\n",
      "WARNING:absl:<keras.layers.recurrent.LSTMCell object at 0x7f8de9512b90> has the same name 'LSTMCell' as a built-in Keras object. Consider renaming <class 'keras.layers.recurrent.LSTMCell'> to avoid naming conflicts when loading with `tf.keras.models.load_model`. If renaming is not possible, pass the object in the `custom_objects` parameter of the load function.\n"
     ]
    },
    {
     "metadata": {
      "tags": null
     },
     "name": "stdout",
     "output_type": "stream",
     "text": [
      "2110/2110 [==============================] - 48s 23ms/step - loss: 0.0777 - val_loss: 0.0521\n",
      "Epoch 11/100\n",
      "2110/2110 [==============================] - 41s 20ms/step - loss: 0.0671 - val_loss: 0.0540\n",
      "Epoch 12/100\n",
      "2108/2110 [============================>.] - ETA: 0s - loss: 0.0656"
     ]
    },
    {
     "metadata": {
      "tags": null
     },
     "name": "stderr",
     "output_type": "stream",
     "text": [
      "WARNING:absl:Found untraced functions such as lstm_cell_layer_call_fn, lstm_cell_layer_call_and_return_conditional_losses, lstm_cell_1_layer_call_fn, lstm_cell_1_layer_call_and_return_conditional_losses while saving (showing 4 of 4). These functions will not be directly callable after loading.\n"
     ]
    },
    {
     "metadata": {
      "tags": null
     },
     "name": "stdout",
     "output_type": "stream",
     "text": [
      "INFO:tensorflow:Assets written to: best_seq_temp/assets\n"
     ]
    },
    {
     "metadata": {
      "tags": null
     },
     "name": "stderr",
     "output_type": "stream",
     "text": [
      "INFO:tensorflow:Assets written to: best_seq_temp/assets\n",
      "WARNING:absl:<keras.layers.recurrent.LSTMCell object at 0x7f8de92e4750> has the same name 'LSTMCell' as a built-in Keras object. Consider renaming <class 'keras.layers.recurrent.LSTMCell'> to avoid naming conflicts when loading with `tf.keras.models.load_model`. If renaming is not possible, pass the object in the `custom_objects` parameter of the load function.\n",
      "WARNING:absl:<keras.layers.recurrent.LSTMCell object at 0x7f8de9512b90> has the same name 'LSTMCell' as a built-in Keras object. Consider renaming <class 'keras.layers.recurrent.LSTMCell'> to avoid naming conflicts when loading with `tf.keras.models.load_model`. If renaming is not possible, pass the object in the `custom_objects` parameter of the load function.\n"
     ]
    },
    {
     "metadata": {
      "tags": null
     },
     "name": "stdout",
     "output_type": "stream",
     "text": [
      "2110/2110 [==============================] - 48s 23ms/step - loss: 0.0656 - val_loss: 0.0428\n",
      "Epoch 13/100\n",
      "2110/2110 [==============================] - 41s 19ms/step - loss: 0.0603 - val_loss: 0.0465\n",
      "Epoch 14/100\n",
      "2109/2110 [============================>.] - ETA: 0s - loss: 0.0556"
     ]
    },
    {
     "metadata": {
      "tags": null
     },
     "name": "stderr",
     "output_type": "stream",
     "text": [
      "WARNING:absl:Found untraced functions such as lstm_cell_layer_call_fn, lstm_cell_layer_call_and_return_conditional_losses, lstm_cell_1_layer_call_fn, lstm_cell_1_layer_call_and_return_conditional_losses while saving (showing 4 of 4). These functions will not be directly callable after loading.\n"
     ]
    },
    {
     "metadata": {
      "tags": null
     },
     "name": "stdout",
     "output_type": "stream",
     "text": [
      "INFO:tensorflow:Assets written to: best_seq_temp/assets\n"
     ]
    },
    {
     "metadata": {
      "tags": null
     },
     "name": "stderr",
     "output_type": "stream",
     "text": [
      "INFO:tensorflow:Assets written to: best_seq_temp/assets\n",
      "WARNING:absl:<keras.layers.recurrent.LSTMCell object at 0x7f8de92e4750> has the same name 'LSTMCell' as a built-in Keras object. Consider renaming <class 'keras.layers.recurrent.LSTMCell'> to avoid naming conflicts when loading with `tf.keras.models.load_model`. If renaming is not possible, pass the object in the `custom_objects` parameter of the load function.\n",
      "WARNING:absl:<keras.layers.recurrent.LSTMCell object at 0x7f8de9512b90> has the same name 'LSTMCell' as a built-in Keras object. Consider renaming <class 'keras.layers.recurrent.LSTMCell'> to avoid naming conflicts when loading with `tf.keras.models.load_model`. If renaming is not possible, pass the object in the `custom_objects` parameter of the load function.\n"
     ]
    },
    {
     "metadata": {
      "tags": null
     },
     "name": "stdout",
     "output_type": "stream",
     "text": [
      "2110/2110 [==============================] - 47s 23ms/step - loss: 0.0556 - val_loss: 0.0390\n",
      "Epoch 15/100\n",
      "2110/2110 [==============================] - 41s 20ms/step - loss: 0.0557 - val_loss: 0.0508\n",
      "Epoch 16/100\n",
      "2107/2110 [============================>.] - ETA: 0s - loss: 0.0509"
     ]
    },
    {
     "metadata": {
      "tags": null
     },
     "name": "stderr",
     "output_type": "stream",
     "text": [
      "WARNING:absl:Found untraced functions such as lstm_cell_layer_call_fn, lstm_cell_layer_call_and_return_conditional_losses, lstm_cell_1_layer_call_fn, lstm_cell_1_layer_call_and_return_conditional_losses while saving (showing 4 of 4). These functions will not be directly callable after loading.\n"
     ]
    },
    {
     "metadata": {
      "tags": null
     },
     "name": "stdout",
     "output_type": "stream",
     "text": [
      "INFO:tensorflow:Assets written to: best_seq_temp/assets\n"
     ]
    },
    {
     "metadata": {
      "tags": null
     },
     "name": "stderr",
     "output_type": "stream",
     "text": [
      "INFO:tensorflow:Assets written to: best_seq_temp/assets\n",
      "WARNING:absl:<keras.layers.recurrent.LSTMCell object at 0x7f8de92e4750> has the same name 'LSTMCell' as a built-in Keras object. Consider renaming <class 'keras.layers.recurrent.LSTMCell'> to avoid naming conflicts when loading with `tf.keras.models.load_model`. If renaming is not possible, pass the object in the `custom_objects` parameter of the load function.\n",
      "WARNING:absl:<keras.layers.recurrent.LSTMCell object at 0x7f8de9512b90> has the same name 'LSTMCell' as a built-in Keras object. Consider renaming <class 'keras.layers.recurrent.LSTMCell'> to avoid naming conflicts when loading with `tf.keras.models.load_model`. If renaming is not possible, pass the object in the `custom_objects` parameter of the load function.\n"
     ]
    },
    {
     "metadata": {
      "tags": null
     },
     "name": "stdout",
     "output_type": "stream",
     "text": [
      "2110/2110 [==============================] - 47s 22ms/step - loss: 0.0509 - val_loss: 0.0351\n",
      "Epoch 17/100\n",
      "2110/2110 [==============================] - ETA: 0s - loss: 0.0490"
     ]
    },
    {
     "metadata": {
      "tags": null
     },
     "name": "stderr",
     "output_type": "stream",
     "text": [
      "WARNING:absl:Found untraced functions such as lstm_cell_layer_call_fn, lstm_cell_layer_call_and_return_conditional_losses, lstm_cell_1_layer_call_fn, lstm_cell_1_layer_call_and_return_conditional_losses while saving (showing 4 of 4). These functions will not be directly callable after loading.\n"
     ]
    },
    {
     "metadata": {
      "tags": null
     },
     "name": "stdout",
     "output_type": "stream",
     "text": [
      "INFO:tensorflow:Assets written to: best_seq_temp/assets\n"
     ]
    },
    {
     "metadata": {
      "tags": null
     },
     "name": "stderr",
     "output_type": "stream",
     "text": [
      "INFO:tensorflow:Assets written to: best_seq_temp/assets\n",
      "WARNING:absl:<keras.layers.recurrent.LSTMCell object at 0x7f8de92e4750> has the same name 'LSTMCell' as a built-in Keras object. Consider renaming <class 'keras.layers.recurrent.LSTMCell'> to avoid naming conflicts when loading with `tf.keras.models.load_model`. If renaming is not possible, pass the object in the `custom_objects` parameter of the load function.\n",
      "WARNING:absl:<keras.layers.recurrent.LSTMCell object at 0x7f8de9512b90> has the same name 'LSTMCell' as a built-in Keras object. Consider renaming <class 'keras.layers.recurrent.LSTMCell'> to avoid naming conflicts when loading with `tf.keras.models.load_model`. If renaming is not possible, pass the object in the `custom_objects` parameter of the load function.\n"
     ]
    },
    {
     "metadata": {
      "tags": null
     },
     "name": "stdout",
     "output_type": "stream",
     "text": [
      "2110/2110 [==============================] - 47s 22ms/step - loss: 0.0490 - val_loss: 0.0331\n",
      "Epoch 18/100\n",
      "2108/2110 [============================>.] - ETA: 0s - loss: 0.0480"
     ]
    },
    {
     "metadata": {
      "tags": null
     },
     "name": "stderr",
     "output_type": "stream",
     "text": [
      "WARNING:absl:Found untraced functions such as lstm_cell_layer_call_fn, lstm_cell_layer_call_and_return_conditional_losses, lstm_cell_1_layer_call_fn, lstm_cell_1_layer_call_and_return_conditional_losses while saving (showing 4 of 4). These functions will not be directly callable after loading.\n"
     ]
    },
    {
     "metadata": {
      "tags": null
     },
     "name": "stdout",
     "output_type": "stream",
     "text": [
      "INFO:tensorflow:Assets written to: best_seq_temp/assets\n"
     ]
    },
    {
     "metadata": {
      "tags": null
     },
     "name": "stderr",
     "output_type": "stream",
     "text": [
      "INFO:tensorflow:Assets written to: best_seq_temp/assets\n",
      "WARNING:absl:<keras.layers.recurrent.LSTMCell object at 0x7f8de92e4750> has the same name 'LSTMCell' as a built-in Keras object. Consider renaming <class 'keras.layers.recurrent.LSTMCell'> to avoid naming conflicts when loading with `tf.keras.models.load_model`. If renaming is not possible, pass the object in the `custom_objects` parameter of the load function.\n",
      "WARNING:absl:<keras.layers.recurrent.LSTMCell object at 0x7f8de9512b90> has the same name 'LSTMCell' as a built-in Keras object. Consider renaming <class 'keras.layers.recurrent.LSTMCell'> to avoid naming conflicts when loading with `tf.keras.models.load_model`. If renaming is not possible, pass the object in the `custom_objects` parameter of the load function.\n"
     ]
    },
    {
     "metadata": {
      "tags": null
     },
     "name": "stdout",
     "output_type": "stream",
     "text": [
      "2110/2110 [==============================] - 47s 22ms/step - loss: 0.0480 - val_loss: 0.0321\n",
      "Epoch 19/100\n",
      "2107/2110 [============================>.] - ETA: 0s - loss: 0.0445"
     ]
    },
    {
     "metadata": {
      "tags": null
     },
     "name": "stderr",
     "output_type": "stream",
     "text": [
      "WARNING:absl:Found untraced functions such as lstm_cell_layer_call_fn, lstm_cell_layer_call_and_return_conditional_losses, lstm_cell_1_layer_call_fn, lstm_cell_1_layer_call_and_return_conditional_losses while saving (showing 4 of 4). These functions will not be directly callable after loading.\n"
     ]
    },
    {
     "metadata": {
      "tags": null
     },
     "name": "stdout",
     "output_type": "stream",
     "text": [
      "INFO:tensorflow:Assets written to: best_seq_temp/assets\n"
     ]
    },
    {
     "metadata": {
      "tags": null
     },
     "name": "stderr",
     "output_type": "stream",
     "text": [
      "INFO:tensorflow:Assets written to: best_seq_temp/assets\n",
      "WARNING:absl:<keras.layers.recurrent.LSTMCell object at 0x7f8de92e4750> has the same name 'LSTMCell' as a built-in Keras object. Consider renaming <class 'keras.layers.recurrent.LSTMCell'> to avoid naming conflicts when loading with `tf.keras.models.load_model`. If renaming is not possible, pass the object in the `custom_objects` parameter of the load function.\n",
      "WARNING:absl:<keras.layers.recurrent.LSTMCell object at 0x7f8de9512b90> has the same name 'LSTMCell' as a built-in Keras object. Consider renaming <class 'keras.layers.recurrent.LSTMCell'> to avoid naming conflicts when loading with `tf.keras.models.load_model`. If renaming is not possible, pass the object in the `custom_objects` parameter of the load function.\n"
     ]
    },
    {
     "metadata": {
      "tags": null
     },
     "name": "stdout",
     "output_type": "stream",
     "text": [
      "2110/2110 [==============================] - 48s 23ms/step - loss: 0.0444 - val_loss: 0.0318\n",
      "Epoch 20/100\n",
      "2110/2110 [==============================] - 41s 19ms/step - loss: 0.0469 - val_loss: 0.0342\n",
      "Epoch 21/100\n",
      "2110/2110 [==============================] - 41s 19ms/step - loss: 0.0409 - val_loss: 0.0379\n",
      "Epoch 22/100\n",
      "2110/2110 [==============================] - 41s 19ms/step - loss: 0.0416 - val_loss: 0.0346\n",
      "Epoch 23/100\n",
      "2110/2110 [==============================] - 41s 20ms/step - loss: 0.0428 - val_loss: 0.0375\n",
      "Epoch 24/100\n",
      "2110/2110 [==============================] - 42s 20ms/step - loss: 0.0363 - val_loss: 0.0537\n",
      "Epoch 25/100\n",
      "2110/2110 [==============================] - 41s 19ms/step - loss: 0.0359 - val_loss: 0.0484\n",
      "Epoch 26/100\n",
      "2108/2110 [============================>.] - ETA: 0s - loss: 0.0308"
     ]
    },
    {
     "metadata": {
      "tags": null
     },
     "name": "stderr",
     "output_type": "stream",
     "text": [
      "WARNING:absl:Found untraced functions such as lstm_cell_layer_call_fn, lstm_cell_layer_call_and_return_conditional_losses, lstm_cell_1_layer_call_fn, lstm_cell_1_layer_call_and_return_conditional_losses while saving (showing 4 of 4). These functions will not be directly callable after loading.\n"
     ]
    },
    {
     "metadata": {
      "tags": null
     },
     "name": "stdout",
     "output_type": "stream",
     "text": [
      "INFO:tensorflow:Assets written to: best_seq_temp/assets\n"
     ]
    },
    {
     "metadata": {
      "tags": null
     },
     "name": "stderr",
     "output_type": "stream",
     "text": [
      "INFO:tensorflow:Assets written to: best_seq_temp/assets\n",
      "WARNING:absl:<keras.layers.recurrent.LSTMCell object at 0x7f8de92e4750> has the same name 'LSTMCell' as a built-in Keras object. Consider renaming <class 'keras.layers.recurrent.LSTMCell'> to avoid naming conflicts when loading with `tf.keras.models.load_model`. If renaming is not possible, pass the object in the `custom_objects` parameter of the load function.\n",
      "WARNING:absl:<keras.layers.recurrent.LSTMCell object at 0x7f8de9512b90> has the same name 'LSTMCell' as a built-in Keras object. Consider renaming <class 'keras.layers.recurrent.LSTMCell'> to avoid naming conflicts when loading with `tf.keras.models.load_model`. If renaming is not possible, pass the object in the `custom_objects` parameter of the load function.\n"
     ]
    },
    {
     "metadata": {
      "tags": null
     },
     "name": "stdout",
     "output_type": "stream",
     "text": [
      "2110/2110 [==============================] - 48s 23ms/step - loss: 0.0308 - val_loss: 0.0240\n",
      "Epoch 27/100\n",
      "2110/2110 [==============================] - 41s 19ms/step - loss: 0.0291 - val_loss: 0.0308\n",
      "Epoch 28/100\n",
      "2108/2110 [============================>.] - ETA: 0s - loss: 0.0296"
     ]
    },
    {
     "metadata": {
      "tags": null
     },
     "name": "stderr",
     "output_type": "stream",
     "text": [
      "WARNING:absl:Found untraced functions such as lstm_cell_layer_call_fn, lstm_cell_layer_call_and_return_conditional_losses, lstm_cell_1_layer_call_fn, lstm_cell_1_layer_call_and_return_conditional_losses while saving (showing 4 of 4). These functions will not be directly callable after loading.\n"
     ]
    },
    {
     "metadata": {
      "tags": null
     },
     "name": "stdout",
     "output_type": "stream",
     "text": [
      "INFO:tensorflow:Assets written to: best_seq_temp/assets\n"
     ]
    },
    {
     "metadata": {
      "tags": null
     },
     "name": "stderr",
     "output_type": "stream",
     "text": [
      "INFO:tensorflow:Assets written to: best_seq_temp/assets\n",
      "WARNING:absl:<keras.layers.recurrent.LSTMCell object at 0x7f8de92e4750> has the same name 'LSTMCell' as a built-in Keras object. Consider renaming <class 'keras.layers.recurrent.LSTMCell'> to avoid naming conflicts when loading with `tf.keras.models.load_model`. If renaming is not possible, pass the object in the `custom_objects` parameter of the load function.\n",
      "WARNING:absl:<keras.layers.recurrent.LSTMCell object at 0x7f8de9512b90> has the same name 'LSTMCell' as a built-in Keras object. Consider renaming <class 'keras.layers.recurrent.LSTMCell'> to avoid naming conflicts when loading with `tf.keras.models.load_model`. If renaming is not possible, pass the object in the `custom_objects` parameter of the load function.\n"
     ]
    },
    {
     "metadata": {
      "tags": null
     },
     "name": "stdout",
     "output_type": "stream",
     "text": [
      "2110/2110 [==============================] - 48s 23ms/step - loss: 0.0296 - val_loss: 0.0216\n",
      "Epoch 29/100\n",
      "2110/2110 [==============================] - 41s 19ms/step - loss: 0.0255 - val_loss: 0.0364\n",
      "Epoch 30/100\n",
      "2110/2110 [==============================] - 41s 20ms/step - loss: 0.0241 - val_loss: 0.0376\n",
      "Epoch 31/100\n",
      "2110/2110 [==============================] - 41s 20ms/step - loss: 0.0229 - val_loss: 0.0224\n",
      "Epoch 32/100\n",
      "2108/2110 [============================>.] - ETA: 0s - loss: 0.0275"
     ]
    },
    {
     "metadata": {
      "tags": null
     },
     "name": "stderr",
     "output_type": "stream",
     "text": [
      "WARNING:absl:Found untraced functions such as lstm_cell_layer_call_fn, lstm_cell_layer_call_and_return_conditional_losses, lstm_cell_1_layer_call_fn, lstm_cell_1_layer_call_and_return_conditional_losses while saving (showing 4 of 4). These functions will not be directly callable after loading.\n"
     ]
    },
    {
     "metadata": {
      "tags": null
     },
     "name": "stdout",
     "output_type": "stream",
     "text": [
      "INFO:tensorflow:Assets written to: best_seq_temp/assets\n"
     ]
    },
    {
     "metadata": {
      "tags": null
     },
     "name": "stderr",
     "output_type": "stream",
     "text": [
      "INFO:tensorflow:Assets written to: best_seq_temp/assets\n",
      "WARNING:absl:<keras.layers.recurrent.LSTMCell object at 0x7f8de92e4750> has the same name 'LSTMCell' as a built-in Keras object. Consider renaming <class 'keras.layers.recurrent.LSTMCell'> to avoid naming conflicts when loading with `tf.keras.models.load_model`. If renaming is not possible, pass the object in the `custom_objects` parameter of the load function.\n",
      "WARNING:absl:<keras.layers.recurrent.LSTMCell object at 0x7f8de9512b90> has the same name 'LSTMCell' as a built-in Keras object. Consider renaming <class 'keras.layers.recurrent.LSTMCell'> to avoid naming conflicts when loading with `tf.keras.models.load_model`. If renaming is not possible, pass the object in the `custom_objects` parameter of the load function.\n"
     ]
    },
    {
     "metadata": {
      "tags": null
     },
     "name": "stdout",
     "output_type": "stream",
     "text": [
      "2110/2110 [==============================] - 48s 23ms/step - loss: 0.0275 - val_loss: 0.0190\n",
      "Epoch 33/100\n",
      "2110/2110 [==============================] - 41s 19ms/step - loss: 0.0200 - val_loss: 0.0265\n",
      "Epoch 34/100\n",
      "2110/2110 [==============================] - 41s 20ms/step - loss: 0.0206 - val_loss: 0.0239\n",
      "Epoch 35/100\n",
      "2110/2110 [==============================] - 41s 19ms/step - loss: 0.0197 - val_loss: 0.0191\n",
      "Epoch 36/100\n",
      "2108/2110 [============================>.] - ETA: 0s - loss: 0.0191"
     ]
    },
    {
     "metadata": {
      "tags": null
     },
     "name": "stderr",
     "output_type": "stream",
     "text": [
      "WARNING:absl:Found untraced functions such as lstm_cell_layer_call_fn, lstm_cell_layer_call_and_return_conditional_losses, lstm_cell_1_layer_call_fn, lstm_cell_1_layer_call_and_return_conditional_losses while saving (showing 4 of 4). These functions will not be directly callable after loading.\n"
     ]
    },
    {
     "metadata": {
      "tags": null
     },
     "name": "stdout",
     "output_type": "stream",
     "text": [
      "INFO:tensorflow:Assets written to: best_seq_temp/assets\n"
     ]
    },
    {
     "metadata": {
      "tags": null
     },
     "name": "stderr",
     "output_type": "stream",
     "text": [
      "INFO:tensorflow:Assets written to: best_seq_temp/assets\n",
      "WARNING:absl:<keras.layers.recurrent.LSTMCell object at 0x7f8de92e4750> has the same name 'LSTMCell' as a built-in Keras object. Consider renaming <class 'keras.layers.recurrent.LSTMCell'> to avoid naming conflicts when loading with `tf.keras.models.load_model`. If renaming is not possible, pass the object in the `custom_objects` parameter of the load function.\n",
      "WARNING:absl:<keras.layers.recurrent.LSTMCell object at 0x7f8de9512b90> has the same name 'LSTMCell' as a built-in Keras object. Consider renaming <class 'keras.layers.recurrent.LSTMCell'> to avoid naming conflicts when loading with `tf.keras.models.load_model`. If renaming is not possible, pass the object in the `custom_objects` parameter of the load function.\n"
     ]
    },
    {
     "metadata": {
      "tags": null
     },
     "name": "stdout",
     "output_type": "stream",
     "text": [
      "2110/2110 [==============================] - 48s 23ms/step - loss: 0.0191 - val_loss: 0.0149\n",
      "Epoch 37/100\n",
      "2110/2110 [==============================] - 41s 20ms/step - loss: 0.0194 - val_loss: 0.0161\n",
      "Epoch 38/100\n",
      "2108/2110 [============================>.] - ETA: 0s - loss: 0.0184"
     ]
    },
    {
     "metadata": {
      "tags": null
     },
     "name": "stderr",
     "output_type": "stream",
     "text": [
      "WARNING:absl:Found untraced functions such as lstm_cell_layer_call_fn, lstm_cell_layer_call_and_return_conditional_losses, lstm_cell_1_layer_call_fn, lstm_cell_1_layer_call_and_return_conditional_losses while saving (showing 4 of 4). These functions will not be directly callable after loading.\n"
     ]
    },
    {
     "metadata": {
      "tags": null
     },
     "name": "stdout",
     "output_type": "stream",
     "text": [
      "INFO:tensorflow:Assets written to: best_seq_temp/assets\n"
     ]
    },
    {
     "metadata": {
      "tags": null
     },
     "name": "stderr",
     "output_type": "stream",
     "text": [
      "INFO:tensorflow:Assets written to: best_seq_temp/assets\n",
      "WARNING:absl:<keras.layers.recurrent.LSTMCell object at 0x7f8de92e4750> has the same name 'LSTMCell' as a built-in Keras object. Consider renaming <class 'keras.layers.recurrent.LSTMCell'> to avoid naming conflicts when loading with `tf.keras.models.load_model`. If renaming is not possible, pass the object in the `custom_objects` parameter of the load function.\n",
      "WARNING:absl:<keras.layers.recurrent.LSTMCell object at 0x7f8de9512b90> has the same name 'LSTMCell' as a built-in Keras object. Consider renaming <class 'keras.layers.recurrent.LSTMCell'> to avoid naming conflicts when loading with `tf.keras.models.load_model`. If renaming is not possible, pass the object in the `custom_objects` parameter of the load function.\n"
     ]
    },
    {
     "metadata": {
      "tags": null
     },
     "name": "stdout",
     "output_type": "stream",
     "text": [
      "2110/2110 [==============================] - 48s 23ms/step - loss: 0.0184 - val_loss: 0.0144\n",
      "Epoch 39/100\n",
      "2110/2110 [==============================] - 41s 20ms/step - loss: 0.0177 - val_loss: 0.0187\n",
      "Epoch 40/100\n",
      "2110/2110 [==============================] - 41s 20ms/step - loss: 0.0171 - val_loss: 0.0229\n",
      "Epoch 41/100\n",
      "2108/2110 [============================>.] - ETA: 0s - loss: 0.0160"
     ]
    },
    {
     "metadata": {
      "tags": null
     },
     "name": "stderr",
     "output_type": "stream",
     "text": [
      "WARNING:absl:Found untraced functions such as lstm_cell_layer_call_fn, lstm_cell_layer_call_and_return_conditional_losses, lstm_cell_1_layer_call_fn, lstm_cell_1_layer_call_and_return_conditional_losses while saving (showing 4 of 4). These functions will not be directly callable after loading.\n"
     ]
    },
    {
     "metadata": {
      "tags": null
     },
     "name": "stdout",
     "output_type": "stream",
     "text": [
      "INFO:tensorflow:Assets written to: best_seq_temp/assets\n"
     ]
    },
    {
     "metadata": {
      "tags": null
     },
     "name": "stderr",
     "output_type": "stream",
     "text": [
      "INFO:tensorflow:Assets written to: best_seq_temp/assets\n",
      "WARNING:absl:<keras.layers.recurrent.LSTMCell object at 0x7f8de92e4750> has the same name 'LSTMCell' as a built-in Keras object. Consider renaming <class 'keras.layers.recurrent.LSTMCell'> to avoid naming conflicts when loading with `tf.keras.models.load_model`. If renaming is not possible, pass the object in the `custom_objects` parameter of the load function.\n",
      "WARNING:absl:<keras.layers.recurrent.LSTMCell object at 0x7f8de9512b90> has the same name 'LSTMCell' as a built-in Keras object. Consider renaming <class 'keras.layers.recurrent.LSTMCell'> to avoid naming conflicts when loading with `tf.keras.models.load_model`. If renaming is not possible, pass the object in the `custom_objects` parameter of the load function.\n"
     ]
    },
    {
     "metadata": {
      "tags": null
     },
     "name": "stdout",
     "output_type": "stream",
     "text": [
      "2110/2110 [==============================] - 48s 23ms/step - loss: 0.0160 - val_loss: 0.0134\n",
      "Epoch 42/100\n",
      "2110/2110 [==============================] - 42s 20ms/step - loss: 0.0178 - val_loss: 0.0239\n",
      "Epoch 43/100\n",
      "2110/2110 [==============================] - ETA: 0s - loss: 0.0147"
     ]
    },
    {
     "metadata": {
      "tags": null
     },
     "name": "stderr",
     "output_type": "stream",
     "text": [
      "WARNING:absl:Found untraced functions such as lstm_cell_layer_call_fn, lstm_cell_layer_call_and_return_conditional_losses, lstm_cell_1_layer_call_fn, lstm_cell_1_layer_call_and_return_conditional_losses while saving (showing 4 of 4). These functions will not be directly callable after loading.\n"
     ]
    },
    {
     "metadata": {
      "tags": null
     },
     "name": "stdout",
     "output_type": "stream",
     "text": [
      "INFO:tensorflow:Assets written to: best_seq_temp/assets\n"
     ]
    },
    {
     "metadata": {
      "tags": null
     },
     "name": "stderr",
     "output_type": "stream",
     "text": [
      "INFO:tensorflow:Assets written to: best_seq_temp/assets\n",
      "WARNING:absl:<keras.layers.recurrent.LSTMCell object at 0x7f8de92e4750> has the same name 'LSTMCell' as a built-in Keras object. Consider renaming <class 'keras.layers.recurrent.LSTMCell'> to avoid naming conflicts when loading with `tf.keras.models.load_model`. If renaming is not possible, pass the object in the `custom_objects` parameter of the load function.\n",
      "WARNING:absl:<keras.layers.recurrent.LSTMCell object at 0x7f8de9512b90> has the same name 'LSTMCell' as a built-in Keras object. Consider renaming <class 'keras.layers.recurrent.LSTMCell'> to avoid naming conflicts when loading with `tf.keras.models.load_model`. If renaming is not possible, pass the object in the `custom_objects` parameter of the load function.\n"
     ]
    },
    {
     "metadata": {
      "tags": null
     },
     "name": "stdout",
     "output_type": "stream",
     "text": [
      "2110/2110 [==============================] - 48s 23ms/step - loss: 0.0147 - val_loss: 0.0133\n",
      "Epoch 44/100\n",
      "2110/2110 [==============================] - 42s 20ms/step - loss: 0.0159 - val_loss: 0.0228\n",
      "Epoch 45/100\n",
      "2110/2110 [==============================] - 41s 20ms/step - loss: 0.0142 - val_loss: 0.0153\n",
      "Epoch 46/100\n",
      "2110/2110 [==============================] - 41s 20ms/step - loss: 0.0147 - val_loss: 0.0177\n",
      "Epoch 47/100\n",
      "2108/2110 [============================>.] - ETA: 0s - loss: 0.0133"
     ]
    },
    {
     "metadata": {
      "tags": null
     },
     "name": "stderr",
     "output_type": "stream",
     "text": [
      "WARNING:absl:Found untraced functions such as lstm_cell_layer_call_fn, lstm_cell_layer_call_and_return_conditional_losses, lstm_cell_1_layer_call_fn, lstm_cell_1_layer_call_and_return_conditional_losses while saving (showing 4 of 4). These functions will not be directly callable after loading.\n"
     ]
    },
    {
     "metadata": {
      "tags": null
     },
     "name": "stdout",
     "output_type": "stream",
     "text": [
      "INFO:tensorflow:Assets written to: best_seq_temp/assets\n"
     ]
    },
    {
     "metadata": {
      "tags": null
     },
     "name": "stderr",
     "output_type": "stream",
     "text": [
      "INFO:tensorflow:Assets written to: best_seq_temp/assets\n",
      "WARNING:absl:<keras.layers.recurrent.LSTMCell object at 0x7f8de92e4750> has the same name 'LSTMCell' as a built-in Keras object. Consider renaming <class 'keras.layers.recurrent.LSTMCell'> to avoid naming conflicts when loading with `tf.keras.models.load_model`. If renaming is not possible, pass the object in the `custom_objects` parameter of the load function.\n",
      "WARNING:absl:<keras.layers.recurrent.LSTMCell object at 0x7f8de9512b90> has the same name 'LSTMCell' as a built-in Keras object. Consider renaming <class 'keras.layers.recurrent.LSTMCell'> to avoid naming conflicts when loading with `tf.keras.models.load_model`. If renaming is not possible, pass the object in the `custom_objects` parameter of the load function.\n"
     ]
    },
    {
     "metadata": {
      "tags": null
     },
     "name": "stdout",
     "output_type": "stream",
     "text": [
      "2110/2110 [==============================] - 48s 23ms/step - loss: 0.0132 - val_loss: 0.0125\n",
      "Epoch 48/100\n",
      "2110/2110 [==============================] - 41s 19ms/step - loss: 0.0133 - val_loss: 0.0189\n",
      "Epoch 49/100\n",
      "2109/2110 [============================>.] - ETA: 0s - loss: 0.0126"
     ]
    },
    {
     "metadata": {
      "tags": null
     },
     "name": "stderr",
     "output_type": "stream",
     "text": [
      "WARNING:absl:Found untraced functions such as lstm_cell_layer_call_fn, lstm_cell_layer_call_and_return_conditional_losses, lstm_cell_1_layer_call_fn, lstm_cell_1_layer_call_and_return_conditional_losses while saving (showing 4 of 4). These functions will not be directly callable after loading.\n"
     ]
    },
    {
     "metadata": {
      "tags": null
     },
     "name": "stdout",
     "output_type": "stream",
     "text": [
      "INFO:tensorflow:Assets written to: best_seq_temp/assets\n"
     ]
    },
    {
     "metadata": {
      "tags": null
     },
     "name": "stderr",
     "output_type": "stream",
     "text": [
      "INFO:tensorflow:Assets written to: best_seq_temp/assets\n",
      "WARNING:absl:<keras.layers.recurrent.LSTMCell object at 0x7f8de92e4750> has the same name 'LSTMCell' as a built-in Keras object. Consider renaming <class 'keras.layers.recurrent.LSTMCell'> to avoid naming conflicts when loading with `tf.keras.models.load_model`. If renaming is not possible, pass the object in the `custom_objects` parameter of the load function.\n",
      "WARNING:absl:<keras.layers.recurrent.LSTMCell object at 0x7f8de9512b90> has the same name 'LSTMCell' as a built-in Keras object. Consider renaming <class 'keras.layers.recurrent.LSTMCell'> to avoid naming conflicts when loading with `tf.keras.models.load_model`. If renaming is not possible, pass the object in the `custom_objects` parameter of the load function.\n"
     ]
    },
    {
     "metadata": {
      "tags": null
     },
     "name": "stdout",
     "output_type": "stream",
     "text": [
      "2110/2110 [==============================] - 47s 22ms/step - loss: 0.0126 - val_loss: 0.0119\n",
      "Epoch 50/100\n",
      "2110/2110 [==============================] - 41s 19ms/step - loss: 0.0173 - val_loss: 0.0129\n",
      "Epoch 51/100\n",
      "2110/2110 [==============================] - 41s 19ms/step - loss: 0.0141 - val_loss: 0.0136\n",
      "Epoch 52/100\n",
      "2108/2110 [============================>.] - ETA: 0s - loss: 0.0116"
     ]
    },
    {
     "metadata": {
      "tags": null
     },
     "name": "stderr",
     "output_type": "stream",
     "text": [
      "WARNING:absl:Found untraced functions such as lstm_cell_layer_call_fn, lstm_cell_layer_call_and_return_conditional_losses, lstm_cell_1_layer_call_fn, lstm_cell_1_layer_call_and_return_conditional_losses while saving (showing 4 of 4). These functions will not be directly callable after loading.\n"
     ]
    },
    {
     "metadata": {
      "tags": null
     },
     "name": "stdout",
     "output_type": "stream",
     "text": [
      "INFO:tensorflow:Assets written to: best_seq_temp/assets\n"
     ]
    },
    {
     "metadata": {
      "tags": null
     },
     "name": "stderr",
     "output_type": "stream",
     "text": [
      "INFO:tensorflow:Assets written to: best_seq_temp/assets\n",
      "WARNING:absl:<keras.layers.recurrent.LSTMCell object at 0x7f8de92e4750> has the same name 'LSTMCell' as a built-in Keras object. Consider renaming <class 'keras.layers.recurrent.LSTMCell'> to avoid naming conflicts when loading with `tf.keras.models.load_model`. If renaming is not possible, pass the object in the `custom_objects` parameter of the load function.\n",
      "WARNING:absl:<keras.layers.recurrent.LSTMCell object at 0x7f8de9512b90> has the same name 'LSTMCell' as a built-in Keras object. Consider renaming <class 'keras.layers.recurrent.LSTMCell'> to avoid naming conflicts when loading with `tf.keras.models.load_model`. If renaming is not possible, pass the object in the `custom_objects` parameter of the load function.\n"
     ]
    },
    {
     "metadata": {
      "tags": null
     },
     "name": "stdout",
     "output_type": "stream",
     "text": [
      "2110/2110 [==============================] - 47s 22ms/step - loss: 0.0116 - val_loss: 0.0118\n",
      "Epoch 53/100\n",
      "2110/2110 [==============================] - 41s 19ms/step - loss: 0.0112 - val_loss: 0.0140\n",
      "Epoch 54/100\n",
      "2110/2110 [==============================] - 41s 19ms/step - loss: 0.0123 - val_loss: 0.0148\n",
      "Epoch 55/100\n",
      "2110/2110 [==============================] - 41s 19ms/step - loss: 0.0118 - val_loss: 0.0206\n",
      "Epoch 56/100\n",
      "2110/2110 [==============================] - 41s 19ms/step - loss: 0.0112 - val_loss: 0.0145\n",
      "Epoch 57/100\n",
      "2110/2110 [==============================] - 41s 20ms/step - loss: 0.0110 - val_loss: 0.0140\n",
      "Epoch 58/100\n",
      "2110/2110 [==============================] - 41s 20ms/step - loss: 0.0102 - val_loss: 0.0135\n",
      "Epoch 59/100\n",
      "2110/2110 [==============================] - 41s 20ms/step - loss: 0.0110 - val_loss: 0.0164\n",
      "Epoch 60/100\n",
      "2110/2110 [==============================] - 41s 20ms/step - loss: 0.0100 - val_loss: 0.0126\n",
      "Epoch 61/100\n",
      "2110/2110 [==============================] - 41s 20ms/step - loss: 0.0104 - val_loss: 0.0130\n",
      "Epoch 62/100\n",
      "2108/2110 [============================>.] - ETA: 0s - loss: 0.0111"
     ]
    },
    {
     "metadata": {
      "tags": null
     },
     "name": "stderr",
     "output_type": "stream",
     "text": [
      "WARNING:absl:Found untraced functions such as lstm_cell_layer_call_fn, lstm_cell_layer_call_and_return_conditional_losses, lstm_cell_1_layer_call_fn, lstm_cell_1_layer_call_and_return_conditional_losses while saving (showing 4 of 4). These functions will not be directly callable after loading.\n"
     ]
    },
    {
     "metadata": {
      "tags": null
     },
     "name": "stdout",
     "output_type": "stream",
     "text": [
      "INFO:tensorflow:Assets written to: best_seq_temp/assets\n"
     ]
    },
    {
     "metadata": {
      "tags": null
     },
     "name": "stderr",
     "output_type": "stream",
     "text": [
      "INFO:tensorflow:Assets written to: best_seq_temp/assets\n",
      "WARNING:absl:<keras.layers.recurrent.LSTMCell object at 0x7f8de92e4750> has the same name 'LSTMCell' as a built-in Keras object. Consider renaming <class 'keras.layers.recurrent.LSTMCell'> to avoid naming conflicts when loading with `tf.keras.models.load_model`. If renaming is not possible, pass the object in the `custom_objects` parameter of the load function.\n",
      "WARNING:absl:<keras.layers.recurrent.LSTMCell object at 0x7f8de9512b90> has the same name 'LSTMCell' as a built-in Keras object. Consider renaming <class 'keras.layers.recurrent.LSTMCell'> to avoid naming conflicts when loading with `tf.keras.models.load_model`. If renaming is not possible, pass the object in the `custom_objects` parameter of the load function.\n"
     ]
    },
    {
     "metadata": {
      "tags": null
     },
     "name": "stdout",
     "output_type": "stream",
     "text": [
      "2110/2110 [==============================] - 48s 23ms/step - loss: 0.0111 - val_loss: 0.0116\n",
      "Epoch 63/100\n",
      "2108/2110 [============================>.] - ETA: 0s - loss: 0.0092"
     ]
    },
    {
     "metadata": {
      "tags": null
     },
     "name": "stderr",
     "output_type": "stream",
     "text": [
      "WARNING:absl:Found untraced functions such as lstm_cell_layer_call_fn, lstm_cell_layer_call_and_return_conditional_losses, lstm_cell_1_layer_call_fn, lstm_cell_1_layer_call_and_return_conditional_losses while saving (showing 4 of 4). These functions will not be directly callable after loading.\n"
     ]
    },
    {
     "metadata": {
      "tags": null
     },
     "name": "stdout",
     "output_type": "stream",
     "text": [
      "INFO:tensorflow:Assets written to: best_seq_temp/assets\n"
     ]
    },
    {
     "metadata": {
      "tags": null
     },
     "name": "stderr",
     "output_type": "stream",
     "text": [
      "INFO:tensorflow:Assets written to: best_seq_temp/assets\n",
      "WARNING:absl:<keras.layers.recurrent.LSTMCell object at 0x7f8de92e4750> has the same name 'LSTMCell' as a built-in Keras object. Consider renaming <class 'keras.layers.recurrent.LSTMCell'> to avoid naming conflicts when loading with `tf.keras.models.load_model`. If renaming is not possible, pass the object in the `custom_objects` parameter of the load function.\n",
      "WARNING:absl:<keras.layers.recurrent.LSTMCell object at 0x7f8de9512b90> has the same name 'LSTMCell' as a built-in Keras object. Consider renaming <class 'keras.layers.recurrent.LSTMCell'> to avoid naming conflicts when loading with `tf.keras.models.load_model`. If renaming is not possible, pass the object in the `custom_objects` parameter of the load function.\n"
     ]
    },
    {
     "metadata": {
      "tags": null
     },
     "name": "stdout",
     "output_type": "stream",
     "text": [
      "2110/2110 [==============================] - 48s 23ms/step - loss: 0.0092 - val_loss: 0.0107\n",
      "Epoch 64/100\n",
      "2110/2110 [==============================] - 41s 19ms/step - loss: 0.0095 - val_loss: 0.0127\n",
      "Epoch 65/100\n",
      "2110/2110 [==============================] - 41s 19ms/step - loss: 0.0094 - val_loss: 0.0113\n",
      "Epoch 66/100\n",
      "2109/2110 [============================>.] - ETA: 0s - loss: 0.0099"
     ]
    },
    {
     "metadata": {
      "tags": null
     },
     "name": "stderr",
     "output_type": "stream",
     "text": [
      "WARNING:absl:Found untraced functions such as lstm_cell_layer_call_fn, lstm_cell_layer_call_and_return_conditional_losses, lstm_cell_1_layer_call_fn, lstm_cell_1_layer_call_and_return_conditional_losses while saving (showing 4 of 4). These functions will not be directly callable after loading.\n"
     ]
    },
    {
     "metadata": {
      "tags": null
     },
     "name": "stdout",
     "output_type": "stream",
     "text": [
      "INFO:tensorflow:Assets written to: best_seq_temp/assets\n"
     ]
    },
    {
     "metadata": {
      "tags": null
     },
     "name": "stderr",
     "output_type": "stream",
     "text": [
      "INFO:tensorflow:Assets written to: best_seq_temp/assets\n",
      "WARNING:absl:<keras.layers.recurrent.LSTMCell object at 0x7f8de92e4750> has the same name 'LSTMCell' as a built-in Keras object. Consider renaming <class 'keras.layers.recurrent.LSTMCell'> to avoid naming conflicts when loading with `tf.keras.models.load_model`. If renaming is not possible, pass the object in the `custom_objects` parameter of the load function.\n",
      "WARNING:absl:<keras.layers.recurrent.LSTMCell object at 0x7f8de9512b90> has the same name 'LSTMCell' as a built-in Keras object. Consider renaming <class 'keras.layers.recurrent.LSTMCell'> to avoid naming conflicts when loading with `tf.keras.models.load_model`. If renaming is not possible, pass the object in the `custom_objects` parameter of the load function.\n"
     ]
    },
    {
     "name": "stdout",
     "output_type": "stream",
     "text": [
      "2110/2110 [==============================] - 47s 22ms/step - loss: 0.0099 - val_loss: 0.0106\n",
      "Epoch 67/100\n",
      "2110/2110 [==============================] - 41s 19ms/step - loss: 0.0088 - val_loss: 0.0145\n",
      "Epoch 68/100\n",
      "2110/2110 [==============================] - 42s 20ms/step - loss: 0.0089 - val_loss: 0.0197\n",
      "Epoch 69/100\n",
      "2110/2110 [==============================] - 42s 20ms/step - loss: 0.0086 - val_loss: 0.0140\n",
      "Epoch 70/100\n",
      "2107/2110 [============================>.] - ETA: 0s - loss: 0.0086"
     ]
    },
    {
     "name": "stderr",
     "output_type": "stream",
     "text": [
      "WARNING:absl:Found untraced functions such as lstm_cell_layer_call_fn, lstm_cell_layer_call_and_return_conditional_losses, lstm_cell_1_layer_call_fn, lstm_cell_1_layer_call_and_return_conditional_losses while saving (showing 4 of 4). These functions will not be directly callable after loading.\n"
     ]
    },
    {
     "name": "stdout",
     "output_type": "stream",
     "text": [
      "INFO:tensorflow:Assets written to: best_seq_temp/assets\n"
     ]
    },
    {
     "name": "stderr",
     "output_type": "stream",
     "text": [
      "INFO:tensorflow:Assets written to: best_seq_temp/assets\n",
      "WARNING:absl:<keras.layers.recurrent.LSTMCell object at 0x7f8de92e4750> has the same name 'LSTMCell' as a built-in Keras object. Consider renaming <class 'keras.layers.recurrent.LSTMCell'> to avoid naming conflicts when loading with `tf.keras.models.load_model`. If renaming is not possible, pass the object in the `custom_objects` parameter of the load function.\n",
      "WARNING:absl:<keras.layers.recurrent.LSTMCell object at 0x7f8de9512b90> has the same name 'LSTMCell' as a built-in Keras object. Consider renaming <class 'keras.layers.recurrent.LSTMCell'> to avoid naming conflicts when loading with `tf.keras.models.load_model`. If renaming is not possible, pass the object in the `custom_objects` parameter of the load function.\n"
     ]
    },
    {
     "name": "stdout",
     "output_type": "stream",
     "text": [
      "\b\b\b\b\b\b\b\b\b\b\b\b\b\b\b\b\b\b\b\b\b\b\b\b\b\b\b\b\b\b\b\b\b\b\b\b\b\b\b\b\b\b\b\b\b\b\b\b\b\b\b\b\b\b\b\b\b\b\b\b\b\b\b\b\b\b\b\r",
      "2110/2110 [==============================] - 49s 23ms/step - loss: 0.0086 - val_loss: 0.0101\n",
      "Epoch 71/100\n",
      "2110/2110 [==============================] - 42s 20ms/step - loss: 0.0091 - val_loss: 0.0127\n",
      "Epoch 72/100\n",
      "2110/2110 [==============================] - 42s 20ms/step - loss: 0.0079 - val_loss: 0.0108\n",
      "Epoch 73/100\n",
      "2110/2110 [==============================] - 42s 20ms/step - loss: 0.0089 - val_loss: 0.2287\n",
      "Epoch 74/100\n",
      "2110/2110 [==============================] - 41s 20ms/step - loss: 0.0127 - val_loss: 0.0114\n",
      "Epoch 75/100\n",
      "2110/2110 [==============================] - 41s 20ms/step - loss: 0.0074 - val_loss: 0.0101\n",
      "Epoch 76/100\n",
      "2110/2110 [==============================] - 41s 19ms/step - loss: 0.0075 - val_loss: 0.0103\n",
      "Epoch 77/100\n",
      "2110/2110 [==============================] - 46s 22ms/step - loss: 0.0075 - val_loss: 0.0128\n",
      "Epoch 78/100\n",
      "2110/2110 [==============================] - 45s 21ms/step - loss: 0.0077 - val_loss: 0.0111\n",
      "Epoch 79/100\n",
      "2108/2110 [============================>.] - ETA: 0s - loss: 0.0087"
     ]
    },
    {
     "name": "stderr",
     "output_type": "stream",
     "text": [
      "WARNING:absl:Found untraced functions such as lstm_cell_layer_call_fn, lstm_cell_layer_call_and_return_conditional_losses, lstm_cell_1_layer_call_fn, lstm_cell_1_layer_call_and_return_conditional_losses while saving (showing 4 of 4). These functions will not be directly callable after loading.\n"
     ]
    },
    {
     "name": "stdout",
     "output_type": "stream",
     "text": [
      "INFO:tensorflow:Assets written to: best_seq_temp/assets\n"
     ]
    },
    {
     "name": "stderr",
     "output_type": "stream",
     "text": [
      "INFO:tensorflow:Assets written to: best_seq_temp/assets\n",
      "WARNING:absl:<keras.layers.recurrent.LSTMCell object at 0x7f8de92e4750> has the same name 'LSTMCell' as a built-in Keras object. Consider renaming <class 'keras.layers.recurrent.LSTMCell'> to avoid naming conflicts when loading with `tf.keras.models.load_model`. If renaming is not possible, pass the object in the `custom_objects` parameter of the load function.\n",
      "WARNING:absl:<keras.layers.recurrent.LSTMCell object at 0x7f8de9512b90> has the same name 'LSTMCell' as a built-in Keras object. Consider renaming <class 'keras.layers.recurrent.LSTMCell'> to avoid naming conflicts when loading with `tf.keras.models.load_model`. If renaming is not possible, pass the object in the `custom_objects` parameter of the load function.\n"
     ]
    },
    {
     "name": "stdout",
     "output_type": "stream",
     "text": [
      "\b\b\b\b\b\b\b\b\b\b\b\b\b\b\b\b\b\b\b\b\b\b\b\b\b\b\b\b\b\b\b\b\b\b\b\b\b\b\b\b\b\b\b\b\b\b\b\b\b\b\b\b\b\b\b\b\b\b\b\b\b\b\b\b\b\b\b\r",
      "2110/2110 [==============================] - 51s 24ms/step - loss: 0.0087 - val_loss: 0.0087\n",
      "Epoch 80/100\n",
      "2110/2110 [==============================] - 44s 21ms/step - loss: 0.0072 - val_loss: 0.0113\n",
      "Epoch 81/100\n",
      "2110/2110 [==============================] - 44s 21ms/step - loss: 0.0071 - val_loss: 0.0100\n",
      "Epoch 82/100\n",
      "2110/2110 [==============================] - 44s 21ms/step - loss: 0.0069 - val_loss: 0.0097\n",
      "Epoch 83/100\n",
      "2110/2110 [==============================] - ETA: 0s - loss: 0.0074"
     ]
    },
    {
     "name": "stderr",
     "output_type": "stream",
     "text": [
      "WARNING:absl:Found untraced functions such as lstm_cell_layer_call_fn, lstm_cell_layer_call_and_return_conditional_losses, lstm_cell_1_layer_call_fn, lstm_cell_1_layer_call_and_return_conditional_losses while saving (showing 4 of 4). These functions will not be directly callable after loading.\n"
     ]
    },
    {
     "name": "stdout",
     "output_type": "stream",
     "text": [
      "INFO:tensorflow:Assets written to: best_seq_temp/assets\n"
     ]
    },
    {
     "name": "stderr",
     "output_type": "stream",
     "text": [
      "INFO:tensorflow:Assets written to: best_seq_temp/assets\n",
      "WARNING:absl:<keras.layers.recurrent.LSTMCell object at 0x7f8de92e4750> has the same name 'LSTMCell' as a built-in Keras object. Consider renaming <class 'keras.layers.recurrent.LSTMCell'> to avoid naming conflicts when loading with `tf.keras.models.load_model`. If renaming is not possible, pass the object in the `custom_objects` parameter of the load function.\n",
      "WARNING:absl:<keras.layers.recurrent.LSTMCell object at 0x7f8de9512b90> has the same name 'LSTMCell' as a built-in Keras object. Consider renaming <class 'keras.layers.recurrent.LSTMCell'> to avoid naming conflicts when loading with `tf.keras.models.load_model`. If renaming is not possible, pass the object in the `custom_objects` parameter of the load function.\n"
     ]
    },
    {
     "name": "stdout",
     "output_type": "stream",
     "text": [
      "\b\b\b\b\b\b\b\b\b\b\b\b\b\b\b\b\b\b\b\b\b\b\b\b\b\b\b\b\b\b\b\b\b\b\b\b\b\b\b\b\b\b\b\b\b\b\b\b\b\b\b\b\b\b\b\b\b\b\b\b\b\b\b\b\b\b\b\r",
      "2110/2110 [==============================] - 51s 24ms/step - loss: 0.0074 - val_loss: 0.0082\n",
      "Epoch 84/100\n",
      "2110/2110 [==============================] - 45s 21ms/step - loss: 0.0066 - val_loss: 0.0110\n",
      "Epoch 85/100\n",
      "2110/2110 [==============================] - 44s 21ms/step - loss: 0.0079 - val_loss: 0.0098\n",
      "Epoch 86/100\n",
      "2110/2110 [==============================] - 44s 21ms/step - loss: 0.0058 - val_loss: 0.0087\n",
      "Epoch 87/100\n",
      "2110/2110 [==============================] - 45s 21ms/step - loss: 0.0069 - val_loss: 0.0118\n",
      "Epoch 88/100\n",
      "2110/2110 [==============================] - 45s 21ms/step - loss: 0.0073 - val_loss: 0.0093\n",
      "Epoch 89/100\n",
      "2110/2110 [==============================] - 45s 21ms/step - loss: 0.0059 - val_loss: 0.0104\n",
      "Epoch 90/100\n",
      "2110/2110 [==============================] - 45s 21ms/step - loss: 0.0070 - val_loss: 0.0228\n",
      "Epoch 91/100\n",
      "2110/2110 [==============================] - 45s 21ms/step - loss: 0.0069 - val_loss: 0.0089\n",
      "Epoch 92/100\n",
      "2110/2110 [==============================] - 45s 21ms/step - loss: 0.0066 - val_loss: 0.0119\n",
      "Epoch 93/100\n",
      "2110/2110 [==============================] - 45s 21ms/step - loss: 0.0065 - val_loss: 0.0170\n"
     ]
    }
   ],
   "source": [
    "history = model.fit(train, epochs=100, validation_data=val, callbacks=[earlystop, checkpoint])"
   ]
  },
  {
   "cell_type": "code",
   "execution_count": null,
   "metadata": {
    "id": "0cAQq2UNq21L"
   },
   "outputs": [],
   "source": []
  }
 ],
 "metadata": {
  "colab": {
   "name": "weatherHistory.ipynb",
   "provenance": []
  },
  "kernelspec": {
   "display_name": "Python 3 (ipykernel)",
   "language": "python",
   "name": "python3"
  },
  "language_info": {
   "codemirror_mode": {
    "name": "ipython",
    "version": 3
   },
   "file_extension": ".py",
   "mimetype": "text/x-python",
   "name": "python",
   "nbconvert_exporter": "python",
   "pygments_lexer": "ipython3",
   "version": "3.8.13"
  }
 },
 "nbformat": 4,
 "nbformat_minor": 1
}
